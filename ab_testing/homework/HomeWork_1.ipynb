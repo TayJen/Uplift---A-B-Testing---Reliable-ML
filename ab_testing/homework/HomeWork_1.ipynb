{
 "cells": [
  {
   "cell_type": "markdown",
   "metadata": {},
   "source": [
    "# ДЗ 1:\n",
    "\n",
    "### Дизайн теста\n",
    "1) Из interactions взять данные за 2 последние недели (2021-08-09 по 2021-08-22)\n",
    "\n",
    "2) Посчитайте на этих данных корректность на бутстрепе и сравните ее с результатами за 1 неделю (посчитано на семинаре) (0.5 балла)\n",
    "\n",
    "3) На двух неделях посчитайте мощность. Для этого нужно в одну из групп докинуть эффект. Докиньте эффект в 1%, 3% и 5% и сравните полученную мощность (1.5 балла)\n",
    "\n",
    "4) Посчитайте MDE, который можно зафиксировать на 2х неделях. В качестве alpha и beta подставьте ваши вычисленные ошибки 1 и 2 рода. Учитывайте что у нас формула для MDE работает для t-test или z-test (1 балл)\n",
    "\n",
    "### A/B тест\n",
    "1) Представим что у нас прошел тест, используем те же самые данные за 2 недели\n",
    "\n",
    "2) Занулите для всех пользователей total_dur, у которых total_dur < 500. Их НЕ УБИРАЕМ, а просто обрабатываем эти значения, принимая за нулевые, но пользователей также учитываем в эксперименте (0.5 балла)\n",
    "\n",
    "3) Разбейте их самостоятельно на две равные группы, используйте функцию groups_splitter и соль = 'kiontestmodel20210805' (0.5 балла)\n",
    "\n",
    "4) Оказалось, что модель в группе В показала себя лучше, чем в группе А на 2.5%, причем эффект распространился неравномерно и преимущественно на 10% самых смотрящих пользователей, докиньте такой эффект самостоятельно. Нужно метрику total_dur увеличить на 2.5% для 10% пользователей с самым продолжительным смотрением. (1 балл)\n",
    "\n",
    "5) Посчитайте результат такого теста и сделайте выводы (2 балла)\n",
    "\n",
    "Еще 1 балл можно получить за хорошее и подробное объяснение каждого шага "
   ]
  },
  {
   "cell_type": "code",
   "execution_count": 2,
   "metadata": {},
   "outputs": [
    {
     "name": "stderr",
     "output_type": "stream",
     "text": [
      "kion dataset download: 100%|██████████| 78.8M/78.8M [01:13<00:00, 1.12MiB/s]"
     ]
    },
    {
     "name": "stderr",
     "output_type": "stream",
     "text": [
      "kion dataset download: 100%|██████████| 78.8M/78.8M [01:30<00:00, 1.12MiB/s]"
     ]
    }
   ],
   "source": [
    "import requests\n",
    "from tqdm import tqdm\n",
    "\n",
    "# download dataset by chunks\n",
    "url = \"https://github.com/sharthZ23/your-second-recsys/raw/master/data_kion.zip\"\n",
    "\n",
    "req = requests.get(url, stream=True)\n",
    "\n",
    "with open('data_kion.zip', \"wb\") as fd:\n",
    "    total_size_in_bytes = int(req.headers.get('Content-Length', 0))\n",
    "    progress_bar = tqdm(desc='kion dataset download', total=total_size_in_bytes, unit='iB', unit_scale=True)\n",
    "    for chunk in req.iter_content(chunk_size=2 ** 20):\n",
    "        progress_bar.update(len(chunk))\n",
    "        fd.write(chunk)"
   ]
  },
  {
   "cell_type": "code",
   "execution_count": 3,
   "metadata": {},
   "outputs": [],
   "source": [
    "# Распаковываем архив из 3 файлов\n",
    "import zipfile\n",
    "\n",
    "with zipfile.ZipFile('data_kion.zip', 'r') as zip_ref:\n",
    "    zip_ref.extractall()"
   ]
  },
  {
   "cell_type": "markdown",
   "metadata": {},
   "source": [
    "### Дизайн теста"
   ]
  },
  {
   "cell_type": "markdown",
   "metadata": {},
   "source": [
    "##### 1. Получение данных"
   ]
  },
  {
   "cell_type": "code",
   "execution_count": 14,
   "metadata": {},
   "outputs": [
    {
     "data": {
      "text/html": [
       "<div>\n",
       "<style scoped>\n",
       "    .dataframe tbody tr th:only-of-type {\n",
       "        vertical-align: middle;\n",
       "    }\n",
       "\n",
       "    .dataframe tbody tr th {\n",
       "        vertical-align: top;\n",
       "    }\n",
       "\n",
       "    .dataframe thead th {\n",
       "        text-align: right;\n",
       "    }\n",
       "</style>\n",
       "<table border=\"1\" class=\"dataframe\">\n",
       "  <thead>\n",
       "    <tr style=\"text-align: right;\">\n",
       "      <th></th>\n",
       "      <th>user_id</th>\n",
       "      <th>item_id</th>\n",
       "      <th>last_watch_dt</th>\n",
       "      <th>total_dur</th>\n",
       "      <th>watched_pct</th>\n",
       "    </tr>\n",
       "  </thead>\n",
       "  <tbody>\n",
       "    <tr>\n",
       "      <th>0</th>\n",
       "      <td>176549</td>\n",
       "      <td>9506</td>\n",
       "      <td>2021-05-11</td>\n",
       "      <td>4250</td>\n",
       "      <td>72.0</td>\n",
       "    </tr>\n",
       "    <tr>\n",
       "      <th>1</th>\n",
       "      <td>699317</td>\n",
       "      <td>1659</td>\n",
       "      <td>2021-05-29</td>\n",
       "      <td>8317</td>\n",
       "      <td>100.0</td>\n",
       "    </tr>\n",
       "    <tr>\n",
       "      <th>2</th>\n",
       "      <td>656683</td>\n",
       "      <td>7107</td>\n",
       "      <td>2021-05-09</td>\n",
       "      <td>10</td>\n",
       "      <td>0.0</td>\n",
       "    </tr>\n",
       "    <tr>\n",
       "      <th>3</th>\n",
       "      <td>864613</td>\n",
       "      <td>7638</td>\n",
       "      <td>2021-07-05</td>\n",
       "      <td>14483</td>\n",
       "      <td>100.0</td>\n",
       "    </tr>\n",
       "    <tr>\n",
       "      <th>4</th>\n",
       "      <td>964868</td>\n",
       "      <td>9506</td>\n",
       "      <td>2021-04-30</td>\n",
       "      <td>6725</td>\n",
       "      <td>100.0</td>\n",
       "    </tr>\n",
       "  </tbody>\n",
       "</table>\n",
       "</div>"
      ],
      "text/plain": [
       "  user_id  item_id last_watch_dt  total_dur  watched_pct\n",
       "0  176549     9506    2021-05-11       4250         72.0\n",
       "1  699317     1659    2021-05-29       8317        100.0\n",
       "2  656683     7107    2021-05-09         10          0.0\n",
       "3  864613     7638    2021-07-05      14483        100.0\n",
       "4  964868     9506    2021-04-30       6725        100.0"
      ]
     },
     "execution_count": 14,
     "metadata": {},
     "output_type": "execute_result"
    }
   ],
   "source": [
    "import pandas as pd\n",
    "import numpy as np\n",
    "\n",
    "\n",
    "interactions = pd.read_csv('data_kion/interactions_df.csv')\n",
    "interactions['last_watch_dt'] = pd.to_datetime(interactions['last_watch_dt']).map(lambda x: x.date())\n",
    "interactions['user_id'] = interactions['user_id'].astype(str)\n",
    "interactions.head()"
   ]
  },
  {
   "cell_type": "code",
   "execution_count": 15,
   "metadata": {},
   "outputs": [
    {
     "name": "stdout",
     "output_type": "stream",
     "text": [
      "2021-03-13 2021-08-22\n"
     ]
    }
   ],
   "source": [
    "max_date = interactions['last_watch_dt'].max()\n",
    "min_date = interactions['last_watch_dt'].min()\n",
    "print(min_date, max_date)"
   ]
  },
  {
   "cell_type": "code",
   "execution_count": 17,
   "metadata": {},
   "outputs": [
    {
     "data": {
      "text/plain": [
       "(datetime.date(2021, 8, 9), datetime.date(2021, 8, 22))"
      ]
     },
     "execution_count": 17,
     "metadata": {},
     "output_type": "execute_result"
    }
   ],
   "source": [
    "import datetime\n",
    "\n",
    "max_date = interactions['last_watch_dt'].max()\n",
    "two_weeks = interactions[interactions['last_watch_dt'] >= max_date - datetime.timedelta(days=13)]\n",
    "min_date = two_weeks['last_watch_dt'].min()\n",
    "\n",
    "min_date, max_date"
   ]
  },
  {
   "cell_type": "code",
   "execution_count": 28,
   "metadata": {},
   "outputs": [
    {
     "name": "stderr",
     "output_type": "stream",
     "text": [
      "C:\\Users\\hello\\AppData\\Local\\Temp\\ipykernel_17540\\4014611418.py:1: FutureWarning: The provided callable <built-in function sum> is currently using SeriesGroupBy.sum. In a future version of pandas, the provided callable will be used directly. To keep current behavior pass the string \"sum\" instead.\n",
      "  two_weeks = two_weeks.groupby('user_id', as_index=False).agg({'total_dur': sum})\n"
     ]
    },
    {
     "data": {
      "text/html": [
       "<div>\n",
       "<style scoped>\n",
       "    .dataframe tbody tr th:only-of-type {\n",
       "        vertical-align: middle;\n",
       "    }\n",
       "\n",
       "    .dataframe tbody tr th {\n",
       "        vertical-align: top;\n",
       "    }\n",
       "\n",
       "    .dataframe thead th {\n",
       "        text-align: right;\n",
       "    }\n",
       "</style>\n",
       "<table border=\"1\" class=\"dataframe\">\n",
       "  <thead>\n",
       "    <tr style=\"text-align: right;\">\n",
       "      <th></th>\n",
       "      <th>user_id</th>\n",
       "      <th>total_dur</th>\n",
       "    </tr>\n",
       "  </thead>\n",
       "  <tbody>\n",
       "    <tr>\n",
       "      <th>0</th>\n",
       "      <td>1</td>\n",
       "      <td>21172</td>\n",
       "    </tr>\n",
       "    <tr>\n",
       "      <th>1</th>\n",
       "      <td>1000</td>\n",
       "      <td>10744</td>\n",
       "    </tr>\n",
       "    <tr>\n",
       "      <th>2</th>\n",
       "      <td>1000000</td>\n",
       "      <td>32990</td>\n",
       "    </tr>\n",
       "    <tr>\n",
       "      <th>3</th>\n",
       "      <td>1000001</td>\n",
       "      <td>52</td>\n",
       "    </tr>\n",
       "    <tr>\n",
       "      <th>4</th>\n",
       "      <td>1000003</td>\n",
       "      <td>625</td>\n",
       "    </tr>\n",
       "  </tbody>\n",
       "</table>\n",
       "</div>"
      ],
      "text/plain": [
       "   user_id  total_dur\n",
       "0        1      21172\n",
       "1     1000      10744\n",
       "2  1000000      32990\n",
       "3  1000001         52\n",
       "4  1000003        625"
      ]
     },
     "execution_count": 28,
     "metadata": {},
     "output_type": "execute_result"
    }
   ],
   "source": [
    "two_weeks = two_weeks.groupby('user_id', as_index=False).agg({'total_dur': sum})\n",
    "two_weeks.head()"
   ]
  },
  {
   "cell_type": "code",
   "execution_count": 35,
   "metadata": {},
   "outputs": [
    {
     "data": {
      "text/plain": [
       "<Axes: >"
      ]
     },
     "execution_count": 35,
     "metadata": {},
     "output_type": "execute_result"
    },
    {
     "data": {
      "image/png": "[encoded data removed]",
      "text/plain": [
       "<Figure size 640x480 with 1 Axes>"
      ]
     },
     "metadata": {},
     "output_type": "display_data"
    }
   ],
   "source": [
    "import seaborn as sns\n",
    "import matplotlib.pyplot as plt\n",
    "\n",
    "sns.boxplot(two_weeks['total_dur'].values, fliersize=3)"
   ]
  },
  {
   "cell_type": "code",
   "execution_count": 32,
   "metadata": {},
   "outputs": [
    {
     "name": "stdout",
     "output_type": "stream",
     "text": [
      "(266081, 2)\n",
      "(262794, 2)\n"
     ]
    }
   ],
   "source": [
    "print(two_weeks.shape)\n",
    "two_weeks = two_weeks[(two_weeks['total_dur'] < two_weeks['total_dur'].std() * 3)]\n",
    "print(two_weeks.shape)"
   ]
  },
  {
   "cell_type": "code",
   "execution_count": 33,
   "metadata": {},
   "outputs": [
    {
     "data": {
      "image/png": "[encoded data removed]",
      "text/plain": [
       "<Figure size 700x700 with 1 Axes>"
      ]
     },
     "metadata": {},
     "output_type": "display_data"
    }
   ],
   "source": [
    "two_weeks['total_dur'].hist(bins=100, figsize=(7,7))\n",
    "plt.ylim([0, 10000])\n",
    "plt.grid(False)"
   ]
  },
  {
   "cell_type": "markdown",
   "metadata": {},
   "source": [
    "##### 2. Корректность на Бутстрепе\n",
    "\n",
    "Доля пар в которых была найдена стат. значимость (хотя ее не должно быть) - это ошибка первого рода, та самая альфа"
   ]
  },
  {
   "cell_type": "code",
   "execution_count": 34,
   "metadata": {},
   "outputs": [],
   "source": [
    "import os\n",
    "from base64 import b64encode\n",
    "import hashlib\n",
    "import collections\n",
    "\n",
    "\n",
    "def groups_splitter(df, columns, user_salt=None):\n",
    "    if user_salt == None:\n",
    "        salt = salt_generator()\n",
    "    else:\n",
    "        salt = user_salt\n",
    "\n",
    "    df['hash'] = ((df['user_id'].astype(str)) + '#' + salt).apply(lambda x: hashlib.sha256(x.encode('utf-8')).hexdigest())\n",
    "    df['group'] = ((df['hash'].str.slice(start=-6).apply(int, base=16) % 2).map(lambda x: 'A' if x == 0 else 'B'))\n",
    "\n",
    "    return df[columns].drop_duplicates()\n",
    "\n",
    "def salt_generator(salt=None):\n",
    "    salt = os.urandom(8)\n",
    "    return b64encode(salt).decode('ascii')\n",
    "\n",
    "\n",
    "def get_bootstrap_array(arr):\n",
    "    return np.random.choice(arr, replace=True, size=len(arr))\n",
    "\n",
    "\n",
    "def calc_bootstrap_mean(arr, size=1000):\n",
    "    result = np.empty(size)\n",
    "    for i in range(size):\n",
    "        result[i] = np.mean(get_bootstrap_array(arr))\n",
    "    return result"
   ]
  },
  {
   "cell_type": "code",
   "execution_count": 39,
   "metadata": {},
   "outputs": [],
   "source": [
    "def get_p_value(dist):\n",
    "    dist = np.array(dist)\n",
    "    x = (dist > 0).mean()\n",
    "    pvalue = min(x, 1 - x) * 2\n",
    "    return pvalue"
   ]
  },
  {
   "cell_type": "code",
   "execution_count": 49,
   "metadata": {},
   "outputs": [
    {
     "name": "stderr",
     "output_type": "stream",
     "text": [
      "100%|██████████| 1000/1000 [2:03:00<00:00,  7.38s/it]"
     ]
    },
    {
     "name": "stdout",
     "output_type": "stream",
     "text": [
      "Significance: 4.1000000000000005%\n"
     ]
    },
    {
     "name": "stderr",
     "output_type": "stream",
     "text": [
      "\n"
     ]
    }
   ],
   "source": [
    "correctness = []\n",
    "values = []\n",
    "\n",
    "for _ in tqdm(range(1000)):\n",
    "    new_df = groups_splitter(two_weeks.copy(), columns=['user_id', 'total_dur', 'group'], user_salt=salt_generator()).drop_duplicates()\n",
    "\n",
    "    vec_a = new_df[(new_df['group'] == 'A')]['total_dur']\n",
    "    vec_b = new_df[(new_df['group'] == 'B')]['total_dur']\n",
    "\n",
    "    # bootstrap\n",
    "    sample_a_mean = calc_bootstrap_mean(vec_a, size=1000)\n",
    "    sample_b_mean = calc_bootstrap_mean(vec_b, size=1000)\n",
    "    values.append(sample_a_mean - sample_b_mean)\n",
    "\n",
    "    left_side, right_side = np.percentile(sample_a_mean - sample_b_mean,\n",
    "                                          [100 * 0.05 / 2., 100 * (1 - 0.05 / 2.)]) # считаем 95% доверительный интервал для разницы средних\n",
    "\n",
    "    correctness.append(not left_side <= 0 <= right_side)\n",
    "\n",
    "test_correctness = collections.Counter(correctness)\n",
    "\n",
    "print(f'Significance: {test_correctness[1] / (test_correctness[1] + test_correctness[0]) * 100}%')"
   ]
  },
  {
   "cell_type": "markdown",
   "metadata": {},
   "source": [
    "ВЫВОД: корректность 4.1%, близка к типичному уровню альфа = 0.05, посчитанному на семинаре "
   ]
  },
  {
   "cell_type": "code",
   "execution_count": 2,
   "metadata": {},
   "outputs": [
    {
     "ename": "NameError",
     "evalue": "name 'values' is not defined",
     "output_type": "error",
     "traceback": [
      "\u001b[1;31m---------------------------------------------------------------------------\u001b[0m",
      "\u001b[1;31mNameError\u001b[0m                                 Traceback (most recent call last)",
      "\u001b[1;32md:\\main\\university\\itmo\\courses\\ab_testing_reliable_ml\\ab_testing\\homework\\HomeWork_1.ipynb Cell 18\u001b[0m line \u001b[0;36m1\n\u001b[1;32m----> <a href='vscode-notebook-cell:/d%3A/main/university/itmo/courses/ab_testing_reliable_ml/ab_testing/homework/HomeWork_1.ipynb#X23sZmlsZQ%3D%3D?line=0'>1</a>\u001b[0m p_values \u001b[39m=\u001b[39m [get_p_value(dist) \u001b[39mfor\u001b[39;00m dist \u001b[39min\u001b[39;00m values]\n\u001b[0;32m      <a href='vscode-notebook-cell:/d%3A/main/university/itmo/courses/ab_testing_reliable_ml/ab_testing/homework/HomeWork_1.ipynb#X23sZmlsZQ%3D%3D?line=2'>3</a>\u001b[0m plt\u001b[39m.\u001b[39mhist(p_values, bins\u001b[39m=\u001b[39m\u001b[39m10\u001b[39m, color\u001b[39m=\u001b[39m\u001b[39m'\u001b[39m\u001b[39mpurple\u001b[39m\u001b[39m'\u001b[39m)\n\u001b[0;32m      <a href='vscode-notebook-cell:/d%3A/main/university/itmo/courses/ab_testing_reliable_ml/ab_testing/homework/HomeWork_1.ipynb#X23sZmlsZQ%3D%3D?line=3'>4</a>\u001b[0m plt\u001b[39m.\u001b[39mtitle(\u001b[39mf\u001b[39m\u001b[39m\"\u001b[39m\u001b[39mБутстреп распределение p_value\u001b[39m\u001b[39m\"\u001b[39m)\n",
      "\u001b[1;31mNameError\u001b[0m: name 'values' is not defined"
     ]
    }
   ],
   "source": [
    "p_values = [get_p_value(dist) for dist in values]\n",
    "\n",
    "plt.hist(p_values, bins=10, color='purple')\n",
    "plt.title(f\"Бутстреп распределение p_value\")\n",
    "plt.show()"
   ]
  },
  {
   "cell_type": "markdown",
   "metadata": {},
   "source": [
    "Давайте еще проверим критерием Колмогорова-Смирнова (о том, что получившееся распределение p_values есть равномерное распределение)"
   ]
  },
  {
   "cell_type": "code",
   "execution_count": 51,
   "metadata": {},
   "outputs": [
    {
     "name": "stdout",
     "output_type": "stream",
     "text": [
      "p_value = 0.6566398438826642 - p_values равномерное распределение\n"
     ]
    }
   ],
   "source": [
    "import scipy\n",
    "\n",
    "stat, p_value = scipy.stats.kstest(p_values, scipy.stats.uniform(loc=0.0, scale=1.0).cdf)\n",
    "\n",
    "if p_value < 0.05:\n",
    "    print(f'p_value = {p_value} - p_values неравномерное распределение')\n",
    "else:\n",
    "    print(f'p_value = {p_value} - p_values равномерное распределение')"
   ]
  },
  {
   "cell_type": "markdown",
   "metadata": {},
   "source": [
    "##### 3. Мощность на Бутстрепе\n",
    "\n",
    "С добавленным эффектом на второй группе - Доля пар в которых НЕ была найдена стат. значимость (хотя должна быть) - это ошибка второго рода, та самая бета"
   ]
  },
  {
   "cell_type": "code",
   "execution_count": 53,
   "metadata": {},
   "outputs": [
    {
     "name": "stderr",
     "output_type": "stream",
     "text": [
      "100%|██████████| 1000/1000 [3:45:15<00:00, 13.52s/it]"
     ]
    },
    {
     "name": "stdout",
     "output_type": "stream",
     "text": [
      "Power for 1%: 31.8%\n",
      "Power for 3%: 99.5%\n",
      "Power for 5%: 100.0%\n"
     ]
    },
    {
     "name": "stderr",
     "output_type": "stream",
     "text": [
      "\n"
     ]
    }
   ],
   "source": [
    "power_1_percent = []\n",
    "power_3_percent = []\n",
    "power_5_percent = []\n",
    "\n",
    "values_1_percent = []\n",
    "values_3_percent = []\n",
    "values_5_percent = []\n",
    "\n",
    "for _ in tqdm(range(1000)):\n",
    "    new_df = groups_splitter(two_weeks.copy(), columns=['user_id', 'total_dur', 'group'], user_salt=salt_generator()).drop_duplicates()\n",
    "\n",
    "    vec_a = new_df[(new_df['group'] == 'A')]['total_dur']\n",
    "    vec_b = new_df[(new_df['group'] == 'B')]['total_dur']\n",
    "\n",
    "    # докидываем эффект 1%, 3% и 5% соответственно\n",
    "    vec_b_1_percent = vec_b * 1.01\n",
    "    vec_b_3_percent = vec_b * 1.03\n",
    "    vec_b_5_percent = vec_b * 1.05\n",
    "\n",
    "    # bootstrap, считаем среднии для групп\n",
    "    sample_a_mean = calc_bootstrap_mean(vec_a, size=1000)\n",
    "    sample_b_1_percent_mean = calc_bootstrap_mean(vec_b_1_percent, size=1000)\n",
    "    sample_b_3_percent_mean = calc_bootstrap_mean(vec_b_3_percent, size=1000)\n",
    "    sample_b_5_percent_mean = calc_bootstrap_mean(vec_b_5_percent, size=1000)\n",
    "\n",
    "    # добавляем разницы средних\n",
    "    values_1_percent.append(sample_a_mean - sample_b_1_percent_mean)\n",
    "    values_3_percent.append(sample_a_mean - sample_b_3_percent_mean)\n",
    "    values_5_percent.append(sample_a_mean - sample_b_5_percent_mean)\n",
    "\n",
    "    # доверительный интервал для 1%\n",
    "    left_side, right_side = np.percentile(sample_a_mean - sample_b_1_percent_mean,\n",
    "                                          [100 * 0.05 / 2., 100 * (1 - 0.05 / 2.)])\n",
    "    power_1_percent.append(not left_side <= 0 <= right_side)\n",
    "\n",
    "    # доверительный интервал для 3%\n",
    "    left_side, right_side = np.percentile(sample_a_mean - sample_b_3_percent_mean,\n",
    "                                          [100 * 0.05 / 2., 100 * (1 - 0.05 / 2.)])\n",
    "    power_3_percent.append(not left_side <= 0 <= right_side)\n",
    "\n",
    "    # доверительный интервал для 5%\n",
    "    left_side, right_side = np.percentile(sample_a_mean - sample_b_5_percent_mean,\n",
    "                                          [100 * 0.05 / 2., 100 * (1 - 0.05 / 2.)])\n",
    "    power_5_percent.append(not left_side <= 0 <= right_side)\n",
    "\n",
    "test_power_1_percent = collections.Counter(power_1_percent)\n",
    "test_power_3_percent = collections.Counter(power_3_percent)\n",
    "test_power_5_percent = collections.Counter(power_5_percent)\n",
    "\n",
    "print(f'Power for 1%: {test_power_1_percent[1] / (test_power_1_percent[1] + test_power_1_percent[0]) * 100}%')\n",
    "print(f'Power for 3%: {test_power_3_percent[1] / (test_power_3_percent[1] + test_power_3_percent[0]) * 100}%')\n",
    "print(f'Power for 5%: {test_power_5_percent[1] / (test_power_5_percent[1] + test_power_5_percent[0]) * 100}%')"
   ]
  },
  {
   "cell_type": "code",
   "execution_count": 54,
   "metadata": {},
   "outputs": [
    {
     "data": {
      "image/png": "[encoded data removed]",
      "text/plain": [
       "<Figure size 640x480 with 1 Axes>"
      ]
     },
     "metadata": {},
     "output_type": "display_data"
    }
   ],
   "source": [
    "p_values_1_percent = [get_p_value(dist) for dist in values_1_percent]\n",
    "\n",
    "plt.hist(p_values_1_percent, bins=10, color='purple')\n",
    "plt.title(f\"Бутстреп распределение p_value для 1%\")\n",
    "plt.show()"
   ]
  },
  {
   "cell_type": "code",
   "execution_count": 55,
   "metadata": {},
   "outputs": [
    {
     "data": {
      "image/png": "[encoded data removed]",
      "text/plain": [
       "<Figure size 640x480 with 1 Axes>"
      ]
     },
     "metadata": {},
     "output_type": "display_data"
    }
   ],
   "source": [
    "p_values_3_percent = [get_p_value(dist) for dist in values_3_percent]\n",
    "\n",
    "plt.hist(p_values_3_percent, bins=10, color='purple')\n",
    "plt.title(f\"Бутстреп распределение p_value для 3%\")\n",
    "plt.show()"
   ]
  },
  {
   "cell_type": "code",
   "execution_count": 56,
   "metadata": {},
   "outputs": [
    {
     "data": {
      "image/png": "[encoded data removed]",
      "text/plain": [
       "<Figure size 640x480 with 1 Axes>"
      ]
     },
     "metadata": {},
     "output_type": "display_data"
    }
   ],
   "source": [
    "p_values_5_percent = [get_p_value(dist) for dist in values_5_percent]\n",
    "\n",
    "plt.hist(p_values_5_percent, bins=10, color='purple')\n",
    "plt.title(f\"Бутстреп распределение p_value для 5%\")\n",
    "plt.show()"
   ]
  },
  {
   "cell_type": "code",
   "execution_count": 57,
   "metadata": {},
   "outputs": [
    {
     "name": "stdout",
     "output_type": "stream",
     "text": [
      "p_value с 1% = 0.6566398438826642 - p_values для 1% неравномерное распределение\n",
      "p_value с 3% = 0.6566398438826642 - p_values для 3% неравномерное распределение\n",
      "p_value с 5% = 0.6566398438826642 - p_values для 5% неравномерное распределение\n"
     ]
    }
   ],
   "source": [
    "stat, p_value_1_percent = scipy.stats.kstest(p_values_1_percent, scipy.stats.uniform(loc=0.0, scale=1.0).cdf)\n",
    "stat, p_value_3_percent = scipy.stats.kstest(p_values_3_percent, scipy.stats.uniform(loc=0.0, scale=1.0).cdf)\n",
    "stat, p_value_5_percent = scipy.stats.kstest(p_values_5_percent, scipy.stats.uniform(loc=0.0, scale=1.0).cdf)\n",
    "\n",
    "if p_value_1_percent < 0.05:\n",
    "    print(f'p_value с 1% = {p_value} - p_values для 1% неравномерное распределение')\n",
    "else:\n",
    "    print(f'p_value с 1% = {p_value} - p_values для 1% равномерное распределение')\n",
    "\n",
    "if p_value_3_percent < 0.05:\n",
    "    print(f'p_value с 3% = {p_value} - p_values для 3% неравномерное распределение')\n",
    "else:\n",
    "    print(f'p_value с 3% = {p_value} - p_values для 3% равномерное распределение')\n",
    "\n",
    "if p_value_5_percent < 0.05:\n",
    "    print(f'p_value с 5% = {p_value} - p_values для 5% неравномерное распределение')\n",
    "else:\n",
    "    print(f'p_value с 5% = {p_value} - p_values для 5% равномерное распределение')"
   ]
  },
  {
   "cell_type": "markdown",
   "metadata": {},
   "source": [
    "ВЫВОД: ..."
   ]
  },
  {
   "cell_type": "markdown",
   "metadata": {},
   "source": [
    "##### Подсчет MDE"
   ]
  },
  {
   "cell_type": "code",
   "execution_count": null,
   "metadata": {},
   "outputs": [],
   "source": []
  },
  {
   "cell_type": "code",
   "execution_count": null,
   "metadata": {},
   "outputs": [],
   "source": []
  }
 ],
 "metadata": {
  "kernelspec": {
   "display_name": "venv",
   "language": "python",
   "name": "python3"
  },
  "language_info": {
   "codemirror_mode": {
    "name": "ipython",
    "version": 3
   },
   "file_extension": ".py",
   "mimetype": "text/x-python",
   "name": "python",
   "nbconvert_exporter": "python",
   "pygments_lexer": "ipython3",
   "version": "3.11.4"
  }
 },
 "nbformat": 4,
 "nbformat_minor": 2
}
