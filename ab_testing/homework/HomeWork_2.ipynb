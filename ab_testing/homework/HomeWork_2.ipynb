{
 "cells": [
  {
   "cell_type": "markdown",
   "metadata": {},
   "source": [
    "# ДЗ 2:\n",
    "\n",
    "1. Применить ранговую трансформацию (потом t-test) и сравнить с результатами по Манну-Уитни на:\n",
    "- метрике cart_added_cnt \n",
    "\n",
    "(1 балл)\n",
    "\n",
    "2. Реализовать cuped-трансформацию и сравнить мощность t-критерия на:\n",
    "- обычной метрике cart_added_cnt\n",
    "- логарфимированной метрике cart_added_cnt\n",
    "- метрике cart_added_cnt (а после подвергнуть ранговому преобразованию)\n",
    "\n",
    "(3 балла)\n",
    "\n",
    "В каждом случае фиксировать, на сколько сокращается дисперсия, проверять равны ли средние в группах в ковариате и совпадают ли средние в метрике до и после применения cuped\n",
    "\n",
    "3. Реализовать разбивку на бакеты, оценить t-критерием и сравнить с результатом без бакетирования:\n",
    "- на логнормальном распределении (сгенерированные данные)\n",
    "- на метрике cart_added_cnt\n",
    "\n",
    "(2 балла)\n",
    "\n",
    "4. Реализовать постстратификацию на данных shop_metrics_old для метрики cart_added_cnt:\n",
    "- на сочетании пола и возраста (возраст разбить на подгруппы: 18-24, 25-45, 46-60, 61-75, 76+)\n",
    "подсчитать результаты для случая без постстратификации и с постстратификацией\n",
    "- проверить мощность и корректность t-критерия для постстратифицированного случая\n",
    "\n",
    "(2 балла)"
   ]
  },
  {
   "cell_type": "markdown",
   "metadata": {},
   "source": [
    "## Import"
   ]
  },
  {
   "cell_type": "code",
   "execution_count": 4,
   "metadata": {},
   "outputs": [],
   "source": [
    "import os\n",
    "import hashlib\n",
    "import collections\n",
    "import datetime\n",
    "from base64 import b64encode\n",
    "\n",
    "import numpy as np\n",
    "import pandas as pd\n",
    "from sklearn.utils import shuffle\n",
    "import scipy\n",
    "import scipy.stats as stats\n",
    "import statsmodels\n",
    "import statsmodels.sandbox.stats.multicomp\n",
    "from statsmodels.stats.weightstats import ztest\n",
    "\n",
    "import matplotlib.pyplot as plt\n",
    "import seaborn as sns\n",
    "\n",
    "from tqdm import tqdm"
   ]
  },
  {
   "cell_type": "markdown",
   "metadata": {},
   "source": [
    "## Считаем данные"
   ]
  },
  {
   "cell_type": "code",
   "execution_count": 5,
   "metadata": {},
   "outputs": [
    {
     "data": {
      "text/html": [
       "<div>\n",
       "<style scoped>\n",
       "    .dataframe tbody tr th:only-of-type {\n",
       "        vertical-align: middle;\n",
       "    }\n",
       "\n",
       "    .dataframe tbody tr th {\n",
       "        vertical-align: top;\n",
       "    }\n",
       "\n",
       "    .dataframe thead th {\n",
       "        text-align: right;\n",
       "    }\n",
       "</style>\n",
       "<table border=\"1\" class=\"dataframe\">\n",
       "  <thead>\n",
       "    <tr style=\"text-align: right;\">\n",
       "      <th></th>\n",
       "      <th>user_id</th>\n",
       "      <th>group</th>\n",
       "      <th>is_viewed</th>\n",
       "      <th>products_viewed_cnt</th>\n",
       "      <th>price_sum</th>\n",
       "      <th>is_cart_added</th>\n",
       "      <th>is_purchased</th>\n",
       "      <th>cart_added_cnt</th>\n",
       "      <th>purchased_cnt</th>\n",
       "    </tr>\n",
       "  </thead>\n",
       "  <tbody>\n",
       "    <tr>\n",
       "      <th>0</th>\n",
       "      <td>1515915625353230683</td>\n",
       "      <td>A</td>\n",
       "      <td>1</td>\n",
       "      <td>1</td>\n",
       "      <td>339.79</td>\n",
       "      <td>0.0</td>\n",
       "      <td>0.0</td>\n",
       "      <td>0</td>\n",
       "      <td>0</td>\n",
       "    </tr>\n",
       "    <tr>\n",
       "      <th>1</th>\n",
       "      <td>1515915625353234047</td>\n",
       "      <td>A</td>\n",
       "      <td>1</td>\n",
       "      <td>9</td>\n",
       "      <td>861.86</td>\n",
       "      <td>0.0</td>\n",
       "      <td>0.0</td>\n",
       "      <td>0</td>\n",
       "      <td>0</td>\n",
       "    </tr>\n",
       "    <tr>\n",
       "      <th>2</th>\n",
       "      <td>1515915625353236157</td>\n",
       "      <td>A</td>\n",
       "      <td>1</td>\n",
       "      <td>4</td>\n",
       "      <td>179.60</td>\n",
       "      <td>0.0</td>\n",
       "      <td>0.0</td>\n",
       "      <td>0</td>\n",
       "      <td>0</td>\n",
       "    </tr>\n",
       "    <tr>\n",
       "      <th>3</th>\n",
       "      <td>1515915625353294441</td>\n",
       "      <td>B</td>\n",
       "      <td>1</td>\n",
       "      <td>28</td>\n",
       "      <td>4283.04</td>\n",
       "      <td>0.0</td>\n",
       "      <td>0.0</td>\n",
       "      <td>0</td>\n",
       "      <td>0</td>\n",
       "    </tr>\n",
       "    <tr>\n",
       "      <th>4</th>\n",
       "      <td>1515915625353386199</td>\n",
       "      <td>B</td>\n",
       "      <td>1</td>\n",
       "      <td>1</td>\n",
       "      <td>20.98</td>\n",
       "      <td>0.0</td>\n",
       "      <td>0.0</td>\n",
       "      <td>0</td>\n",
       "      <td>0</td>\n",
       "    </tr>\n",
       "  </tbody>\n",
       "</table>\n",
       "</div>"
      ],
      "text/plain": [
       "               user_id group  is_viewed  products_viewed_cnt  price_sum  \\\n",
       "0  1515915625353230683     A          1                    1     339.79   \n",
       "1  1515915625353234047     A          1                    9     861.86   \n",
       "2  1515915625353236157     A          1                    4     179.60   \n",
       "3  1515915625353294441     B          1                   28    4283.04   \n",
       "4  1515915625353386199     B          1                    1      20.98   \n",
       "\n",
       "   is_cart_added  is_purchased  cart_added_cnt  purchased_cnt  \n",
       "0            0.0           0.0               0              0  \n",
       "1            0.0           0.0               0              0  \n",
       "2            0.0           0.0               0              0  \n",
       "3            0.0           0.0               0              0  \n",
       "4            0.0           0.0               0              0  "
      ]
     },
     "execution_count": 5,
     "metadata": {},
     "output_type": "execute_result"
    }
   ],
   "source": [
    "shop_metrics_new = pd.read_csv('data/shop_df_metrics_dec.csv').drop(columns='Unnamed: 0')\n",
    "shop_metrics_old = pd.read_csv('data/shop_df_metrics_sept.csv').drop(columns='Unnamed: 0')\n",
    "shop_users_info = pd.read_csv('data/shop_df_users.csv').drop(columns='Unnamed: 0')\n",
    "\n",
    "shop_metrics_new.head()"
   ]
  },
  {
   "cell_type": "markdown",
   "metadata": {},
   "source": [
    "Создадим функции генерации соли и сплита груп по хешу"
   ]
  },
  {
   "cell_type": "code",
   "execution_count": 6,
   "metadata": {},
   "outputs": [],
   "source": [
    "def salt_generator(salt=None):\n",
    "    \"\"\" Генератор соли \"\"\"\n",
    "    salt = os.urandom(8)\n",
    "    return b64encode(salt).decode('ascii')\n",
    "\n",
    "\n",
    "def groups_splitter(df, user_salt=None):\n",
    "    if user_salt == None:\n",
    "        salt = salt_generator()\n",
    "    else:\n",
    "        salt = user_salt\n",
    "\n",
    "    df['hash'] = ((df['user_id'].astype(str)) + '#' + salt).apply(lambda x: hashlib.sha256(x.encode('utf-8')).hexdigest())\n",
    "    df['group'] = ((df['hash'].str.slice(start=-6).apply(int, base=16) % 2).map(lambda x: 'A' if x == 0 else 'B'))\n",
    "\n",
    "    return df[['user_id', 'group']].drop_duplicates()"
   ]
  },
  {
   "cell_type": "markdown",
   "metadata": {},
   "source": [
    "## 1. T-test и U-test Манна-Уитни на cart_added_cnt"
   ]
  },
  {
   "cell_type": "markdown",
   "metadata": {},
   "source": [
    "Наша метрика cart_added_cnt - количество товаров, добавленных в корзину"
   ]
  },
  {
   "cell_type": "code",
   "execution_count": 7,
   "metadata": {},
   "outputs": [],
   "source": [
    "TARGET_METRIC = \"cart_added_cnt\""
   ]
  },
  {
   "cell_type": "markdown",
   "metadata": {},
   "source": [
    "### Взглянем на распределение"
   ]
  },
  {
   "cell_type": "markdown",
   "metadata": {},
   "source": [
    "Видим, что метрика распределена НЕ нормально, предположительно Манна-Уитни должен пройти лучше"
   ]
  },
  {
   "cell_type": "code",
   "execution_count": 15,
   "metadata": {},
   "outputs": [
    {
     "data": {
      "image/png": "[encoded data removed]",
      "text/plain": [
       "<Figure size 640x480 with 1 Axes>"
      ]
     },
     "metadata": {},
     "output_type": "display_data"
    }
   ],
   "source": [
    "sns.histplot(data=shop_metrics_new, x=TARGET_METRIC, bins=100, color='green')\n",
    "plt.show()"
   ]
  },
  {
   "cell_type": "markdown",
   "metadata": {},
   "source": [
    "Глянем на классические стат показатели, видим что как минимум 75% данных нули, но при этом у кого-то количество товаров в корзине достигает 75"
   ]
  },
  {
   "cell_type": "code",
   "execution_count": 16,
   "metadata": {},
   "outputs": [
    {
     "data": {
      "text/html": [
       "<div>\n",
       "<style scoped>\n",
       "    .dataframe tbody tr th:only-of-type {\n",
       "        vertical-align: middle;\n",
       "    }\n",
       "\n",
       "    .dataframe tbody tr th {\n",
       "        vertical-align: top;\n",
       "    }\n",
       "\n",
       "    .dataframe thead th {\n",
       "        text-align: right;\n",
       "    }\n",
       "</style>\n",
       "<table border=\"1\" class=\"dataframe\">\n",
       "  <thead>\n",
       "    <tr style=\"text-align: right;\">\n",
       "      <th></th>\n",
       "      <th>count</th>\n",
       "      <th>mean</th>\n",
       "      <th>std</th>\n",
       "      <th>min</th>\n",
       "      <th>25%</th>\n",
       "      <th>50%</th>\n",
       "      <th>75%</th>\n",
       "      <th>max</th>\n",
       "    </tr>\n",
       "    <tr>\n",
       "      <th>group</th>\n",
       "      <th></th>\n",
       "      <th></th>\n",
       "      <th></th>\n",
       "      <th></th>\n",
       "      <th></th>\n",
       "      <th></th>\n",
       "      <th></th>\n",
       "      <th></th>\n",
       "    </tr>\n",
       "  </thead>\n",
       "  <tbody>\n",
       "    <tr>\n",
       "      <th>A</th>\n",
       "      <td>111321.0</td>\n",
       "      <td>0.135042</td>\n",
       "      <td>0.616917</td>\n",
       "      <td>0.0</td>\n",
       "      <td>0.0</td>\n",
       "      <td>0.0</td>\n",
       "      <td>0.0</td>\n",
       "      <td>61.0</td>\n",
       "    </tr>\n",
       "    <tr>\n",
       "      <th>B</th>\n",
       "      <td>111200.0</td>\n",
       "      <td>0.138552</td>\n",
       "      <td>0.651705</td>\n",
       "      <td>0.0</td>\n",
       "      <td>0.0</td>\n",
       "      <td>0.0</td>\n",
       "      <td>0.0</td>\n",
       "      <td>75.0</td>\n",
       "    </tr>\n",
       "  </tbody>\n",
       "</table>\n",
       "</div>"
      ],
      "text/plain": [
       "          count      mean       std  min  25%  50%  75%   max\n",
       "group                                                        \n",
       "A      111321.0  0.135042  0.616917  0.0  0.0  0.0  0.0  61.0\n",
       "B      111200.0  0.138552  0.651705  0.0  0.0  0.0  0.0  75.0"
      ]
     },
     "execution_count": 16,
     "metadata": {},
     "output_type": "execute_result"
    }
   ],
   "source": [
    "shop_metrics_new.groupby('group')[TARGET_METRIC].describe()"
   ]
  },
  {
   "cell_type": "markdown",
   "metadata": {},
   "source": [
    "Посмотрим топ 1% перцентиль по количеству товаров, значит больше 6 товаров и ты уже в него попадаешь"
   ]
  },
  {
   "cell_type": "code",
   "execution_count": 17,
   "metadata": {},
   "outputs": [
    {
     "data": {
      "text/plain": [
       "6.0"
      ]
     },
     "execution_count": 17,
     "metadata": {},
     "output_type": "execute_result"
    }
   ],
   "source": [
    "np.percentile(shop_metrics_new[TARGET_METRIC], 99.9)"
   ]
  },
  {
   "cell_type": "markdown",
   "metadata": {},
   "source": [
    "Посмотрим сколько покупателей в топ 1%, 213 покупателей"
   ]
  },
  {
   "cell_type": "code",
   "execution_count": 18,
   "metadata": {},
   "outputs": [
    {
     "data": {
      "text/plain": [
       "213"
      ]
     },
     "execution_count": 18,
     "metadata": {},
     "output_type": "execute_result"
    }
   ],
   "source": [
    "shop_metrics_new[shop_metrics_new[TARGET_METRIC] > 6]['user_id'].count()"
   ]
  },
  {
   "cell_type": "markdown",
   "metadata": {},
   "source": [
    "### Мощность и корректность для cart_added_cnt"
   ]
  },
  {
   "cell_type": "markdown",
   "metadata": {},
   "source": [
    "Дропнем колонку group, чтобы не мешалась"
   ]
  },
  {
   "cell_type": "code",
   "execution_count": 8,
   "metadata": {},
   "outputs": [],
   "source": [
    "shop = shop_metrics_new.drop(columns=['group'])"
   ]
  },
  {
   "cell_type": "markdown",
   "metadata": {},
   "source": [
    "Считаем мощность и корректность на t-test"
   ]
  },
  {
   "cell_type": "code",
   "execution_count": 22,
   "metadata": {},
   "outputs": [
    {
     "name": "stderr",
     "output_type": "stream",
     "text": [
      "100%|██████████| 1000/1000 [13:20<00:00,  1.25it/s]\n"
     ]
    },
    {
     "name": "stdout",
     "output_type": "stream",
     "text": [
      "0.045735701138158856\n",
      " power: 67.10000000000001%, correctness: 95.8%\n"
     ]
    },
    {
     "data": {
      "image/png": "[encoded data removed]",
      "text/plain": [
       "<Figure size 470x427 with 1 Axes>"
      ]
     },
     "metadata": {},
     "output_type": "display_data"
    }
   ],
   "source": [
    "correctness = []\n",
    "power = []\n",
    "\n",
    "for i in tqdm(range(1000)): \n",
    "    new_group = groups_splitter(shop.copy(), user_salt=salt_generator())\n",
    "    new_df = pd.merge(shop, new_group, how=\"left\", on=['user_id']).drop_duplicates()\n",
    "\n",
    "    vec_a = new_df[(new_df['group'] == 'A')][TARGET_METRIC]\n",
    "    vec_b = new_df[(new_df['group'] == 'B')][TARGET_METRIC]\n",
    "    vec_b_effect = vec_b + stats.norm.rvs(loc=vec_b.mean() * 0.05, scale=0.35, size=len(vec_b))\n",
    "    p_cor, p_power = stats.ttest_ind(vec_a, vec_b)[1], stats.ttest_ind(vec_a, vec_b_effect)[1]\n",
    "    correctness.append(p_cor)\n",
    "    power.append(p_power)\n",
    "\n",
    "correctness = np.array(correctness)\n",
    "sns.set(rc={'figure.figsize':(4.7, 4.27)})\n",
    "sns.histplot(data=correctness, bins=10, color='purple', kde=True)\n",
    "\n",
    "power = np.array(power)\n",
    "print((vec_b_effect.mean() - vec_a.mean()) / vec_a.mean())\n",
    "print(f' power: {(power[power < 0.05].shape[0] / power.shape[0]) * 100}%, correctness: {(1 - (correctness[correctness < 0.05].shape[0] / correctness.shape[0])) * 100}%')"
   ]
  },
  {
   "cell_type": "markdown",
   "metadata": {},
   "source": [
    "Считаем мощность и корректность на U-test"
   ]
  },
  {
   "cell_type": "code",
   "execution_count": 23,
   "metadata": {},
   "outputs": [
    {
     "name": "stderr",
     "output_type": "stream",
     "text": [
      "100%|██████████| 1000/1000 [19:31<00:00,  1.17s/it]\n"
     ]
    },
    {
     "name": "stdout",
     "output_type": "stream",
     "text": [
      "0.05070963940415951\n",
      " power: 99.4%, correctness: 95.19999999999999%\n"
     ]
    },
    {
     "data": {
      "image/png": "[encoded data removed]",
      "text/plain": [
       "<Figure size 470x427 with 1 Axes>"
      ]
     },
     "metadata": {},
     "output_type": "display_data"
    }
   ],
   "source": [
    "correctness = []\n",
    "power = []\n",
    "\n",
    "for i in tqdm(range(1000)): \n",
    "    new_group = groups_splitter(shop.copy(), user_salt=salt_generator())\n",
    "    new_df = pd.merge(shop, new_group, how=\"left\", on=['user_id']).drop_duplicates()\n",
    "\n",
    "    vec_a = new_df[(new_df['group'] == 'A')][TARGET_METRIC]\n",
    "    vec_b = new_df[(new_df['group'] == 'B')][TARGET_METRIC]\n",
    "    vec_b_effect = vec_b + stats.norm.rvs(loc=vec_b.mean() * 0.05, scale=0.35, size=len(vec_b))\n",
    "    p_cor, p_power = stats.mannwhitneyu(vec_a, vec_b)[1], stats.mannwhitneyu(vec_a, vec_b_effect)[1]\n",
    "    correctness.append(p_cor)\n",
    "    power.append(p_power)\n",
    "\n",
    "correctness = np.array(correctness)\n",
    "sns.set(rc={'figure.figsize':(4.7, 4.27)})\n",
    "sns.histplot(data=correctness, bins=10, color='purple', kde=True)\n",
    "\n",
    "power = np.array(power)\n",
    "print((vec_b_effect.mean() - vec_a.mean())/vec_a.mean())\n",
    "print(f' power: {(power[power < 0.05].shape[0] / power.shape[0]) * 100}%, correctness: {(1 - (correctness[correctness < 0.05].shape[0] / correctness.shape[0])) * 100}%')"
   ]
  },
  {
   "cell_type": "markdown",
   "metadata": {},
   "source": [
    "ВЫВОД: На U-test'e Манна-Уитни мощность значительно выросла и распределение p-value выглядит более равномерно. Данный критерий больше подходит под наши данные"
   ]
  },
  {
   "cell_type": "markdown",
   "metadata": {},
   "source": [
    "## 2. CUPED"
   ]
  },
  {
   "cell_type": "markdown",
   "metadata": {},
   "source": [
    "Создадим функцию и сджойним старые и новые данные, чтобы взять старые как covariate"
   ]
  },
  {
   "cell_type": "code",
   "execution_count": 6,
   "metadata": {},
   "outputs": [],
   "source": [
    "def cuped_transform(df, metrics):\n",
    "    new_columns = [str(m + '_cuped') for m in metrics]\n",
    "    df[new_columns] = pd.DataFrame([[0] * len(new_columns)], index=df.index)\n",
    "\n",
    "    df_mini = df.fillna(0)\n",
    "    for m in metrics:\n",
    "        covariate_column = str(m + '_covariate')\n",
    "        cuped_column = str(m + '_cuped')\n",
    "        mean_covariate = df_mini[covariate_column].mean()\n",
    "\n",
    "        theta = (df_mini[m].cov(df_mini[covariate_column]))/(df_mini.loc[:,covariate_column].var())\n",
    "        df_mini[cuped_column] = df_mini[m] - (df_mini[covariate_column] - mean_covariate) * theta\n",
    "\n",
    "    df.update(df_mini)\n",
    "\n",
    "    return df.drop_duplicates()"
   ]
  },
  {
   "cell_type": "markdown",
   "metadata": {},
   "source": [
    "### На обычной метрике"
   ]
  },
  {
   "cell_type": "markdown",
   "metadata": {},
   "source": [
    "Объединим новые и старые данные"
   ]
  },
  {
   "cell_type": "code",
   "execution_count": 7,
   "metadata": {},
   "outputs": [],
   "source": [
    "shop_metrics_all = pd.merge(shop_metrics_new, shop_metrics_old[['user_id', TARGET_METRIC]], on=['user_id'], how='left')\n",
    "shop_metrics_all = shop_metrics_all.rename(columns={f'{TARGET_METRIC}_x': TARGET_METRIC, f'{TARGET_METRIC}_y': f'{TARGET_METRIC}_covariate'})\n",
    "shop_metrics_all_cuped = cuped_transform(shop_metrics_all.copy(), [TARGET_METRIC])"
   ]
  },
  {
   "cell_type": "markdown",
   "metadata": {},
   "source": [
    "Сравним средние и дисперсии на группах до и после CUPED"
   ]
  },
  {
   "cell_type": "code",
   "execution_count": 9,
   "metadata": {},
   "outputs": [
    {
     "name": "stdout",
     "output_type": "stream",
     "text": [
      "метрика_cuped A: 0.13638231572657297,         метрика_cuped B: 0.13721028984714181\n",
      "метрика без cuped A: 0.1350419058398685,         метрика без cuped B: 0.1385521582733813\n"
     ]
    }
   ],
   "source": [
    "print(f'метрика_cuped A: {shop_metrics_all_cuped[shop_metrics_all_cuped.group == \"A\"][f\"{TARGET_METRIC}_cuped\"].mean()}, \\\n",
    "        метрика_cuped B: {shop_metrics_all_cuped[shop_metrics_all_cuped.group == \"B\"][f\"{TARGET_METRIC}_cuped\"].mean()}')\n",
    "print(f'метрика без cuped A: {shop_metrics_all_cuped[shop_metrics_all_cuped.group == \"A\"][TARGET_METRIC].mean()}, \\\n",
    "        метрика без cuped B: {shop_metrics_all_cuped[shop_metrics_all_cuped.group == \"B\"][TARGET_METRIC].mean()}')"
   ]
  },
  {
   "cell_type": "code",
   "execution_count": 10,
   "metadata": {},
   "outputs": [
    {
     "name": "stdout",
     "output_type": "stream",
     "text": [
      "метрика_cuped A: 0.01823518359964533,         метрика_cuped B: 0.021495363455396536\n",
      "метрика без cuped A: 0.3805867322090304,         метрика без cuped B: 0.4247189893567569\n"
     ]
    }
   ],
   "source": [
    "print(f'метрика_cuped A: {shop_metrics_all_cuped[shop_metrics_all_cuped.group == \"A\"][f\"{TARGET_METRIC}_cuped\"].var()}, \\\n",
    "        метрика_cuped B: {shop_metrics_all_cuped[shop_metrics_all_cuped.group == \"B\"][f\"{TARGET_METRIC}_cuped\"].var()}')\n",
    "print(f'метрика без cuped A: {shop_metrics_all_cuped[shop_metrics_all_cuped.group == \"A\"][TARGET_METRIC].var()}, \\\n",
    "        метрика без cuped B: {shop_metrics_all_cuped[shop_metrics_all_cuped.group == \"B\"][TARGET_METRIC].var()}')"
   ]
  },
  {
   "cell_type": "markdown",
   "metadata": {},
   "source": [
    "Все хорошо: средние сохранились, а дисперсии сократились почти в 20 раз!"
   ]
  },
  {
   "cell_type": "markdown",
   "metadata": {},
   "source": [
    "Считаем мощность и корректность для CUPED"
   ]
  },
  {
   "cell_type": "code",
   "execution_count": 27,
   "metadata": {},
   "outputs": [
    {
     "name": "stderr",
     "output_type": "stream",
     "text": [
      "100%|██████████| 100/100 [01:52<00:00,  1.12s/it]\n"
     ]
    },
    {
     "name": "stdout",
     "output_type": "stream",
     "text": [
      " power: 100.0% , correctness: 95.0%\n"
     ]
    },
    {
     "data": {
      "image/png": "[encoded data removed]",
      "text/plain": [
       "<Figure size 470x427 with 1 Axes>"
      ]
     },
     "metadata": {},
     "output_type": "display_data"
    }
   ],
   "source": [
    "correctness = []\n",
    "power = []\n",
    "\n",
    "for i in tqdm(range(100)):\n",
    "    new_group = groups_splitter(shop.copy(), user_salt=salt_generator())\n",
    "    new_df = pd.merge(shop, new_group, how=\"left\", on=['user_id']).drop_duplicates()\n",
    "    all_df = pd.merge(new_df, shop_metrics_old[['user_id', TARGET_METRIC]], on=['user_id'], how='left')\n",
    "    all_df = all_df.rename(columns={f'{TARGET_METRIC}_x': TARGET_METRIC, f'{TARGET_METRIC}_y': f'{TARGET_METRIC}_covariate'})\n",
    "\n",
    "    cuped_df = cuped_transform(all_df, [TARGET_METRIC])\n",
    "\n",
    "    vec_a = cuped_df[(cuped_df['group'] == 'A')][f'{TARGET_METRIC}_cuped']\n",
    "    vec_b = cuped_df[(cuped_df['group'] == 'B')][f'{TARGET_METRIC}_cuped']\n",
    "    vec_b_effect = vec_b * 1.05\n",
    "\n",
    "    p_cor, p_power = stats.ttest_ind(vec_a, vec_b)[1], stats.ttest_ind(vec_a, vec_b_effect)[1]\n",
    "    correctness.append(p_cor)\n",
    "    power.append(p_power)\n",
    "\n",
    "correctness = np.array(correctness)\n",
    "sns.set(rc={'figure.figsize':(4.7,4.27)})\n",
    "sns.histplot(data=correctness, bins=10, color='brown', kde=True)\n",
    "\n",
    "power = np.array(power)\n",
    "\n",
    "print(f' power: {(power[power < 0.05].shape[0] / power.shape[0]) * 100}% , correctness: {(1 - (correctness[correctness < 0.05].shape[0] / correctness.shape[0])) * 100}%')"
   ]
  },
  {
   "cell_type": "markdown",
   "metadata": {},
   "source": [
    "### На прологарифмированной метрике"
   ]
  },
  {
   "cell_type": "markdown",
   "metadata": {},
   "source": [
    "Создаем логарифмированную метрику"
   ]
  },
  {
   "cell_type": "code",
   "execution_count": 13,
   "metadata": {},
   "outputs": [],
   "source": [
    "TARGET_METRIC_LN = TARGET_METRIC + \"_ln\"\n",
    "shop_metrics_new[TARGET_METRIC_LN] = np.log(shop_metrics_new[TARGET_METRIC] + 1)\n",
    "shop_metrics_old[TARGET_METRIC_LN] = np.log(shop_metrics_old[TARGET_METRIC] + 1)\n",
    "shop[TARGET_METRIC_LN] = np.log(shop[TARGET_METRIC] + 1)"
   ]
  },
  {
   "cell_type": "markdown",
   "metadata": {},
   "source": [
    "Объединим данные"
   ]
  },
  {
   "cell_type": "code",
   "execution_count": 14,
   "metadata": {},
   "outputs": [],
   "source": [
    "shop_metrics_all = pd.merge(shop_metrics_new, shop_metrics_old[['user_id', TARGET_METRIC_LN]], on=['user_id'], how='left')\n",
    "shop_metrics_all = shop_metrics_all.rename(columns={f'{TARGET_METRIC_LN}_x': TARGET_METRIC_LN, f'{TARGET_METRIC_LN}_y': f'{TARGET_METRIC_LN}_covariate'})\n",
    "shop_metrics_all_cuped = cuped_transform(shop_metrics_all.copy(), [TARGET_METRIC_LN])"
   ]
  },
  {
   "cell_type": "markdown",
   "metadata": {},
   "source": [
    "Сравним средние и дисперсии на группах до и после CUPED для логарифмированной метрики"
   ]
  },
  {
   "cell_type": "code",
   "execution_count": 15,
   "metadata": {},
   "outputs": [
    {
     "name": "stdout",
     "output_type": "stream",
     "text": [
      "метрика_cuped A: 0.08034157852348374,         метрика_cuped B: 0.08072086382541542\n",
      "метрика без cuped A: 0.07974289062640032,         метрика без cuped B: 0.08132020317245879\n"
     ]
    }
   ],
   "source": [
    "print(f'метрика_cuped A: {shop_metrics_all_cuped[shop_metrics_all_cuped.group == \"A\"][f\"{TARGET_METRIC_LN}_cuped\"].mean()}, \\\n",
    "        метрика_cuped B: {shop_metrics_all_cuped[shop_metrics_all_cuped.group == \"B\"][f\"{TARGET_METRIC_LN}_cuped\"].mean()}')\n",
    "print(f'метрика без cuped A: {shop_metrics_all_cuped[shop_metrics_all_cuped.group == \"A\"][TARGET_METRIC_LN].mean()}, \\\n",
    "        метрика без cuped B: {shop_metrics_all_cuped[shop_metrics_all_cuped.group == \"B\"][TARGET_METRIC_LN].mean()}')"
   ]
  },
  {
   "cell_type": "code",
   "execution_count": 17,
   "metadata": {},
   "outputs": [
    {
     "name": "stdout",
     "output_type": "stream",
     "text": [
      "метрика_cuped A: 0.002055014378642917,         метрика_cuped B: 0.0017558187333519078\n",
      "метрика без cuped A: 0.06466232955752058,         метрика без cuped B: 0.06628259108478471\n"
     ]
    }
   ],
   "source": [
    "print(f'метрика_cuped A: {shop_metrics_all_cuped[shop_metrics_all_cuped.group == \"A\"][f\"{TARGET_METRIC_LN}_cuped\"].var()}, \\\n",
    "        метрика_cuped B: {shop_metrics_all_cuped[shop_metrics_all_cuped.group == \"B\"][f\"{TARGET_METRIC_LN}_cuped\"].var()}')\n",
    "print(f'метрика без cuped A: {shop_metrics_all_cuped[shop_metrics_all_cuped.group == \"A\"][TARGET_METRIC_LN].var()}, \\\n",
    "        метрика без cuped B: {shop_metrics_all_cuped[shop_metrics_all_cuped.group == \"B\"][TARGET_METRIC_LN].var()}')"
   ]
  },
  {
   "cell_type": "markdown",
   "metadata": {},
   "source": [
    "Средние сохранились, а дисперсии сократились в 30-35 раз!"
   ]
  },
  {
   "cell_type": "markdown",
   "metadata": {},
   "source": [
    "Считаем мощность и корректность"
   ]
  },
  {
   "cell_type": "code",
   "execution_count": 31,
   "metadata": {},
   "outputs": [
    {
     "name": "stderr",
     "output_type": "stream",
     "text": [
      "100%|██████████| 100/100 [01:47<00:00,  1.07s/it]\n"
     ]
    },
    {
     "name": "stdout",
     "output_type": "stream",
     "text": [
      " power: 100.0% , correctness: 98.0%\n"
     ]
    },
    {
     "data": {
      "image/png": "[encoded data removed]",
      "text/plain": [
       "<Figure size 470x427 with 1 Axes>"
      ]
     },
     "metadata": {},
     "output_type": "display_data"
    }
   ],
   "source": [
    "correctness = []\n",
    "power = []\n",
    "\n",
    "for i in tqdm(range(100)):\n",
    "    new_group = groups_splitter(shop.copy(), user_salt=salt_generator())\n",
    "    new_df = pd.merge(shop, new_group, how=\"left\", on=['user_id']).drop_duplicates()\n",
    "    all_df = pd.merge(new_df, shop_metrics_old[['user_id', TARGET_METRIC_LN]], on=['user_id'], how='left')\n",
    "    all_df = all_df.rename(columns={f'{TARGET_METRIC_LN}_x': TARGET_METRIC_LN, f'{TARGET_METRIC_LN}_y': f'{TARGET_METRIC_LN}_covariate'})\n",
    "\n",
    "    cuped_df = cuped_transform(all_df, [TARGET_METRIC_LN])\n",
    "\n",
    "    vec_a = cuped_df[(cuped_df['group'] == 'A')][f'{TARGET_METRIC_LN}_cuped']\n",
    "    vec_b = cuped_df[(cuped_df['group'] == 'B')][f'{TARGET_METRIC_LN}_cuped']\n",
    "    vec_b_effect = vec_b * 1.05\n",
    "\n",
    "    p_cor, p_power = stats.ttest_ind(vec_a, vec_b)[1], stats.ttest_ind(vec_a, vec_b_effect)[1]\n",
    "    correctness.append(p_cor)\n",
    "    power.append(p_power)\n",
    "\n",
    "correctness = np.array(correctness)\n",
    "sns.set(rc={'figure.figsize':(4.7,4.27)})\n",
    "sns.histplot(data=correctness, bins=10, color='brown', kde=True)\n",
    "\n",
    "power = np.array(power)\n",
    "\n",
    "print(f' power: {(power[power < 0.05].shape[0] / power.shape[0]) * 100}% , correctness: {(1 - (correctness[correctness < 0.05].shape[0] / correctness.shape[0])) * 100}%')"
   ]
  },
  {
   "cell_type": "markdown",
   "metadata": {},
   "source": [
    "### На обычной + ранговое преобразование"
   ]
  },
  {
   "cell_type": "markdown",
   "metadata": {},
   "source": [
    "Создадим функцию рангового преобразования"
   ]
  },
  {
   "cell_type": "code",
   "execution_count": 18,
   "metadata": {},
   "outputs": [],
   "source": [
    "def rank_transformation(df_a, df_b, metric):\n",
    "    df = pd.concat([df_a, df_b], axis = 0)\n",
    "    df['rank'] = df[metric].rank()\n",
    "    \n",
    "    return df"
   ]
  },
  {
   "cell_type": "markdown",
   "metadata": {},
   "source": [
    "Объединяем и преобразуем метрику"
   ]
  },
  {
   "cell_type": "code",
   "execution_count": 19,
   "metadata": {},
   "outputs": [],
   "source": [
    "shop_metrics_all = pd.merge(shop_metrics_new, shop_metrics_old[['user_id', TARGET_METRIC]], on=['user_id'], how='left')\n",
    "shop_metrics_all = shop_metrics_all.rename(columns={f'{TARGET_METRIC}_x': TARGET_METRIC, f'{TARGET_METRIC}_y': f'{TARGET_METRIC}_covariate'})\n",
    "shop_metrics_all_cuped = cuped_transform(shop_metrics_all.copy(), [TARGET_METRIC])\n",
    "\n",
    "ranked_df = rank_transformation(shop_metrics_all_cuped[shop_metrics_all_cuped.group == 'A'], shop_metrics_all_cuped[shop_metrics_all_cuped.group == 'B'], f'{TARGET_METRIC}_cuped')"
   ]
  },
  {
   "cell_type": "code",
   "execution_count": 21,
   "metadata": {},
   "outputs": [
    {
     "name": "stdout",
     "output_type": "stream",
     "text": [
      "метрика_cuped A: 111157.3299691882,         метрика_cuped B: 111364.78283723022\n",
      "метрика без cuped A: 0.1350419058398685,         метрика без cuped B: 0.1385521582733813\n"
     ]
    }
   ],
   "source": [
    "print(f'метрика_cuped A: {ranked_df[ranked_df.group == \"A\"][f\"rank\"].mean()}, \\\n",
    "        метрика_cuped B: {ranked_df[ranked_df.group == \"B\"][f\"rank\"].mean()}')\n",
    "print(f'метрика без cuped A: {ranked_df[ranked_df.group == \"A\"][TARGET_METRIC].mean()}, \\\n",
    "        метрика без cuped B: {ranked_df[ranked_df.group == \"B\"][TARGET_METRIC].mean()}')"
   ]
  },
  {
   "cell_type": "code",
   "execution_count": 23,
   "metadata": {},
   "outputs": [
    {
     "name": "stdout",
     "output_type": "stream",
     "text": [
      "метрика_rank_cuped A: 1138307738.193268,         метрика_rank_cuped B: 1151768826.5589178\n",
      "метрика без cuped A: 0.3805867322090304,         метрика без cuped B: 0.4247189893567569\n"
     ]
    }
   ],
   "source": [
    "print(f'метрика_rank_cuped A: {ranked_df[ranked_df.group == \"A\"][f\"rank\"].var()}, \\\n",
    "        метрика_rank_cuped B: {ranked_df[ranked_df.group == \"B\"][f\"rank\"].var()}')\n",
    "print(f'метрика без cuped A: {ranked_df[ranked_df.group == \"A\"][TARGET_METRIC].var()}, \\\n",
    "        метрика без cuped B: {ranked_df[ranked_df.group == \"B\"][TARGET_METRIC].var()}')"
   ]
  },
  {
   "cell_type": "markdown",
   "metadata": {},
   "source": [
    "У нас изменились средние, дисперсии при этом выросли"
   ]
  },
  {
   "cell_type": "markdown",
   "metadata": {},
   "source": [
    "Но главный плюс ранговой трансформации в преобразовании разности средних, она стала ниже => t-test увереннее в том что различий нет => мощность повышается"
   ]
  },
  {
   "cell_type": "markdown",
   "metadata": {},
   "source": [
    "Разность средних до преобразования"
   ]
  },
  {
   "cell_type": "code",
   "execution_count": 26,
   "metadata": {},
   "outputs": [
    {
     "name": "stdout",
     "output_type": "stream",
     "text": [
      "2.5993801047766807\n"
     ]
    }
   ],
   "source": [
    "print((ranked_df[ranked_df.group == 'B'][TARGET_METRIC].mean() - ranked_df[ranked_df.group == 'A'][TARGET_METRIC].mean()) / ranked_df[ranked_df.group == 'A'][TARGET_METRIC].mean()*100)"
   ]
  },
  {
   "cell_type": "markdown",
   "metadata": {},
   "source": [
    "После преобразования:"
   ]
  },
  {
   "cell_type": "code",
   "execution_count": 25,
   "metadata": {},
   "outputs": [
    {
     "name": "stdout",
     "output_type": "stream",
     "text": [
      "0.186629948829756\n"
     ]
    }
   ],
   "source": [
    "print((ranked_df[ranked_df.group == 'B']['rank'].mean() - ranked_df[ranked_df.group == 'A']['rank'].mean()) / ranked_df[ranked_df.group == 'A']['rank'].mean()*100)"
   ]
  },
  {
   "cell_type": "markdown",
   "metadata": {},
   "source": [
    "Мощность и корректность для ранговой трансформации"
   ]
  },
  {
   "cell_type": "code",
   "execution_count": 34,
   "metadata": {},
   "outputs": [
    {
     "name": "stderr",
     "output_type": "stream",
     "text": [
      "100%|██████████| 100/100 [02:21<00:00,  1.41s/it]\n"
     ]
    },
    {
     "name": "stdout",
     "output_type": "stream",
     "text": [
      " power: 100.0% , correctness: 96.0%\n"
     ]
    },
    {
     "data": {
      "image/png": "[encoded data removed]",
      "text/plain": [
       "<Figure size 470x427 with 1 Axes>"
      ]
     },
     "metadata": {},
     "output_type": "display_data"
    }
   ],
   "source": [
    "correctness = []\n",
    "power = []\n",
    "\n",
    "for i in tqdm(range(100)):\n",
    "    # сначала cuped\n",
    "    new_group = groups_splitter(shop.copy(), user_salt=salt_generator())\n",
    "    new_df = pd.merge(shop, new_group, how=\"left\", on=['user_id']).drop_duplicates()\n",
    "    all_df = pd.merge(new_df, shop_metrics_old[['user_id', TARGET_METRIC]], on=['user_id'], how='left')\n",
    "    all_df = all_df.rename(columns={f'{TARGET_METRIC}_x': TARGET_METRIC, f'{TARGET_METRIC}_y': f'{TARGET_METRIC}_covariate'})\n",
    "\n",
    "    cuped_df = cuped_transform(all_df, [TARGET_METRIC])\n",
    "\n",
    "    # потом ранговое преобразование по cuped'у\n",
    "    ranked_df = rank_transformation(cuped_df[cuped_df.group == 'A'], cuped_df[cuped_df.group == 'B'], f'{TARGET_METRIC}_cuped')\n",
    "    \n",
    "    vec_a = ranked_df[(ranked_df['group'] == 'A')]['rank']\n",
    "    vec_b = ranked_df[(ranked_df['group'] == 'B')]['rank']\n",
    "    \n",
    "    vec_b_effect = cuped_df[cuped_df['group'] == 'B'][f'{TARGET_METRIC}_cuped'] * 1.05\n",
    "    new_df_b = cuped_df[cuped_df.group == 'B'].drop(columns=[f'{TARGET_METRIC}_cuped'])\n",
    "    new_df_b[f'{TARGET_METRIC}_cuped'] = list(vec_b_effect)\n",
    "\n",
    "    ranked_df_effect = rank_transformation(cuped_df[cuped_df.group == 'A'], new_df_b, f'{TARGET_METRIC}_cuped')\n",
    "    vec_a_power = ranked_df_effect[(ranked_df_effect['group'] == 'A')]['rank']\n",
    "    vec_b_power = ranked_df_effect[(ranked_df_effect['group'] == 'B')]['rank']\n",
    "\n",
    "    p_cor, p_power = stats.ttest_ind(vec_a, vec_b)[1], stats.ttest_ind(vec_a_power, vec_b_power)[1]\n",
    "    correctness.append(p_cor)\n",
    "    power.append(p_power)\n",
    "\n",
    "correctness = np.array(correctness)\n",
    "sns.set(rc={'figure.figsize':(4.7,4.27)})\n",
    "sns.histplot(data=correctness, bins=10, color='blue', kde=True)\n",
    "\n",
    "power = np.array(power)\n",
    "print(f' power: {(power[power < 0.05].shape[0] / power.shape[0]) * 100}% , correctness: {(1 - (correctness[correctness < 0.05].shape[0] / correctness.shape[0])) * 100}%')"
   ]
  },
  {
   "cell_type": "markdown",
   "metadata": {},
   "source": [
    "ВЫВОД: CUPED на исходной метрике уже показал максимальную мощность, можно было бы не идти дальше.\n",
    "\n",
    "Но при этом видим что все преобразования также дали максимальную мощность, а значит имеют право на существование"
   ]
  },
  {
   "cell_type": "markdown",
   "metadata": {},
   "source": [
    "## 3. Разбивка на бакеты"
   ]
  },
  {
   "cell_type": "markdown",
   "metadata": {},
   "source": [
    "Главная идея - изначально у нас каждое наблюдение независимо, сгруппируем наблюдения по бакетам (в моем примере 100 бакетов)"
   ]
  },
  {
   "cell_type": "markdown",
   "metadata": {},
   "source": [
    "Тогда даже несмотря на случайное разбиение, средние будут поглаже чем независимые наблюжиения => дисперсия уменьшится"
   ]
  },
  {
   "cell_type": "markdown",
   "metadata": {},
   "source": [
    "### Логнормальное распределение"
   ]
  },
  {
   "cell_type": "code",
   "execution_count": 46,
   "metadata": {},
   "outputs": [
    {
     "data": {
      "image/png": "[encoded data removed]",
      "text/plain": [
       "<Figure size 470x427 with 1 Axes>"
      ]
     },
     "metadata": {},
     "output_type": "display_data"
    }
   ],
   "source": [
    "s = 0.59\n",
    "x = np.linspace(scipy.stats.lognorm.ppf(0.01, s),\n",
    "                scipy.stats.lognorm.ppf(0.99, s), 40000)\n",
    "\n",
    "data = stats.lognorm.pdf(x, s)\n",
    "plt.plot(x, data, lw=1.5, alpha=0.6)\n",
    "plt.show()"
   ]
  },
  {
   "cell_type": "markdown",
   "metadata": {},
   "source": [
    "Бьем на бакеты (но сначала перемешаем, так будет интереснее)"
   ]
  },
  {
   "cell_type": "code",
   "execution_count": 51,
   "metadata": {},
   "outputs": [
    {
     "data": {
      "text/html": [
       "<div>\n",
       "<style scoped>\n",
       "    .dataframe tbody tr th:only-of-type {\n",
       "        vertical-align: middle;\n",
       "    }\n",
       "\n",
       "    .dataframe tbody tr th {\n",
       "        vertical-align: top;\n",
       "    }\n",
       "\n",
       "    .dataframe thead th {\n",
       "        text-align: right;\n",
       "    }\n",
       "</style>\n",
       "<table border=\"1\" class=\"dataframe\">\n",
       "  <thead>\n",
       "    <tr style=\"text-align: right;\">\n",
       "      <th></th>\n",
       "      <th>target</th>\n",
       "      <th>user_id</th>\n",
       "      <th>bucket_num</th>\n",
       "    </tr>\n",
       "  </thead>\n",
       "  <tbody>\n",
       "    <tr>\n",
       "      <th>0</th>\n",
       "      <td>0.070398</td>\n",
       "      <td>0</td>\n",
       "      <td>0</td>\n",
       "    </tr>\n",
       "    <tr>\n",
       "      <th>1</th>\n",
       "      <td>0.187166</td>\n",
       "      <td>1</td>\n",
       "      <td>1</td>\n",
       "    </tr>\n",
       "    <tr>\n",
       "      <th>2</th>\n",
       "      <td>0.103162</td>\n",
       "      <td>2</td>\n",
       "      <td>2</td>\n",
       "    </tr>\n",
       "    <tr>\n",
       "      <th>3</th>\n",
       "      <td>0.718505</td>\n",
       "      <td>3</td>\n",
       "      <td>3</td>\n",
       "    </tr>\n",
       "    <tr>\n",
       "      <th>4</th>\n",
       "      <td>0.015390</td>\n",
       "      <td>4</td>\n",
       "      <td>4</td>\n",
       "    </tr>\n",
       "  </tbody>\n",
       "</table>\n",
       "</div>"
      ],
      "text/plain": [
       "     target  user_id  bucket_num\n",
       "0  0.070398        0           0\n",
       "1  0.187166        1           1\n",
       "2  0.103162        2           2\n",
       "3  0.718505        3           3\n",
       "4  0.015390        4           4"
      ]
     },
     "execution_count": 51,
     "metadata": {},
     "output_type": "execute_result"
    }
   ],
   "source": [
    "np.random.seed(59)\n",
    "\n",
    "data = np.random.permutation(data)\n",
    "\n",
    "df_lognormal = pd.DataFrame({\"target\": data})\n",
    "df_lognormal['user_id'] = df_lognormal.index\n",
    "df_lognormal['bucket_num'] = df_lognormal[\"user_id\"] % 1000\n",
    "df_lognormal.head()"
   ]
  },
  {
   "cell_type": "markdown",
   "metadata": {},
   "source": [
    "Мощность и корректность исходная"
   ]
  },
  {
   "cell_type": "code",
   "execution_count": 33,
   "metadata": {},
   "outputs": [
    {
     "name": "stderr",
     "output_type": "stream",
     "text": [
      "100%|██████████| 1000/1000 [02:13<00:00,  7.50it/s]\n"
     ]
    },
    {
     "name": "stdout",
     "output_type": "stream",
     "text": [
      "0.03719679261982034\n",
      " power: 95.0% , correctness: 94.6%\n"
     ]
    },
    {
     "data": {
      "image/png": "[encoded data removed]",
      "text/plain": [
       "<Figure size 470x427 with 1 Axes>"
      ]
     },
     "metadata": {},
     "output_type": "display_data"
    }
   ],
   "source": [
    "correctness = []\n",
    "power = []\n",
    "\n",
    "for i in tqdm(range(1000)): \n",
    "    new_group = groups_splitter(df_lognormal.copy(), user_salt=salt_generator())\n",
    "    new_df = pd.merge(df_lognormal, new_group, how=\"left\", on=['user_id']).drop_duplicates()\n",
    "    \n",
    "    vec_a = new_df[(new_df['group'] == 'A')]['target']\n",
    "    vec_b = new_df[(new_df['group'] == 'B')]['target']\n",
    "    vec_b_effect = vec_b + stats.norm.rvs(loc=vec_b.mean() * 0.05, scale=0.35, size=len(vec_b))\n",
    "    p_cor, p_power = stats.ttest_ind(vec_a, vec_b)[1], stats.ttest_ind(vec_a, vec_b_effect)[1]\n",
    "    correctness.append(p_cor)\n",
    "    power.append(p_power)\n",
    "\n",
    "correctness = np.array(correctness)\n",
    "sns.set(rc={'figure.figsize':(4.7,4.27)})\n",
    "sns.histplot(data=correctness, bins=10, color='purple', kde=True)\n",
    "\n",
    "power = np.array(power)\n",
    "print((vec_b_effect.mean() - vec_a.mean())/vec_a.mean())\n",
    "print(f' power: {(power[power < 0.05].shape[0] / power.shape[0]) * 100}% , correctness: {(1 - (correctness[correctness < 0.05].shape[0] / correctness.shape[0])) * 100}%')"
   ]
  },
  {
   "cell_type": "markdown",
   "metadata": {},
   "source": [
    "Саггрегируем"
   ]
  },
  {
   "cell_type": "code",
   "execution_count": 52,
   "metadata": {},
   "outputs": [
    {
     "data": {
      "text/html": [
       "<div>\n",
       "<style scoped>\n",
       "    .dataframe tbody tr th:only-of-type {\n",
       "        vertical-align: middle;\n",
       "    }\n",
       "\n",
       "    .dataframe tbody tr th {\n",
       "        vertical-align: top;\n",
       "    }\n",
       "\n",
       "    .dataframe thead th {\n",
       "        text-align: right;\n",
       "    }\n",
       "</style>\n",
       "<table border=\"1\" class=\"dataframe\">\n",
       "  <thead>\n",
       "    <tr style=\"text-align: right;\">\n",
       "      <th></th>\n",
       "      <th>bucket_num</th>\n",
       "      <th>target</th>\n",
       "      <th>user_id</th>\n",
       "    </tr>\n",
       "  </thead>\n",
       "  <tbody>\n",
       "    <tr>\n",
       "      <th>0</th>\n",
       "      <td>0</td>\n",
       "      <td>0.212965</td>\n",
       "      <td>0</td>\n",
       "    </tr>\n",
       "    <tr>\n",
       "      <th>1</th>\n",
       "      <td>1</td>\n",
       "      <td>0.288619</td>\n",
       "      <td>1</td>\n",
       "    </tr>\n",
       "    <tr>\n",
       "      <th>2</th>\n",
       "      <td>2</td>\n",
       "      <td>0.275995</td>\n",
       "      <td>2</td>\n",
       "    </tr>\n",
       "    <tr>\n",
       "      <th>3</th>\n",
       "      <td>3</td>\n",
       "      <td>0.349667</td>\n",
       "      <td>3</td>\n",
       "    </tr>\n",
       "    <tr>\n",
       "      <th>4</th>\n",
       "      <td>4</td>\n",
       "      <td>0.257294</td>\n",
       "      <td>4</td>\n",
       "    </tr>\n",
       "  </tbody>\n",
       "</table>\n",
       "</div>"
      ],
      "text/plain": [
       "   bucket_num    target  user_id\n",
       "0           0  0.212965        0\n",
       "1           1  0.288619        1\n",
       "2           2  0.275995        2\n",
       "3           3  0.349667        3\n",
       "4           4  0.257294        4"
      ]
     },
     "execution_count": 52,
     "metadata": {},
     "output_type": "execute_result"
    }
   ],
   "source": [
    "df_ln_bucket = df_lognormal.groupby(\"bucket_num\")[\"target\"].mean().to_frame().reset_index(drop=False)\n",
    "df_ln_bucket['user_id'] = df_ln_bucket['bucket_num']\n",
    "df_ln_bucket.head()"
   ]
  },
  {
   "cell_type": "code",
   "execution_count": 53,
   "metadata": {},
   "outputs": [
    {
     "data": {
      "text/plain": [
       "1000"
      ]
     },
     "execution_count": 53,
     "metadata": {},
     "output_type": "execute_result"
    }
   ],
   "source": [
    "len(df_ln_bucket)"
   ]
  },
  {
   "cell_type": "markdown",
   "metadata": {},
   "source": [
    "Мощность и корректность t-test для бакетов"
   ]
  },
  {
   "cell_type": "code",
   "execution_count": 54,
   "metadata": {},
   "outputs": [
    {
     "name": "stderr",
     "output_type": "stream",
     "text": [
      "100%|██████████| 1000/1000 [00:09<00:00, 105.41it/s]\n"
     ]
    },
    {
     "name": "stdout",
     "output_type": "stream",
     "text": [
      "0.07131455702488802\n",
      " power: 12.7% , correctness: 95.8%\n"
     ]
    },
    {
     "data": {
      "image/png": "[encoded data removed]",
      "text/plain": [
       "<Figure size 470x427 with 1 Axes>"
      ]
     },
     "metadata": {},
     "output_type": "display_data"
    }
   ],
   "source": [
    "correctness = []\n",
    "power = []\n",
    "\n",
    "for i in tqdm(range(1000)): \n",
    "    new_group = groups_splitter(df_ln_bucket.copy(), user_salt=salt_generator())\n",
    "    new_df = pd.merge(df_ln_bucket, new_group, how=\"left\", on=['user_id']).drop_duplicates()\n",
    "    \n",
    "    vec_a = new_df[(new_df['group'] == 'A')]['target']\n",
    "    vec_b = new_df[(new_df['group'] == 'B')]['target']\n",
    "    vec_b_effect = vec_b + stats.norm.rvs(loc=vec_b.mean() * 0.05, scale=0.35, size=len(vec_b))\n",
    "    p_cor, p_power = stats.ttest_ind(vec_a, vec_b)[1], stats.ttest_ind(vec_a, vec_b_effect)[1]\n",
    "    correctness.append(p_cor)\n",
    "    power.append(p_power)\n",
    "\n",
    "correctness = np.array(correctness)\n",
    "sns.set(rc={'figure.figsize':(4.7,4.27)})\n",
    "sns.histplot(data=correctness, bins=10, color='purple', kde=True)\n",
    "\n",
    "power = np.array(power)\n",
    "print((vec_b_effect.mean() - vec_a.mean())/vec_a.mean())\n",
    "print(f' power: {(power[power < 0.05].shape[0] / power.shape[0]) * 100}% , correctness: {(1 - (correctness[correctness < 0.05].shape[0] / correctness.shape[0])) * 100}%')"
   ]
  },
  {
   "cell_type": "markdown",
   "metadata": {},
   "source": [
    "Кажется т-тест не может отловить неконстантное изменение в 5% у бакетов, мощность категорически упала, попробуем константный эффект для каждого бакета"
   ]
  },
  {
   "cell_type": "code",
   "execution_count": 55,
   "metadata": {},
   "outputs": [
    {
     "name": "stderr",
     "output_type": "stream",
     "text": [
      "100%|██████████| 1000/1000 [00:09<00:00, 107.83it/s]\n"
     ]
    },
    {
     "name": "stdout",
     "output_type": "stream",
     "text": [
      "0.046772010439241576\n",
      " power: 99.7% , correctness: 95.39999999999999%\n"
     ]
    },
    {
     "data": {
      "image/png": "[encoded data removed]",
      "text/plain": [
       "<Figure size 470x427 with 1 Axes>"
      ]
     },
     "metadata": {},
     "output_type": "display_data"
    }
   ],
   "source": [
    "correctness = []\n",
    "power = []\n",
    "\n",
    "for i in tqdm(range(1000)): \n",
    "    new_group = groups_splitter(df_ln_bucket.copy(), user_salt=salt_generator())\n",
    "    new_df = pd.merge(df_ln_bucket, new_group, how=\"left\", on=['user_id']).drop_duplicates()\n",
    "    \n",
    "    vec_a = new_df[(new_df['group'] == 'A')]['target']\n",
    "    vec_b = new_df[(new_df['group'] == 'B')]['target']\n",
    "    vec_b_effect = vec_b + vec_b.mean() * 0.05\n",
    "    p_cor, p_power = stats.ttest_ind(vec_a, vec_b)[1], stats.ttest_ind(vec_a, vec_b_effect)[1]\n",
    "    correctness.append(p_cor)\n",
    "    power.append(p_power)\n",
    "\n",
    "correctness = np.array(correctness)\n",
    "sns.set(rc={'figure.figsize':(4.7,4.27)})\n",
    "sns.histplot(data=correctness, bins=10, color='purple', kde=True)\n",
    "\n",
    "power = np.array(power)\n",
    "print((vec_b_effect.mean() - vec_a.mean())/vec_a.mean())\n",
    "print(f' power: {(power[power < 0.05].shape[0] / power.shape[0]) * 100}% , correctness: {(1 - (correctness[correctness < 0.05].shape[0] / correctness.shape[0])) * 100}%')"
   ]
  },
  {
   "cell_type": "markdown",
   "metadata": {},
   "source": [
    "При константом увеличении эффекта на каждом бакете мощность близка к максимальной"
   ]
  },
  {
   "cell_type": "markdown",
   "metadata": {},
   "source": [
    "### Бакетирование на наших данных"
   ]
  },
  {
   "cell_type": "code",
   "execution_count": 56,
   "metadata": {},
   "outputs": [
    {
     "data": {
      "text/html": [
       "<div>\n",
       "<style scoped>\n",
       "    .dataframe tbody tr th:only-of-type {\n",
       "        vertical-align: middle;\n",
       "    }\n",
       "\n",
       "    .dataframe tbody tr th {\n",
       "        vertical-align: top;\n",
       "    }\n",
       "\n",
       "    .dataframe thead th {\n",
       "        text-align: right;\n",
       "    }\n",
       "</style>\n",
       "<table border=\"1\" class=\"dataframe\">\n",
       "  <thead>\n",
       "    <tr style=\"text-align: right;\">\n",
       "      <th></th>\n",
       "      <th>user_id</th>\n",
       "      <th>is_viewed</th>\n",
       "      <th>products_viewed_cnt</th>\n",
       "      <th>price_sum</th>\n",
       "      <th>is_cart_added</th>\n",
       "      <th>is_purchased</th>\n",
       "      <th>cart_added_cnt</th>\n",
       "      <th>purchased_cnt</th>\n",
       "      <th>bucket_num</th>\n",
       "    </tr>\n",
       "  </thead>\n",
       "  <tbody>\n",
       "    <tr>\n",
       "      <th>0</th>\n",
       "      <td>1515915625353230683</td>\n",
       "      <td>1</td>\n",
       "      <td>1</td>\n",
       "      <td>339.79</td>\n",
       "      <td>0.0</td>\n",
       "      <td>0.0</td>\n",
       "      <td>0</td>\n",
       "      <td>0</td>\n",
       "      <td>0</td>\n",
       "    </tr>\n",
       "    <tr>\n",
       "      <th>1</th>\n",
       "      <td>1515915625353234047</td>\n",
       "      <td>1</td>\n",
       "      <td>9</td>\n",
       "      <td>861.86</td>\n",
       "      <td>0.0</td>\n",
       "      <td>0.0</td>\n",
       "      <td>0</td>\n",
       "      <td>0</td>\n",
       "      <td>1</td>\n",
       "    </tr>\n",
       "    <tr>\n",
       "      <th>2</th>\n",
       "      <td>1515915625353236157</td>\n",
       "      <td>1</td>\n",
       "      <td>4</td>\n",
       "      <td>179.60</td>\n",
       "      <td>0.0</td>\n",
       "      <td>0.0</td>\n",
       "      <td>0</td>\n",
       "      <td>0</td>\n",
       "      <td>2</td>\n",
       "    </tr>\n",
       "    <tr>\n",
       "      <th>3</th>\n",
       "      <td>1515915625353294441</td>\n",
       "      <td>1</td>\n",
       "      <td>28</td>\n",
       "      <td>4283.04</td>\n",
       "      <td>0.0</td>\n",
       "      <td>0.0</td>\n",
       "      <td>0</td>\n",
       "      <td>0</td>\n",
       "      <td>3</td>\n",
       "    </tr>\n",
       "    <tr>\n",
       "      <th>4</th>\n",
       "      <td>1515915625353386199</td>\n",
       "      <td>1</td>\n",
       "      <td>1</td>\n",
       "      <td>20.98</td>\n",
       "      <td>0.0</td>\n",
       "      <td>0.0</td>\n",
       "      <td>0</td>\n",
       "      <td>0</td>\n",
       "      <td>4</td>\n",
       "    </tr>\n",
       "  </tbody>\n",
       "</table>\n",
       "</div>"
      ],
      "text/plain": [
       "               user_id  is_viewed  products_viewed_cnt  price_sum  \\\n",
       "0  1515915625353230683          1                    1     339.79   \n",
       "1  1515915625353234047          1                    9     861.86   \n",
       "2  1515915625353236157          1                    4     179.60   \n",
       "3  1515915625353294441          1                   28    4283.04   \n",
       "4  1515915625353386199          1                    1      20.98   \n",
       "\n",
       "   is_cart_added  is_purchased  cart_added_cnt  purchased_cnt  bucket_num  \n",
       "0            0.0           0.0               0              0           0  \n",
       "1            0.0           0.0               0              0           1  \n",
       "2            0.0           0.0               0              0           2  \n",
       "3            0.0           0.0               0              0           3  \n",
       "4            0.0           0.0               0              0           4  "
      ]
     },
     "execution_count": 56,
     "metadata": {},
     "output_type": "execute_result"
    }
   ],
   "source": [
    "shop_bucket = shop.copy()\n",
    "shop_bucket['bucket_num'] = shop_bucket.index % 1000\n",
    "shop_bucket.head()"
   ]
  },
  {
   "cell_type": "code",
   "execution_count": 58,
   "metadata": {},
   "outputs": [
    {
     "data": {
      "text/html": [
       "<div>\n",
       "<style scoped>\n",
       "    .dataframe tbody tr th:only-of-type {\n",
       "        vertical-align: middle;\n",
       "    }\n",
       "\n",
       "    .dataframe tbody tr th {\n",
       "        vertical-align: top;\n",
       "    }\n",
       "\n",
       "    .dataframe thead th {\n",
       "        text-align: right;\n",
       "    }\n",
       "</style>\n",
       "<table border=\"1\" class=\"dataframe\">\n",
       "  <thead>\n",
       "    <tr style=\"text-align: right;\">\n",
       "      <th></th>\n",
       "      <th>bucket_num</th>\n",
       "      <th>cart_added_cnt</th>\n",
       "      <th>user_id</th>\n",
       "    </tr>\n",
       "  </thead>\n",
       "  <tbody>\n",
       "    <tr>\n",
       "      <th>0</th>\n",
       "      <td>0</td>\n",
       "      <td>0.076233</td>\n",
       "      <td>0</td>\n",
       "    </tr>\n",
       "    <tr>\n",
       "      <th>1</th>\n",
       "      <td>1</td>\n",
       "      <td>0.143498</td>\n",
       "      <td>1</td>\n",
       "    </tr>\n",
       "    <tr>\n",
       "      <th>2</th>\n",
       "      <td>2</td>\n",
       "      <td>0.134529</td>\n",
       "      <td>2</td>\n",
       "    </tr>\n",
       "    <tr>\n",
       "      <th>3</th>\n",
       "      <td>3</td>\n",
       "      <td>0.062780</td>\n",
       "      <td>3</td>\n",
       "    </tr>\n",
       "    <tr>\n",
       "      <th>4</th>\n",
       "      <td>4</td>\n",
       "      <td>0.094170</td>\n",
       "      <td>4</td>\n",
       "    </tr>\n",
       "  </tbody>\n",
       "</table>\n",
       "</div>"
      ],
      "text/plain": [
       "   bucket_num  cart_added_cnt  user_id\n",
       "0           0        0.076233        0\n",
       "1           1        0.143498        1\n",
       "2           2        0.134529        2\n",
       "3           3        0.062780        3\n",
       "4           4        0.094170        4"
      ]
     },
     "execution_count": 58,
     "metadata": {},
     "output_type": "execute_result"
    }
   ],
   "source": [
    "shop_bucket = shop_bucket.groupby(\"bucket_num\")[TARGET_METRIC].mean().to_frame().reset_index(drop=False)\n",
    "shop_bucket['user_id'] = shop_bucket['bucket_num']\n",
    "shop_bucket.head()"
   ]
  },
  {
   "cell_type": "markdown",
   "metadata": {},
   "source": [
    "Мощность и корректность на бакетах"
   ]
  },
  {
   "cell_type": "code",
   "execution_count": 60,
   "metadata": {},
   "outputs": [
    {
     "name": "stderr",
     "output_type": "stream",
     "text": [
      "100%|██████████| 1000/1000 [00:09<00:00, 102.89it/s]\n"
     ]
    },
    {
     "name": "stdout",
     "output_type": "stream",
     "text": [
      "0.10099987073152218\n",
      " power: 6.7% , correctness: 95.39999999999999%\n"
     ]
    },
    {
     "data": {
      "image/png": "[encoded data removed]",
      "text/plain": [
       "<Figure size 470x427 with 1 Axes>"
      ]
     },
     "metadata": {},
     "output_type": "display_data"
    }
   ],
   "source": [
    "correctness = []\n",
    "power = []\n",
    "\n",
    "for i in tqdm(range(1000)): \n",
    "    new_group = groups_splitter(shop_bucket.copy(), user_salt=salt_generator())\n",
    "    new_df = pd.merge(shop_bucket, new_group, how=\"left\", on=['user_id']).drop_duplicates()\n",
    "    \n",
    "    vec_a = new_df[(new_df['group'] == 'A')][TARGET_METRIC]\n",
    "    vec_b = new_df[(new_df['group'] == 'B')][TARGET_METRIC]\n",
    "    vec_b_effect = vec_b + stats.norm.rvs(loc=vec_b.mean() * 0.05, scale=0.35, size=len(vec_b))\n",
    "    p_cor, p_power = stats.ttest_ind(vec_a, vec_b)[1], stats.ttest_ind(vec_a, vec_b_effect)[1]\n",
    "    correctness.append(p_cor)\n",
    "    power.append(p_power)\n",
    "\n",
    "correctness = np.array(correctness)\n",
    "sns.set(rc={'figure.figsize':(4.7,4.27)})\n",
    "sns.histplot(data=correctness, bins=10, color='purple', kde=True)\n",
    "\n",
    "power = np.array(power)\n",
    "print((vec_b_effect.mean() - vec_a.mean())/vec_a.mean())\n",
    "print(f' power: {(power[power < 0.05].shape[0] / power.shape[0]) * 100}% , correctness: {(1 - (correctness[correctness < 0.05].shape[0] / correctness.shape[0])) * 100}%')"
   ]
  },
  {
   "cell_type": "markdown",
   "metadata": {},
   "source": [
    "Как и прежде, из-за бакетов наша мощность, проверенная на случайном добавлении эффекта упала\n",
    "\n",
    "Оно может иметь хорошую эвристическую подоплеку, как пример бакетов у нас 1000, а данных 222к\n",
    "\n",
    "=> каждый бакет примерно по 222 наблюдения, вероятность отсутствия эффекта среди всех 222 случайно перемешанных наблюдений мала\n",
    "\n",
    "=> случайное добавление эффекта справляется не очень и необходимо константное"
   ]
  },
  {
   "cell_type": "code",
   "execution_count": 63,
   "metadata": {},
   "outputs": [
    {
     "name": "stderr",
     "output_type": "stream",
     "text": [
      "100%|██████████| 1000/1000 [00:09<00:00, 106.42it/s]\n"
     ]
    },
    {
     "name": "stdout",
     "output_type": "stream",
     "text": [
      "0.04874259929492869\n",
      " power: 71.7% , correctness: 95.0%\n"
     ]
    },
    {
     "data": {
      "image/png": "[encoded data removed]",
      "text/plain": [
       "<Figure size 470x427 with 1 Axes>"
      ]
     },
     "metadata": {},
     "output_type": "display_data"
    }
   ],
   "source": [
    "correctness = []\n",
    "power = []\n",
    "\n",
    "for i in tqdm(range(1000)): \n",
    "    new_group = groups_splitter(shop_bucket.copy(), user_salt=salt_generator())\n",
    "    new_df = pd.merge(shop_bucket, new_group, how=\"left\", on=['user_id']).drop_duplicates()\n",
    "    \n",
    "    vec_a = new_df[(new_df['group'] == 'A')][TARGET_METRIC]\n",
    "    vec_b = new_df[(new_df['group'] == 'B')][TARGET_METRIC]\n",
    "    vec_b_effect = vec_b + vec_b.mean() * 0.05\n",
    "    p_cor, p_power = stats.ttest_ind(vec_a, vec_b)[1], stats.ttest_ind(vec_a, vec_b_effect)[1]\n",
    "    correctness.append(p_cor)\n",
    "    power.append(p_power)\n",
    "\n",
    "correctness = np.array(correctness)\n",
    "sns.set(rc={'figure.figsize':(4.7,4.27)})\n",
    "sns.histplot(data=correctness, bins=10, color='purple', kde=True)\n",
    "\n",
    "power = np.array(power)\n",
    "print((vec_b_effect.mean() - vec_a.mean())/vec_a.mean())\n",
    "print(f' power: {(power[power < 0.05].shape[0] / power.shape[0]) * 100}% , correctness: {(1 - (correctness[correctness < 0.05].shape[0] / correctness.shape[0])) * 100}%')"
   ]
  },
  {
   "cell_type": "markdown",
   "metadata": {},
   "source": [
    "При константном добавлении эффекта получаем мощность выше чем на исходной метрике (71.7% vs 67.1%)"
   ]
  },
  {
   "cell_type": "markdown",
   "metadata": {},
   "source": [
    "ВЫВОД: Бакеты дают прирост мощности, но только если оценивать мощность по константному добавлению эффекта, потому что иначе мощность категорически падает"
   ]
  },
  {
   "cell_type": "markdown",
   "metadata": {},
   "source": [
    "## 4. Постстратификация"
   ]
  },
  {
   "cell_type": "code",
   "execution_count": 77,
   "metadata": {},
   "outputs": [
    {
     "data": {
      "text/html": [
       "<div>\n",
       "<style scoped>\n",
       "    .dataframe tbody tr th:only-of-type {\n",
       "        vertical-align: middle;\n",
       "    }\n",
       "\n",
       "    .dataframe tbody tr th {\n",
       "        vertical-align: top;\n",
       "    }\n",
       "\n",
       "    .dataframe thead th {\n",
       "        text-align: right;\n",
       "    }\n",
       "</style>\n",
       "<table border=\"1\" class=\"dataframe\">\n",
       "  <thead>\n",
       "    <tr style=\"text-align: right;\">\n",
       "      <th></th>\n",
       "      <th>user_id</th>\n",
       "      <th>group</th>\n",
       "      <th>cart_added_cnt</th>\n",
       "      <th>user_age</th>\n",
       "      <th>user_sex</th>\n",
       "    </tr>\n",
       "  </thead>\n",
       "  <tbody>\n",
       "    <tr>\n",
       "      <th>0</th>\n",
       "      <td>1515915625353226922</td>\n",
       "      <td>B</td>\n",
       "      <td>0</td>\n",
       "      <td>55</td>\n",
       "      <td>f</td>\n",
       "    </tr>\n",
       "    <tr>\n",
       "      <th>1</th>\n",
       "      <td>1515915625353230067</td>\n",
       "      <td>A</td>\n",
       "      <td>0</td>\n",
       "      <td>58</td>\n",
       "      <td>m</td>\n",
       "    </tr>\n",
       "    <tr>\n",
       "      <th>2</th>\n",
       "      <td>1515915625353230683</td>\n",
       "      <td>A</td>\n",
       "      <td>0</td>\n",
       "      <td>23</td>\n",
       "      <td>f</td>\n",
       "    </tr>\n",
       "    <tr>\n",
       "      <th>3</th>\n",
       "      <td>1515915625353230922</td>\n",
       "      <td>A</td>\n",
       "      <td>0</td>\n",
       "      <td>33</td>\n",
       "      <td>m</td>\n",
       "    </tr>\n",
       "    <tr>\n",
       "      <th>4</th>\n",
       "      <td>1515915625353234047</td>\n",
       "      <td>A</td>\n",
       "      <td>0</td>\n",
       "      <td>26</td>\n",
       "      <td>f</td>\n",
       "    </tr>\n",
       "  </tbody>\n",
       "</table>\n",
       "</div>"
      ],
      "text/plain": [
       "               user_id group  cart_added_cnt  user_age user_sex\n",
       "0  1515915625353226922     B               0        55        f\n",
       "1  1515915625353230067     A               0        58        m\n",
       "2  1515915625353230683     A               0        23        f\n",
       "3  1515915625353230922     A               0        33        m\n",
       "4  1515915625353234047     A               0        26        f"
      ]
     },
     "execution_count": 77,
     "metadata": {},
     "output_type": "execute_result"
    }
   ],
   "source": [
    "shop_w_features = pd.merge(shop_metrics_old, shop_users_info, on=['user_id'], how='left')\n",
    "shop_w_features.drop([\"is_viewed\", \"is_viewed\", \"products_viewed_cnt\", \"price_sum\", \"is_cart_added\", \"is_purchased\", \"purchased_cnt\"], axis=1, inplace=True)\n",
    "shop_w_features.head()"
   ]
  },
  {
   "cell_type": "code",
   "execution_count": 79,
   "metadata": {},
   "outputs": [
    {
     "data": {
      "text/html": [
       "<div>\n",
       "<style scoped>\n",
       "    .dataframe tbody tr th:only-of-type {\n",
       "        vertical-align: middle;\n",
       "    }\n",
       "\n",
       "    .dataframe tbody tr th {\n",
       "        vertical-align: top;\n",
       "    }\n",
       "\n",
       "    .dataframe thead th {\n",
       "        text-align: right;\n",
       "    }\n",
       "</style>\n",
       "<table border=\"1\" class=\"dataframe\">\n",
       "  <thead>\n",
       "    <tr style=\"text-align: right;\">\n",
       "      <th></th>\n",
       "      <th>user_id</th>\n",
       "      <th>group</th>\n",
       "      <th>cart_added_cnt</th>\n",
       "      <th>user_age</th>\n",
       "      <th>user_sex</th>\n",
       "      <th>age_group</th>\n",
       "      <th>sex_age_group</th>\n",
       "    </tr>\n",
       "  </thead>\n",
       "  <tbody>\n",
       "    <tr>\n",
       "      <th>0</th>\n",
       "      <td>1515915625353226922</td>\n",
       "      <td>B</td>\n",
       "      <td>0</td>\n",
       "      <td>55</td>\n",
       "      <td>f</td>\n",
       "      <td>45-60</td>\n",
       "      <td>f_45-60</td>\n",
       "    </tr>\n",
       "    <tr>\n",
       "      <th>1</th>\n",
       "      <td>1515915625353230067</td>\n",
       "      <td>A</td>\n",
       "      <td>0</td>\n",
       "      <td>58</td>\n",
       "      <td>m</td>\n",
       "      <td>45-60</td>\n",
       "      <td>m_45-60</td>\n",
       "    </tr>\n",
       "    <tr>\n",
       "      <th>2</th>\n",
       "      <td>1515915625353230683</td>\n",
       "      <td>A</td>\n",
       "      <td>0</td>\n",
       "      <td>23</td>\n",
       "      <td>f</td>\n",
       "      <td>18-24</td>\n",
       "      <td>f_18-24</td>\n",
       "    </tr>\n",
       "    <tr>\n",
       "      <th>3</th>\n",
       "      <td>1515915625353230922</td>\n",
       "      <td>A</td>\n",
       "      <td>0</td>\n",
       "      <td>33</td>\n",
       "      <td>m</td>\n",
       "      <td>25-45</td>\n",
       "      <td>m_25-45</td>\n",
       "    </tr>\n",
       "    <tr>\n",
       "      <th>4</th>\n",
       "      <td>1515915625353234047</td>\n",
       "      <td>A</td>\n",
       "      <td>0</td>\n",
       "      <td>26</td>\n",
       "      <td>f</td>\n",
       "      <td>25-45</td>\n",
       "      <td>f_25-45</td>\n",
       "    </tr>\n",
       "  </tbody>\n",
       "</table>\n",
       "</div>"
      ],
      "text/plain": [
       "               user_id group  cart_added_cnt  user_age user_sex age_group  \\\n",
       "0  1515915625353226922     B               0        55        f     45-60   \n",
       "1  1515915625353230067     A               0        58        m     45-60   \n",
       "2  1515915625353230683     A               0        23        f     18-24   \n",
       "3  1515915625353230922     A               0        33        m     25-45   \n",
       "4  1515915625353234047     A               0        26        f     25-45   \n",
       "\n",
       "  sex_age_group  \n",
       "0       f_45-60  \n",
       "1       m_45-60  \n",
       "2       f_18-24  \n",
       "3       m_25-45  \n",
       "4       f_25-45  "
      ]
     },
     "execution_count": 79,
     "metadata": {},
     "output_type": "execute_result"
    }
   ],
   "source": [
    "def map_age(age: int):\n",
    "    if age in range(18, 25):\n",
    "        return \"18-24\"\n",
    "    elif age in range(25, 46):\n",
    "        return \"25-45\"\n",
    "    elif age in range(46, 61):\n",
    "        return \"45-60\"\n",
    "    elif age in range(61, 76):\n",
    "        return \"61-75\"\n",
    "    else:\n",
    "        return \"76+\"\n",
    "\n",
    "\n",
    "shop_w_features['age_group'] = shop_w_features['user_age'].apply(map_age)\n",
    "shop_w_features['sex_age_group'] = shop_w_features['user_sex'] + \"_\" + shop_w_features['age_group']\n",
    "shop_w_features.head()"
   ]
  },
  {
   "cell_type": "markdown",
   "metadata": {},
   "source": [
    "Слишком мало молодых девчонок, в остальном более менее равномерно"
   ]
  },
  {
   "cell_type": "code",
   "execution_count": 80,
   "metadata": {},
   "outputs": [
    {
     "data": {
      "text/plain": [
       "group  sex_age_group\n",
       "A      m_25-45          38432\n",
       "       m_45-60          27321\n",
       "       m_61-75          27001\n",
       "       f_25-45          25540\n",
       "       f_45-60          18336\n",
       "       f_61-75          17939\n",
       "       m_76+            16249\n",
       "       m_18-24          12890\n",
       "       f_76+            11125\n",
       "       f_18-24           8503\n",
       "B      m_25-45          38490\n",
       "       m_45-60          27283\n",
       "       m_61-75          27249\n",
       "       f_25-45          25439\n",
       "       f_61-75          18246\n",
       "       f_45-60          18111\n",
       "       m_76+            16362\n",
       "       m_18-24          12816\n",
       "       f_76+            11082\n",
       "       f_18-24           8449\n",
       "Name: count, dtype: int64"
      ]
     },
     "execution_count": 80,
     "metadata": {},
     "output_type": "execute_result"
    }
   ],
   "source": [
    "shop_w_features.groupby(['group'])['sex_age_group'].value_counts()"
   ]
  },
  {
   "cell_type": "markdown",
   "metadata": {},
   "source": [
    "### Сравним средние и дисперсии до постстратификации и после"
   ]
  },
  {
   "cell_type": "markdown",
   "metadata": {},
   "source": [
    "На исходной выборке, t-test"
   ]
  },
  {
   "cell_type": "code",
   "execution_count": 81,
   "metadata": {},
   "outputs": [
    {
     "data": {
      "text/plain": [
       "TtestResult(statistic=-0.7331870372707812, pvalue=0.4634447828246868, df=406861.0)"
      ]
     },
     "execution_count": 81,
     "metadata": {},
     "output_type": "execute_result"
    }
   ],
   "source": [
    "stats.ttest_ind(shop_w_features[shop_w_features.group == 'A'][TARGET_METRIC], \n",
    "                shop_w_features[shop_w_features.group == 'B'][TARGET_METRIC])"
   ]
  },
  {
   "cell_type": "markdown",
   "metadata": {},
   "source": [
    "Разность средних"
   ]
  },
  {
   "cell_type": "code",
   "execution_count": 82,
   "metadata": {},
   "outputs": [
    {
     "data": {
      "text/plain": [
       "1.1242734540045785"
      ]
     },
     "execution_count": 82,
     "metadata": {},
     "output_type": "execute_result"
    }
   ],
   "source": [
    "(shop_w_features[shop_w_features.group == 'B'][TARGET_METRIC].mean() - shop_w_features[shop_w_features.group == 'A'][TARGET_METRIC].mean()) / shop_w_features[shop_w_features.group == 'A'][TARGET_METRIC].mean() * 100"
   ]
  },
  {
   "cell_type": "markdown",
   "metadata": {},
   "source": [
    "Дисперсии"
   ]
  },
  {
   "cell_type": "code",
   "execution_count": 83,
   "metadata": {},
   "outputs": [
    {
     "name": "stdout",
     "output_type": "stream",
     "text": [
      "0.576689119780438 0.5987645651973791\n"
     ]
    }
   ],
   "source": [
    "print(shop_w_features[shop_w_features.group == 'A'][TARGET_METRIC].std(), \n",
    "      shop_w_features[shop_w_features.group == 'B'][TARGET_METRIC].std())"
   ]
  },
  {
   "cell_type": "markdown",
   "metadata": {},
   "source": [
    "На постстратификации по полу и возрастной группе"
   ]
  },
  {
   "cell_type": "code",
   "execution_count": 90,
   "metadata": {},
   "outputs": [
    {
     "data": {
      "text/plain": [
       "{'m_25-45': 0.18906118275684936,\n",
       " 'm_45-60': 0.1342073376050415,\n",
       " 'm_61-75': 0.13333726586099007,\n",
       " 'f_25-45': 0.12529770463276335,\n",
       " 'f_45-60': 0.08958052219051622,\n",
       " 'f_61-75': 0.08893657078672673,\n",
       " 'm_76+': 0.08015228713350686,\n",
       " 'm_18-24': 0.06318097246493291,\n",
       " 'f_76+': 0.05458102604562224,\n",
       " 'f_18-24': 0.04166513052305076}"
      ]
     },
     "execution_count": 90,
     "metadata": {},
     "output_type": "execute_result"
    }
   ],
   "source": [
    "N = shop_w_features['user_id'].nunique()\n",
    "\n",
    "strats_weights = {}\n",
    "for i in range(shop_w_features['sex_age_group'].nunique()):\n",
    "    key = shop_w_features['sex_age_group'].value_counts().index[i]\n",
    "    strats_weights[key] = shop_w_features['sex_age_group'].value_counts().iloc[i] / N\n",
    "\n",
    "strats_weights"
   ]
  },
  {
   "cell_type": "markdown",
   "metadata": {},
   "source": [
    "Логика такая, что выборки у нас становятся независимы, а потому общая дисперсия - средняя усредненная дисперсия выборок (как и среднее)"
   ]
  },
  {
   "cell_type": "code",
   "execution_count": 91,
   "metadata": {},
   "outputs": [
    {
     "name": "stdout",
     "output_type": "stream",
     "text": [
      "effect: 1.1238909894351434, std_a: 8.179175411681481e-07, std_b: 8.814427810322829e-07\n"
     ]
    },
    {
     "data": {
      "text/plain": [
       "Ttest_indResult(statistic=-506738.4365829322, pvalue=0.0)"
      ]
     },
     "execution_count": 91,
     "metadata": {},
     "output_type": "execute_result"
    }
   ],
   "source": [
    "mean_a = 0\n",
    "mean_b = 0\n",
    "\n",
    "std_a = 0\n",
    "std_b = 0\n",
    "\n",
    "for sex_age in strats_weights:\n",
    "    mean_a += shop_w_features[(shop_w_features.group == 'A') & (shop_w_features['sex_age_group'] == sex_age)][TARGET_METRIC].mean() * strats_weights[sex_age]\n",
    "    mean_b += shop_w_features[(shop_w_features.group == 'B') & (shop_w_features['sex_age_group'] == sex_age)][TARGET_METRIC].mean() * strats_weights[sex_age]\n",
    "\n",
    "    std_a += shop_w_features[(shop_w_features.group == 'A') & (shop_w_features['sex_age_group'] == sex_age)][TARGET_METRIC].std()**2 * strats_weights[sex_age]\n",
    "    std_b += shop_w_features[(shop_w_features.group == 'B') & (shop_w_features['sex_age_group'] == sex_age)][TARGET_METRIC].std()**2 * strats_weights[sex_age]\n",
    "\n",
    "std_a, std_b = std_a / N, std_b / N\n",
    "\n",
    "n_a = len(shop_w_features[shop_w_features.group == 'A'])\n",
    "n_b = len(shop_w_features[shop_w_features.group == 'B'])\n",
    "\n",
    "print(f'effect: {(mean_b - mean_a) / mean_a * 100}, std_a: {std_a}, std_b: {std_b}')\n",
    "\n",
    "stats.ttest_ind_from_stats(mean_a, std_a, n_a, mean_b, std_b, n_b)"
   ]
  },
  {
   "cell_type": "markdown",
   "metadata": {},
   "source": [
    "Видим что разность средних не изменилась, но дисперсия уменьшилась многократно.\n",
    "\n",
    "T-test также показывает что различия между группами найти практически невозможно, значит мы также уменьшили ошибку первого рода"
   ]
  },
  {
   "cell_type": "markdown",
   "metadata": {},
   "source": [
    "### Мощность и корректность"
   ]
  },
  {
   "cell_type": "markdown",
   "metadata": {},
   "source": [
    "Считаем мощность корректность на каждой группе, и находим общие мощность и корректность как взвешенные средние"
   ]
  },
  {
   "cell_type": "code",
   "execution_count": 94,
   "metadata": {},
   "outputs": [],
   "source": [
    "shop_new = shop_w_features.drop(\"group\", axis=1)"
   ]
  },
  {
   "cell_type": "code",
   "execution_count": 109,
   "metadata": {},
   "outputs": [
    {
     "name": "stderr",
     "output_type": "stream",
     "text": [
      "100%|██████████| 10/10 [01:17<00:00,  7.78s/it]"
     ]
    },
    {
     "name": "stdout",
     "output_type": "stream",
     "text": [
      " power: 24.583754236684097% , correctness: 95.54164423896987%\n"
     ]
    },
    {
     "name": "stderr",
     "output_type": "stream",
     "text": [
      "\n"
     ]
    }
   ],
   "source": [
    "corr_group = 0\n",
    "power_group = 0\n",
    "\n",
    "for sex_age in tqdm(strats_weights):\n",
    "    correctness = []\n",
    "    power = []\n",
    "    for _ in range(5):\n",
    "        new_group = groups_splitter(shop_new.copy(), user_salt=salt_generator())\n",
    "        new_df = pd.merge(shop_new, new_group, how=\"left\", on=['user_id']).drop_duplicates()\n",
    "\n",
    "        vec_a = new_df[(new_df.group == 'A') & (new_df['sex_age_group'] == sex_age)][TARGET_METRIC]\n",
    "        vec_b = new_df[(new_df.group == 'B') & (new_df['sex_age_group'] == sex_age)][TARGET_METRIC]\n",
    "        vec_b_effect = vec_b + vec_b.mean() * 0.05\n",
    "\n",
    "        p_cor_group, p_power_group = stats.ttest_ind(vec_a, vec_b)[1], stats.ttest_ind(vec_a, vec_b_effect)[1]\n",
    "\n",
    "        correctness.append(p_cor_group)\n",
    "        power.append(p_power_group)\n",
    "\n",
    "    correctness = np.array(correctness)\n",
    "    power = np.array(power)\n",
    "\n",
    "    power_group += (power[power < 0.05].shape[0] / power.shape[0]) * strats_weights[sex_age]\n",
    "    corr_group += (1 - (correctness[correctness < 0.05].shape[0] / correctness.shape[0])) * strats_weights[sex_age]\n",
    "\n",
    "# sns.set(rc={'figure.figsize':(4.7,4.27)})\n",
    "# sns.histplot(data=correctness, bins=10, color='purple', kde=True)\n",
    "# print((vec_b_effect.mean() - vec_a.mean())/vec_a.mean())\n",
    "# print(f' power: {(power[power < 0.05].shape[0] / power.shape[0]) * 100}% , correctness: {(1 - (correctness[correctness < 0.05].shape[0] / correctness.shape[0])) * 100}%')\n",
    "print(f' power: {power_group * 100}% , correctness: {corr_group * 100}%')"
   ]
  },
  {
   "cell_type": "markdown",
   "metadata": {},
   "source": [
    "ВЫВОД: не совсем понял как считать мощность и корректность на постстратификации, по разному пробовал усреднять по группам, все время мощность близится к нулю (критически меньше чем у исходной выборки)"
   ]
  }
 ],
 "metadata": {
  "kernelspec": {
   "display_name": "venv",
   "language": "python",
   "name": "python3"
  },
  "language_info": {
   "codemirror_mode": {
    "name": "ipython",
    "version": 3
   },
   "file_extension": ".py",
   "mimetype": "text/x-python",
   "name": "python",
   "nbconvert_exporter": "python",
   "pygments_lexer": "ipython3",
   "version": "3.11.4"
  }
 },
 "nbformat": 4,
 "nbformat_minor": 2
}
