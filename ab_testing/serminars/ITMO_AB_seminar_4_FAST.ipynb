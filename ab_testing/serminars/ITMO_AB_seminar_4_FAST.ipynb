{
 "cells": [
  {
   "cell_type": "code",
   "execution_count": 3,
   "id": "7356b6ae",
   "metadata": {},
   "outputs": [],
   "source": [
    "import numpy as np\n",
    "import scipy\n",
    "import matplotlib.pyplot as plt\n",
    "import scipy.stats as stats\n",
    "import statsmodels\n",
    "import statsmodels.sandbox.stats.multicomp\n",
    "import pandas as pd\n",
    "from statsmodels.stats.weightstats import ztest\n",
    "\n",
    "import matplotlib.pyplot as plt\n",
    "import seaborn as sns\n",
    "\n",
    "from tqdm import tqdm\n",
    "from sklearn.utils import shuffle\n",
    "import hashlib\n",
    "from base64 import b64encode\n",
    "import collections\n",
    "import datetime"
   ]
  },
  {
   "cell_type": "markdown",
   "id": "c3e948b2",
   "metadata": {},
   "source": [
    "1. Работа с метриками: логарифмирование и удаление выбросов\n",
    "2. Ранговая трансформация \n",
    "3. CUPED\n",
    "4. Линеаризация ratio-метрик\n",
    "5. Стратификация"
   ]
  },
  {
   "cell_type": "code",
   "execution_count": null,
   "id": "61368d31",
   "metadata": {},
   "outputs": [],
   "source": []
  },
  {
   "cell_type": "code",
   "execution_count": 4,
   "id": "fdb3c1d9",
   "metadata": {},
   "outputs": [],
   "source": [
    "df = pd.read_csv('2019-dec.csv')"
   ]
  },
  {
   "cell_type": "code",
   "execution_count": 5,
   "id": "9c11c11d",
   "metadata": {},
   "outputs": [
    {
     "data": {
      "text/html": [
       "<div>\n",
       "<style scoped>\n",
       "    .dataframe tbody tr th:only-of-type {\n",
       "        vertical-align: middle;\n",
       "    }\n",
       "\n",
       "    .dataframe tbody tr th {\n",
       "        vertical-align: top;\n",
       "    }\n",
       "\n",
       "    .dataframe thead th {\n",
       "        text-align: right;\n",
       "    }\n",
       "</style>\n",
       "<table border=\"1\" class=\"dataframe\">\n",
       "  <thead>\n",
       "    <tr style=\"text-align: right;\">\n",
       "      <th></th>\n",
       "      <th>event_time</th>\n",
       "      <th>event_type</th>\n",
       "      <th>product_id</th>\n",
       "      <th>category_id</th>\n",
       "      <th>category_code</th>\n",
       "      <th>brand</th>\n",
       "      <th>price</th>\n",
       "      <th>user_id</th>\n",
       "      <th>user_session</th>\n",
       "    </tr>\n",
       "  </thead>\n",
       "  <tbody>\n",
       "    <tr>\n",
       "      <th>0</th>\n",
       "      <td>2019-12-01 00:00:00 UTC</td>\n",
       "      <td>remove_from_cart</td>\n",
       "      <td>5712790</td>\n",
       "      <td>1487580005268456287</td>\n",
       "      <td>NaN</td>\n",
       "      <td>f.o.x</td>\n",
       "      <td>6.27</td>\n",
       "      <td>576802932</td>\n",
       "      <td>51d85cb0-897f-48d2-918b-ad63965c12dc</td>\n",
       "    </tr>\n",
       "    <tr>\n",
       "      <th>1</th>\n",
       "      <td>2019-12-01 00:00:00 UTC</td>\n",
       "      <td>view</td>\n",
       "      <td>5764655</td>\n",
       "      <td>1487580005411062629</td>\n",
       "      <td>NaN</td>\n",
       "      <td>cnd</td>\n",
       "      <td>29.05</td>\n",
       "      <td>412120092</td>\n",
       "      <td>8adff31e-2051-4894-9758-224bfa8aec18</td>\n",
       "    </tr>\n",
       "    <tr>\n",
       "      <th>2</th>\n",
       "      <td>2019-12-01 00:00:02 UTC</td>\n",
       "      <td>cart</td>\n",
       "      <td>4958</td>\n",
       "      <td>1487580009471148064</td>\n",
       "      <td>NaN</td>\n",
       "      <td>runail</td>\n",
       "      <td>1.19</td>\n",
       "      <td>494077766</td>\n",
       "      <td>c99a50e8-2fac-4c4d-89ec-41c05f114554</td>\n",
       "    </tr>\n",
       "    <tr>\n",
       "      <th>3</th>\n",
       "      <td>2019-12-01 00:00:05 UTC</td>\n",
       "      <td>view</td>\n",
       "      <td>5848413</td>\n",
       "      <td>1487580007675986893</td>\n",
       "      <td>NaN</td>\n",
       "      <td>freedecor</td>\n",
       "      <td>0.79</td>\n",
       "      <td>348405118</td>\n",
       "      <td>722ffea5-73c0-4924-8e8f-371ff8031af4</td>\n",
       "    </tr>\n",
       "    <tr>\n",
       "      <th>4</th>\n",
       "      <td>2019-12-01 00:00:07 UTC</td>\n",
       "      <td>view</td>\n",
       "      <td>5824148</td>\n",
       "      <td>1487580005511725929</td>\n",
       "      <td>NaN</td>\n",
       "      <td>NaN</td>\n",
       "      <td>5.56</td>\n",
       "      <td>576005683</td>\n",
       "      <td>28172809-7e4a-45ce-bab0-5efa90117cd5</td>\n",
       "    </tr>\n",
       "  </tbody>\n",
       "</table>\n",
       "</div>"
      ],
      "text/plain": [
       "                event_time        event_type  product_id          category_id  \\\n",
       "0  2019-12-01 00:00:00 UTC  remove_from_cart     5712790  1487580005268456287   \n",
       "1  2019-12-01 00:00:00 UTC              view     5764655  1487580005411062629   \n",
       "2  2019-12-01 00:00:02 UTC              cart        4958  1487580009471148064   \n",
       "3  2019-12-01 00:00:05 UTC              view     5848413  1487580007675986893   \n",
       "4  2019-12-01 00:00:07 UTC              view     5824148  1487580005511725929   \n",
       "\n",
       "  category_code      brand  price    user_id  \\\n",
       "0           NaN      f.o.x   6.27  576802932   \n",
       "1           NaN        cnd  29.05  412120092   \n",
       "2           NaN     runail   1.19  494077766   \n",
       "3           NaN  freedecor   0.79  348405118   \n",
       "4           NaN        NaN   5.56  576005683   \n",
       "\n",
       "                           user_session  \n",
       "0  51d85cb0-897f-48d2-918b-ad63965c12dc  \n",
       "1  8adff31e-2051-4894-9758-224bfa8aec18  \n",
       "2  c99a50e8-2fac-4c4d-89ec-41c05f114554  \n",
       "3  722ffea5-73c0-4924-8e8f-371ff8031af4  \n",
       "4  28172809-7e4a-45ce-bab0-5efa90117cd5  "
      ]
     },
     "execution_count": 5,
     "metadata": {},
     "output_type": "execute_result"
    }
   ],
   "source": [
    "df.head()"
   ]
  },
  {
   "cell_type": "code",
   "execution_count": 8,
   "id": "e58008f4",
   "metadata": {},
   "outputs": [],
   "source": [
    "shop_metrics_new = pd.read_csv('shop_df_metrics_dec.csv').drop(columns='Unnamed: 0')\n",
    "shop_metrics_old = pd.read_csv('shop_df_metrics_sept.csv').drop(columns='Unnamed: 0')\n",
    "shop_users_info = pd.read_csv('shop_df_users.csv').drop(columns='Unnamed: 0')"
   ]
  },
  {
   "cell_type": "code",
   "execution_count": 9,
   "id": "d9cb3c08",
   "metadata": {},
   "outputs": [],
   "source": [
    "def salt_generator(salt=None):\n",
    "    import os\n",
    "    from base64 import b64encode # кодирует байтоподобный объект с помощью Base64 и возвращает закодированную байтовую строку.\n",
    "    salt = os.urandom(8)\n",
    "    \n",
    "    return b64encode(salt).decode('ascii')\n",
    "\n",
    "# '''os.urandom() method is used to generate a string of size random bytes suitable for cryptographic use \n",
    "#    or we can say this method generates a string containing random characters.'''\n",
    "# https://www.geeksforgeeks.org/python-os-urandom-method/ "
   ]
  },
  {
   "cell_type": "code",
   "execution_count": 10,
   "id": "51567a0c",
   "metadata": {},
   "outputs": [],
   "source": [
    "def groups_splitter(df, user_salt=None):\n",
    "    \n",
    "    if user_salt == None:\n",
    "        salt = salt_generator()\n",
    "    else:\n",
    "        salt = user_salt\n",
    "    \n",
    "    df['hash'] = ((df['user_id'].astype(str)) + '#' + salt).apply(lambda x: hashlib.sha256(x.encode('utf-8')).hexdigest())\n",
    "\n",
    "    df['group'] = ((df['hash'].str.slice(start=-6).apply(int, base=16) % 2).map(lambda x: 'A' if x == 0 else 'B'))\n",
    "\n",
    "    return df[['user_id', 'group']].drop_duplicates()"
   ]
  },
  {
   "cell_type": "code",
   "execution_count": null,
   "id": "e87edf75",
   "metadata": {},
   "outputs": [],
   "source": []
  },
  {
   "cell_type": "markdown",
   "id": "4e4cebfc",
   "metadata": {},
   "source": [
    "# Работаем с агрегированным датафреймом"
   ]
  },
  {
   "cell_type": "markdown",
   "id": "3fbaf786",
   "metadata": {},
   "source": [
    "Датафрейм создан на базе https://www.kaggle.com/datasets/mkechinov/ecommerce-events-history-in-electronics-store - данные по действиям пользователей в онлайн-магазине электроники"
   ]
  },
  {
   "cell_type": "code",
   "execution_count": 11,
   "id": "c84c50d7",
   "metadata": {},
   "outputs": [],
   "source": [
    "shop_metrics_new = pd.read_csv('shop_df_metrics_dec.csv').drop(columns='Unnamed: 0')\n",
    "shop_metrics_old = pd.read_csv('shop_df_metrics_sept.csv').drop(columns='Unnamed: 0')\n",
    "shop_users_info = pd.read_csv('shop_df_users.csv').drop(columns='Unnamed: 0')"
   ]
  },
  {
   "cell_type": "code",
   "execution_count": 12,
   "id": "71087912",
   "metadata": {},
   "outputs": [
    {
     "data": {
      "text/html": [
       "<div>\n",
       "<style scoped>\n",
       "    .dataframe tbody tr th:only-of-type {\n",
       "        vertical-align: middle;\n",
       "    }\n",
       "\n",
       "    .dataframe tbody tr th {\n",
       "        vertical-align: top;\n",
       "    }\n",
       "\n",
       "    .dataframe thead th {\n",
       "        text-align: right;\n",
       "    }\n",
       "</style>\n",
       "<table border=\"1\" class=\"dataframe\">\n",
       "  <thead>\n",
       "    <tr style=\"text-align: right;\">\n",
       "      <th></th>\n",
       "      <th>user_id</th>\n",
       "      <th>group</th>\n",
       "      <th>is_viewed</th>\n",
       "      <th>products_viewed_cnt</th>\n",
       "      <th>price_sum</th>\n",
       "      <th>is_cart_added</th>\n",
       "      <th>is_purchased</th>\n",
       "      <th>cart_added_cnt</th>\n",
       "      <th>purchased_cnt</th>\n",
       "    </tr>\n",
       "  </thead>\n",
       "  <tbody>\n",
       "    <tr>\n",
       "      <th>0</th>\n",
       "      <td>1515915625353230683</td>\n",
       "      <td>A</td>\n",
       "      <td>1</td>\n",
       "      <td>1</td>\n",
       "      <td>339.79</td>\n",
       "      <td>0.0</td>\n",
       "      <td>0.0</td>\n",
       "      <td>0</td>\n",
       "      <td>0</td>\n",
       "    </tr>\n",
       "    <tr>\n",
       "      <th>1</th>\n",
       "      <td>1515915625353234047</td>\n",
       "      <td>A</td>\n",
       "      <td>1</td>\n",
       "      <td>9</td>\n",
       "      <td>861.86</td>\n",
       "      <td>0.0</td>\n",
       "      <td>0.0</td>\n",
       "      <td>0</td>\n",
       "      <td>0</td>\n",
       "    </tr>\n",
       "    <tr>\n",
       "      <th>2</th>\n",
       "      <td>1515915625353236157</td>\n",
       "      <td>A</td>\n",
       "      <td>1</td>\n",
       "      <td>4</td>\n",
       "      <td>179.60</td>\n",
       "      <td>0.0</td>\n",
       "      <td>0.0</td>\n",
       "      <td>0</td>\n",
       "      <td>0</td>\n",
       "    </tr>\n",
       "    <tr>\n",
       "      <th>3</th>\n",
       "      <td>1515915625353294441</td>\n",
       "      <td>B</td>\n",
       "      <td>1</td>\n",
       "      <td>28</td>\n",
       "      <td>4283.04</td>\n",
       "      <td>0.0</td>\n",
       "      <td>0.0</td>\n",
       "      <td>0</td>\n",
       "      <td>0</td>\n",
       "    </tr>\n",
       "    <tr>\n",
       "      <th>4</th>\n",
       "      <td>1515915625353386199</td>\n",
       "      <td>B</td>\n",
       "      <td>1</td>\n",
       "      <td>1</td>\n",
       "      <td>20.98</td>\n",
       "      <td>0.0</td>\n",
       "      <td>0.0</td>\n",
       "      <td>0</td>\n",
       "      <td>0</td>\n",
       "    </tr>\n",
       "  </tbody>\n",
       "</table>\n",
       "</div>"
      ],
      "text/plain": [
       "               user_id group  is_viewed  products_viewed_cnt  price_sum  \\\n",
       "0  1515915625353230683     A          1                    1     339.79   \n",
       "1  1515915625353234047     A          1                    9     861.86   \n",
       "2  1515915625353236157     A          1                    4     179.60   \n",
       "3  1515915625353294441     B          1                   28    4283.04   \n",
       "4  1515915625353386199     B          1                    1      20.98   \n",
       "\n",
       "   is_cart_added  is_purchased  cart_added_cnt  purchased_cnt  \n",
       "0            0.0           0.0               0              0  \n",
       "1            0.0           0.0               0              0  \n",
       "2            0.0           0.0               0              0  \n",
       "3            0.0           0.0               0              0  \n",
       "4            0.0           0.0               0              0  "
      ]
     },
     "execution_count": 12,
     "metadata": {},
     "output_type": "execute_result"
    }
   ],
   "source": [
    "shop_metrics_new.head(5)"
   ]
  },
  {
   "cell_type": "code",
   "execution_count": 14,
   "id": "7ca28725",
   "metadata": {},
   "outputs": [
    {
     "data": {
      "text/html": [
       "<div>\n",
       "<style scoped>\n",
       "    .dataframe tbody tr th:only-of-type {\n",
       "        vertical-align: middle;\n",
       "    }\n",
       "\n",
       "    .dataframe tbody tr th {\n",
       "        vertical-align: top;\n",
       "    }\n",
       "\n",
       "    .dataframe thead th {\n",
       "        text-align: right;\n",
       "    }\n",
       "</style>\n",
       "<table border=\"1\" class=\"dataframe\">\n",
       "  <thead>\n",
       "    <tr style=\"text-align: right;\">\n",
       "      <th></th>\n",
       "      <th>user_id</th>\n",
       "      <th>group</th>\n",
       "      <th>is_viewed</th>\n",
       "      <th>products_viewed_cnt</th>\n",
       "      <th>price_sum</th>\n",
       "      <th>is_cart_added</th>\n",
       "      <th>is_purchased</th>\n",
       "      <th>cart_added_cnt</th>\n",
       "      <th>purchased_cnt</th>\n",
       "    </tr>\n",
       "  </thead>\n",
       "  <tbody>\n",
       "    <tr>\n",
       "      <th>0</th>\n",
       "      <td>1515915625353226922</td>\n",
       "      <td>B</td>\n",
       "      <td>1</td>\n",
       "      <td>1</td>\n",
       "      <td>76.48</td>\n",
       "      <td>0.0</td>\n",
       "      <td>0.0</td>\n",
       "      <td>0</td>\n",
       "      <td>0</td>\n",
       "    </tr>\n",
       "    <tr>\n",
       "      <th>1</th>\n",
       "      <td>1515915625353230067</td>\n",
       "      <td>A</td>\n",
       "      <td>1</td>\n",
       "      <td>1</td>\n",
       "      <td>28.98</td>\n",
       "      <td>0.0</td>\n",
       "      <td>0.0</td>\n",
       "      <td>0</td>\n",
       "      <td>0</td>\n",
       "    </tr>\n",
       "    <tr>\n",
       "      <th>2</th>\n",
       "      <td>1515915625353230683</td>\n",
       "      <td>A</td>\n",
       "      <td>1</td>\n",
       "      <td>10</td>\n",
       "      <td>592.21</td>\n",
       "      <td>0.0</td>\n",
       "      <td>0.0</td>\n",
       "      <td>0</td>\n",
       "      <td>0</td>\n",
       "    </tr>\n",
       "    <tr>\n",
       "      <th>3</th>\n",
       "      <td>1515915625353230922</td>\n",
       "      <td>A</td>\n",
       "      <td>1</td>\n",
       "      <td>1</td>\n",
       "      <td>274.40</td>\n",
       "      <td>0.0</td>\n",
       "      <td>0.0</td>\n",
       "      <td>0</td>\n",
       "      <td>0</td>\n",
       "    </tr>\n",
       "    <tr>\n",
       "      <th>4</th>\n",
       "      <td>1515915625353234047</td>\n",
       "      <td>A</td>\n",
       "      <td>1</td>\n",
       "      <td>14</td>\n",
       "      <td>1857.94</td>\n",
       "      <td>0.0</td>\n",
       "      <td>0.0</td>\n",
       "      <td>0</td>\n",
       "      <td>0</td>\n",
       "    </tr>\n",
       "  </tbody>\n",
       "</table>\n",
       "</div>"
      ],
      "text/plain": [
       "               user_id group  is_viewed  products_viewed_cnt  price_sum  \\\n",
       "0  1515915625353226922     B          1                    1      76.48   \n",
       "1  1515915625353230067     A          1                    1      28.98   \n",
       "2  1515915625353230683     A          1                   10     592.21   \n",
       "3  1515915625353230922     A          1                    1     274.40   \n",
       "4  1515915625353234047     A          1                   14    1857.94   \n",
       "\n",
       "   is_cart_added  is_purchased  cart_added_cnt  purchased_cnt  \n",
       "0            0.0           0.0               0              0  \n",
       "1            0.0           0.0               0              0  \n",
       "2            0.0           0.0               0              0  \n",
       "3            0.0           0.0               0              0  \n",
       "4            0.0           0.0               0              0  "
      ]
     },
     "execution_count": 14,
     "metadata": {},
     "output_type": "execute_result"
    }
   ],
   "source": [
    "shop_metrics_old.head(5)"
   ]
  },
  {
   "cell_type": "markdown",
   "id": "bcc91008",
   "metadata": {},
   "source": [
    "Метрики:\n",
    "   - is_viewed - айтем товара просмотрен\n",
    "   - products_viewed_cnt - количество уникальных просмотренных айтемов\n",
    "   - price_sum - суммарная цена товаров\n",
    "   - is_cart_added - товар добавлен в корзину\n",
    "   - is_purchased - товар куплен\n",
    "   - cart_added_cnt - количество товаров, добавленных в корзину\n",
    "   - purchased_cnt - количество купленных товаров"
   ]
  },
  {
   "cell_type": "code",
   "execution_count": 15,
   "id": "3f8454da",
   "metadata": {},
   "outputs": [
    {
     "data": {
      "text/plain": [
       "<AxesSubplot:xlabel='cart_added_cnt', ylabel='Count'>"
      ]
     },
     "execution_count": 15,
     "metadata": {},
     "output_type": "execute_result"
    },
    {
     "data": {
      "image/png": "[encoded data removed]",
      "text/plain": [
       "<Figure size 432x288 with 1 Axes>"
      ]
     },
     "metadata": {
      "needs_background": "light"
     },
     "output_type": "display_data"
    }
   ],
   "source": [
    "sns.histplot(data=shop_metrics_new, x='cart_added_cnt', bins=100, color='green')"
   ]
  },
  {
   "cell_type": "code",
   "execution_count": 16,
   "id": "ea795fb3",
   "metadata": {},
   "outputs": [
    {
     "data": {
      "text/plain": [
       "<AxesSubplot:xlabel='is_cart_added', ylabel='Count'>"
      ]
     },
     "execution_count": 16,
     "metadata": {},
     "output_type": "execute_result"
    },
    {
     "data": {
      "image/png": "[encoded data removed]",
      "text/plain": [
       "<Figure size 432x288 with 1 Axes>"
      ]
     },
     "metadata": {
      "needs_background": "light"
     },
     "output_type": "display_data"
    }
   ],
   "source": [
    "sns.histplot(data=shop_metrics_new, x='is_cart_added', bins=10, color='green')"
   ]
  },
  {
   "cell_type": "code",
   "execution_count": 17,
   "id": "9c019412",
   "metadata": {},
   "outputs": [
    {
     "data": {
      "text/plain": [
       "<AxesSubplot:xlabel='purchased_cnt', ylabel='Count'>"
      ]
     },
     "execution_count": 17,
     "metadata": {},
     "output_type": "execute_result"
    },
    {
     "data": {
      "image/png": "[encoded data removed]",
      "text/plain": [
       "<Figure size 432x288 with 1 Axes>"
      ]
     },
     "metadata": {
      "needs_background": "light"
     },
     "output_type": "display_data"
    }
   ],
   "source": [
    "sns.histplot(data=shop_metrics_new, x='purchased_cnt', bins=100, color='red')"
   ]
  },
  {
   "cell_type": "markdown",
   "id": "5c97ef07",
   "metadata": {},
   "source": [
    "# Посмотрим на вектор метрики purchased_cnt"
   ]
  },
  {
   "cell_type": "code",
   "execution_count": 18,
   "id": "2b5456b6",
   "metadata": {},
   "outputs": [
    {
     "data": {
      "text/html": [
       "<div>\n",
       "<style scoped>\n",
       "    .dataframe tbody tr th:only-of-type {\n",
       "        vertical-align: middle;\n",
       "    }\n",
       "\n",
       "    .dataframe tbody tr th {\n",
       "        vertical-align: top;\n",
       "    }\n",
       "\n",
       "    .dataframe thead th {\n",
       "        text-align: right;\n",
       "    }\n",
       "</style>\n",
       "<table border=\"1\" class=\"dataframe\">\n",
       "  <thead>\n",
       "    <tr style=\"text-align: right;\">\n",
       "      <th></th>\n",
       "      <th>count</th>\n",
       "      <th>mean</th>\n",
       "      <th>std</th>\n",
       "      <th>min</th>\n",
       "      <th>25%</th>\n",
       "      <th>50%</th>\n",
       "      <th>75%</th>\n",
       "      <th>max</th>\n",
       "    </tr>\n",
       "    <tr>\n",
       "      <th>group</th>\n",
       "      <th></th>\n",
       "      <th></th>\n",
       "      <th></th>\n",
       "      <th></th>\n",
       "      <th></th>\n",
       "      <th></th>\n",
       "      <th></th>\n",
       "      <th></th>\n",
       "    </tr>\n",
       "  </thead>\n",
       "  <tbody>\n",
       "    <tr>\n",
       "      <th>A</th>\n",
       "      <td>111321.0</td>\n",
       "      <td>0.068576</td>\n",
       "      <td>0.340553</td>\n",
       "      <td>0.0</td>\n",
       "      <td>0.0</td>\n",
       "      <td>0.0</td>\n",
       "      <td>0.0</td>\n",
       "      <td>25.0</td>\n",
       "    </tr>\n",
       "    <tr>\n",
       "      <th>B</th>\n",
       "      <td>111200.0</td>\n",
       "      <td>0.069281</td>\n",
       "      <td>0.348589</td>\n",
       "      <td>0.0</td>\n",
       "      <td>0.0</td>\n",
       "      <td>0.0</td>\n",
       "      <td>0.0</td>\n",
       "      <td>21.0</td>\n",
       "    </tr>\n",
       "  </tbody>\n",
       "</table>\n",
       "</div>"
      ],
      "text/plain": [
       "          count      mean       std  min  25%  50%  75%   max\n",
       "group                                                        \n",
       "A      111321.0  0.068576  0.340553  0.0  0.0  0.0  0.0  25.0\n",
       "B      111200.0  0.069281  0.348589  0.0  0.0  0.0  0.0  21.0"
      ]
     },
     "execution_count": 18,
     "metadata": {},
     "output_type": "execute_result"
    }
   ],
   "source": [
    "shop_metrics_new.groupby('group')['purchased_cnt'].describe()"
   ]
  },
  {
   "cell_type": "code",
   "execution_count": 19,
   "id": "05139214",
   "metadata": {},
   "outputs": [
    {
     "data": {
      "text/plain": [
       "3.0"
      ]
     },
     "execution_count": 19,
     "metadata": {},
     "output_type": "execute_result"
    }
   ],
   "source": [
    "np.percentile(shop_metrics_new['purchased_cnt'], 99.9)"
   ]
  },
  {
   "cell_type": "code",
   "execution_count": 20,
   "id": "4dbd2b4a",
   "metadata": {},
   "outputs": [
    {
     "data": {
      "text/plain": [
       "user_id                207\n",
       "group                  207\n",
       "is_viewed              207\n",
       "products_viewed_cnt    207\n",
       "price_sum              207\n",
       "is_cart_added          207\n",
       "is_purchased           207\n",
       "cart_added_cnt         207\n",
       "purchased_cnt          207\n",
       "dtype: int64"
      ]
     },
     "execution_count": 20,
     "metadata": {},
     "output_type": "execute_result"
    }
   ],
   "source": [
    "shop_metrics_new[shop_metrics_new['purchased_cnt'] > 3].count()"
   ]
  },
  {
   "cell_type": "markdown",
   "id": "5d3e2fee",
   "metadata": {},
   "source": [
    "# Прологарифмируем"
   ]
  },
  {
   "cell_type": "code",
   "execution_count": 21,
   "id": "fc1076a9",
   "metadata": {},
   "outputs": [],
   "source": [
    "shop_metrics_new['purchased_cnt_ln'] = np.log(shop_metrics_new['purchased_cnt'] + 1)"
   ]
  },
  {
   "cell_type": "code",
   "execution_count": 22,
   "id": "0450f0dc",
   "metadata": {},
   "outputs": [
    {
     "data": {
      "text/plain": [
       "<AxesSubplot:xlabel='purchased_cnt_ln', ylabel='Count'>"
      ]
     },
     "execution_count": 22,
     "metadata": {},
     "output_type": "execute_result"
    },
    {
     "data": {
      "image/png": "[encoded data removed]",
      "text/plain": [
       "<Figure size 432x288 with 1 Axes>"
      ]
     },
     "metadata": {
      "needs_background": "light"
     },
     "output_type": "display_data"
    }
   ],
   "source": [
    "sns.histplot(data=shop_metrics_new, x='purchased_cnt_ln', bins=100, color='green')"
   ]
  },
  {
   "cell_type": "markdown",
   "id": "dd608ccf",
   "metadata": {},
   "source": [
    "Проверим мощность и корректность t-критерия"
   ]
  },
  {
   "cell_type": "code",
   "execution_count": 23,
   "id": "1a2bc596",
   "metadata": {},
   "outputs": [],
   "source": [
    "shop = shop_metrics_new.drop(columns=['group'])"
   ]
  },
  {
   "cell_type": "code",
   "execution_count": 24,
   "id": "823d39d5",
   "metadata": {},
   "outputs": [
    {
     "data": {
      "text/plain": [
       "0.3445916161029629"
      ]
     },
     "execution_count": 24,
     "metadata": {},
     "output_type": "execute_result"
    }
   ],
   "source": [
    "shop['purchased_cnt'].std()"
   ]
  },
  {
   "cell_type": "code",
   "execution_count": 20,
   "id": "8e76304f",
   "metadata": {},
   "outputs": [
    {
     "name": "stderr",
     "output_type": "stream",
     "text": [
      "100%|███████████████████████████████████████| 1000/1000 [10:47<00:00,  1.54it/s]\n"
     ]
    },
    {
     "name": "stdout",
     "output_type": "stream",
     "text": [
      "0.0337813406639599\n",
      " power: 49.0% , correctness: 94.5%\n"
     ]
    },
    {
     "data": {
      "image/png": "[encoded data removed]",
      "text/plain": [
       "<Figure size 338.4x307.44 with 1 Axes>"
      ]
     },
     "metadata": {},
     "output_type": "display_data"
    }
   ],
   "source": [
    "# мощность и корректность t-test для исходной метрики\n",
    "\n",
    "correctness = []\n",
    "power = []\n",
    "\n",
    "for i in tqdm(range(1000)): \n",
    "    \n",
    "    new_group = groups_splitter(shop.copy(), user_salt=salt_generator())\n",
    "    new_df = pd.merge(shop, new_group, how=\"left\", on=['user_id']).drop_duplicates()\n",
    "    \n",
    "    vec_a = new_df[(new_df['group'] == 'A')]['purchased_cnt']\n",
    "    vec_b = new_df[(new_df['group'] == 'B')]['purchased_cnt']\n",
    "    vec_b_effect = vec_b + stats.norm.rvs(loc=vec_b.mean() * 0.05, scale=0.35, size=len(vec_b))\n",
    "    p_cor, p_power = stats.ttest_ind(vec_a, vec_b)[1], stats.ttest_ind(vec_a, vec_b_effect)[1]\n",
    "    correctness.append(p_cor)\n",
    "    power.append(p_power)\n",
    "\n",
    "correctness = np.array(correctness)\n",
    "sns.set(rc={'figure.figsize':(4.7,4.27)})\n",
    "sns.histplot(data=correctness, bins=10, color='purple', kde=True)\n",
    "\n",
    "power = np.array(power)\n",
    "print((vec_b_effect.mean() - vec_a.mean())/vec_a.mean())\n",
    "print(f' power: {(power[power < 0.05].shape[0] / power.shape[0]) * 100}% , correctness: {(1 - (correctness[correctness < 0.05].shape[0] / correctness.shape[0])) * 100}%')"
   ]
  },
  {
   "cell_type": "markdown",
   "id": "74ad734b",
   "metadata": {},
   "source": [
    "Для этого примера будем накладывать эффект домножением на константу, потому что нормальное распределение нам не подходит из-за появления отрицательных значений\n",
    "\n",
    "При их логарифмировании возникнет ошибка RuntimeWarning: invalid value encountered in log в использовании функции np.log"
   ]
  },
  {
   "cell_type": "code",
   "execution_count": 21,
   "id": "f50999af",
   "metadata": {},
   "outputs": [
    {
     "name": "stderr",
     "output_type": "stream",
     "text": [
      "100%|█████████████████████████████████████████| 100/100 [01:10<00:00,  1.41it/s]\n"
     ]
    },
    {
     "name": "stdout",
     "output_type": "stream",
     "text": [
      " power: 62.0% , correctness: 97.0%\n"
     ]
    },
    {
     "data": {
      "image/png": "[encoded data removed]",
      "text/plain": [
       "<Figure size 338.4x307.44 with 1 Axes>"
      ]
     },
     "metadata": {},
     "output_type": "display_data"
    }
   ],
   "source": [
    "correctness = []\n",
    "power = []\n",
    "\n",
    "for i in tqdm(range(100)): # 100 итераций - мало, так не делаем, пример иллюстративный\n",
    "    \n",
    "    new_group = groups_splitter(shop.copy(), user_salt=salt_generator())\n",
    "    new_df = pd.merge(shop, new_group, how=\"left\", on=['user_id']).drop_duplicates()\n",
    "    \n",
    "    vec_a = new_df[(new_df['group'] == 'A')]['purchased_cnt']\n",
    "    vec_b = new_df[(new_df['group'] == 'B')]['purchased_cnt']\n",
    "    vec_b_effect = vec_b * 1.05\n",
    "    p_cor, p_power = stats.ttest_ind(vec_a, vec_b)[1], stats.ttest_ind(vec_a, vec_b_effect)[1]\n",
    "    correctness.append(p_cor)\n",
    "    power.append(p_power)\n",
    "\n",
    "correctness = np.array(correctness)\n",
    "sns.set(rc={'figure.figsize':(4.7,4.27)})\n",
    "sns.histplot(data=correctness, bins=10, color='orange', kde=True)\n",
    "\n",
    "power = np.array(power)\n",
    "print(f' power: {(power[power < 0.05].shape[0] / power.shape[0]) * 100}% , correctness: {(1 - (correctness[correctness < 0.05].shape[0] / correctness.shape[0])) * 100}%')"
   ]
  },
  {
   "cell_type": "markdown",
   "id": "d0b4d66c",
   "metadata": {},
   "source": [
    "А теперь проверим на прологарифмированной метрике"
   ]
  },
  {
   "cell_type": "code",
   "execution_count": 22,
   "id": "a665010d",
   "metadata": {},
   "outputs": [
    {
     "name": "stderr",
     "output_type": "stream",
     "text": [
      "100%|█████████████████████████████████████████| 100/100 [01:08<00:00,  1.45it/s]\n"
     ]
    },
    {
     "name": "stdout",
     "output_type": "stream",
     "text": [
      " power: 46.0% , correctness: 93.0%\n"
     ]
    },
    {
     "data": {
      "image/png": "[encoded data removed]",
      "text/plain": [
       "<Figure size 338.4x307.44 with 1 Axes>"
      ]
     },
     "metadata": {},
     "output_type": "display_data"
    }
   ],
   "source": [
    "# мощность и корректность\n",
    "\n",
    "correctness = []\n",
    "power = []\n",
    "\n",
    "for i in tqdm(range(100)):\n",
    "    \n",
    "    new_group = groups_splitter(shop.copy(), user_salt=salt_generator())\n",
    "    new_df = pd.merge(shop, new_group, how=\"left\", on=['user_id']).drop_duplicates()\n",
    "    \n",
    "    vec_a = new_df[(new_df['group'] == 'A')]['purchased_cnt']\n",
    "    vec_b = new_df[(new_df['group'] == 'B')]['purchased_cnt']\n",
    "    vec_b_effect = vec_b * 1.05\n",
    "    \n",
    "    vec_a_ln = np.log(vec_a + 1)\n",
    "    vec_b_ln = np.log(vec_b + 1)\n",
    "    vec_b_effect_ln = np.log(vec_b_effect + 1) # сначала добавили эффект, а потом логарифмируем!\n",
    "    \n",
    "    p_cor, p_power = stats.ttest_ind(vec_a_ln, vec_b_ln)[1], stats.ttest_ind(vec_a_ln, vec_b_effect_ln)[1]\n",
    "    correctness.append(p_cor)\n",
    "    power.append(p_power)\n",
    "\n",
    "correctness = np.array(correctness)\n",
    "sns.set(rc={'figure.figsize':(4.7,4.27)})\n",
    "sns.histplot(data=correctness, bins=10, color='violet', kde=True)\n",
    "\n",
    "power = np.array(power)\n",
    "    \n",
    "print(f' power: {(power[power < 0.05].shape[0] / power.shape[0]) * 100}% , correctness: {(1 - (correctness[correctness < 0.05].shape[0] / correctness.shape[0])) * 100}%')"
   ]
  },
  {
   "cell_type": "markdown",
   "id": "d6322cc1",
   "metadata": {},
   "source": [
    "Вывод: мощность упала + стало сложно трактовать результаты с точки зрения эффекта"
   ]
  },
  {
   "cell_type": "markdown",
   "id": "163bd5e4",
   "metadata": {},
   "source": [
    "# Удаление выбросов"
   ]
  },
  {
   "cell_type": "markdown",
   "id": "57dcfd5c",
   "metadata": {},
   "source": [
    "Попробуем удалить выбросы по стандартному отклонению и по 99 перцентилю:"
   ]
  },
  {
   "cell_type": "code",
   "execution_count": 23,
   "id": "8a24ca39",
   "metadata": {},
   "outputs": [
    {
     "name": "stdout",
     "output_type": "stream",
     "text": [
      " metric mean: 0.06892832586587333,          metric std: 0.3445916161029629,          metric edge: 1.102703174174762\n"
     ]
    }
   ],
   "source": [
    "# посчитаем параметры и вычислим \"край\" метрики для подхода \"3 стандартных отклонения\"\n",
    "\n",
    "print(f\" metric mean: {shop_metrics_new['purchased_cnt'].mean()}, \\\n",
    "         metric std: {shop_metrics_new['purchased_cnt'].std()}, \\\n",
    "         metric edge: {(shop_metrics_new['purchased_cnt'].mean() + 3 * shop_metrics_new['purchased_cnt'].std())}\")"
   ]
  },
  {
   "cell_type": "code",
   "execution_count": 24,
   "id": "8403210b",
   "metadata": {},
   "outputs": [
    {
     "data": {
      "text/plain": [
       "1.0"
      ]
     },
     "execution_count": 24,
     "metadata": {},
     "output_type": "execute_result"
    }
   ],
   "source": [
    "np.percentile(shop_metrics_new['purchased_cnt'], 99)"
   ]
  },
  {
   "cell_type": "code",
   "execution_count": 25,
   "id": "184ea490",
   "metadata": {},
   "outputs": [
    {
     "data": {
      "text/plain": [
       "user_id                1826\n",
       "group                  1826\n",
       "is_viewed              1826\n",
       "products_viewed_cnt    1826\n",
       "price_sum              1826\n",
       "is_cart_added          1826\n",
       "is_purchased           1826\n",
       "cart_added_cnt         1826\n",
       "purchased_cnt          1826\n",
       "purchased_cnt_ln       1826\n",
       "dtype: int64"
      ]
     },
     "execution_count": 25,
     "metadata": {},
     "output_type": "execute_result"
    }
   ],
   "source": [
    "shop_metrics_new[shop_metrics_new['purchased_cnt'] > 1].count()"
   ]
  },
  {
   "cell_type": "code",
   "execution_count": null,
   "id": "f2774838",
   "metadata": {},
   "outputs": [],
   "source": []
  },
  {
   "cell_type": "markdown",
   "id": "ed193c09",
   "metadata": {},
   "source": [
    "Снова проверим мощность и корректность на том же эффекте в 5%"
   ]
  },
  {
   "cell_type": "code",
   "execution_count": 26,
   "id": "78722292",
   "metadata": {},
   "outputs": [
    {
     "name": "stderr",
     "output_type": "stream",
     "text": [
      "100%|█████████████████████████████████████████| 100/100 [01:07<00:00,  1.47it/s]\n"
     ]
    },
    {
     "name": "stdout",
     "output_type": "stream",
     "text": [
      " power: 100.0% , correctness: 96.0%\n"
     ]
    },
    {
     "data": {
      "image/png": "[encoded data removed]",
      "text/plain": [
       "<Figure size 338.4x307.44 with 1 Axes>"
      ]
     },
     "metadata": {},
     "output_type": "display_data"
    }
   ],
   "source": [
    "# для выбросов в 3 стандартных отклонения\n",
    "\n",
    "correctness = []\n",
    "power = []\n",
    "\n",
    "for i in tqdm(range(100)):\n",
    "    \n",
    "    new_group = groups_splitter(shop.copy(), user_salt=salt_generator())\n",
    "    new_df = pd.merge(shop, new_group, how=\"left\", on=['user_id']).drop_duplicates()\n",
    "    \n",
    "    metric_edge = new_df['purchased_cnt'].mean() + 3*new_df['purchased_cnt'].std()\n",
    "    \n",
    "    vec_a = new_df[(new_df['group'] == 'A')]['purchased_cnt']\n",
    "    vec_b = new_df[(new_df['group'] == 'B')]['purchased_cnt']\n",
    "    vec_b_effect = vec_b + stats.norm.rvs(loc=vec_b.mean() * 0.05, scale=0.35, size=len(vec_b))\n",
    "    \n",
    "    vec_a_reduced = vec_a[vec_a <= metric_edge]\n",
    "    vec_b_reduced = vec_b[vec_b <= metric_edge]\n",
    "    vec_b_effect_reduced = vec_b_effect[vec_b_effect <= metric_edge]\n",
    "    \n",
    "    p_cor, p_power = stats.ttest_ind(vec_a_reduced, vec_b_reduced)[1], stats.ttest_ind(vec_a_reduced, vec_b_effect_reduced)[1]\n",
    "    correctness.append(p_cor)\n",
    "    power.append(p_power)\n",
    "\n",
    "correctness = np.array(correctness)\n",
    "sns.set(rc={'figure.figsize':(4.7,4.27)})\n",
    "sns.histplot(data=correctness, bins=10, color='green', kde=True)\n",
    "\n",
    "power = np.array(power)\n",
    "    \n",
    "print(f' power: {(power[power < 0.05].shape[0] / power.shape[0]) * 100}% , correctness: {(1 - (correctness[correctness < 0.05].shape[0] / correctness.shape[0])) * 100}%')"
   ]
  },
  {
   "cell_type": "code",
   "execution_count": 27,
   "id": "c0057acd",
   "metadata": {},
   "outputs": [
    {
     "name": "stderr",
     "output_type": "stream",
     "text": [
      "100%|█████████████████████████████████████████| 100/100 [01:32<00:00,  1.08it/s]\n"
     ]
    },
    {
     "name": "stdout",
     "output_type": "stream",
     "text": [
      " power: 100.0% , correctness: 97.0%\n"
     ]
    },
    {
     "data": {
      "image/png": "[encoded data removed]",
      "text/plain": [
       "<Figure size 338.4x307.44 with 1 Axes>"
      ]
     },
     "metadata": {},
     "output_type": "display_data"
    }
   ],
   "source": [
    "# для выбросов в > 99 перцентиля\n",
    "\n",
    "correctness = []\n",
    "power = []\n",
    "\n",
    "for i in tqdm(range(100)):\n",
    "    \n",
    "    new_group = groups_splitter(shop.copy(), user_salt=salt_generator())\n",
    "    new_df = pd.merge(shop, new_group, how=\"left\", on=['user_id']).drop_duplicates()\n",
    "    \n",
    "    metric_edge = np.percentile(new_df['purchased_cnt'], 99)\n",
    "    \n",
    "    vec_a = new_df[(new_df['group'] == 'A')]['purchased_cnt']\n",
    "    vec_b = new_df[(new_df['group'] == 'B')]['purchased_cnt']\n",
    "    vec_b_effect = vec_b + stats.norm.rvs(loc=vec_b.mean() * 0.05, scale=0.35, size=len(vec_b))\n",
    "    \n",
    "    vec_a_reduced = vec_a[vec_a <= metric_edge]\n",
    "    vec_b_reduced = vec_b[vec_b <= metric_edge]\n",
    "    vec_b_effect_reduced = vec_b_effect[vec_b_effect <= metric_edge]\n",
    "    \n",
    "    p_cor, p_power = stats.ttest_ind(vec_a_reduced, vec_b_reduced)[1], stats.ttest_ind(vec_a_reduced, vec_b_effect_reduced)[1]\n",
    "    correctness.append(p_cor)\n",
    "    power.append(p_power)\n",
    "\n",
    "correctness = np.array(correctness)\n",
    "sns.set(rc={'figure.figsize':(4.7,4.27)})\n",
    "sns.histplot(data=correctness, bins=10, color='pink', kde=True)\n",
    "\n",
    "power = np.array(power)\n",
    "    \n",
    "print(f' power: {(power[power < 0.05].shape[0] / power.shape[0]) * 100}% , correctness: {(1 - (correctness[correctness < 0.05].shape[0] / correctness.shape[0])) * 100}%')"
   ]
  },
  {
   "cell_type": "markdown",
   "id": "bed1e196",
   "metadata": {},
   "source": [
    "А теперь посмотрим, что было бы, если эффект накладывали иначе:"
   ]
  },
  {
   "cell_type": "code",
   "execution_count": 28,
   "id": "34f3d430",
   "metadata": {},
   "outputs": [
    {
     "name": "stderr",
     "output_type": "stream",
     "text": [
      "100%|█████████████████████████████████████████| 100/100 [01:08<00:00,  1.45it/s]\n"
     ]
    },
    {
     "name": "stdout",
     "output_type": "stream",
     "text": [
      " power: 72.0% , correctness: 96.0%\n"
     ]
    },
    {
     "data": {
      "image/png": "[encoded data removed]",
      "text/plain": [
       "<Figure size 338.4x307.44 with 1 Axes>"
      ]
     },
     "metadata": {},
     "output_type": "display_data"
    }
   ],
   "source": [
    "# для выбросов в 3 стандартных отклонения\n",
    "\n",
    "correctness = []\n",
    "power = []\n",
    "\n",
    "for i in tqdm(range(100)):\n",
    "    \n",
    "    new_group = groups_splitter(shop.copy(), user_salt=salt_generator())\n",
    "    new_df = pd.merge(shop, new_group, how=\"left\", on=['user_id']).drop_duplicates()\n",
    "    \n",
    "    metric_edge = new_df['purchased_cnt'].mean() + 3*new_df['purchased_cnt'].std()\n",
    "    \n",
    "    vec_a = new_df[(new_df['group'] == 'A')]['purchased_cnt']\n",
    "    vec_b = new_df[(new_df['group'] == 'B')]['purchased_cnt']\n",
    "    vec_b_effect = vec_b * 1.05\n",
    "    \n",
    "    vec_a_reduced = vec_a[vec_a <= metric_edge]\n",
    "    vec_b_reduced = vec_b[vec_b <= metric_edge]\n",
    "    vec_b_effect_reduced = vec_b_effect[vec_b_effect <= metric_edge]\n",
    "    \n",
    "    p_cor, p_power = stats.ttest_ind(vec_a_reduced, vec_b_reduced)[1], stats.ttest_ind(vec_a_reduced, vec_b_effect_reduced)[1]\n",
    "    correctness.append(p_cor)\n",
    "    power.append(p_power)\n",
    "\n",
    "correctness = np.array(correctness)\n",
    "sns.set(rc={'figure.figsize':(4.7,4.27)})\n",
    "sns.histplot(data=correctness, bins=10, color='grey', kde=True)\n",
    "\n",
    "power = np.array(power)\n",
    "    \n",
    "print(f' power: {(power[power < 0.05].shape[0] / power.shape[0]) * 100}% , correctness: {(1 - (correctness[correctness < 0.05].shape[0] / correctness.shape[0])) * 100}%')"
   ]
  },
  {
   "cell_type": "code",
   "execution_count": 29,
   "id": "35f17ff1",
   "metadata": {},
   "outputs": [
    {
     "name": "stderr",
     "output_type": "stream",
     "text": [
      "100%|█████████████████████████████████████████| 100/100 [01:09<00:00,  1.44it/s]\n"
     ]
    },
    {
     "name": "stdout",
     "output_type": "stream",
     "text": [
      " power: 100.0% , correctness: 94.0%\n"
     ]
    },
    {
     "data": {
      "image/png": "[encoded data removed]",
      "text/plain": [
       "<Figure size 338.4x307.44 with 1 Axes>"
      ]
     },
     "metadata": {},
     "output_type": "display_data"
    }
   ],
   "source": [
    "# для выбросов в > 99 перцентиля\n",
    "\n",
    "correctness = []\n",
    "power = []\n",
    "\n",
    "for i in tqdm(range(100)):\n",
    "    \n",
    "    new_group = groups_splitter(shop.copy(), user_salt=salt_generator())\n",
    "    new_df = pd.merge(shop, new_group, how=\"left\", on=['user_id']).drop_duplicates()\n",
    "    \n",
    "    metric_edge = np.percentile(new_df['purchased_cnt'], 99)\n",
    "    \n",
    "    vec_a = new_df[(new_df['group'] == 'A')]['purchased_cnt']\n",
    "    vec_b = new_df[(new_df['group'] == 'B')]['purchased_cnt']\n",
    "    vec_b_effect = vec_b * 1.05\n",
    "    \n",
    "    vec_a_reduced = vec_a[vec_a <= metric_edge]\n",
    "    vec_b_reduced = vec_b[vec_b <= metric_edge]\n",
    "    vec_b_effect_reduced = vec_b_effect[vec_b_effect <= metric_edge]\n",
    "    \n",
    "    p_cor, p_power = stats.ttest_ind(vec_a_reduced, vec_b_reduced)[1], stats.ttest_ind(vec_a_reduced, vec_b_effect_reduced)[1]\n",
    "    correctness.append(p_cor)\n",
    "    power.append(p_power)\n",
    "\n",
    "correctness = np.array(correctness)\n",
    "sns.set(rc={'figure.figsize':(4.7,4.27)})\n",
    "sns.histplot(data=correctness, bins=10, color='yellow', kde=True)\n",
    "\n",
    "power = np.array(power)\n",
    "    \n",
    "print(f' power: {(power[power < 0.05].shape[0] / power.shape[0]) * 100}% , correctness: {(1 - (correctness[correctness < 0.05].shape[0] / correctness.shape[0])) * 100}%')"
   ]
  },
  {
   "cell_type": "markdown",
   "id": "190872c6",
   "metadata": {},
   "source": [
    "Вывод: удаление выбросов может увеличить мощность за счет сокращения дисперсии, но если модель/фича действительно повлияла на активных юзеров с большим количеством покупок (эффект распределен неравномерно), то мы можем их удалить случайно"
   ]
  },
  {
   "cell_type": "code",
   "execution_count": null,
   "id": "85094a52",
   "metadata": {},
   "outputs": [],
   "source": []
  },
  {
   "cell_type": "markdown",
   "id": "eacb7b53",
   "metadata": {},
   "source": [
    "# Ранговая трансформация"
   ]
  },
  {
   "cell_type": "code",
   "execution_count": 30,
   "id": "341a39ee",
   "metadata": {},
   "outputs": [],
   "source": [
    "def rank_transformation(df_a, df_b, metric):\n",
    "    df = pd.concat([df_a, df_b], axis = 0)\n",
    "    df['rank'] = df[metric].rank()\n",
    "    \n",
    "    return df"
   ]
  },
  {
   "cell_type": "markdown",
   "id": "ef22ca51",
   "metadata": {},
   "source": [
    "Опробуем функцию на существующем датафрейме на той же метрике"
   ]
  },
  {
   "cell_type": "code",
   "execution_count": 31,
   "id": "34918277",
   "metadata": {},
   "outputs": [],
   "source": [
    "ranked = rank_transformation(shop_metrics_new[shop_metrics_new.group == 'A'], \n",
    "                             shop_metrics_new[shop_metrics_new.group == 'B'], 'purchased_cnt')"
   ]
  },
  {
   "cell_type": "code",
   "execution_count": 32,
   "id": "a8132a8d",
   "metadata": {},
   "outputs": [
    {
     "data": {
      "text/html": [
       "<div>\n",
       "<style scoped>\n",
       "    .dataframe tbody tr th:only-of-type {\n",
       "        vertical-align: middle;\n",
       "    }\n",
       "\n",
       "    .dataframe tbody tr th {\n",
       "        vertical-align: top;\n",
       "    }\n",
       "\n",
       "    .dataframe thead th {\n",
       "        text-align: right;\n",
       "    }\n",
       "</style>\n",
       "<table border=\"1\" class=\"dataframe\">\n",
       "  <thead>\n",
       "    <tr style=\"text-align: right;\">\n",
       "      <th></th>\n",
       "      <th>user_id</th>\n",
       "      <th>group</th>\n",
       "      <th>is_viewed</th>\n",
       "      <th>products_viewed_cnt</th>\n",
       "      <th>price_sum</th>\n",
       "      <th>is_cart_added</th>\n",
       "      <th>is_purchased</th>\n",
       "      <th>cart_added_cnt</th>\n",
       "      <th>purchased_cnt</th>\n",
       "      <th>purchased_cnt_ln</th>\n",
       "      <th>rank</th>\n",
       "    </tr>\n",
       "  </thead>\n",
       "  <tbody>\n",
       "    <tr>\n",
       "      <th>0</th>\n",
       "      <td>1515915625353230683</td>\n",
       "      <td>A</td>\n",
       "      <td>1</td>\n",
       "      <td>1</td>\n",
       "      <td>339.79</td>\n",
       "      <td>0.0</td>\n",
       "      <td>0.0</td>\n",
       "      <td>0</td>\n",
       "      <td>0</td>\n",
       "      <td>0.0</td>\n",
       "      <td>105026.0</td>\n",
       "    </tr>\n",
       "    <tr>\n",
       "      <th>1</th>\n",
       "      <td>1515915625353234047</td>\n",
       "      <td>A</td>\n",
       "      <td>1</td>\n",
       "      <td>9</td>\n",
       "      <td>861.86</td>\n",
       "      <td>0.0</td>\n",
       "      <td>0.0</td>\n",
       "      <td>0</td>\n",
       "      <td>0</td>\n",
       "      <td>0.0</td>\n",
       "      <td>105026.0</td>\n",
       "    </tr>\n",
       "    <tr>\n",
       "      <th>2</th>\n",
       "      <td>1515915625353236157</td>\n",
       "      <td>A</td>\n",
       "      <td>1</td>\n",
       "      <td>4</td>\n",
       "      <td>179.60</td>\n",
       "      <td>0.0</td>\n",
       "      <td>0.0</td>\n",
       "      <td>0</td>\n",
       "      <td>0</td>\n",
       "      <td>0.0</td>\n",
       "      <td>105026.0</td>\n",
       "    </tr>\n",
       "    <tr>\n",
       "      <th>5</th>\n",
       "      <td>1515915625353400724</td>\n",
       "      <td>A</td>\n",
       "      <td>1</td>\n",
       "      <td>2</td>\n",
       "      <td>103.33</td>\n",
       "      <td>0.0</td>\n",
       "      <td>0.0</td>\n",
       "      <td>0</td>\n",
       "      <td>0</td>\n",
       "      <td>0.0</td>\n",
       "      <td>105026.0</td>\n",
       "    </tr>\n",
       "    <tr>\n",
       "      <th>7</th>\n",
       "      <td>1515915625353416040</td>\n",
       "      <td>A</td>\n",
       "      <td>1</td>\n",
       "      <td>13</td>\n",
       "      <td>1861.21</td>\n",
       "      <td>0.0</td>\n",
       "      <td>0.0</td>\n",
       "      <td>0</td>\n",
       "      <td>0</td>\n",
       "      <td>0.0</td>\n",
       "      <td>105026.0</td>\n",
       "    </tr>\n",
       "    <tr>\n",
       "      <th>...</th>\n",
       "      <td>...</td>\n",
       "      <td>...</td>\n",
       "      <td>...</td>\n",
       "      <td>...</td>\n",
       "      <td>...</td>\n",
       "      <td>...</td>\n",
       "      <td>...</td>\n",
       "      <td>...</td>\n",
       "      <td>...</td>\n",
       "      <td>...</td>\n",
       "      <td>...</td>\n",
       "    </tr>\n",
       "    <tr>\n",
       "      <th>222516</th>\n",
       "      <td>1515915625611023671</td>\n",
       "      <td>B</td>\n",
       "      <td>1</td>\n",
       "      <td>1</td>\n",
       "      <td>32.22</td>\n",
       "      <td>0.0</td>\n",
       "      <td>0.0</td>\n",
       "      <td>0</td>\n",
       "      <td>0</td>\n",
       "      <td>0.0</td>\n",
       "      <td>105026.0</td>\n",
       "    </tr>\n",
       "    <tr>\n",
       "      <th>222517</th>\n",
       "      <td>1515915625611023730</td>\n",
       "      <td>B</td>\n",
       "      <td>1</td>\n",
       "      <td>1</td>\n",
       "      <td>219.94</td>\n",
       "      <td>0.0</td>\n",
       "      <td>0.0</td>\n",
       "      <td>0</td>\n",
       "      <td>0</td>\n",
       "      <td>0.0</td>\n",
       "      <td>105026.0</td>\n",
       "    </tr>\n",
       "    <tr>\n",
       "      <th>222518</th>\n",
       "      <td>1515915625611024014</td>\n",
       "      <td>B</td>\n",
       "      <td>1</td>\n",
       "      <td>1</td>\n",
       "      <td>80.03</td>\n",
       "      <td>0.0</td>\n",
       "      <td>0.0</td>\n",
       "      <td>0</td>\n",
       "      <td>0</td>\n",
       "      <td>0.0</td>\n",
       "      <td>105026.0</td>\n",
       "    </tr>\n",
       "    <tr>\n",
       "      <th>222519</th>\n",
       "      <td>1515915625611024020</td>\n",
       "      <td>B</td>\n",
       "      <td>1</td>\n",
       "      <td>1</td>\n",
       "      <td>64.92</td>\n",
       "      <td>0.0</td>\n",
       "      <td>0.0</td>\n",
       "      <td>0</td>\n",
       "      <td>0</td>\n",
       "      <td>0.0</td>\n",
       "      <td>105026.0</td>\n",
       "    </tr>\n",
       "    <tr>\n",
       "      <th>222520</th>\n",
       "      <td>1515915625611024030</td>\n",
       "      <td>B</td>\n",
       "      <td>1</td>\n",
       "      <td>1</td>\n",
       "      <td>10.16</td>\n",
       "      <td>0.0</td>\n",
       "      <td>0.0</td>\n",
       "      <td>0</td>\n",
       "      <td>0</td>\n",
       "      <td>0.0</td>\n",
       "      <td>105026.0</td>\n",
       "    </tr>\n",
       "  </tbody>\n",
       "</table>\n",
       "<p>222521 rows × 11 columns</p>\n",
       "</div>"
      ],
      "text/plain": [
       "                    user_id group  is_viewed  products_viewed_cnt  price_sum  \\\n",
       "0       1515915625353230683     A          1                    1     339.79   \n",
       "1       1515915625353234047     A          1                    9     861.86   \n",
       "2       1515915625353236157     A          1                    4     179.60   \n",
       "5       1515915625353400724     A          1                    2     103.33   \n",
       "7       1515915625353416040     A          1                   13    1861.21   \n",
       "...                     ...   ...        ...                  ...        ...   \n",
       "222516  1515915625611023671     B          1                    1      32.22   \n",
       "222517  1515915625611023730     B          1                    1     219.94   \n",
       "222518  1515915625611024014     B          1                    1      80.03   \n",
       "222519  1515915625611024020     B          1                    1      64.92   \n",
       "222520  1515915625611024030     B          1                    1      10.16   \n",
       "\n",
       "        is_cart_added  is_purchased  cart_added_cnt  purchased_cnt  \\\n",
       "0                 0.0           0.0               0              0   \n",
       "1                 0.0           0.0               0              0   \n",
       "2                 0.0           0.0               0              0   \n",
       "5                 0.0           0.0               0              0   \n",
       "7                 0.0           0.0               0              0   \n",
       "...               ...           ...             ...            ...   \n",
       "222516            0.0           0.0               0              0   \n",
       "222517            0.0           0.0               0              0   \n",
       "222518            0.0           0.0               0              0   \n",
       "222519            0.0           0.0               0              0   \n",
       "222520            0.0           0.0               0              0   \n",
       "\n",
       "        purchased_cnt_ln      rank  \n",
       "0                    0.0  105026.0  \n",
       "1                    0.0  105026.0  \n",
       "2                    0.0  105026.0  \n",
       "5                    0.0  105026.0  \n",
       "7                    0.0  105026.0  \n",
       "...                  ...       ...  \n",
       "222516               0.0  105026.0  \n",
       "222517               0.0  105026.0  \n",
       "222518               0.0  105026.0  \n",
       "222519               0.0  105026.0  \n",
       "222520               0.0  105026.0  \n",
       "\n",
       "[222521 rows x 11 columns]"
      ]
     },
     "execution_count": 32,
     "metadata": {},
     "output_type": "execute_result"
    }
   ],
   "source": [
    "ranked"
   ]
  },
  {
   "cell_type": "code",
   "execution_count": 33,
   "id": "d2269bc7",
   "metadata": {},
   "outputs": [
    {
     "data": {
      "text/html": [
       "<div>\n",
       "<style scoped>\n",
       "    .dataframe tbody tr th:only-of-type {\n",
       "        vertical-align: middle;\n",
       "    }\n",
       "\n",
       "    .dataframe tbody tr th {\n",
       "        vertical-align: top;\n",
       "    }\n",
       "\n",
       "    .dataframe thead th {\n",
       "        text-align: right;\n",
       "    }\n",
       "</style>\n",
       "<table border=\"1\" class=\"dataframe\">\n",
       "  <thead>\n",
       "    <tr style=\"text-align: right;\">\n",
       "      <th></th>\n",
       "      <th>user_id</th>\n",
       "      <th>group</th>\n",
       "      <th>is_viewed</th>\n",
       "      <th>products_viewed_cnt</th>\n",
       "      <th>price_sum</th>\n",
       "      <th>is_cart_added</th>\n",
       "      <th>is_purchased</th>\n",
       "      <th>cart_added_cnt</th>\n",
       "      <th>purchased_cnt</th>\n",
       "      <th>purchased_cnt_ln</th>\n",
       "      <th>rank</th>\n",
       "    </tr>\n",
       "  </thead>\n",
       "  <tbody>\n",
       "    <tr>\n",
       "      <th>108</th>\n",
       "      <td>1515915625367976920</td>\n",
       "      <td>A</td>\n",
       "      <td>1</td>\n",
       "      <td>4</td>\n",
       "      <td>144.83</td>\n",
       "      <td>0.0</td>\n",
       "      <td>0.0</td>\n",
       "      <td>1</td>\n",
       "      <td>1</td>\n",
       "      <td>0.693147</td>\n",
       "      <td>215373.5</td>\n",
       "    </tr>\n",
       "    <tr>\n",
       "      <th>142</th>\n",
       "      <td>1515915625377197718</td>\n",
       "      <td>A</td>\n",
       "      <td>1</td>\n",
       "      <td>4</td>\n",
       "      <td>630.57</td>\n",
       "      <td>0.0</td>\n",
       "      <td>0.0</td>\n",
       "      <td>3</td>\n",
       "      <td>3</td>\n",
       "      <td>1.386294</td>\n",
       "      <td>222169.5</td>\n",
       "    </tr>\n",
       "    <tr>\n",
       "      <th>157</th>\n",
       "      <td>1515915625382330267</td>\n",
       "      <td>A</td>\n",
       "      <td>1</td>\n",
       "      <td>3</td>\n",
       "      <td>331.89</td>\n",
       "      <td>0.0</td>\n",
       "      <td>0.0</td>\n",
       "      <td>2</td>\n",
       "      <td>2</td>\n",
       "      <td>1.098612</td>\n",
       "      <td>221360.0</td>\n",
       "    </tr>\n",
       "    <tr>\n",
       "      <th>184</th>\n",
       "      <td>1515915625392941295</td>\n",
       "      <td>A</td>\n",
       "      <td>1</td>\n",
       "      <td>1</td>\n",
       "      <td>20.00</td>\n",
       "      <td>0.0</td>\n",
       "      <td>0.0</td>\n",
       "      <td>1</td>\n",
       "      <td>1</td>\n",
       "      <td>0.693147</td>\n",
       "      <td>215373.5</td>\n",
       "    </tr>\n",
       "    <tr>\n",
       "      <th>185</th>\n",
       "      <td>1515915625393382317</td>\n",
       "      <td>A</td>\n",
       "      <td>1</td>\n",
       "      <td>8</td>\n",
       "      <td>1655.00</td>\n",
       "      <td>0.0</td>\n",
       "      <td>0.0</td>\n",
       "      <td>3</td>\n",
       "      <td>3</td>\n",
       "      <td>1.386294</td>\n",
       "      <td>222169.5</td>\n",
       "    </tr>\n",
       "    <tr>\n",
       "      <th>...</th>\n",
       "      <td>...</td>\n",
       "      <td>...</td>\n",
       "      <td>...</td>\n",
       "      <td>...</td>\n",
       "      <td>...</td>\n",
       "      <td>...</td>\n",
       "      <td>...</td>\n",
       "      <td>...</td>\n",
       "      <td>...</td>\n",
       "      <td>...</td>\n",
       "      <td>...</td>\n",
       "    </tr>\n",
       "    <tr>\n",
       "      <th>222191</th>\n",
       "      <td>1515915625610977027</td>\n",
       "      <td>B</td>\n",
       "      <td>1</td>\n",
       "      <td>1</td>\n",
       "      <td>80.56</td>\n",
       "      <td>0.0</td>\n",
       "      <td>0.0</td>\n",
       "      <td>1</td>\n",
       "      <td>1</td>\n",
       "      <td>0.693147</td>\n",
       "      <td>215373.5</td>\n",
       "    </tr>\n",
       "    <tr>\n",
       "      <th>222248</th>\n",
       "      <td>1515915625610986148</td>\n",
       "      <td>B</td>\n",
       "      <td>1</td>\n",
       "      <td>1</td>\n",
       "      <td>292.83</td>\n",
       "      <td>0.0</td>\n",
       "      <td>0.0</td>\n",
       "      <td>1</td>\n",
       "      <td>1</td>\n",
       "      <td>0.693147</td>\n",
       "      <td>215373.5</td>\n",
       "    </tr>\n",
       "    <tr>\n",
       "      <th>222277</th>\n",
       "      <td>1515915625610991774</td>\n",
       "      <td>B</td>\n",
       "      <td>1</td>\n",
       "      <td>1</td>\n",
       "      <td>298.76</td>\n",
       "      <td>0.0</td>\n",
       "      <td>0.0</td>\n",
       "      <td>1</td>\n",
       "      <td>1</td>\n",
       "      <td>0.693147</td>\n",
       "      <td>215373.5</td>\n",
       "    </tr>\n",
       "    <tr>\n",
       "      <th>222314</th>\n",
       "      <td>1515915625610995356</td>\n",
       "      <td>B</td>\n",
       "      <td>1</td>\n",
       "      <td>1</td>\n",
       "      <td>29.40</td>\n",
       "      <td>0.0</td>\n",
       "      <td>0.0</td>\n",
       "      <td>1</td>\n",
       "      <td>1</td>\n",
       "      <td>0.693147</td>\n",
       "      <td>215373.5</td>\n",
       "    </tr>\n",
       "    <tr>\n",
       "      <th>222332</th>\n",
       "      <td>1515915625610997879</td>\n",
       "      <td>B</td>\n",
       "      <td>1</td>\n",
       "      <td>2</td>\n",
       "      <td>587.24</td>\n",
       "      <td>0.0</td>\n",
       "      <td>0.0</td>\n",
       "      <td>2</td>\n",
       "      <td>2</td>\n",
       "      <td>1.098612</td>\n",
       "      <td>221360.0</td>\n",
       "    </tr>\n",
       "  </tbody>\n",
       "</table>\n",
       "<p>12470 rows × 11 columns</p>\n",
       "</div>"
      ],
      "text/plain": [
       "                    user_id group  is_viewed  products_viewed_cnt  price_sum  \\\n",
       "108     1515915625367976920     A          1                    4     144.83   \n",
       "142     1515915625377197718     A          1                    4     630.57   \n",
       "157     1515915625382330267     A          1                    3     331.89   \n",
       "184     1515915625392941295     A          1                    1      20.00   \n",
       "185     1515915625393382317     A          1                    8    1655.00   \n",
       "...                     ...   ...        ...                  ...        ...   \n",
       "222191  1515915625610977027     B          1                    1      80.56   \n",
       "222248  1515915625610986148     B          1                    1     292.83   \n",
       "222277  1515915625610991774     B          1                    1     298.76   \n",
       "222314  1515915625610995356     B          1                    1      29.40   \n",
       "222332  1515915625610997879     B          1                    2     587.24   \n",
       "\n",
       "        is_cart_added  is_purchased  cart_added_cnt  purchased_cnt  \\\n",
       "108               0.0           0.0               1              1   \n",
       "142               0.0           0.0               3              3   \n",
       "157               0.0           0.0               2              2   \n",
       "184               0.0           0.0               1              1   \n",
       "185               0.0           0.0               3              3   \n",
       "...               ...           ...             ...            ...   \n",
       "222191            0.0           0.0               1              1   \n",
       "222248            0.0           0.0               1              1   \n",
       "222277            0.0           0.0               1              1   \n",
       "222314            0.0           0.0               1              1   \n",
       "222332            0.0           0.0               2              2   \n",
       "\n",
       "        purchased_cnt_ln      rank  \n",
       "108             0.693147  215373.5  \n",
       "142             1.386294  222169.5  \n",
       "157             1.098612  221360.0  \n",
       "184             0.693147  215373.5  \n",
       "185             1.386294  222169.5  \n",
       "...                  ...       ...  \n",
       "222191          0.693147  215373.5  \n",
       "222248          0.693147  215373.5  \n",
       "222277          0.693147  215373.5  \n",
       "222314          0.693147  215373.5  \n",
       "222332          1.098612  221360.0  \n",
       "\n",
       "[12470 rows x 11 columns]"
      ]
     },
     "execution_count": 33,
     "metadata": {},
     "output_type": "execute_result"
    }
   ],
   "source": [
    "ranked[ranked['purchased_cnt'] > 0]"
   ]
  },
  {
   "cell_type": "code",
   "execution_count": 34,
   "id": "8f3d315d",
   "metadata": {},
   "outputs": [
    {
     "name": "stdout",
     "output_type": "stream",
     "text": [
      "111259.8768022206 111262.12441996404 0.0020201512063729755\n"
     ]
    }
   ],
   "source": [
    "print(ranked[ranked.group == 'A']['rank'].mean(),\n",
    "      ranked[ranked.group == 'B']['rank'].mean(), \n",
    "      ((ranked[ranked.group == 'B']['rank'].mean() - ranked[ranked.group == 'A']['rank'].mean()) / \n",
    "       ranked[ranked.group == 'A']['rank'].mean()*100))"
   ]
  },
  {
   "cell_type": "code",
   "execution_count": 35,
   "id": "40836c38",
   "metadata": {},
   "outputs": [
    {
     "data": {
      "text/plain": [
       "Ttest_indResult(statistic=-0.020711883610533208, pvalue=0.9834755078743136)"
      ]
     },
     "execution_count": 35,
     "metadata": {},
     "output_type": "execute_result"
    }
   ],
   "source": [
    "stats.ttest_ind(ranked[ranked.group == 'A']['rank'], ranked[ranked.group == 'B']['rank'])"
   ]
  },
  {
   "cell_type": "markdown",
   "id": "c2ad61f5",
   "metadata": {},
   "source": [
    "Различий между группами не было => t-test не нашел разницу"
   ]
  },
  {
   "cell_type": "markdown",
   "id": "02c7cec3",
   "metadata": {},
   "source": [
    "Средние изменились достаточно сильно (по сравнению с исходными), разница между группами ~0.2%"
   ]
  },
  {
   "cell_type": "markdown",
   "id": "39add842",
   "metadata": {},
   "source": [
    "Для сравнения t-test на той же метрике, но без ранговой трансформации:"
   ]
  },
  {
   "cell_type": "code",
   "execution_count": 36,
   "id": "22067770",
   "metadata": {},
   "outputs": [
    {
     "data": {
      "text/plain": [
       "Ttest_indResult(statistic=-0.4819416819988476, pvalue=0.6298478488694023)"
      ]
     },
     "execution_count": 36,
     "metadata": {},
     "output_type": "execute_result"
    }
   ],
   "source": [
    "stats.ttest_ind(shop_metrics_new[shop_metrics_new.group == 'A']['purchased_cnt'], \n",
    "                shop_metrics_new[shop_metrics_new.group == 'B']['purchased_cnt'])"
   ]
  },
  {
   "cell_type": "markdown",
   "id": "2119dcf8",
   "metadata": {},
   "source": [
    "Cредние тоже практически идентичны, но разница между группами выше"
   ]
  },
  {
   "cell_type": "code",
   "execution_count": 37,
   "id": "1ebb2046",
   "metadata": {},
   "outputs": [
    {
     "name": "stdout",
     "output_type": "stream",
     "text": [
      "0.068576459068819 0.06928057553956835 1.0267611951832336\n"
     ]
    }
   ],
   "source": [
    "print(shop_metrics_new[shop_metrics_new.group == 'A']['purchased_cnt'].mean(),\n",
    "      shop_metrics_new[shop_metrics_new.group == 'B']['purchased_cnt'].mean(),\n",
    "     ((shop_metrics_new[shop_metrics_new.group == 'B']['purchased_cnt'].mean() - shop_metrics_new[shop_metrics_new.group == 'A']['purchased_cnt'].mean())/shop_metrics_new[shop_metrics_new.group == 'A']['purchased_cnt'].mean()*100))"
   ]
  },
  {
   "cell_type": "markdown",
   "id": "18605147",
   "metadata": {},
   "source": [
    "Сравним с результатом применения критерия Манна-Уитни:"
   ]
  },
  {
   "cell_type": "code",
   "execution_count": 38,
   "id": "2c286e73",
   "metadata": {},
   "outputs": [
    {
     "data": {
      "text/plain": [
       "MannwhitneyuResult(statistic=6189322564.5, pvalue=0.9834755182644684)"
      ]
     },
     "execution_count": 38,
     "metadata": {},
     "output_type": "execute_result"
    }
   ],
   "source": [
    "stats.mannwhitneyu(shop_metrics_new[shop_metrics_new.group == 'A']['purchased_cnt'], \n",
    "                   shop_metrics_new[shop_metrics_new.group == 'B']['purchased_cnt'])"
   ]
  },
  {
   "cell_type": "markdown",
   "id": "3b318804",
   "metadata": {},
   "source": [
    "Проверим мощность и корректность t-test для метода ранговой трансформации"
   ]
  },
  {
   "cell_type": "code",
   "execution_count": 39,
   "id": "0585eee6",
   "metadata": {},
   "outputs": [
    {
     "name": "stderr",
     "output_type": "stream",
     "text": [
      "100%|█████████████████████████████████████████| 100/100 [01:15<00:00,  1.33it/s]\n"
     ]
    },
    {
     "name": "stdout",
     "output_type": "stream",
     "text": [
      " power: 67.0% , correctness: 94.0%\n"
     ]
    },
    {
     "data": {
      "image/png": "[encoded data removed]",
      "text/plain": [
       "<Figure size 338.4x307.44 with 1 Axes>"
      ]
     },
     "metadata": {},
     "output_type": "display_data"
    }
   ],
   "source": [
    "# мощность и корректность для ранговой трансформации\n",
    "\n",
    "correctness = []\n",
    "power = []\n",
    "\n",
    "for i in tqdm(range(100)):\n",
    "    \n",
    "    new_group = groups_splitter(shop.copy(), user_salt=salt_generator())\n",
    "    new_df = pd.merge(shop, new_group, how=\"left\", on=['user_id']).drop_duplicates()\n",
    "    \n",
    "    ranked_df = rank_transformation(new_df[new_df.group == 'A'], new_df[new_df.group == 'B'], 'purchased_cnt')\n",
    "    \n",
    "    vec_a = ranked_df[(ranked_df['group'] == 'A')]['rank']\n",
    "    vec_b = ranked_df[(ranked_df['group'] == 'B')]['rank']\n",
    "    \n",
    "    vec_b_effect = new_df[new_df['group'] == 'B']['purchased_cnt'] * 1.05\n",
    "    new_df_b = new_df[new_df.group == 'B'].drop(columns=['purchased_cnt'])\n",
    "    new_df_b['purchased_cnt'] = list(vec_b_effect)\n",
    "    \n",
    "    ranked_df_effect = rank_transformation(new_df[new_df.group == 'A'], new_df_b, 'purchased_cnt')\n",
    "    vec_a_power = ranked_df_effect[(ranked_df_effect['group'] == 'A')]['rank']\n",
    "    vec_b_power = ranked_df_effect[(ranked_df_effect['group'] == 'B')]['rank']\n",
    "    \n",
    "    \n",
    "    p_cor, p_power = stats.ttest_ind(vec_a, vec_b)[1], stats.ttest_ind(vec_a_power, vec_b_power)[1]\n",
    "    correctness.append(p_cor)\n",
    "    power.append(p_power)\n",
    "\n",
    "correctness = np.array(correctness)\n",
    "sns.set(rc={'figure.figsize':(4.7,4.27)})\n",
    "sns.histplot(data=correctness, bins=10, color='blue', kde=True)\n",
    "\n",
    "power = np.array(power)\n",
    "    \n",
    "print(f' power: {(power[power < 0.05].shape[0] / power.shape[0]) * 100}% , correctness: {(1 - (correctness[correctness < 0.05].shape[0] / correctness.shape[0])) * 100}%')"
   ]
  },
  {
   "cell_type": "markdown",
   "id": "ec22117f",
   "metadata": {},
   "source": [
    "Мощность выросла, но не очень сильно (с ~50% до ~67%)"
   ]
  },
  {
   "cell_type": "code",
   "execution_count": null,
   "id": "8b12b00c",
   "metadata": {},
   "outputs": [],
   "source": []
  },
  {
   "cell_type": "markdown",
   "id": "377f97a5",
   "metadata": {},
   "source": [
    "# CUPED"
   ]
  },
  {
   "cell_type": "code",
   "execution_count": 40,
   "id": "0990b6d4",
   "metadata": {},
   "outputs": [],
   "source": [
    "def cuped_transform(df, metrics):\n",
    "\n",
    "    new_columns = [str(m+'_cuped') for m in metrics]\n",
    "    df[new_columns] = pd.DataFrame([[0] * len(new_columns)], index=df.index)\n",
    "\n",
    "    df_mini = df.fillna(0)\n",
    "    for m in metrics:\n",
    "        covariate_column = str(m+'_covariate')\n",
    "        cuped_column = str(m+'_cuped')\n",
    "        mean_covariate = df_mini[covariate_column].mean()\n",
    "\n",
    "        theta = (df_mini[m].cov(df_mini[covariate_column]))/(df_mini.loc[:,covariate_column].var())\n",
    "        df_mini[cuped_column] = df_mini[m] - (df_mini[covariate_column] - mean_covariate) * theta\n",
    "\n",
    "    df.update(df_mini)\n",
    "\n",
    "    return df.drop_duplicates()\n"
   ]
  },
  {
   "cell_type": "markdown",
   "id": "2a00e50c",
   "metadata": {},
   "source": [
    "Возьмем исторические значения из датафрейма old"
   ]
  },
  {
   "cell_type": "code",
   "execution_count": 41,
   "id": "d86f8e72",
   "metadata": {},
   "outputs": [
    {
     "data": {
      "text/html": [
       "<div>\n",
       "<style scoped>\n",
       "    .dataframe tbody tr th:only-of-type {\n",
       "        vertical-align: middle;\n",
       "    }\n",
       "\n",
       "    .dataframe tbody tr th {\n",
       "        vertical-align: top;\n",
       "    }\n",
       "\n",
       "    .dataframe thead th {\n",
       "        text-align: right;\n",
       "    }\n",
       "</style>\n",
       "<table border=\"1\" class=\"dataframe\">\n",
       "  <thead>\n",
       "    <tr style=\"text-align: right;\">\n",
       "      <th></th>\n",
       "      <th>user_id</th>\n",
       "      <th>group</th>\n",
       "      <th>is_viewed</th>\n",
       "      <th>products_viewed_cnt</th>\n",
       "      <th>price_sum</th>\n",
       "      <th>is_cart_added</th>\n",
       "      <th>is_purchased</th>\n",
       "      <th>cart_added_cnt</th>\n",
       "      <th>purchased_cnt</th>\n",
       "    </tr>\n",
       "  </thead>\n",
       "  <tbody>\n",
       "    <tr>\n",
       "      <th>0</th>\n",
       "      <td>1515915625353226922</td>\n",
       "      <td>B</td>\n",
       "      <td>1</td>\n",
       "      <td>1</td>\n",
       "      <td>76.48</td>\n",
       "      <td>0.0</td>\n",
       "      <td>0.0</td>\n",
       "      <td>0</td>\n",
       "      <td>0</td>\n",
       "    </tr>\n",
       "    <tr>\n",
       "      <th>1</th>\n",
       "      <td>1515915625353230067</td>\n",
       "      <td>A</td>\n",
       "      <td>1</td>\n",
       "      <td>1</td>\n",
       "      <td>28.98</td>\n",
       "      <td>0.0</td>\n",
       "      <td>0.0</td>\n",
       "      <td>0</td>\n",
       "      <td>0</td>\n",
       "    </tr>\n",
       "    <tr>\n",
       "      <th>2</th>\n",
       "      <td>1515915625353230683</td>\n",
       "      <td>A</td>\n",
       "      <td>1</td>\n",
       "      <td>10</td>\n",
       "      <td>592.21</td>\n",
       "      <td>0.0</td>\n",
       "      <td>0.0</td>\n",
       "      <td>0</td>\n",
       "      <td>0</td>\n",
       "    </tr>\n",
       "    <tr>\n",
       "      <th>3</th>\n",
       "      <td>1515915625353230922</td>\n",
       "      <td>A</td>\n",
       "      <td>1</td>\n",
       "      <td>1</td>\n",
       "      <td>274.40</td>\n",
       "      <td>0.0</td>\n",
       "      <td>0.0</td>\n",
       "      <td>0</td>\n",
       "      <td>0</td>\n",
       "    </tr>\n",
       "    <tr>\n",
       "      <th>4</th>\n",
       "      <td>1515915625353234047</td>\n",
       "      <td>A</td>\n",
       "      <td>1</td>\n",
       "      <td>14</td>\n",
       "      <td>1857.94</td>\n",
       "      <td>0.0</td>\n",
       "      <td>0.0</td>\n",
       "      <td>0</td>\n",
       "      <td>0</td>\n",
       "    </tr>\n",
       "  </tbody>\n",
       "</table>\n",
       "</div>"
      ],
      "text/plain": [
       "               user_id group  is_viewed  products_viewed_cnt  price_sum  \\\n",
       "0  1515915625353226922     B          1                    1      76.48   \n",
       "1  1515915625353230067     A          1                    1      28.98   \n",
       "2  1515915625353230683     A          1                   10     592.21   \n",
       "3  1515915625353230922     A          1                    1     274.40   \n",
       "4  1515915625353234047     A          1                   14    1857.94   \n",
       "\n",
       "   is_cart_added  is_purchased  cart_added_cnt  purchased_cnt  \n",
       "0            0.0           0.0               0              0  \n",
       "1            0.0           0.0               0              0  \n",
       "2            0.0           0.0               0              0  \n",
       "3            0.0           0.0               0              0  \n",
       "4            0.0           0.0               0              0  "
      ]
     },
     "execution_count": 41,
     "metadata": {},
     "output_type": "execute_result"
    }
   ],
   "source": [
    "shop_metrics_old.head()"
   ]
  },
  {
   "cell_type": "code",
   "execution_count": 42,
   "id": "d3cff236",
   "metadata": {},
   "outputs": [],
   "source": [
    "shop_metrics_all = pd.merge(shop_metrics_new, shop_metrics_old[['user_id', 'purchased_cnt']], on=['user_id'], how='left')"
   ]
  },
  {
   "cell_type": "code",
   "execution_count": 43,
   "id": "f3a53fcc",
   "metadata": {},
   "outputs": [],
   "source": [
    "shop_metrics_all = shop_metrics_all\\\n",
    "                   .rename(columns={'purchased_cnt_x': 'purchased_cnt', 'purchased_cnt_y': 'purchased_cnt_covariate'})"
   ]
  },
  {
   "cell_type": "code",
   "execution_count": 44,
   "id": "0ec7db1c",
   "metadata": {},
   "outputs": [],
   "source": [
    "shop_metrics_all_cuped = cuped_transform(shop_metrics_all.copy(), ['purchased_cnt'])"
   ]
  },
  {
   "cell_type": "code",
   "execution_count": 45,
   "id": "1c4573b1",
   "metadata": {},
   "outputs": [
    {
     "data": {
      "text/html": [
       "<div>\n",
       "<style scoped>\n",
       "    .dataframe tbody tr th:only-of-type {\n",
       "        vertical-align: middle;\n",
       "    }\n",
       "\n",
       "    .dataframe tbody tr th {\n",
       "        vertical-align: top;\n",
       "    }\n",
       "\n",
       "    .dataframe thead th {\n",
       "        text-align: right;\n",
       "    }\n",
       "</style>\n",
       "<table border=\"1\" class=\"dataframe\">\n",
       "  <thead>\n",
       "    <tr style=\"text-align: right;\">\n",
       "      <th></th>\n",
       "      <th>user_id</th>\n",
       "      <th>group</th>\n",
       "      <th>is_viewed</th>\n",
       "      <th>products_viewed_cnt</th>\n",
       "      <th>price_sum</th>\n",
       "      <th>is_cart_added</th>\n",
       "      <th>is_purchased</th>\n",
       "      <th>cart_added_cnt</th>\n",
       "      <th>purchased_cnt</th>\n",
       "      <th>purchased_cnt_ln</th>\n",
       "      <th>purchased_cnt_covariate</th>\n",
       "      <th>purchased_cnt_cuped</th>\n",
       "    </tr>\n",
       "  </thead>\n",
       "  <tbody>\n",
       "    <tr>\n",
       "      <th>0</th>\n",
       "      <td>1515915625353230683</td>\n",
       "      <td>A</td>\n",
       "      <td>1</td>\n",
       "      <td>1</td>\n",
       "      <td>339.79</td>\n",
       "      <td>0.0</td>\n",
       "      <td>0.0</td>\n",
       "      <td>0</td>\n",
       "      <td>0</td>\n",
       "      <td>0.0</td>\n",
       "      <td>0</td>\n",
       "      <td>0.06786</td>\n",
       "    </tr>\n",
       "    <tr>\n",
       "      <th>1</th>\n",
       "      <td>1515915625353234047</td>\n",
       "      <td>A</td>\n",
       "      <td>1</td>\n",
       "      <td>9</td>\n",
       "      <td>861.86</td>\n",
       "      <td>0.0</td>\n",
       "      <td>0.0</td>\n",
       "      <td>0</td>\n",
       "      <td>0</td>\n",
       "      <td>0.0</td>\n",
       "      <td>0</td>\n",
       "      <td>0.06786</td>\n",
       "    </tr>\n",
       "    <tr>\n",
       "      <th>2</th>\n",
       "      <td>1515915625353236157</td>\n",
       "      <td>A</td>\n",
       "      <td>1</td>\n",
       "      <td>4</td>\n",
       "      <td>179.60</td>\n",
       "      <td>0.0</td>\n",
       "      <td>0.0</td>\n",
       "      <td>0</td>\n",
       "      <td>0</td>\n",
       "      <td>0.0</td>\n",
       "      <td>0</td>\n",
       "      <td>0.06786</td>\n",
       "    </tr>\n",
       "    <tr>\n",
       "      <th>3</th>\n",
       "      <td>1515915625353294441</td>\n",
       "      <td>B</td>\n",
       "      <td>1</td>\n",
       "      <td>28</td>\n",
       "      <td>4283.04</td>\n",
       "      <td>0.0</td>\n",
       "      <td>0.0</td>\n",
       "      <td>0</td>\n",
       "      <td>0</td>\n",
       "      <td>0.0</td>\n",
       "      <td>0</td>\n",
       "      <td>0.06786</td>\n",
       "    </tr>\n",
       "    <tr>\n",
       "      <th>4</th>\n",
       "      <td>1515915625353386199</td>\n",
       "      <td>B</td>\n",
       "      <td>1</td>\n",
       "      <td>1</td>\n",
       "      <td>20.98</td>\n",
       "      <td>0.0</td>\n",
       "      <td>0.0</td>\n",
       "      <td>0</td>\n",
       "      <td>0</td>\n",
       "      <td>0.0</td>\n",
       "      <td>0</td>\n",
       "      <td>0.06786</td>\n",
       "    </tr>\n",
       "  </tbody>\n",
       "</table>\n",
       "</div>"
      ],
      "text/plain": [
       "               user_id group  is_viewed  products_viewed_cnt  price_sum  \\\n",
       "0  1515915625353230683     A          1                    1     339.79   \n",
       "1  1515915625353234047     A          1                    9     861.86   \n",
       "2  1515915625353236157     A          1                    4     179.60   \n",
       "3  1515915625353294441     B          1                   28    4283.04   \n",
       "4  1515915625353386199     B          1                    1      20.98   \n",
       "\n",
       "   is_cart_added  is_purchased  cart_added_cnt  purchased_cnt  \\\n",
       "0            0.0           0.0               0              0   \n",
       "1            0.0           0.0               0              0   \n",
       "2            0.0           0.0               0              0   \n",
       "3            0.0           0.0               0              0   \n",
       "4            0.0           0.0               0              0   \n",
       "\n",
       "   purchased_cnt_ln  purchased_cnt_covariate  purchased_cnt_cuped  \n",
       "0               0.0                        0              0.06786  \n",
       "1               0.0                        0              0.06786  \n",
       "2               0.0                        0              0.06786  \n",
       "3               0.0                        0              0.06786  \n",
       "4               0.0                        0              0.06786  "
      ]
     },
     "execution_count": 45,
     "metadata": {},
     "output_type": "execute_result"
    }
   ],
   "source": [
    "shop_metrics_all_cuped.head()"
   ]
  },
  {
   "cell_type": "markdown",
   "id": "670c82cb",
   "metadata": {},
   "source": [
    "Проверим, как на измененной метрике покажет себя t-test:"
   ]
  },
  {
   "cell_type": "code",
   "execution_count": 46,
   "id": "94767a44",
   "metadata": {},
   "outputs": [
    {
     "data": {
      "text/plain": [
       "Ttest_indResult(statistic=-1.3272760435851838, pvalue=0.18441874726997382)"
      ]
     },
     "execution_count": 46,
     "metadata": {},
     "output_type": "execute_result"
    }
   ],
   "source": [
    "stats.ttest_ind(shop_metrics_all_cuped[shop_metrics_all_cuped.group == 'A']['purchased_cnt_cuped'], \n",
    "                shop_metrics_all_cuped[shop_metrics_all_cuped.group == 'B']['purchased_cnt_cuped'])"
   ]
  },
  {
   "cell_type": "markdown",
   "id": "ea86ca0a",
   "metadata": {},
   "source": [
    "Сравним средние в измененной метрике и дисперсии:"
   ]
  },
  {
   "cell_type": "code",
   "execution_count": 47,
   "id": "c5fb855c",
   "metadata": {},
   "outputs": [
    {
     "name": "stdout",
     "output_type": "stream",
     "text": [
      "метрика_cuped A: 0.06873279002566367,         метрика_cuped B: 0.06912407447459985\n",
      "метрика без cuped A: 0.068576459068819,         метрика без cuped B: 0.06928057553956835\n"
     ]
    }
   ],
   "source": [
    "print(f'метрика_cuped A: {shop_metrics_all_cuped[shop_metrics_all_cuped.group == \"A\"][\"purchased_cnt_cuped\"].mean()}, \\\n",
    "        метрика_cuped B: {shop_metrics_all_cuped[shop_metrics_all_cuped.group == \"B\"][\"purchased_cnt_cuped\"].mean()}')\n",
    "print(f'метрика без cuped A: {shop_metrics_all_cuped[shop_metrics_all_cuped.group == \"A\"][\"purchased_cnt\"].mean()}, \\\n",
    "        метрика без cuped B: {shop_metrics_all_cuped[shop_metrics_all_cuped.group == \"B\"][\"purchased_cnt\"].mean()}')"
   ]
  },
  {
   "cell_type": "code",
   "execution_count": 48,
   "id": "d2b7151b",
   "metadata": {},
   "outputs": [
    {
     "name": "stdout",
     "output_type": "stream",
     "text": [
      "метрика_cuped A: 0.005196228304093875,         метрика_cuped B: 0.004472867781521939\n",
      "метрика без cuped A: 0.1159763502649322,         метрика без cuped B: 0.12151424424733234\n"
     ]
    }
   ],
   "source": [
    "print(f'метрика_cuped A: {shop_metrics_all_cuped[shop_metrics_all_cuped.group == \"A\"][\"purchased_cnt_cuped\"].var()}, \\\n",
    "        метрика_cuped B: {shop_metrics_all_cuped[shop_metrics_all_cuped.group == \"B\"][\"purchased_cnt_cuped\"].var()}')\n",
    "print(f'метрика без cuped A: {shop_metrics_all_cuped[shop_metrics_all_cuped.group == \"A\"][\"purchased_cnt\"].var()}, \\\n",
    "        метрика без cuped B: {shop_metrics_all_cuped[shop_metrics_all_cuped.group == \"B\"][\"purchased_cnt\"].var()}')"
   ]
  },
  {
   "cell_type": "markdown",
   "id": "1a55ab7f",
   "metadata": {},
   "source": [
    "Все хорошо: средние сохранились, а дисперсии сократились => понимаем, почему снизился p-value"
   ]
  },
  {
   "cell_type": "code",
   "execution_count": 49,
   "id": "f037ae1c",
   "metadata": {},
   "outputs": [
    {
     "name": "stderr",
     "output_type": "stream",
     "text": [
      "100%|█████████████████████████████████████████| 100/100 [01:20<00:00,  1.24it/s]\n"
     ]
    },
    {
     "name": "stdout",
     "output_type": "stream",
     "text": [
      " power: 100.0% , correctness: 98.0%\n"
     ]
    },
    {
     "data": {
      "image/png": "[encoded data removed]",
      "text/plain": [
       "<Figure size 338.4x307.44 with 1 Axes>"
      ]
     },
     "metadata": {},
     "output_type": "display_data"
    }
   ],
   "source": [
    "# мощность и корректность для CUPED\n",
    "\n",
    "correctness = []\n",
    "power = []\n",
    "\n",
    "for i in tqdm(range(100)):\n",
    "    \n",
    "    new_group = groups_splitter(shop.copy(), user_salt=salt_generator())\n",
    "    new_df = pd.merge(shop, new_group, how=\"left\", on=['user_id']).drop_duplicates()\n",
    "    all_df = pd.merge(new_df, shop_metrics_old[['user_id', 'purchased_cnt']], on=['user_id'], how='left')\n",
    "    all_df = all_df.rename(columns={'purchased_cnt_x': 'purchased_cnt', 'purchased_cnt_y': 'purchased_cnt_covariate'})\n",
    "    \n",
    "    cuped_df = cuped_transform(all_df, ['purchased_cnt'])\n",
    "    \n",
    "    vec_a = cuped_df[(cuped_df['group'] == 'A')]['purchased_cnt_cuped']\n",
    "    vec_b = cuped_df[(cuped_df['group'] == 'B')]['purchased_cnt_cuped']\n",
    "    \n",
    "    vec_b_effect = vec_b * 1.05\n",
    "    \n",
    "    \n",
    "    p_cor, p_power = stats.ttest_ind(vec_a, vec_b)[1], stats.ttest_ind(vec_a, vec_b_effect)[1]\n",
    "    correctness.append(p_cor)\n",
    "    power.append(p_power)\n",
    "\n",
    "correctness = np.array(correctness)\n",
    "sns.set(rc={'figure.figsize':(4.7,4.27)})\n",
    "sns.histplot(data=correctness, bins=10, color='brown', kde=True)\n",
    "\n",
    "power = np.array(power)\n",
    "    \n",
    "print(f' power: {(power[power < 0.05].shape[0] / power.shape[0]) * 100}% , correctness: {(1 - (correctness[correctness < 0.05].shape[0] / correctness.shape[0])) * 100}%')"
   ]
  },
  {
   "cell_type": "markdown",
   "id": "4889ed3a",
   "metadata": {},
   "source": [
    "# Линеаризация ratio-метрик"
   ]
  },
  {
   "cell_type": "code",
   "execution_count": 50,
   "id": "7779936e",
   "metadata": {},
   "outputs": [],
   "source": [
    "def linearization(X, Y):\n",
    "    \n",
    "    import numpy as np\n",
    "    \n",
    "    X_mean = np.mean(X)\n",
    "    Y_mean = np.mean(Y)\n",
    "    X_Y = X_mean/Y_mean\n",
    "    z = [ X_Y + (X[i] - X_Y*Y[i])/Y_mean for i in range(len(X))]\n",
    "    return z\n"
   ]
  },
  {
   "cell_type": "markdown",
   "id": "fe74d3da",
   "metadata": {},
   "source": [
    "ctr_u = sum(cliked_u) / sum(views_u), CTR = mean(ctr_u),   lin_u = sum(cliked_u) - K_control * sum(views_u), K_control = mean(CTR_control)"
   ]
  },
  {
   "cell_type": "code",
   "execution_count": null,
   "id": "36324b36",
   "metadata": {},
   "outputs": [],
   "source": []
  },
  {
   "cell_type": "code",
   "execution_count": 51,
   "id": "1731c7e9",
   "metadata": {},
   "outputs": [],
   "source": [
    "def lin_results(df, metric_numerator, metric_denominator):\n",
    "\n",
    "    new_a = linearization(df[df['group']=='A'][metric_numerator].values, df[df['group']=='A'][metric_denominator].values)\n",
    "    new_b = linearization(df[df['group']=='B'][metric_numerator].values, df[df['group']=='B'][metric_denominator].values)\n",
    "\n",
    "    return metric_numerator, metric_denominator, scipy.stats.ttest_ind(new_a, new_b)"
   ]
  },
  {
   "cell_type": "markdown",
   "id": "be3af144",
   "metadata": {},
   "source": [
    "Создадим ratio-метрику:"
   ]
  },
  {
   "cell_type": "code",
   "execution_count": 52,
   "id": "6cdbf12e",
   "metadata": {},
   "outputs": [],
   "source": [
    "shop_metrics_new['ratio_metric'] = shop_metrics_new['cart_added_cnt'] / shop_metrics_new['products_viewed_cnt']"
   ]
  },
  {
   "cell_type": "code",
   "execution_count": 53,
   "id": "2e403429",
   "metadata": {},
   "outputs": [
    {
     "data": {
      "text/html": [
       "<div>\n",
       "<style scoped>\n",
       "    .dataframe tbody tr th:only-of-type {\n",
       "        vertical-align: middle;\n",
       "    }\n",
       "\n",
       "    .dataframe tbody tr th {\n",
       "        vertical-align: top;\n",
       "    }\n",
       "\n",
       "    .dataframe thead th {\n",
       "        text-align: right;\n",
       "    }\n",
       "</style>\n",
       "<table border=\"1\" class=\"dataframe\">\n",
       "  <thead>\n",
       "    <tr style=\"text-align: right;\">\n",
       "      <th></th>\n",
       "      <th>user_id</th>\n",
       "      <th>group</th>\n",
       "      <th>is_viewed</th>\n",
       "      <th>products_viewed_cnt</th>\n",
       "      <th>price_sum</th>\n",
       "      <th>is_cart_added</th>\n",
       "      <th>is_purchased</th>\n",
       "      <th>cart_added_cnt</th>\n",
       "      <th>purchased_cnt</th>\n",
       "      <th>purchased_cnt_ln</th>\n",
       "      <th>ratio_metric</th>\n",
       "    </tr>\n",
       "  </thead>\n",
       "  <tbody>\n",
       "    <tr>\n",
       "      <th>0</th>\n",
       "      <td>1515915625353230683</td>\n",
       "      <td>A</td>\n",
       "      <td>1</td>\n",
       "      <td>1</td>\n",
       "      <td>339.79</td>\n",
       "      <td>0.0</td>\n",
       "      <td>0.0</td>\n",
       "      <td>0</td>\n",
       "      <td>0</td>\n",
       "      <td>0.0</td>\n",
       "      <td>0.0</td>\n",
       "    </tr>\n",
       "    <tr>\n",
       "      <th>1</th>\n",
       "      <td>1515915625353234047</td>\n",
       "      <td>A</td>\n",
       "      <td>1</td>\n",
       "      <td>9</td>\n",
       "      <td>861.86</td>\n",
       "      <td>0.0</td>\n",
       "      <td>0.0</td>\n",
       "      <td>0</td>\n",
       "      <td>0</td>\n",
       "      <td>0.0</td>\n",
       "      <td>0.0</td>\n",
       "    </tr>\n",
       "    <tr>\n",
       "      <th>2</th>\n",
       "      <td>1515915625353236157</td>\n",
       "      <td>A</td>\n",
       "      <td>1</td>\n",
       "      <td>4</td>\n",
       "      <td>179.60</td>\n",
       "      <td>0.0</td>\n",
       "      <td>0.0</td>\n",
       "      <td>0</td>\n",
       "      <td>0</td>\n",
       "      <td>0.0</td>\n",
       "      <td>0.0</td>\n",
       "    </tr>\n",
       "    <tr>\n",
       "      <th>3</th>\n",
       "      <td>1515915625353294441</td>\n",
       "      <td>B</td>\n",
       "      <td>1</td>\n",
       "      <td>28</td>\n",
       "      <td>4283.04</td>\n",
       "      <td>0.0</td>\n",
       "      <td>0.0</td>\n",
       "      <td>0</td>\n",
       "      <td>0</td>\n",
       "      <td>0.0</td>\n",
       "      <td>0.0</td>\n",
       "    </tr>\n",
       "    <tr>\n",
       "      <th>4</th>\n",
       "      <td>1515915625353386199</td>\n",
       "      <td>B</td>\n",
       "      <td>1</td>\n",
       "      <td>1</td>\n",
       "      <td>20.98</td>\n",
       "      <td>0.0</td>\n",
       "      <td>0.0</td>\n",
       "      <td>0</td>\n",
       "      <td>0</td>\n",
       "      <td>0.0</td>\n",
       "      <td>0.0</td>\n",
       "    </tr>\n",
       "  </tbody>\n",
       "</table>\n",
       "</div>"
      ],
      "text/plain": [
       "               user_id group  is_viewed  products_viewed_cnt  price_sum  \\\n",
       "0  1515915625353230683     A          1                    1     339.79   \n",
       "1  1515915625353234047     A          1                    9     861.86   \n",
       "2  1515915625353236157     A          1                    4     179.60   \n",
       "3  1515915625353294441     B          1                   28    4283.04   \n",
       "4  1515915625353386199     B          1                    1      20.98   \n",
       "\n",
       "   is_cart_added  is_purchased  cart_added_cnt  purchased_cnt  \\\n",
       "0            0.0           0.0               0              0   \n",
       "1            0.0           0.0               0              0   \n",
       "2            0.0           0.0               0              0   \n",
       "3            0.0           0.0               0              0   \n",
       "4            0.0           0.0               0              0   \n",
       "\n",
       "   purchased_cnt_ln  ratio_metric  \n",
       "0               0.0           0.0  \n",
       "1               0.0           0.0  \n",
       "2               0.0           0.0  \n",
       "3               0.0           0.0  \n",
       "4               0.0           0.0  "
      ]
     },
     "execution_count": 53,
     "metadata": {},
     "output_type": "execute_result"
    }
   ],
   "source": [
    "shop_metrics_new.head()"
   ]
  },
  {
   "cell_type": "code",
   "execution_count": 54,
   "id": "213e3f05",
   "metadata": {},
   "outputs": [
    {
     "data": {
      "text/plain": [
       "('cart_added_cnt',\n",
       " 'products_viewed_cnt',\n",
       " Ttest_indResult(statistic=-1.2024848919197622, pvalue=0.2291769956760565))"
      ]
     },
     "execution_count": 54,
     "metadata": {},
     "output_type": "execute_result"
    }
   ],
   "source": [
    "lin_results(shop_metrics_new, 'cart_added_cnt', 'products_viewed_cnt')"
   ]
  },
  {
   "cell_type": "markdown",
   "id": "ac7b1cee",
   "metadata": {},
   "source": [
    "Сравним с результатами, полученными \"в лоб\""
   ]
  },
  {
   "cell_type": "code",
   "execution_count": 55,
   "id": "9ff2e07c",
   "metadata": {},
   "outputs": [
    {
     "data": {
      "text/plain": [
       "Ttest_indResult(statistic=-1.1548393785270104, pvalue=0.24815744815811186)"
      ]
     },
     "execution_count": 55,
     "metadata": {},
     "output_type": "execute_result"
    }
   ],
   "source": [
    "stats.ttest_ind(shop_metrics_new[shop_metrics_new.group == 'A']['ratio_metric'], \n",
    "                shop_metrics_new[shop_metrics_new.group == 'B']['ratio_metric'])"
   ]
  },
  {
   "cell_type": "code",
   "execution_count": null,
   "id": "fb035a35",
   "metadata": {},
   "outputs": [],
   "source": []
  },
  {
   "cell_type": "markdown",
   "id": "e221605b",
   "metadata": {},
   "source": [
    "# Постстратификация"
   ]
  },
  {
   "cell_type": "code",
   "execution_count": 56,
   "id": "72e65149",
   "metadata": {},
   "outputs": [
    {
     "data": {
      "text/html": [
       "<div>\n",
       "<style scoped>\n",
       "    .dataframe tbody tr th:only-of-type {\n",
       "        vertical-align: middle;\n",
       "    }\n",
       "\n",
       "    .dataframe tbody tr th {\n",
       "        vertical-align: top;\n",
       "    }\n",
       "\n",
       "    .dataframe thead th {\n",
       "        text-align: right;\n",
       "    }\n",
       "</style>\n",
       "<table border=\"1\" class=\"dataframe\">\n",
       "  <thead>\n",
       "    <tr style=\"text-align: right;\">\n",
       "      <th></th>\n",
       "      <th>user_id</th>\n",
       "      <th>user_age</th>\n",
       "      <th>user_sex</th>\n",
       "    </tr>\n",
       "  </thead>\n",
       "  <tbody>\n",
       "    <tr>\n",
       "      <th>0</th>\n",
       "      <td>1515915625519388267</td>\n",
       "      <td>41</td>\n",
       "      <td>f</td>\n",
       "    </tr>\n",
       "    <tr>\n",
       "      <th>1</th>\n",
       "      <td>1515915625519380411</td>\n",
       "      <td>84</td>\n",
       "      <td>m</td>\n",
       "    </tr>\n",
       "    <tr>\n",
       "      <th>2</th>\n",
       "      <td>1515915625513238515</td>\n",
       "      <td>41</td>\n",
       "      <td>m</td>\n",
       "    </tr>\n",
       "    <tr>\n",
       "      <th>3</th>\n",
       "      <td>1515915625519014356</td>\n",
       "      <td>25</td>\n",
       "      <td>m</td>\n",
       "    </tr>\n",
       "    <tr>\n",
       "      <th>4</th>\n",
       "      <td>1515915625510743344</td>\n",
       "      <td>42</td>\n",
       "      <td>m</td>\n",
       "    </tr>\n",
       "  </tbody>\n",
       "</table>\n",
       "</div>"
      ],
      "text/plain": [
       "               user_id  user_age user_sex\n",
       "0  1515915625519388267        41        f\n",
       "1  1515915625519380411        84        m\n",
       "2  1515915625513238515        41        m\n",
       "3  1515915625519014356        25        m\n",
       "4  1515915625510743344        42        m"
      ]
     },
     "execution_count": 56,
     "metadata": {},
     "output_type": "execute_result"
    }
   ],
   "source": [
    "shop_users_info.head()"
   ]
  },
  {
   "cell_type": "code",
   "execution_count": 57,
   "id": "802fd1d2",
   "metadata": {},
   "outputs": [],
   "source": [
    "shop_w_features = pd.merge(shop_metrics_new, shop_users_info, on=['user_id'], how='left')"
   ]
  },
  {
   "cell_type": "code",
   "execution_count": 58,
   "id": "82caf069",
   "metadata": {},
   "outputs": [],
   "source": [
    "shop_w_features['age_group'] = shop_w_features['user_age'].mask(shop_w_features['user_age'] < 60, '60minus') \\\n",
    "                               .mask(shop_w_features['user_age'] >= 60, '60plus')"
   ]
  },
  {
   "cell_type": "code",
   "execution_count": 59,
   "id": "7465a9ac",
   "metadata": {},
   "outputs": [
    {
     "data": {
      "text/plain": [
       "group  age_group\n",
       "A      60minus      70034\n",
       "       60plus       41287\n",
       "B      60minus      69735\n",
       "       60plus       41465\n",
       "Name: age_group, dtype: int64"
      ]
     },
     "execution_count": 59,
     "metadata": {},
     "output_type": "execute_result"
    }
   ],
   "source": [
    "shop_w_features.groupby('group')['age_group'].value_counts()"
   ]
  },
  {
   "cell_type": "markdown",
   "id": "4fea75f2",
   "metadata": {},
   "source": [
    "Распределение и так довольно равномерное по группам\n",
    "\n",
    "Вспомним классический результат"
   ]
  },
  {
   "cell_type": "code",
   "execution_count": 60,
   "id": "37887263",
   "metadata": {},
   "outputs": [
    {
     "data": {
      "text/plain": [
       "Ttest_indResult(statistic=-0.4819416819988476, pvalue=0.6298478488694023)"
      ]
     },
     "execution_count": 60,
     "metadata": {},
     "output_type": "execute_result"
    }
   ],
   "source": [
    "stats.ttest_ind(shop_w_features[shop_w_features.group == 'A']['purchased_cnt'], \n",
    "                shop_w_features[shop_w_features.group == 'B']['purchased_cnt'])"
   ]
  },
  {
   "cell_type": "code",
   "execution_count": 61,
   "id": "a3e37af1",
   "metadata": {},
   "outputs": [
    {
     "data": {
      "text/plain": [
       "1.0267611951832336"
      ]
     },
     "execution_count": 61,
     "metadata": {},
     "output_type": "execute_result"
    }
   ],
   "source": [
    "(shop_w_features[shop_w_features.group == 'B']['purchased_cnt'].mean() - shop_w_features[shop_w_features.group == 'A']['purchased_cnt'].mean()) \\\n",
    "        /shop_w_features[shop_w_features.group == 'A']['purchased_cnt'].mean() * 100"
   ]
  },
  {
   "cell_type": "code",
   "execution_count": 62,
   "id": "1e04cfe7",
   "metadata": {},
   "outputs": [
    {
     "name": "stdout",
     "output_type": "stream",
     "text": [
      "0.3405530065422007 0.34858893305343525\n"
     ]
    }
   ],
   "source": [
    "print(shop_w_features[shop_w_features.group == 'A']['purchased_cnt'].std(), \n",
    "      shop_w_features[shop_w_features.group == 'B']['purchased_cnt'].std())"
   ]
  },
  {
   "cell_type": "code",
   "execution_count": null,
   "id": "ac56ff8f",
   "metadata": {},
   "outputs": [],
   "source": []
  },
  {
   "cell_type": "markdown",
   "id": "522520f4",
   "metadata": {},
   "source": [
    "Теперь применим стратификацию и посмотрим, что получится"
   ]
  },
  {
   "cell_type": "code",
   "execution_count": 63,
   "id": "124ea5f3",
   "metadata": {},
   "outputs": [
    {
     "name": "stdout",
     "output_type": "stream",
     "text": [
      "effect: 1.029043278738222, std_a: 5.21160246817579e-07, std_b: 5.460266765505225e-07\n"
     ]
    },
    {
     "data": {
      "text/plain": [
       "Ttest_indResult(statistic=-311837.4384657417, pvalue=0.0)"
      ]
     },
     "execution_count": 63,
     "metadata": {},
     "output_type": "execute_result"
    }
   ],
   "source": [
    "N = shop_w_features['user_id'].nunique()\n",
    "    \n",
    "strats_weights = {}\n",
    "    \n",
    "for i in range(0, shop_w_features['age_group'].nunique()):\n",
    "    key = shop_w_features['age_group'].value_counts().index[i]\n",
    "    strats_weights[key] = shop_w_features['age_group'].value_counts()[i] / N\n",
    "        \n",
    "mean_a = shop_w_features[(shop_w_features.group == 'A') & (shop_w_features['age_group'] == '60minus')]['purchased_cnt'].mean() * strats_weights['60minus']\\\n",
    "        + shop_w_features[(shop_w_features.group == 'A') & (shop_w_features['age_group'] == '60plus')]['purchased_cnt'].mean() * strats_weights['60plus']\\\n",
    "\n",
    "mean_b = shop_w_features[(shop_w_features.group == 'B') & (shop_w_features['age_group'] == '60minus')]['purchased_cnt'].mean() * strats_weights['60minus']\\\n",
    "        + shop_w_features[(shop_w_features.group == 'B') & (shop_w_features['age_group'] == '60plus')]['purchased_cnt'].mean() * strats_weights['60plus']\n",
    "\n",
    "std_a = (shop_w_features[(shop_w_features.group == 'A') & (shop_w_features['age_group'] == '60minus')]['purchased_cnt'].std()**2 * strats_weights['60minus']\\\n",
    "        + shop_w_features[(shop_w_features.group == 'A') & (shop_w_features['age_group'] == '60plus')]['purchased_cnt'].std()**2 * strats_weights['60plus']) / N\n",
    "std_b = (shop_w_features[(shop_w_features.group == 'B') & (shop_w_features['age_group'] == '60minus')]['purchased_cnt'].std()**2 * strats_weights['60minus']\\\n",
    "        + shop_w_features[(shop_w_features.group == 'B') & (shop_w_features['age_group'] == '60plus')]['purchased_cnt'].std()**2 * strats_weights['60plus']) / N\n",
    "\n",
    "n_a = len(shop_w_features[shop_w_features.group == 'A'])\n",
    "n_b = len(shop_w_features[shop_w_features.group == 'B'])\n",
    "\n",
    "print(f'effect: {(mean_b - mean_a)/mean_a*100}, std_a: {std_a}, std_b: {std_b}')\n",
    "\n",
    "stats.ttest_ind_from_stats(mean_a, std_a, n_a, mean_b, std_b, n_b)"
   ]
  },
  {
   "cell_type": "code",
   "execution_count": 64,
   "id": "180c0fe9",
   "metadata": {},
   "outputs": [
    {
     "data": {
      "text/plain": [
       "{'60minus': 0.6281159980406343, '60plus': 0.3718840019593656}"
      ]
     },
     "execution_count": 64,
     "metadata": {},
     "output_type": "execute_result"
    }
   ],
   "source": [
    "strats_weights"
   ]
  },
  {
   "cell_type": "code",
   "execution_count": null,
   "id": "84cbc6ff",
   "metadata": {},
   "outputs": [],
   "source": []
  },
  {
   "cell_type": "code",
   "execution_count": null,
   "id": "49aac8dd",
   "metadata": {},
   "outputs": [],
   "source": []
  },
  {
   "cell_type": "markdown",
   "id": "c82906ec",
   "metadata": {},
   "source": [
    "# ДЗ 2:\n",
    "\n",
    "1. Применить ранговую трансформацию (потом t-test) и сравнить с результатами по Манну-Уитни на:\n",
    "- метрике cart_added_cnt \n",
    "\n",
    "(1 балл)\n",
    "\n",
    "2. Реализовать cuped-трансформацию и сравнить мощность t-критерия на:\n",
    "- обычной метрике cart_added_cnt\n",
    "- логарфимированной метрике cart_added_cnt\n",
    "- метрике cart_added_cnt (а после подвергнуть ранговому преобразованию)\n",
    "\n",
    "(3 балла)\n",
    "\n",
    "В каждом случае фиксировать, на сколько сокращается дисперсия, проверять равны ли средние в группах в ковариате и совпадают ли средние в метрике до и после применения cuped\n",
    "\n",
    "3. Реализовать разбивку на бакеты, оценить t-критерием и сравнить с результатом без бакетирования:\n",
    "- на логнормальном распределении (сгенерированные данные)\n",
    "- на метрике cart_added_cnt\n",
    "\n",
    "(2 балла)\n",
    "\n",
    "4. Реализовать постстратификацию на данных shop_metrics_old для метрики cart_added_cnt:\n",
    "- на сочетании пола и возраста (возраст разбить на подгруппы: 18-24, 25-45, 46-60, 61-75, 76+)\n",
    "подсчитать результаты для случая без постстратификации и с постстратификацией\n",
    "- проверить мощность и корректность t-критерия для постстратифицированного случая\n",
    "\n",
    "(2 балла)"
   ]
  },
  {
   "cell_type": "code",
   "execution_count": null,
   "id": "552f6915",
   "metadata": {},
   "outputs": [],
   "source": []
  }
 ],
 "metadata": {
  "kernelspec": {
   "display_name": "Python 3 (ipykernel)",
   "language": "python",
   "name": "python3"
  },
  "language_info": {
   "codemirror_mode": {
    "name": "ipython",
    "version": 3
   },
   "file_extension": ".py",
   "mimetype": "text/x-python",
   "name": "python",
   "nbconvert_exporter": "python",
   "pygments_lexer": "ipython3",
   "version": "3.9.12"
  }
 },
 "nbformat": 4,
 "nbformat_minor": 5
}
