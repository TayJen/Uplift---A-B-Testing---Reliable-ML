{
 "cells": [
  {
   "cell_type": "markdown",
   "id": "45d9e8bf-8d66-4629-9f06-447af79b477b",
   "metadata": {},
   "source": [
    "# Семинар 3 - Ambrosia"
   ]
  },
  {
   "cell_type": "markdown",
   "id": "8e1f0901-9886-457a-98d6-0b0f43913064",
   "metadata": {},
   "source": [
    "Библиотека покрывает основные этапы в АБ тестировании:\n",
    "- Подготовка данных (Preprocessing)\n",
    "- Дизайн эксперимента (Designer)\n",
    "- Деление объектов по группам (Splitter)\n",
    "- Оценка результатов эксперимента после его завершения (Tester)\n",
    "\n",
    "Все идет вокруг оценки разности средних (t-test используется как критерий по умолчанию), но есть поддержка Mann–Whitney и bootstrap"
   ]
  },
  {
   "cell_type": "code",
   "execution_count": 1,
   "id": "a7f04196-0bdf-407c-b8e5-32c41b9f0220",
   "metadata": {
    "execution": {
     "iopub.execute_input": "2023-12-01T16:21:17.425885Z",
     "iopub.status.busy": "2023-12-01T16:21:17.425885Z",
     "iopub.status.idle": "2023-12-01T16:21:19.597970Z",
     "shell.execute_reply": "2023-12-01T16:21:19.597970Z",
     "shell.execute_reply.started": "2023-12-01T16:21:17.425885Z"
    },
    "tags": []
   },
   "outputs": [],
   "source": [
    "import scipy\n",
    "import datetime\n",
    "\n",
    "import numpy as np\n",
    "import pandas as pd\n",
    "import seaborn as sns\n",
    "import matplotlib.pyplot as plt\n",
    "\n",
    "from pathlib import Path\n",
    "from tqdm.auto import tqdm\n",
    "\n",
    "from ambrosia.preprocessing import (Preprocessor, AggregatePreprocessor, RobustPreprocessor,\n",
    "                                    IQRPreprocessor, LogTransformer,\n",
    "                                    BoxCoxTransformer)\n",
    "from ambrosia.designer import Designer, design\n",
    "from ambrosia.splitter import Splitter, split\n",
    "from ambrosia.tester import Tester, test"
   ]
  },
  {
   "cell_type": "markdown",
   "id": "d6606996-804c-4ca0-9869-d6b1a00e8350",
   "metadata": {},
   "source": [
    "## Данные"
   ]
  },
  {
   "cell_type": "code",
   "execution_count": 2,
   "id": "477a9963-a5da-4a93-9e42-c2b0de7c61ae",
   "metadata": {
    "execution": {
     "iopub.execute_input": "2023-12-01T16:21:19.600889Z",
     "iopub.status.busy": "2023-12-01T16:21:19.599889Z",
     "iopub.status.idle": "2023-12-01T16:21:19.613916Z",
     "shell.execute_reply": "2023-12-01T16:21:19.613916Z",
     "shell.execute_reply.started": "2023-12-01T16:21:19.600889Z"
    },
    "tags": []
   },
   "outputs": [],
   "source": [
    "# 'https://github.com/sharthZ23/your-second-recsys/raw/master/data_kion.zip'\n",
    "# 'https://github.com/irsafilo/KION_DATASET/raw/f69775be31fa5779907cf0a92ddedb70037fb5ae/data_original.zip'\n",
    "DATA_PATH = Path(\"data_original\")"
   ]
  },
  {
   "cell_type": "code",
   "execution_count": 3,
   "id": "85b76edc-8c59-4199-b097-40994b59d339",
   "metadata": {
    "execution": {
     "iopub.execute_input": "2023-12-01T16:21:19.615916Z",
     "iopub.status.busy": "2023-12-01T16:21:19.614918Z",
     "iopub.status.idle": "2023-12-01T16:21:22.425037Z",
     "shell.execute_reply": "2023-12-01T16:21:22.425037Z",
     "shell.execute_reply.started": "2023-12-01T16:21:19.615916Z"
    },
    "tags": []
   },
   "outputs": [],
   "source": [
    "interactions = pd.read_csv(DATA_PATH / 'interactions.csv')\n",
    "users = pd.read_csv(DATA_PATH / 'users.csv')\n",
    "items = pd.read_csv(DATA_PATH / 'items.csv')"
   ]
  },
  {
   "cell_type": "code",
   "execution_count": 4,
   "id": "54420ee0-b52c-41d2-8838-135d529191d8",
   "metadata": {
    "execution": {
     "iopub.execute_input": "2023-12-01T16:21:22.427037Z",
     "iopub.status.busy": "2023-12-01T16:21:22.426039Z",
     "iopub.status.idle": "2023-12-01T16:21:24.550059Z",
     "shell.execute_reply": "2023-12-01T16:21:24.549056Z",
     "shell.execute_reply.started": "2023-12-01T16:21:22.427037Z"
    },
    "tags": []
   },
   "outputs": [
    {
     "name": "stdout",
     "output_type": "stream",
     "text": [
      "Уникальных юзеров в interactions: 962_179\n",
      "Уникальных айтемов в interactions: 15_706\n"
     ]
    }
   ],
   "source": [
    "# предобработка данных\n",
    "interactions['last_watch_dt'] = pd.to_datetime(interactions['last_watch_dt']).dt.date\n",
    "# interactions['user_id'] = interactions['user_id'].astype(str)\n",
    "\n",
    "print(f\"Уникальных юзеров в interactions: {interactions['user_id'].nunique():_}\")\n",
    "print(f\"Уникальных айтемов в interactions: {interactions['item_id'].nunique():_}\")"
   ]
  },
  {
   "cell_type": "code",
   "execution_count": 5,
   "id": "03dd667f-2532-4ca0-9e6b-cc6d2bece58b",
   "metadata": {
    "execution": {
     "iopub.execute_input": "2023-12-01T16:21:24.552059Z",
     "iopub.status.busy": "2023-12-01T16:21:24.551059Z",
     "iopub.status.idle": "2023-12-01T16:21:24.580056Z",
     "shell.execute_reply": "2023-12-01T16:21:24.580056Z",
     "shell.execute_reply.started": "2023-12-01T16:21:24.552059Z"
    },
    "tags": []
   },
   "outputs": [
    {
     "data": {
      "text/html": [
       "<div>\n",
       "<style scoped>\n",
       "    .dataframe tbody tr th:only-of-type {\n",
       "        vertical-align: middle;\n",
       "    }\n",
       "\n",
       "    .dataframe tbody tr th {\n",
       "        vertical-align: top;\n",
       "    }\n",
       "\n",
       "    .dataframe thead th {\n",
       "        text-align: right;\n",
       "    }\n",
       "</style>\n",
       "<table border=\"1\" class=\"dataframe\">\n",
       "  <thead>\n",
       "    <tr style=\"text-align: right;\">\n",
       "      <th></th>\n",
       "      <th>user_id</th>\n",
       "      <th>item_id</th>\n",
       "      <th>last_watch_dt</th>\n",
       "      <th>total_dur</th>\n",
       "      <th>watched_pct</th>\n",
       "    </tr>\n",
       "  </thead>\n",
       "  <tbody>\n",
       "    <tr>\n",
       "      <th>0</th>\n",
       "      <td>176549</td>\n",
       "      <td>9506</td>\n",
       "      <td>2021-05-11</td>\n",
       "      <td>4250</td>\n",
       "      <td>72.0</td>\n",
       "    </tr>\n",
       "    <tr>\n",
       "      <th>1</th>\n",
       "      <td>699317</td>\n",
       "      <td>1659</td>\n",
       "      <td>2021-05-29</td>\n",
       "      <td>8317</td>\n",
       "      <td>100.0</td>\n",
       "    </tr>\n",
       "    <tr>\n",
       "      <th>2</th>\n",
       "      <td>656683</td>\n",
       "      <td>7107</td>\n",
       "      <td>2021-05-09</td>\n",
       "      <td>10</td>\n",
       "      <td>0.0</td>\n",
       "    </tr>\n",
       "    <tr>\n",
       "      <th>3</th>\n",
       "      <td>864613</td>\n",
       "      <td>7638</td>\n",
       "      <td>2021-07-05</td>\n",
       "      <td>14483</td>\n",
       "      <td>100.0</td>\n",
       "    </tr>\n",
       "    <tr>\n",
       "      <th>4</th>\n",
       "      <td>964868</td>\n",
       "      <td>9506</td>\n",
       "      <td>2021-04-30</td>\n",
       "      <td>6725</td>\n",
       "      <td>100.0</td>\n",
       "    </tr>\n",
       "  </tbody>\n",
       "</table>\n",
       "</div>"
      ],
      "text/plain": [
       "   user_id  item_id last_watch_dt  total_dur  watched_pct\n",
       "0   176549     9506    2021-05-11       4250         72.0\n",
       "1   699317     1659    2021-05-29       8317        100.0\n",
       "2   656683     7107    2021-05-09         10          0.0\n",
       "3   864613     7638    2021-07-05      14483        100.0\n",
       "4   964868     9506    2021-04-30       6725        100.0"
      ]
     },
     "execution_count": 5,
     "metadata": {},
     "output_type": "execute_result"
    }
   ],
   "source": [
    "interactions.head()"
   ]
  },
  {
   "cell_type": "code",
   "execution_count": 6,
   "id": "bef24584-b7f3-4b7c-ba5d-af7e3fa3bf99",
   "metadata": {
    "execution": {
     "iopub.execute_input": "2023-12-01T16:21:24.582056Z",
     "iopub.status.busy": "2023-12-01T16:21:24.581057Z",
     "iopub.status.idle": "2023-12-01T16:21:25.039056Z",
     "shell.execute_reply": "2023-12-01T16:21:25.039056Z",
     "shell.execute_reply.started": "2023-12-01T16:21:24.582056Z"
    },
    "tags": []
   },
   "outputs": [
    {
     "name": "stdout",
     "output_type": "stream",
     "text": [
      "2021-03-13 2021-08-22\n"
     ]
    }
   ],
   "source": [
    "max_date = interactions['last_watch_dt'].max()\n",
    "min_date = interactions['last_watch_dt'].min()\n",
    "print(min_date, max_date)"
   ]
  },
  {
   "cell_type": "code",
   "execution_count": 7,
   "id": "bec4a38f-893e-4c5c-99bd-3fc2a4aebc33",
   "metadata": {
    "execution": {
     "iopub.execute_input": "2023-12-01T16:21:25.042056Z",
     "iopub.status.busy": "2023-12-01T16:21:25.042056Z",
     "iopub.status.idle": "2023-12-01T16:21:25.311957Z",
     "shell.execute_reply": "2023-12-01T16:21:25.310954Z",
     "shell.execute_reply.started": "2023-12-01T16:21:25.042056Z"
    },
    "tags": []
   },
   "outputs": [],
   "source": [
    "# выделим данные за одну (последнюю) неделю\n",
    "week1_orig = interactions[interactions['last_watch_dt'] >= max_date - datetime.timedelta(days=7)].copy()"
   ]
  },
  {
   "cell_type": "markdown",
   "id": "f05bfbb6-e6c4-4970-bc68-e6379f336619",
   "metadata": {},
   "source": [
    "## Preprocessing\n",
    "\n",
    "В Ambrosia есть scikit-learn like трансформеры для предобработки данных.\n",
    "\n",
    "Примеры из репы - [MobileTeleSystems/Ambrosia 1](https://github.com/MobileTeleSystems/Ambrosia/blob/main/examples/00_preprocessing.ipynbhttps://github.com/MobileTeleSystems/Ambrosia/blob/main/examples/00_preprocessing.ipynb), [MobileTeleSystems/Ambrosia 2](https://github.com/MobileTeleSystems/Ambrosia/blob/main/examples/02_preprocessor.ipynbhttps://github.com/MobileTeleSystems/Ambrosia/blob/main/examples/02_preprocessor.ipynb)"
   ]
  },
  {
   "cell_type": "code",
   "execution_count": 8,
   "id": "6039c76d-7878-4760-a884-beef5bcdaf34",
   "metadata": {
    "execution": {
     "iopub.execute_input": "2023-12-01T16:21:25.312953Z",
     "iopub.status.busy": "2023-12-01T16:21:25.312953Z",
     "iopub.status.idle": "2023-12-01T16:21:25.388957Z",
     "shell.execute_reply": "2023-12-01T16:21:25.387954Z",
     "shell.execute_reply.started": "2023-12-01T16:21:25.312953Z"
    },
    "tags": []
   },
   "outputs": [],
   "source": [
    "aggregator = AggregatePreprocessor(categorial_method='mode', real_method='sum')\n",
    "week1_agg = aggregator.fit_transform(dataframe=week1_orig, groupby_columns='user_id', real_cols=['total_dur'])"
   ]
  },
  {
   "cell_type": "code",
   "execution_count": 9,
   "id": "14b39362-e58f-4a47-8bc6-feb7a02a0b6d",
   "metadata": {
    "execution": {
     "iopub.execute_input": "2023-12-01T16:21:25.390957Z",
     "iopub.status.busy": "2023-12-01T16:21:25.389956Z",
     "iopub.status.idle": "2023-12-01T16:21:48.974423Z",
     "shell.execute_reply": "2023-12-01T16:21:48.973420Z",
     "shell.execute_reply.started": "2023-12-01T16:21:25.390957Z"
    },
    "tags": []
   },
   "outputs": [
    {
     "data": {
      "image/png": "[encoded data removed]",
      "text/plain": [
       "<Figure size 640x480 with 1 Axes>"
      ]
     },
     "metadata": {},
     "output_type": "display_data"
    }
   ],
   "source": [
    "ax = sns.histplot(week1_agg['total_dur'])"
   ]
  },
  {
   "cell_type": "code",
   "execution_count": 10,
   "id": "1f45d0e5-fa4d-4e34-92ec-753ca0202368",
   "metadata": {
    "execution": {
     "iopub.execute_input": "2023-12-01T16:21:48.975421Z",
     "iopub.status.busy": "2023-12-01T16:21:48.975421Z",
     "iopub.status.idle": "2023-12-01T16:21:49.441424Z",
     "shell.execute_reply": "2023-12-01T16:21:49.440420Z",
     "shell.execute_reply.started": "2023-12-01T16:21:48.975421Z"
    },
    "tags": []
   },
   "outputs": [
    {
     "data": {
      "image/png": "[encoded data removed]",
      "text/plain": [
       "<Figure size 640x480 with 1 Axes>"
      ]
     },
     "metadata": {},
     "output_type": "display_data"
    }
   ],
   "source": [
    "ax = sns.boxplot(week1_agg['total_dur'])"
   ]
  },
  {
   "cell_type": "code",
   "execution_count": 11,
   "id": "b04fa435-0ccc-4004-8719-791ebe44bd2a",
   "metadata": {
    "execution": {
     "iopub.execute_input": "2023-12-01T16:21:49.442424Z",
     "iopub.status.busy": "2023-12-01T16:21:49.442424Z",
     "iopub.status.idle": "2023-12-01T16:21:49.487347Z",
     "shell.execute_reply": "2023-12-01T16:21:49.486345Z",
     "shell.execute_reply.started": "2023-12-01T16:21:49.442424Z"
    },
    "tags": []
   },
   "outputs": [
    {
     "name": "stderr",
     "output_type": "stream",
     "text": [
      "ambrosia LOGGER: Making IQR transformation of columns ['total_dur']\n",
      "ambrosia LOGGER: \n",
      "\n",
      "ambrosia LOGGER: Change Mean total_dur: 17860.0928 ===> 7117.3791\n",
      "ambrosia LOGGER: Change Variance total_dur: 3923731565.8647 ===> 72851604.7364\n",
      "ambrosia LOGGER: Change IQR total_dur: 14422.5000 ===> 9627.0000\n",
      "ambrosia LOGGER: Change Range total_dur: 9731800.0000 ===> 36897.0000\n"
     ]
    }
   ],
   "source": [
    "iqr_transformer = IQRPreprocessor()\n",
    "week1_iqr = iqr_transformer.fit_transform(dataframe=week1_agg, column_names=['total_dur'])"
   ]
  },
  {
   "cell_type": "code",
   "execution_count": 12,
   "id": "01b9989c-057b-4910-84e1-fbd2408e9daf",
   "metadata": {
    "execution": {
     "iopub.execute_input": "2023-12-01T16:21:49.488345Z",
     "iopub.status.busy": "2023-12-01T16:21:49.487347Z",
     "iopub.status.idle": "2023-12-01T16:21:49.890345Z",
     "shell.execute_reply": "2023-12-01T16:21:49.890345Z",
     "shell.execute_reply.started": "2023-12-01T16:21:49.488345Z"
    },
    "tags": []
   },
   "outputs": [
    {
     "data": {
      "image/png": "[encoded data removed]",
      "text/plain": [
       "<Figure size 640x480 with 1 Axes>"
      ]
     },
     "metadata": {},
     "output_type": "display_data"
    }
   ],
   "source": [
    "ax = sns.histplot(week1_iqr['total_dur'])"
   ]
  },
  {
   "cell_type": "code",
   "execution_count": 13,
   "id": "ad102bc1-c138-4d04-820d-70a6286bd5e1",
   "metadata": {
    "execution": {
     "iopub.execute_input": "2023-12-01T16:21:49.892345Z",
     "iopub.status.busy": "2023-12-01T16:21:49.892345Z",
     "iopub.status.idle": "2023-12-01T16:21:49.921403Z",
     "shell.execute_reply": "2023-12-01T16:21:49.921403Z",
     "shell.execute_reply.started": "2023-12-01T16:21:49.892345Z"
    },
    "tags": []
   },
   "outputs": [
    {
     "name": "stderr",
     "output_type": "stream",
     "text": [
      "ambrosia LOGGER: Making right-tail robust transformation of columns ['total_dur']\n",
      "                 with alphas = [0.025]\n",
      "ambrosia LOGGER: \n",
      "\n",
      "ambrosia LOGGER: Change Mean total_dur: 17860.0928 ===> 11591.6125\n",
      "ambrosia LOGGER: Change Variance total_dur: 3923731565.8647 ===> 315389652.7180\n",
      "ambrosia LOGGER: Change IQR total_dur: 14422.5000 ===> 13098.5000\n",
      "ambrosia LOGGER: Change Range total_dur: 9731800.0000 ===> 110530.0000\n"
     ]
    }
   ],
   "source": [
    "robust_transformer = RobustPreprocessor()\n",
    "week1_rob = robust_transformer.fit_transform(dataframe=week1_agg, column_names='total_dur', alpha=0.025, tail='right')"
   ]
  },
  {
   "cell_type": "code",
   "execution_count": 14,
   "id": "4387928d-3d8e-4a9f-acf7-eda5fb11874e",
   "metadata": {
    "execution": {
     "iopub.execute_input": "2023-12-01T16:21:49.923406Z",
     "iopub.status.busy": "2023-12-01T16:21:49.922403Z",
     "iopub.status.idle": "2023-12-01T16:21:50.489403Z",
     "shell.execute_reply": "2023-12-01T16:21:50.489403Z",
     "shell.execute_reply.started": "2023-12-01T16:21:49.923406Z"
    },
    "tags": []
   },
   "outputs": [
    {
     "data": {
      "image/png": "[encoded data removed]",
      "text/plain": [
       "<Figure size 640x480 with 1 Axes>"
      ]
     },
     "metadata": {},
     "output_type": "display_data"
    }
   ],
   "source": [
    "ax = sns.histplot(week1_rob['total_dur'])"
   ]
  },
  {
   "cell_type": "markdown",
   "id": "d0db1d8d-b620-47d1-b4fc-49213b23901a",
   "metadata": {},
   "source": [
    "Для дальнейших вычислений пойдет результат от `RobustPreprocessor`, реализуем это через `Preprocessor` и потом дополнительно прологарифмируем \"таргет\""
   ]
  },
  {
   "cell_type": "code",
   "execution_count": 15,
   "id": "506269c2-8f1f-452e-a5e2-67924f8c6435",
   "metadata": {
    "execution": {
     "iopub.execute_input": "2023-12-01T16:21:50.491403Z",
     "iopub.status.busy": "2023-12-01T16:21:50.491403Z",
     "iopub.status.idle": "2023-12-01T16:21:50.602404Z",
     "shell.execute_reply": "2023-12-01T16:21:50.601403Z",
     "shell.execute_reply.started": "2023-12-01T16:21:50.491403Z"
    },
    "tags": []
   },
   "outputs": [
    {
     "name": "stderr",
     "output_type": "stream",
     "text": [
      "ambrosia LOGGER: Making right-tail robust transformation of columns ['total_dur']\n",
      "                 with alphas = [0.025]\n",
      "ambrosia LOGGER: \n",
      "\n",
      "ambrosia LOGGER: Change Mean total_dur: 17860.0928 ===> 11591.6125\n",
      "ambrosia LOGGER: Change Variance total_dur: 3923731565.8647 ===> 315389652.7180\n",
      "ambrosia LOGGER: Change IQR total_dur: 14422.5000 ===> 13098.5000\n",
      "ambrosia LOGGER: Change Range total_dur: 9731800.0000 ===> 110530.0000\n"
     ]
    }
   ],
   "source": [
    "preprocessor = Preprocessor(dataframe=week1_orig, verbose=True)\n",
    "\n",
    "week1 = (preprocessor\n",
    "         .aggregate(groupby_columns='user_id', agg_params={'total_dur': 'sum'})\n",
    "         .robust(['total_dur'], alpha=0.025, tail='right')\n",
    "         .data())"
   ]
  },
  {
   "cell_type": "code",
   "execution_count": 16,
   "id": "c89002cf-a93a-4d66-ba0e-4c71e0ff3134",
   "metadata": {
    "execution": {
     "iopub.execute_input": "2023-12-01T16:21:50.603406Z",
     "iopub.status.busy": "2023-12-01T16:21:50.603406Z",
     "iopub.status.idle": "2023-12-01T16:21:50.618405Z",
     "shell.execute_reply": "2023-12-01T16:21:50.617403Z",
     "shell.execute_reply.started": "2023-12-01T16:21:50.603406Z"
    },
    "tags": []
   },
   "outputs": [],
   "source": [
    "week1['total_dur_ln'] = np.log2(week1['total_dur'])"
   ]
  },
  {
   "cell_type": "code",
   "execution_count": 17,
   "id": "20d6fa47-a54f-4c7b-9131-619aae0cdba8",
   "metadata": {
    "execution": {
     "iopub.execute_input": "2023-12-01T16:21:50.619403Z",
     "iopub.status.busy": "2023-12-01T16:21:50.619403Z",
     "iopub.status.idle": "2023-12-01T16:21:51.174406Z",
     "shell.execute_reply": "2023-12-01T16:21:51.173403Z",
     "shell.execute_reply.started": "2023-12-01T16:21:50.619403Z"
    },
    "tags": []
   },
   "outputs": [
    {
     "data": {
      "image/png": "[encoded data removed]",
      "text/plain": [
       "<Figure size 640x480 with 1 Axes>"
      ]
     },
     "metadata": {},
     "output_type": "display_data"
    }
   ],
   "source": [
    "ax = sns.histplot(week1['total_dur'])"
   ]
  },
  {
   "cell_type": "code",
   "execution_count": 18,
   "id": "c5f77950-0234-46f8-bec2-c75feb25a984",
   "metadata": {
    "execution": {
     "iopub.execute_input": "2023-12-01T16:21:51.175403Z",
     "iopub.status.busy": "2023-12-01T16:21:51.175403Z",
     "iopub.status.idle": "2023-12-01T16:21:51.604473Z",
     "shell.execute_reply": "2023-12-01T16:21:51.603472Z",
     "shell.execute_reply.started": "2023-12-01T16:21:51.175403Z"
    },
    "tags": []
   },
   "outputs": [
    {
     "data": {
      "image/png": "[encoded data removed]",
      "text/plain": [
       "<Figure size 640x480 with 1 Axes>"
      ]
     },
     "metadata": {},
     "output_type": "display_data"
    }
   ],
   "source": [
    "ax = sns.histplot(week1['total_dur_ln'])"
   ]
  },
  {
   "cell_type": "markdown",
   "id": "6e78ddd9-a8ef-4fac-8d66-0b69fb037dad",
   "metadata": {},
   "source": [
    "## Designer\n",
    "\n",
    "4 основных параметра АБ теста:\n",
    "- **I type error** (alpha) - вероятность найти эффект, когда его нет\\\n",
    "1 - alpha это *корректность или значимость*\n",
    "- **II type error** (beta) - вероятность не найти эффект, когда он есть\\\n",
    "1 - beta это *мощность*\n",
    "- **Groups sizes** - размер групп \n",
    "- **Minimal detectable effect** (MDE) - минимальный эффект, который мы можем поймать при заданных уровнях мощности и корректности\n",
    "\n",
    "Разберем первый шаг - дизайн, представленный классом [Designer](https://ambrosia.readthedocs.io/en/latest/ambrosia_elements/designer.htmlhttps://ambrosia.readthedocs.io/en/latest/ambrosia_elements/designer.html)\n",
    "\n",
    "Примеры из репы - [MobileTeleSystems/Ambrosia](https://github.com/MobileTeleSystems/Ambrosia/blob/main/examples/03_pandas_designer.ipynbhttps://github.com/MobileTeleSystems/Ambrosia/blob/main/examples/03_pandas_designer.ipynb)"
   ]
  },
  {
   "cell_type": "code",
   "execution_count": 19,
   "id": "74281e59-85d3-460d-b982-80ec1ba862ec",
   "metadata": {
    "execution": {
     "iopub.execute_input": "2023-12-01T16:21:51.605473Z",
     "iopub.status.busy": "2023-12-01T16:21:51.605473Z",
     "iopub.status.idle": "2023-12-01T16:21:51.620476Z",
     "shell.execute_reply": "2023-12-01T16:21:51.619475Z",
     "shell.execute_reply.started": "2023-12-01T16:21:51.605473Z"
    },
    "tags": []
   },
   "outputs": [],
   "source": [
    "designer = Designer(dataframe=week1, metrics='total_dur_ln')\n",
    "designer_raw = Designer(dataframe=week1, metrics='total_dur')"
   ]
  },
  {
   "cell_type": "code",
   "execution_count": 20,
   "id": "bcd7a213-af87-4211-8511-7bc8b210e13c",
   "metadata": {
    "execution": {
     "iopub.execute_input": "2023-12-01T16:21:51.621473Z",
     "iopub.status.busy": "2023-12-01T16:21:51.621473Z",
     "iopub.status.idle": "2023-12-01T16:21:51.635473Z",
     "shell.execute_reply": "2023-12-01T16:21:51.635473Z",
     "shell.execute_reply.started": "2023-12-01T16:21:51.621473Z"
    },
    "tags": []
   },
   "outputs": [],
   "source": [
    "first_type_errors = [0.01, 0.05]\n",
    "second_type_errors = [0.1, 0.2]\n",
    "designer.set_first_errors(first_type_errors)\n",
    "designer.set_second_errors(second_type_errors)\n",
    "designer_raw.set_first_errors(first_type_errors)\n",
    "designer_raw.set_second_errors(second_type_errors)"
   ]
  },
  {
   "cell_type": "code",
   "execution_count": 21,
   "id": "aade6388-95cd-4c8f-b6d3-d99d95621f23",
   "metadata": {
    "execution": {
     "iopub.execute_input": "2023-12-01T16:21:51.637472Z",
     "iopub.status.busy": "2023-12-01T16:21:51.636474Z",
     "iopub.status.idle": "2023-12-01T16:21:51.651472Z",
     "shell.execute_reply": "2023-12-01T16:21:51.651472Z",
     "shell.execute_reply.started": "2023-12-01T16:21:51.637472Z"
    },
    "tags": []
   },
   "outputs": [],
   "source": [
    "effects = [1.01, 1.03, 1.05]"
   ]
  },
  {
   "cell_type": "markdown",
   "id": "358d93ed-ff1e-431d-b333-8209b30f2780",
   "metadata": {},
   "source": [
    "Про `method`:\n",
    "- `theory` - асимптотические формулы для t-test для средних. Описание тут - [habr](https://habr.com/ru/companies/ru_mts/articles/700992/)\n",
    "- `empiric` - оценка через сэмплирование групп для указанного критерия через `criterion`\n",
    "- `binary` - для 0/1 таргета\n",
    "\n",
    "Возможные значения `criterion`: `ttest`, `mw`, `bootstrap`\n",
    "\n",
    "Алгоритм применения от разработчиков:\n",
    "```\n",
    "Применить theory сначала (это быстро). Если он выдает небольшое число типо 10_000, то можно попробовать empiric для более точной оценки. \n",
    "Если 150_000, то empiric скорее всего будет тупить, так как ему в какой-то момент придется семплировать 100 выборок размера 150_000, а если bootstrap то так еще 100 раз (-_-) \n",
    "Но если размер выборок большой, то можно положиться на предельные теоремы в теоретическом подходе и поверить ему.\n",
    "```"
   ]
  },
  {
   "cell_type": "code",
   "execution_count": 22,
   "id": "f1588e5d-3b3a-43c2-bdda-24a35a12a34a",
   "metadata": {
    "execution": {
     "iopub.execute_input": "2023-12-01T16:21:51.657472Z",
     "iopub.status.busy": "2023-12-01T16:21:51.657472Z",
     "iopub.status.idle": "2023-12-01T16:21:51.747472Z",
     "shell.execute_reply": "2023-12-01T16:21:51.747472Z",
     "shell.execute_reply.started": "2023-12-01T16:21:51.657472Z"
    },
    "tags": []
   },
   "outputs": [
    {
     "data": {
      "text/html": [
       "<div>\n",
       "<style scoped>\n",
       "    .dataframe tbody tr th:only-of-type {\n",
       "        vertical-align: middle;\n",
       "    }\n",
       "\n",
       "    .dataframe tbody tr th {\n",
       "        vertical-align: top;\n",
       "    }\n",
       "\n",
       "    .dataframe thead tr th {\n",
       "        text-align: left;\n",
       "    }\n",
       "\n",
       "    .dataframe thead tr:last-of-type th {\n",
       "        text-align: right;\n",
       "    }\n",
       "</style>\n",
       "<table border=\"1\" class=\"dataframe\">\n",
       "  <thead>\n",
       "    <tr>\n",
       "      <th>Errors ($\\alpha$, $\\beta$)</th>\n",
       "      <th>(0.01; 0.1)</th>\n",
       "      <th>(0.01; 0.2)</th>\n",
       "      <th>(0.05; 0.1)</th>\n",
       "      <th>(0.05; 0.2)</th>\n",
       "    </tr>\n",
       "    <tr>\n",
       "      <th>Effect</th>\n",
       "      <th></th>\n",
       "      <th></th>\n",
       "      <th></th>\n",
       "      <th></th>\n",
       "    </tr>\n",
       "  </thead>\n",
       "  <tbody>\n",
       "    <tr>\n",
       "      <th>1.0%</th>\n",
       "      <td>698519</td>\n",
       "      <td>548275</td>\n",
       "      <td>493275</td>\n",
       "      <td>368469</td>\n",
       "    </tr>\n",
       "    <tr>\n",
       "      <th>3.0%</th>\n",
       "      <td>77615</td>\n",
       "      <td>60921</td>\n",
       "      <td>54810</td>\n",
       "      <td>40942</td>\n",
       "    </tr>\n",
       "    <tr>\n",
       "      <th>5.0%</th>\n",
       "      <td>27943</td>\n",
       "      <td>21933</td>\n",
       "      <td>19732</td>\n",
       "      <td>14740</td>\n",
       "    </tr>\n",
       "  </tbody>\n",
       "</table>\n",
       "</div>"
      ],
      "text/plain": [
       "Errors ($\\alpha$, $\\beta$) (0.01; 0.1) (0.01; 0.2) (0.05; 0.1) (0.05; 0.2)\n",
       "Effect                                                                    \n",
       "1.0%                            698519      548275      493275      368469\n",
       "3.0%                             77615       60921       54810       40942\n",
       "5.0%                             27943       21933       19732       14740"
      ]
     },
     "execution_count": 22,
     "metadata": {},
     "output_type": "execute_result"
    }
   ],
   "source": [
    "designer_raw.run(to_design='size', method='theory', effects=effects)"
   ]
  },
  {
   "cell_type": "code",
   "execution_count": 23,
   "id": "d4a529f9-de73-46d2-9bcf-da092ba2f4de",
   "metadata": {
    "execution": {
     "iopub.execute_input": "2023-12-01T16:21:51.749473Z",
     "iopub.status.busy": "2023-12-01T16:21:51.748472Z",
     "iopub.status.idle": "2023-12-01T16:21:51.828474Z",
     "shell.execute_reply": "2023-12-01T16:21:51.827473Z",
     "shell.execute_reply.started": "2023-12-01T16:21:51.749473Z"
    },
    "tags": []
   },
   "outputs": [
    {
     "data": {
      "text/html": [
       "<div>\n",
       "<style scoped>\n",
       "    .dataframe tbody tr th:only-of-type {\n",
       "        vertical-align: middle;\n",
       "    }\n",
       "\n",
       "    .dataframe tbody tr th {\n",
       "        vertical-align: top;\n",
       "    }\n",
       "\n",
       "    .dataframe thead tr th {\n",
       "        text-align: left;\n",
       "    }\n",
       "\n",
       "    .dataframe thead tr:last-of-type th {\n",
       "        text-align: right;\n",
       "    }\n",
       "</style>\n",
       "<table border=\"1\" class=\"dataframe\">\n",
       "  <thead>\n",
       "    <tr>\n",
       "      <th>Errors ($\\alpha$, $\\beta$)</th>\n",
       "      <th>(0.01; 0.1)</th>\n",
       "      <th>(0.01; 0.2)</th>\n",
       "      <th>(0.05; 0.1)</th>\n",
       "      <th>(0.05; 0.2)</th>\n",
       "    </tr>\n",
       "    <tr>\n",
       "      <th>Effect</th>\n",
       "      <th></th>\n",
       "      <th></th>\n",
       "      <th></th>\n",
       "      <th></th>\n",
       "    </tr>\n",
       "  </thead>\n",
       "  <tbody>\n",
       "    <tr>\n",
       "      <th>1.0%</th>\n",
       "      <td>26197</td>\n",
       "      <td>20563</td>\n",
       "      <td>18500</td>\n",
       "      <td>13819</td>\n",
       "    </tr>\n",
       "    <tr>\n",
       "      <th>3.0%</th>\n",
       "      <td>2913</td>\n",
       "      <td>2287</td>\n",
       "      <td>2057</td>\n",
       "      <td>1537</td>\n",
       "    </tr>\n",
       "    <tr>\n",
       "      <th>5.0%</th>\n",
       "      <td>1050</td>\n",
       "      <td>825</td>\n",
       "      <td>741</td>\n",
       "      <td>554</td>\n",
       "    </tr>\n",
       "  </tbody>\n",
       "</table>\n",
       "</div>"
      ],
      "text/plain": [
       "Errors ($\\alpha$, $\\beta$) (0.01; 0.1) (0.01; 0.2) (0.05; 0.1) (0.05; 0.2)\n",
       "Effect                                                                    \n",
       "1.0%                             26197       20563       18500       13819\n",
       "3.0%                              2913        2287        2057        1537\n",
       "5.0%                              1050         825         741         554"
      ]
     },
     "execution_count": 23,
     "metadata": {},
     "output_type": "execute_result"
    }
   ],
   "source": [
    "designer.run(to_design='size', method='theory', effects=effects)"
   ]
  },
  {
   "cell_type": "markdown",
   "id": "9bbae216-c068-4952-937f-019133dc2d45",
   "metadata": {},
   "source": [
    "Теоритические числа вдохновляют, теперь оценим через Манна-Уитни"
   ]
  },
  {
   "cell_type": "code",
   "execution_count": 24,
   "id": "b5fb807e-6e39-4df9-8a8c-03e945385541",
   "metadata": {
    "execution": {
     "iopub.execute_input": "2023-12-01T16:21:51.829472Z",
     "iopub.status.busy": "2023-12-01T16:21:51.829472Z",
     "iopub.status.idle": "2023-12-01T16:22:30.400288Z",
     "shell.execute_reply": "2023-12-01T16:22:30.399288Z",
     "shell.execute_reply.started": "2023-12-01T16:21:51.829472Z"
    },
    "tags": []
   },
   "outputs": [
    {
     "data": {
      "application/vnd.jupyter.widget-view+json": {
       "model_id": "0dc224fed2cb45388c9098bb82ee3efe",
       "version_major": 2,
       "version_minor": 0
      },
      "text/plain": [
       "Group sizes calculation:   0%|          | 0/12 [00:00<?, ?it/s]"
      ]
     },
     "metadata": {},
     "output_type": "display_data"
    },
    {
     "data": {
      "text/html": [
       "<div>\n",
       "<style scoped>\n",
       "    .dataframe tbody tr th:only-of-type {\n",
       "        vertical-align: middle;\n",
       "    }\n",
       "\n",
       "    .dataframe tbody tr th {\n",
       "        vertical-align: top;\n",
       "    }\n",
       "\n",
       "    .dataframe thead th {\n",
       "        text-align: right;\n",
       "    }\n",
       "</style>\n",
       "<table border=\"1\" class=\"dataframe\">\n",
       "  <thead>\n",
       "    <tr style=\"text-align: right;\">\n",
       "      <th>Errors ($\\alpha$, $\\beta$)</th>\n",
       "      <th>(0.01, 0.1)</th>\n",
       "      <th>(0.01, 0.2)</th>\n",
       "      <th>(0.05, 0.1)</th>\n",
       "      <th>(0.05, 0.2)</th>\n",
       "    </tr>\n",
       "    <tr>\n",
       "      <th>Effect</th>\n",
       "      <th></th>\n",
       "      <th></th>\n",
       "      <th></th>\n",
       "      <th></th>\n",
       "    </tr>\n",
       "  </thead>\n",
       "  <tbody>\n",
       "    <tr>\n",
       "      <th>1.0%</th>\n",
       "      <td>14989</td>\n",
       "      <td>11944</td>\n",
       "      <td>11585</td>\n",
       "      <td>8701</td>\n",
       "    </tr>\n",
       "    <tr>\n",
       "      <th>3.0%</th>\n",
       "      <td>1678</td>\n",
       "      <td>1344</td>\n",
       "      <td>1066</td>\n",
       "      <td>817</td>\n",
       "    </tr>\n",
       "    <tr>\n",
       "      <th>5.0%</th>\n",
       "      <td>565</td>\n",
       "      <td>489</td>\n",
       "      <td>442</td>\n",
       "      <td>421</td>\n",
       "    </tr>\n",
       "  </tbody>\n",
       "</table>\n",
       "</div>"
      ],
      "text/plain": [
       "Errors ($\\alpha$, $\\beta$)  (0.01, 0.1)  (0.01, 0.2)  (0.05, 0.1)  (0.05, 0.2)\n",
       "Effect                                                                        \n",
       "1.0%                              14989        11944        11585         8701\n",
       "3.0%                               1678         1344         1066          817\n",
       "5.0%                                565          489          442          421"
      ]
     },
     "execution_count": 24,
     "metadata": {},
     "output_type": "execute_result"
    }
   ],
   "source": [
    "designer.run(to_design='size', method='empiric', criterion='mw', effects=effects, bs_samples=100, n_jobs=8)"
   ]
  },
  {
   "cell_type": "markdown",
   "id": "421c9df5-2513-449f-bc0c-683f7e484986",
   "metadata": {
    "execution": {
     "iopub.execute_input": "2023-11-28T08:25:10.437139Z",
     "iopub.status.busy": "2023-11-28T08:25:10.437139Z",
     "iopub.status.idle": "2023-11-28T08:25:10.452141Z",
     "shell.execute_reply": "2023-11-28T08:25:10.451139Z",
     "shell.execute_reply.started": "2023-11-28T08:25:10.437139Z"
    }
   },
   "source": [
    "Оценим добавление эффекта не через constant (по умолчанию), а через нормальное распределение N(delta, небольшая дисперсия)"
   ]
  },
  {
   "cell_type": "code",
   "execution_count": 25,
   "id": "9b1d32f2-5f2d-4e8b-a422-92bca9bfa7c8",
   "metadata": {
    "execution": {
     "iopub.execute_input": "2023-12-01T16:22:30.402290Z",
     "iopub.status.busy": "2023-12-01T16:22:30.401288Z",
     "iopub.status.idle": "2023-12-01T16:23:34.331243Z",
     "shell.execute_reply": "2023-12-01T16:23:34.331243Z",
     "shell.execute_reply.started": "2023-12-01T16:22:30.401288Z"
    },
    "tags": []
   },
   "outputs": [
    {
     "data": {
      "application/vnd.jupyter.widget-view+json": {
       "model_id": "f1be9f17a41043acbcabd51689369a37",
       "version_major": 2,
       "version_minor": 0
      },
      "text/plain": [
       "Group sizes calculation:   0%|          | 0/12 [00:00<?, ?it/s]"
      ]
     },
     "metadata": {},
     "output_type": "display_data"
    },
    {
     "data": {
      "text/html": [
       "<div>\n",
       "<style scoped>\n",
       "    .dataframe tbody tr th:only-of-type {\n",
       "        vertical-align: middle;\n",
       "    }\n",
       "\n",
       "    .dataframe tbody tr th {\n",
       "        vertical-align: top;\n",
       "    }\n",
       "\n",
       "    .dataframe thead th {\n",
       "        text-align: right;\n",
       "    }\n",
       "</style>\n",
       "<table border=\"1\" class=\"dataframe\">\n",
       "  <thead>\n",
       "    <tr style=\"text-align: right;\">\n",
       "      <th>Errors ($\\alpha$, $\\beta$)</th>\n",
       "      <th>(0.01, 0.1)</th>\n",
       "      <th>(0.01, 0.2)</th>\n",
       "      <th>(0.05, 0.1)</th>\n",
       "      <th>(0.05, 0.2)</th>\n",
       "    </tr>\n",
       "    <tr>\n",
       "      <th>Effect</th>\n",
       "      <th></th>\n",
       "      <th></th>\n",
       "      <th></th>\n",
       "      <th></th>\n",
       "    </tr>\n",
       "  </thead>\n",
       "  <tbody>\n",
       "    <tr>\n",
       "      <th>1.0%</th>\n",
       "      <td>20521</td>\n",
       "      <td>16076</td>\n",
       "      <td>12584</td>\n",
       "      <td>9425</td>\n",
       "    </tr>\n",
       "    <tr>\n",
       "      <th>3.0%</th>\n",
       "      <td>2335</td>\n",
       "      <td>1617</td>\n",
       "      <td>1508</td>\n",
       "      <td>1077</td>\n",
       "    </tr>\n",
       "    <tr>\n",
       "      <th>5.0%</th>\n",
       "      <td>790</td>\n",
       "      <td>665</td>\n",
       "      <td>545</td>\n",
       "      <td>399</td>\n",
       "    </tr>\n",
       "  </tbody>\n",
       "</table>\n",
       "</div>"
      ],
      "text/plain": [
       "Errors ($\\alpha$, $\\beta$)  (0.01, 0.1)  (0.01, 0.2)  (0.05, 0.1)  (0.05, 0.2)\n",
       "Effect                                                                        \n",
       "1.0%                              20521        16076        12584         9425\n",
       "3.0%                               2335         1617         1508         1077\n",
       "5.0%                                790          665          545          399"
      ]
     },
     "execution_count": 25,
     "metadata": {},
     "output_type": "execute_result"
    }
   ],
   "source": [
    "designer.run(to_design='size', method='empiric', criterion='mw', injection_method='normal', effects=effects, bs_samples=100, n_jobs=8)"
   ]
  },
  {
   "cell_type": "markdown",
   "id": "c24ee0aa-92b2-4077-bc68-6ea916bcab8e",
   "metadata": {
    "execution": {
     "iopub.execute_input": "2023-11-28T08:29:26.149219Z",
     "iopub.status.busy": "2023-11-28T08:29:26.149219Z",
     "iopub.status.idle": "2023-11-28T08:29:26.159219Z",
     "shell.execute_reply": "2023-11-28T08:29:26.158284Z",
     "shell.execute_reply.started": "2023-11-28T08:29:26.149219Z"
    }
   },
   "source": [
    "Размеры групп оценили, теперь попробуем зайти с другой стороны - оценить эффект в зависимости от размера групп"
   ]
  },
  {
   "cell_type": "code",
   "execution_count": 26,
   "id": "e1bae555-d1b6-474a-9d50-eec23b718a96",
   "metadata": {
    "execution": {
     "iopub.execute_input": "2023-12-01T16:23:34.333244Z",
     "iopub.status.busy": "2023-12-01T16:23:34.332246Z",
     "iopub.status.idle": "2023-12-01T16:24:17.160949Z",
     "shell.execute_reply": "2023-12-01T16:24:17.159948Z",
     "shell.execute_reply.started": "2023-12-01T16:23:34.333244Z"
    },
    "tags": []
   },
   "outputs": [
    {
     "data": {
      "application/vnd.jupyter.widget-view+json": {
       "model_id": "5f228b0180ea4334ae2b9cd1173b1b10",
       "version_major": 2,
       "version_minor": 0
      },
      "text/plain": [
       "MDE calculation:   0%|          | 0/12 [00:00<?, ?it/s]"
      ]
     },
     "metadata": {},
     "output_type": "display_data"
    },
    {
     "data": {
      "text/html": [
       "<div>\n",
       "<style scoped>\n",
       "    .dataframe tbody tr th:only-of-type {\n",
       "        vertical-align: middle;\n",
       "    }\n",
       "\n",
       "    .dataframe tbody tr th {\n",
       "        vertical-align: top;\n",
       "    }\n",
       "\n",
       "    .dataframe thead th {\n",
       "        text-align: right;\n",
       "    }\n",
       "</style>\n",
       "<table border=\"1\" class=\"dataframe\">\n",
       "  <thead>\n",
       "    <tr style=\"text-align: right;\">\n",
       "      <th>Errors ($\\alpha$, $\\beta$)</th>\n",
       "      <th>(0.01, 0.1)</th>\n",
       "      <th>(0.01, 0.2)</th>\n",
       "      <th>(0.05, 0.1)</th>\n",
       "      <th>(0.05, 0.2)</th>\n",
       "    </tr>\n",
       "    <tr>\n",
       "      <th>Group sizes</th>\n",
       "      <th></th>\n",
       "      <th></th>\n",
       "      <th></th>\n",
       "      <th></th>\n",
       "    </tr>\n",
       "  </thead>\n",
       "  <tbody>\n",
       "    <tr>\n",
       "      <th>1000</th>\n",
       "      <td>4.8%</td>\n",
       "      <td>4.2%</td>\n",
       "      <td>3.7%</td>\n",
       "      <td>2.9%</td>\n",
       "    </tr>\n",
       "    <tr>\n",
       "      <th>10000</th>\n",
       "      <td>1.4%</td>\n",
       "      <td>1.2%</td>\n",
       "      <td>1.2%</td>\n",
       "      <td>1.1%</td>\n",
       "    </tr>\n",
       "    <tr>\n",
       "      <th>20000</th>\n",
       "      <td>1.0%</td>\n",
       "      <td>1.0%</td>\n",
       "      <td>0.9%</td>\n",
       "      <td>0.7%</td>\n",
       "    </tr>\n",
       "  </tbody>\n",
       "</table>\n",
       "</div>"
      ],
      "text/plain": [
       "Errors ($\\alpha$, $\\beta$) (0.01, 0.1) (0.01, 0.2) (0.05, 0.1) (0.05, 0.2)\n",
       "Group sizes                                                               \n",
       "1000                              4.8%        4.2%        3.7%        2.9%\n",
       "10000                             1.4%        1.2%        1.2%        1.1%\n",
       "20000                             1.0%        1.0%        0.9%        0.7%"
      ]
     },
     "execution_count": 26,
     "metadata": {},
     "output_type": "execute_result"
    }
   ],
   "source": [
    "sizes = [1_000, 10_000, 20_000]\n",
    "\n",
    "designer.run(to_design='effect', method='empiric', criterion='mw', injection_method='normal', effects=effects, sizes=sizes, bs_samples=100, n_jobs=8)"
   ]
  },
  {
   "cell_type": "markdown",
   "id": "fd5e8d7e-d840-451d-adb8-1b14195d88e8",
   "metadata": {},
   "source": [
    "Параметр `groups_ratio` позволяет оценивать не одинаковые группы. Размер группы B равен размеру группы A умноженного на `groups_ratio`"
   ]
  },
  {
   "cell_type": "code",
   "execution_count": 27,
   "id": "495fe691-c898-442a-a951-45d934b9713f",
   "metadata": {
    "execution": {
     "iopub.execute_input": "2023-12-01T16:24:17.161949Z",
     "iopub.status.busy": "2023-12-01T16:24:17.161949Z",
     "iopub.status.idle": "2023-12-01T16:24:39.068220Z",
     "shell.execute_reply": "2023-12-01T16:24:39.067220Z",
     "shell.execute_reply.started": "2023-12-01T16:24:17.161949Z"
    },
    "tags": []
   },
   "outputs": [
    {
     "data": {
      "application/vnd.jupyter.widget-view+json": {
       "model_id": "2b3c956474024fc0aebc20518fd9882d",
       "version_major": 2,
       "version_minor": 0
      },
      "text/plain": [
       "MDE calculation:   0%|          | 0/12 [00:00<?, ?it/s]"
      ]
     },
     "metadata": {},
     "output_type": "display_data"
    },
    {
     "data": {
      "text/html": [
       "<div>\n",
       "<style scoped>\n",
       "    .dataframe tbody tr th:only-of-type {\n",
       "        vertical-align: middle;\n",
       "    }\n",
       "\n",
       "    .dataframe tbody tr th {\n",
       "        vertical-align: top;\n",
       "    }\n",
       "\n",
       "    .dataframe thead th {\n",
       "        text-align: right;\n",
       "    }\n",
       "</style>\n",
       "<table border=\"1\" class=\"dataframe\">\n",
       "  <thead>\n",
       "    <tr style=\"text-align: right;\">\n",
       "      <th>Errors ($\\alpha$, $\\beta$)</th>\n",
       "      <th>(0.01, 0.1)</th>\n",
       "      <th>(0.01, 0.2)</th>\n",
       "      <th>(0.05, 0.1)</th>\n",
       "      <th>(0.05, 0.2)</th>\n",
       "    </tr>\n",
       "    <tr>\n",
       "      <th>Group sizes</th>\n",
       "      <th></th>\n",
       "      <th></th>\n",
       "      <th></th>\n",
       "      <th></th>\n",
       "    </tr>\n",
       "  </thead>\n",
       "  <tbody>\n",
       "    <tr>\n",
       "      <th>1000</th>\n",
       "      <td>11.3%</td>\n",
       "      <td>8.6%</td>\n",
       "      <td>9.4%</td>\n",
       "      <td>7.9%</td>\n",
       "    </tr>\n",
       "    <tr>\n",
       "      <th>10000</th>\n",
       "      <td>3.1%</td>\n",
       "      <td>2.9%</td>\n",
       "      <td>2.8%</td>\n",
       "      <td>2.4%</td>\n",
       "    </tr>\n",
       "    <tr>\n",
       "      <th>20000</th>\n",
       "      <td>2.4%</td>\n",
       "      <td>2.1%</td>\n",
       "      <td>1.9%</td>\n",
       "      <td>1.5%</td>\n",
       "    </tr>\n",
       "  </tbody>\n",
       "</table>\n",
       "</div>"
      ],
      "text/plain": [
       "Errors ($\\alpha$, $\\beta$) (0.01, 0.1) (0.01, 0.2) (0.05, 0.1) (0.05, 0.2)\n",
       "Group sizes                                                               \n",
       "1000                             11.3%        8.6%        9.4%        7.9%\n",
       "10000                             3.1%        2.9%        2.8%        2.4%\n",
       "20000                             2.4%        2.1%        1.9%        1.5%"
      ]
     },
     "execution_count": 27,
     "metadata": {},
     "output_type": "execute_result"
    }
   ],
   "source": [
    "designer.run(to_design='effect', method='empiric', criterion='mw', injection_method='normal', effects=effects, sizes=sizes, groups_ratio=0.1, bs_samples=100, n_jobs=8)"
   ]
  },
  {
   "cell_type": "markdown",
   "id": "41b034fc-9711-40c9-acb3-e45ade0f1d58",
   "metadata": {
    "execution": {
     "iopub.execute_input": "2023-11-28T08:36:17.707186Z",
     "iopub.status.busy": "2023-11-28T08:36:17.707186Z",
     "iopub.status.idle": "2023-11-28T08:36:17.726210Z",
     "shell.execute_reply": "2023-11-28T08:36:17.725210Z",
     "shell.execute_reply.started": "2023-11-28T08:36:17.707186Z"
    }
   },
   "source": [
    "Имея эффекты и размеры групп, мы можем оценить мощность"
   ]
  },
  {
   "cell_type": "code",
   "execution_count": 28,
   "id": "adacd330-7298-4697-97e9-aa327465d2c2",
   "metadata": {
    "execution": {
     "iopub.execute_input": "2023-12-01T16:24:39.069220Z",
     "iopub.status.busy": "2023-12-01T16:24:39.069220Z",
     "iopub.status.idle": "2023-12-01T16:24:41.736220Z",
     "shell.execute_reply": "2023-12-01T16:24:41.735218Z",
     "shell.execute_reply.started": "2023-12-01T16:24:39.069220Z"
    },
    "tags": []
   },
   "outputs": [
    {
     "data": {
      "application/vnd.jupyter.widget-view+json": {
       "model_id": "27bf603af47546eab86f9e92a77b2bff",
       "version_major": 2,
       "version_minor": 0
      },
      "text/plain": [
       "Empirical errors calculation:   0%|          | 0/18 [00:00<?, ?it/s]"
      ]
     },
     "metadata": {},
     "output_type": "display_data"
    },
    {
     "data": {
      "text/html": [
       "<div>\n",
       "<style scoped>\n",
       "    .dataframe tbody tr th:only-of-type {\n",
       "        vertical-align: middle;\n",
       "    }\n",
       "\n",
       "    .dataframe tbody tr th {\n",
       "        vertical-align: top;\n",
       "    }\n",
       "\n",
       "    .dataframe thead th {\n",
       "        text-align: right;\n",
       "    }\n",
       "</style>\n",
       "<table border=\"1\" class=\"dataframe\">\n",
       "  <thead>\n",
       "    <tr style=\"text-align: right;\">\n",
       "      <th></th>\n",
       "      <th>Group sizes</th>\n",
       "      <th>(1000, 100)</th>\n",
       "      <th>(10000, 1000)</th>\n",
       "      <th>(20000, 2000)</th>\n",
       "    </tr>\n",
       "    <tr>\n",
       "      <th>$\\alpha$</th>\n",
       "      <th>Effect</th>\n",
       "      <th></th>\n",
       "      <th></th>\n",
       "      <th></th>\n",
       "    </tr>\n",
       "  </thead>\n",
       "  <tbody>\n",
       "    <tr>\n",
       "      <th rowspan=\"3\" valign=\"top\">0.01</th>\n",
       "      <th>1.0%</th>\n",
       "      <td>2.0%</td>\n",
       "      <td>7.0%</td>\n",
       "      <td>18.0%</td>\n",
       "    </tr>\n",
       "    <tr>\n",
       "      <th>3.0%</th>\n",
       "      <td>8.0%</td>\n",
       "      <td>85.0%</td>\n",
       "      <td>97.0%</td>\n",
       "    </tr>\n",
       "    <tr>\n",
       "      <th>5.0%</th>\n",
       "      <td>23.0%</td>\n",
       "      <td>100.0%</td>\n",
       "      <td>100.0%</td>\n",
       "    </tr>\n",
       "    <tr>\n",
       "      <th rowspan=\"3\" valign=\"top\">0.05</th>\n",
       "      <th>1.0%</th>\n",
       "      <td>10.0%</td>\n",
       "      <td>15.0%</td>\n",
       "      <td>34.0%</td>\n",
       "    </tr>\n",
       "    <tr>\n",
       "      <th>3.0%</th>\n",
       "      <td>23.0%</td>\n",
       "      <td>90.0%</td>\n",
       "      <td>100.0%</td>\n",
       "    </tr>\n",
       "    <tr>\n",
       "      <th>5.0%</th>\n",
       "      <td>42.0%</td>\n",
       "      <td>100.0%</td>\n",
       "      <td>100.0%</td>\n",
       "    </tr>\n",
       "  </tbody>\n",
       "</table>\n",
       "</div>"
      ],
      "text/plain": [
       "Group sizes     (1000, 100) (10000, 1000) (20000, 2000)\n",
       "$\\alpha$ Effect                                        \n",
       "0.01     1.0%          2.0%          7.0%         18.0%\n",
       "         3.0%          8.0%         85.0%         97.0%\n",
       "         5.0%         23.0%        100.0%        100.0%\n",
       "0.05     1.0%         10.0%         15.0%         34.0%\n",
       "         3.0%         23.0%         90.0%        100.0%\n",
       "         5.0%         42.0%        100.0%        100.0%"
      ]
     },
     "execution_count": 28,
     "metadata": {},
     "output_type": "execute_result"
    }
   ],
   "source": [
    "designer.run(to_design='power', method='empiric', criterion='mw', injection_method='normal', effects=effects, sizes=sizes, groups_ratio=0.1, bs_samples=100, n_jobs=8)"
   ]
  },
  {
   "cell_type": "markdown",
   "id": "a5ec2496-3f45-4f05-bd84-599b2e8d6623",
   "metadata": {},
   "source": [
    "Параметр `alternative` позволяет задать ожидаемое направление в изменении эффекта. Возможные значения: `two-sided` (по умолчанию), `greater`, `less`"
   ]
  },
  {
   "cell_type": "code",
   "execution_count": 29,
   "id": "88d61d24-7842-4db2-8479-b67e919d8bbb",
   "metadata": {
    "execution": {
     "iopub.execute_input": "2023-12-01T16:24:41.737220Z",
     "iopub.status.busy": "2023-12-01T16:24:41.737220Z",
     "iopub.status.idle": "2023-12-01T16:24:44.405544Z",
     "shell.execute_reply": "2023-12-01T16:24:44.404544Z",
     "shell.execute_reply.started": "2023-12-01T16:24:41.737220Z"
    },
    "tags": []
   },
   "outputs": [
    {
     "data": {
      "application/vnd.jupyter.widget-view+json": {
       "model_id": "0282fbbf0eec47b58289b8d8e03ead11",
       "version_major": 2,
       "version_minor": 0
      },
      "text/plain": [
       "Empirical errors calculation:   0%|          | 0/18 [00:00<?, ?it/s]"
      ]
     },
     "metadata": {},
     "output_type": "display_data"
    },
    {
     "data": {
      "text/html": [
       "<div>\n",
       "<style scoped>\n",
       "    .dataframe tbody tr th:only-of-type {\n",
       "        vertical-align: middle;\n",
       "    }\n",
       "\n",
       "    .dataframe tbody tr th {\n",
       "        vertical-align: top;\n",
       "    }\n",
       "\n",
       "    .dataframe thead th {\n",
       "        text-align: right;\n",
       "    }\n",
       "</style>\n",
       "<table border=\"1\" class=\"dataframe\">\n",
       "  <thead>\n",
       "    <tr style=\"text-align: right;\">\n",
       "      <th></th>\n",
       "      <th>Group sizes</th>\n",
       "      <th>(1000, 100)</th>\n",
       "      <th>(10000, 1000)</th>\n",
       "      <th>(20000, 2000)</th>\n",
       "    </tr>\n",
       "    <tr>\n",
       "      <th>$\\alpha$</th>\n",
       "      <th>Effect</th>\n",
       "      <th></th>\n",
       "      <th></th>\n",
       "      <th></th>\n",
       "    </tr>\n",
       "  </thead>\n",
       "  <tbody>\n",
       "    <tr>\n",
       "      <th rowspan=\"3\" valign=\"top\">0.01</th>\n",
       "      <th>1.0%</th>\n",
       "      <td>2.0%</td>\n",
       "      <td>14.0%</td>\n",
       "      <td>35.0%</td>\n",
       "    </tr>\n",
       "    <tr>\n",
       "      <th>3.0%</th>\n",
       "      <td>19.0%</td>\n",
       "      <td>92.0%</td>\n",
       "      <td>99.0%</td>\n",
       "    </tr>\n",
       "    <tr>\n",
       "      <th>5.0%</th>\n",
       "      <td>26.0%</td>\n",
       "      <td>100.0%</td>\n",
       "      <td>100.0%</td>\n",
       "    </tr>\n",
       "    <tr>\n",
       "      <th rowspan=\"3\" valign=\"top\">0.05</th>\n",
       "      <th>1.0%</th>\n",
       "      <td>6.0%</td>\n",
       "      <td>32.0%</td>\n",
       "      <td>56.0%</td>\n",
       "    </tr>\n",
       "    <tr>\n",
       "      <th>3.0%</th>\n",
       "      <td>23.0%</td>\n",
       "      <td>99.0%</td>\n",
       "      <td>100.0%</td>\n",
       "    </tr>\n",
       "    <tr>\n",
       "      <th>5.0%</th>\n",
       "      <td>48.0%</td>\n",
       "      <td>100.0%</td>\n",
       "      <td>100.0%</td>\n",
       "    </tr>\n",
       "  </tbody>\n",
       "</table>\n",
       "</div>"
      ],
      "text/plain": [
       "Group sizes     (1000, 100) (10000, 1000) (20000, 2000)\n",
       "$\\alpha$ Effect                                        \n",
       "0.01     1.0%          2.0%         14.0%         35.0%\n",
       "         3.0%         19.0%         92.0%         99.0%\n",
       "         5.0%         26.0%        100.0%        100.0%\n",
       "0.05     1.0%          6.0%         32.0%         56.0%\n",
       "         3.0%         23.0%         99.0%        100.0%\n",
       "         5.0%         48.0%        100.0%        100.0%"
      ]
     },
     "execution_count": 29,
     "metadata": {},
     "output_type": "execute_result"
    }
   ],
   "source": [
    "designer.run(to_design='power', method='empiric', criterion='mw', injection_method='normal', alternative='greater', effects=effects, sizes=sizes, groups_ratio=0.1, bs_samples=100, n_jobs=8)"
   ]
  },
  {
   "cell_type": "markdown",
   "id": "96256077-52d3-4dda-b4da-3c2bd8f5c4a9",
   "metadata": {},
   "source": [
    "Тоже самое, но через функцию `design`"
   ]
  },
  {
   "cell_type": "code",
   "execution_count": 30,
   "id": "eb1a5593-a022-444f-b5e5-dec13b957484",
   "metadata": {
    "execution": {
     "iopub.execute_input": "2023-12-01T16:24:44.406546Z",
     "iopub.status.busy": "2023-12-01T16:24:44.406546Z",
     "iopub.status.idle": "2023-12-01T16:24:47.130544Z",
     "shell.execute_reply": "2023-12-01T16:24:47.129545Z",
     "shell.execute_reply.started": "2023-12-01T16:24:44.406546Z"
    },
    "tags": []
   },
   "outputs": [
    {
     "data": {
      "application/vnd.jupyter.widget-view+json": {
       "model_id": "a22f55b7d5b546618687d27920406dfc",
       "version_major": 2,
       "version_minor": 0
      },
      "text/plain": [
       "Empirical errors calculation:   0%|          | 0/18 [00:00<?, ?it/s]"
      ]
     },
     "metadata": {},
     "output_type": "display_data"
    }
   ],
   "source": [
    "design_result = design(\n",
    "    dataframe=week1,\n",
    "    metrics=['total_dur'],\n",
    "    to_design='power',\n",
    "    method='empiric',\n",
    "    first_type_errors=first_type_errors,\n",
    "    second_type_errors=second_type_errors,\n",
    "    criterion='mw', \n",
    "    injection_method='normal', \n",
    "    alternative='greater', \n",
    "    effects=effects, \n",
    "    sizes=sizes, \n",
    "    groups_ratio=0.1, \n",
    "    bs_samples=100, \n",
    "    n_jobs=8\n",
    ")"
   ]
  },
  {
   "cell_type": "code",
   "execution_count": 31,
   "id": "4696e0ae-af58-45ae-b809-e20594f64240",
   "metadata": {
    "execution": {
     "iopub.execute_input": "2023-12-01T16:24:47.131546Z",
     "iopub.status.busy": "2023-12-01T16:24:47.131546Z",
     "iopub.status.idle": "2023-12-01T16:24:47.146546Z",
     "shell.execute_reply": "2023-12-01T16:24:47.145545Z",
     "shell.execute_reply.started": "2023-12-01T16:24:47.131546Z"
    },
    "tags": []
   },
   "outputs": [
    {
     "data": {
      "text/html": [
       "<div>\n",
       "<style scoped>\n",
       "    .dataframe tbody tr th:only-of-type {\n",
       "        vertical-align: middle;\n",
       "    }\n",
       "\n",
       "    .dataframe tbody tr th {\n",
       "        vertical-align: top;\n",
       "    }\n",
       "\n",
       "    .dataframe thead th {\n",
       "        text-align: right;\n",
       "    }\n",
       "</style>\n",
       "<table border=\"1\" class=\"dataframe\">\n",
       "  <thead>\n",
       "    <tr style=\"text-align: right;\">\n",
       "      <th></th>\n",
       "      <th>Group sizes</th>\n",
       "      <th>(1000, 100)</th>\n",
       "      <th>(10000, 1000)</th>\n",
       "      <th>(20000, 2000)</th>\n",
       "    </tr>\n",
       "    <tr>\n",
       "      <th>$\\alpha$</th>\n",
       "      <th>Effect</th>\n",
       "      <th></th>\n",
       "      <th></th>\n",
       "      <th></th>\n",
       "    </tr>\n",
       "  </thead>\n",
       "  <tbody>\n",
       "    <tr>\n",
       "      <th rowspan=\"3\" valign=\"top\">0.01</th>\n",
       "      <th>1.0%</th>\n",
       "      <td>2.0%</td>\n",
       "      <td>8.0%</td>\n",
       "      <td>4.0%</td>\n",
       "    </tr>\n",
       "    <tr>\n",
       "      <th>3.0%</th>\n",
       "      <td>3.0%</td>\n",
       "      <td>27.0%</td>\n",
       "      <td>61.0%</td>\n",
       "    </tr>\n",
       "    <tr>\n",
       "      <th>5.0%</th>\n",
       "      <td>8.0%</td>\n",
       "      <td>77.0%</td>\n",
       "      <td>95.0%</td>\n",
       "    </tr>\n",
       "    <tr>\n",
       "      <th rowspan=\"3\" valign=\"top\">0.05</th>\n",
       "      <th>1.0%</th>\n",
       "      <td>10.0%</td>\n",
       "      <td>16.0%</td>\n",
       "      <td>25.0%</td>\n",
       "    </tr>\n",
       "    <tr>\n",
       "      <th>3.0%</th>\n",
       "      <td>12.0%</td>\n",
       "      <td>60.0%</td>\n",
       "      <td>86.0%</td>\n",
       "    </tr>\n",
       "    <tr>\n",
       "      <th>5.0%</th>\n",
       "      <td>15.0%</td>\n",
       "      <td>86.0%</td>\n",
       "      <td>100.0%</td>\n",
       "    </tr>\n",
       "  </tbody>\n",
       "</table>\n",
       "</div>"
      ],
      "text/plain": [
       "Group sizes     (1000, 100) (10000, 1000) (20000, 2000)\n",
       "$\\alpha$ Effect                                        \n",
       "0.01     1.0%          2.0%          8.0%          4.0%\n",
       "         3.0%          3.0%         27.0%         61.0%\n",
       "         5.0%          8.0%         77.0%         95.0%\n",
       "0.05     1.0%         10.0%         16.0%         25.0%\n",
       "         3.0%         12.0%         60.0%         86.0%\n",
       "         5.0%         15.0%         86.0%        100.0%"
      ]
     },
     "execution_count": 31,
     "metadata": {},
     "output_type": "execute_result"
    }
   ],
   "source": [
    "design_result"
   ]
  },
  {
   "cell_type": "markdown",
   "id": "5290dfe9-9b0b-46b9-8a68-fc124638af33",
   "metadata": {},
   "source": [
    "## Splitter\n",
    "\n",
    "Два подхода к разбиению на группы:\n",
    "- Разбиение на батчи на ретроданных \n",
    "- Разделение в режиме реального времени (в Ambrosia еще нет) \n",
    "\n",
    "Пример из репы - [MobileTeleSystems/Ambrosia](https://github.com/MobileTeleSystems/Ambrosia/blob/main/examples/05_pandas_splitter.ipynb)"
   ]
  },
  {
   "cell_type": "code",
   "execution_count": 32,
   "id": "1a42bccd-22bb-49f1-b515-3808c1780a53",
   "metadata": {
    "execution": {
     "iopub.execute_input": "2023-12-01T16:24:47.147544Z",
     "iopub.status.busy": "2023-12-01T16:24:47.147544Z",
     "iopub.status.idle": "2023-12-01T16:24:47.161544Z",
     "shell.execute_reply": "2023-12-01T16:24:47.161544Z",
     "shell.execute_reply.started": "2023-12-01T16:24:47.147544Z"
    },
    "tags": []
   },
   "outputs": [],
   "source": [
    "splitter = Splitter(dataframe=week1, id_column='user_id')"
   ]
  },
  {
   "cell_type": "code",
   "execution_count": 33,
   "id": "ebf5dcf8-b054-4848-8e91-acc83850057e",
   "metadata": {
    "execution": {
     "iopub.execute_input": "2023-12-01T16:24:47.163545Z",
     "iopub.status.busy": "2023-12-01T16:24:47.163545Z",
     "iopub.status.idle": "2023-12-01T16:24:47.177543Z",
     "shell.execute_reply": "2023-12-01T16:24:47.177543Z",
     "shell.execute_reply.started": "2023-12-01T16:24:47.163545Z"
    },
    "tags": []
   },
   "outputs": [],
   "source": [
    "np.random.seed(42)"
   ]
  },
  {
   "cell_type": "code",
   "execution_count": 34,
   "id": "2c4176fe-b5e0-4457-891d-226eb361eeb5",
   "metadata": {
    "execution": {
     "iopub.execute_input": "2023-12-01T16:24:47.179544Z",
     "iopub.status.busy": "2023-12-01T16:24:47.178543Z",
     "iopub.status.idle": "2023-12-01T16:24:47.194544Z",
     "shell.execute_reply": "2023-12-01T16:24:47.193545Z",
     "shell.execute_reply.started": "2023-12-01T16:24:47.179544Z"
    },
    "tags": []
   },
   "outputs": [
    {
     "data": {
      "text/plain": [
       "20000"
      ]
     },
     "execution_count": 34,
     "metadata": {},
     "output_type": "execute_result"
    }
   ],
   "source": [
    "group_size = sizes[-1]\n",
    "group_size"
   ]
  },
  {
   "cell_type": "markdown",
   "id": "c6d2216d-a4e7-4770-8416-29050005b00e",
   "metadata": {},
   "source": [
    "Самый простой способ разделить, считай просто невоспроизводимый split"
   ]
  },
  {
   "cell_type": "code",
   "execution_count": 35,
   "id": "534430be-808b-4e97-8b09-8113214ee607",
   "metadata": {
    "execution": {
     "iopub.execute_input": "2023-12-01T16:24:47.195545Z",
     "iopub.status.busy": "2023-12-01T16:24:47.194544Z",
     "iopub.status.idle": "2023-12-01T16:24:47.255544Z",
     "shell.execute_reply": "2023-12-01T16:24:47.255544Z",
     "shell.execute_reply.started": "2023-12-01T16:24:47.195545Z"
    },
    "tags": []
   },
   "outputs": [
    {
     "data": {
      "text/html": [
       "<div>\n",
       "<style scoped>\n",
       "    .dataframe tbody tr th:only-of-type {\n",
       "        vertical-align: middle;\n",
       "    }\n",
       "\n",
       "    .dataframe tbody tr th {\n",
       "        vertical-align: top;\n",
       "    }\n",
       "\n",
       "    .dataframe thead th {\n",
       "        text-align: right;\n",
       "    }\n",
       "</style>\n",
       "<table border=\"1\" class=\"dataframe\">\n",
       "  <thead>\n",
       "    <tr style=\"text-align: right;\">\n",
       "      <th></th>\n",
       "      <th>user_id</th>\n",
       "      <th>total_dur</th>\n",
       "      <th>total_dur_ln</th>\n",
       "      <th>group</th>\n",
       "    </tr>\n",
       "  </thead>\n",
       "  <tbody>\n",
       "    <tr>\n",
       "      <th>1283</th>\n",
       "      <td>7513</td>\n",
       "      <td>2343</td>\n",
       "      <td>11.194141</td>\n",
       "      <td>A</td>\n",
       "    </tr>\n",
       "    <tr>\n",
       "      <th>103583</th>\n",
       "      <td>612208</td>\n",
       "      <td>1241</td>\n",
       "      <td>10.277287</td>\n",
       "      <td>A</td>\n",
       "    </tr>\n",
       "    <tr>\n",
       "      <th>15175</th>\n",
       "      <td>90599</td>\n",
       "      <td>477</td>\n",
       "      <td>8.897845</td>\n",
       "      <td>A</td>\n",
       "    </tr>\n",
       "    <tr>\n",
       "      <th>156319</th>\n",
       "      <td>922952</td>\n",
       "      <td>100129</td>\n",
       "      <td>16.611500</td>\n",
       "      <td>A</td>\n",
       "    </tr>\n",
       "    <tr>\n",
       "      <th>33050</th>\n",
       "      <td>196204</td>\n",
       "      <td>43927</td>\n",
       "      <td>15.422820</td>\n",
       "      <td>A</td>\n",
       "    </tr>\n",
       "    <tr>\n",
       "      <th>...</th>\n",
       "      <td>...</td>\n",
       "      <td>...</td>\n",
       "      <td>...</td>\n",
       "      <td>...</td>\n",
       "    </tr>\n",
       "    <tr>\n",
       "      <th>156995</th>\n",
       "      <td>926810</td>\n",
       "      <td>41024</td>\n",
       "      <td>15.324181</td>\n",
       "      <td>B</td>\n",
       "    </tr>\n",
       "    <tr>\n",
       "      <th>45827</th>\n",
       "      <td>271391</td>\n",
       "      <td>407</td>\n",
       "      <td>8.668885</td>\n",
       "      <td>B</td>\n",
       "    </tr>\n",
       "    <tr>\n",
       "      <th>3287</th>\n",
       "      <td>19067</td>\n",
       "      <td>1569</td>\n",
       "      <td>10.615630</td>\n",
       "      <td>B</td>\n",
       "    </tr>\n",
       "    <tr>\n",
       "      <th>138539</th>\n",
       "      <td>817976</td>\n",
       "      <td>80451</td>\n",
       "      <td>16.295823</td>\n",
       "      <td>B</td>\n",
       "    </tr>\n",
       "    <tr>\n",
       "      <th>52963</th>\n",
       "      <td>313546</td>\n",
       "      <td>142</td>\n",
       "      <td>7.149747</td>\n",
       "      <td>B</td>\n",
       "    </tr>\n",
       "  </tbody>\n",
       "</table>\n",
       "<p>40000 rows × 4 columns</p>\n",
       "</div>"
      ],
      "text/plain": [
       "        user_id  total_dur  total_dur_ln group\n",
       "1283       7513       2343     11.194141     A\n",
       "103583   612208       1241     10.277287     A\n",
       "15175     90599        477      8.897845     A\n",
       "156319   922952     100129     16.611500     A\n",
       "33050    196204      43927     15.422820     A\n",
       "...         ...        ...           ...   ...\n",
       "156995   926810      41024     15.324181     B\n",
       "45827    271391        407      8.668885     B\n",
       "3287      19067       1569     10.615630     B\n",
       "138539   817976      80451     16.295823     B\n",
       "52963    313546        142      7.149747     B\n",
       "\n",
       "[40000 rows x 4 columns]"
      ]
     },
     "execution_count": 35,
     "metadata": {},
     "output_type": "execute_result"
    }
   ],
   "source": [
    "splitter.run(method='simple', groups_size=group_size)"
   ]
  },
  {
   "cell_type": "markdown",
   "id": "4c6a505a-5335-4832-bd0a-154f3f27450a",
   "metadata": {},
   "source": [
    "Основной метод - разбиение по хэшам с солью"
   ]
  },
  {
   "cell_type": "code",
   "execution_count": 36,
   "id": "42854c82-efa2-431e-a37c-5f0fd43d833a",
   "metadata": {
    "execution": {
     "iopub.execute_input": "2023-12-01T16:24:47.257548Z",
     "iopub.status.busy": "2023-12-01T16:24:47.257548Z",
     "iopub.status.idle": "2023-12-01T16:24:48.033545Z",
     "shell.execute_reply": "2023-12-01T16:24:48.033545Z",
     "shell.execute_reply.started": "2023-12-01T16:24:47.257548Z"
    },
    "tags": []
   },
   "outputs": [
    {
     "data": {
      "text/html": [
       "<div>\n",
       "<style scoped>\n",
       "    .dataframe tbody tr th:only-of-type {\n",
       "        vertical-align: middle;\n",
       "    }\n",
       "\n",
       "    .dataframe tbody tr th {\n",
       "        vertical-align: top;\n",
       "    }\n",
       "\n",
       "    .dataframe thead th {\n",
       "        text-align: right;\n",
       "    }\n",
       "</style>\n",
       "<table border=\"1\" class=\"dataframe\">\n",
       "  <thead>\n",
       "    <tr style=\"text-align: right;\">\n",
       "      <th></th>\n",
       "      <th>user_id</th>\n",
       "      <th>total_dur</th>\n",
       "      <th>total_dur_ln</th>\n",
       "      <th>group</th>\n",
       "    </tr>\n",
       "  </thead>\n",
       "  <tbody>\n",
       "    <tr>\n",
       "      <th>3</th>\n",
       "      <td>17</td>\n",
       "      <td>1373</td>\n",
       "      <td>10.423116</td>\n",
       "      <td>A</td>\n",
       "    </tr>\n",
       "    <tr>\n",
       "      <th>7</th>\n",
       "      <td>28</td>\n",
       "      <td>8230</td>\n",
       "      <td>13.006677</td>\n",
       "      <td>A</td>\n",
       "    </tr>\n",
       "    <tr>\n",
       "      <th>18</th>\n",
       "      <td>98</td>\n",
       "      <td>6858</td>\n",
       "      <td>12.743572</td>\n",
       "      <td>A</td>\n",
       "    </tr>\n",
       "    <tr>\n",
       "      <th>49</th>\n",
       "      <td>285</td>\n",
       "      <td>4681</td>\n",
       "      <td>12.192601</td>\n",
       "      <td>A</td>\n",
       "    </tr>\n",
       "    <tr>\n",
       "      <th>60</th>\n",
       "      <td>337</td>\n",
       "      <td>5546</td>\n",
       "      <td>12.437232</td>\n",
       "      <td>A</td>\n",
       "    </tr>\n",
       "    <tr>\n",
       "      <th>...</th>\n",
       "      <td>...</td>\n",
       "      <td>...</td>\n",
       "      <td>...</td>\n",
       "      <td>...</td>\n",
       "    </tr>\n",
       "    <tr>\n",
       "      <th>185832</th>\n",
       "      <td>1097129</td>\n",
       "      <td>38072</td>\n",
       "      <td>15.216443</td>\n",
       "      <td>B</td>\n",
       "    </tr>\n",
       "    <tr>\n",
       "      <th>185837</th>\n",
       "      <td>1097162</td>\n",
       "      <td>1761</td>\n",
       "      <td>10.782179</td>\n",
       "      <td>B</td>\n",
       "    </tr>\n",
       "    <tr>\n",
       "      <th>185853</th>\n",
       "      <td>1097262</td>\n",
       "      <td>7055</td>\n",
       "      <td>12.784430</td>\n",
       "      <td>B</td>\n",
       "    </tr>\n",
       "    <tr>\n",
       "      <th>185877</th>\n",
       "      <td>1097399</td>\n",
       "      <td>212</td>\n",
       "      <td>7.727920</td>\n",
       "      <td>B</td>\n",
       "    </tr>\n",
       "    <tr>\n",
       "      <th>185878</th>\n",
       "      <td>1097405</td>\n",
       "      <td>38651</td>\n",
       "      <td>15.238218</td>\n",
       "      <td>B</td>\n",
       "    </tr>\n",
       "  </tbody>\n",
       "</table>\n",
       "<p>40000 rows × 4 columns</p>\n",
       "</div>"
      ],
      "text/plain": [
       "        user_id  total_dur  total_dur_ln group\n",
       "3            17       1373     10.423116     A\n",
       "7            28       8230     13.006677     A\n",
       "18           98       6858     12.743572     A\n",
       "49          285       4681     12.192601     A\n",
       "60          337       5546     12.437232     A\n",
       "...         ...        ...           ...   ...\n",
       "185832  1097129      38072     15.216443     B\n",
       "185837  1097162       1761     10.782179     B\n",
       "185853  1097262       7055     12.784430     B\n",
       "185877  1097399        212      7.727920     B\n",
       "185878  1097405      38651     15.238218     B\n",
       "\n",
       "[40000 rows x 4 columns]"
      ]
     },
     "execution_count": 36,
     "metadata": {},
     "output_type": "execute_result"
    }
   ],
   "source": [
    "salt = '2023-11-28_AB_Exp #23'\n",
    "splitter.run(method='hash', groups_size=group_size, salt=salt)"
   ]
  },
  {
   "cell_type": "markdown",
   "id": "81f9c988-ae47-4fd0-aa93-04eb9079d29f",
   "metadata": {},
   "source": [
    "Результаты строго детерминированы"
   ]
  },
  {
   "cell_type": "code",
   "execution_count": 37,
   "id": "eabf3557-42c8-4b96-8a1e-706a0d5358b0",
   "metadata": {
    "execution": {
     "iopub.execute_input": "2023-12-01T16:24:48.034545Z",
     "iopub.status.busy": "2023-12-01T16:24:48.034545Z",
     "iopub.status.idle": "2023-12-01T16:24:49.588767Z",
     "shell.execute_reply": "2023-12-01T16:24:49.587765Z",
     "shell.execute_reply.started": "2023-12-01T16:24:48.034545Z"
    },
    "tags": []
   },
   "outputs": [
    {
     "data": {
      "text/plain": [
       "True"
      ]
     },
     "execution_count": 37,
     "metadata": {},
     "output_type": "execute_result"
    }
   ],
   "source": [
    "df1 = splitter.run(method='hash', groups_size=group_size, salt=salt)\n",
    "df2 = splitter.run(method='hash', groups_size=group_size, salt=salt)\n",
    "\n",
    "(df1 == df2).all().all()"
   ]
  },
  {
   "cell_type": "markdown",
   "id": "c7a81ff1-2316-4239-b6b6-7b9001059174",
   "metadata": {},
   "source": [
    "Если поменять соль - изменится и разбиение"
   ]
  },
  {
   "cell_type": "code",
   "execution_count": 38,
   "id": "c0ac38f9-4785-463f-b64d-48ed40d9f0e0",
   "metadata": {
    "execution": {
     "iopub.execute_input": "2023-12-01T16:24:49.589768Z",
     "iopub.status.busy": "2023-12-01T16:24:49.589768Z",
     "iopub.status.idle": "2023-12-01T16:24:50.391358Z",
     "shell.execute_reply": "2023-12-01T16:24:50.390358Z",
     "shell.execute_reply.started": "2023-12-01T16:24:49.589768Z"
    },
    "tags": []
   },
   "outputs": [
    {
     "data": {
      "text/html": [
       "<div>\n",
       "<style scoped>\n",
       "    .dataframe tbody tr th:only-of-type {\n",
       "        vertical-align: middle;\n",
       "    }\n",
       "\n",
       "    .dataframe tbody tr th {\n",
       "        vertical-align: top;\n",
       "    }\n",
       "\n",
       "    .dataframe thead th {\n",
       "        text-align: right;\n",
       "    }\n",
       "</style>\n",
       "<table border=\"1\" class=\"dataframe\">\n",
       "  <thead>\n",
       "    <tr style=\"text-align: right;\">\n",
       "      <th></th>\n",
       "      <th>user_id</th>\n",
       "      <th>total_dur</th>\n",
       "      <th>total_dur_ln</th>\n",
       "      <th>group</th>\n",
       "    </tr>\n",
       "  </thead>\n",
       "  <tbody>\n",
       "    <tr>\n",
       "      <th>2</th>\n",
       "      <td>12</td>\n",
       "      <td>5929</td>\n",
       "      <td>12.533573</td>\n",
       "      <td>A</td>\n",
       "    </tr>\n",
       "    <tr>\n",
       "      <th>14</th>\n",
       "      <td>56</td>\n",
       "      <td>3845</td>\n",
       "      <td>11.908768</td>\n",
       "      <td>A</td>\n",
       "    </tr>\n",
       "    <tr>\n",
       "      <th>17</th>\n",
       "      <td>96</td>\n",
       "      <td>126</td>\n",
       "      <td>6.977280</td>\n",
       "      <td>A</td>\n",
       "    </tr>\n",
       "    <tr>\n",
       "      <th>18</th>\n",
       "      <td>98</td>\n",
       "      <td>6858</td>\n",
       "      <td>12.743572</td>\n",
       "      <td>A</td>\n",
       "    </tr>\n",
       "    <tr>\n",
       "      <th>19</th>\n",
       "      <td>106</td>\n",
       "      <td>96778</td>\n",
       "      <td>16.562392</td>\n",
       "      <td>A</td>\n",
       "    </tr>\n",
       "    <tr>\n",
       "      <th>...</th>\n",
       "      <td>...</td>\n",
       "      <td>...</td>\n",
       "      <td>...</td>\n",
       "      <td>...</td>\n",
       "    </tr>\n",
       "    <tr>\n",
       "      <th>185879</th>\n",
       "      <td>1097419</td>\n",
       "      <td>1413</td>\n",
       "      <td>10.464546</td>\n",
       "      <td>B</td>\n",
       "    </tr>\n",
       "    <tr>\n",
       "      <th>185884</th>\n",
       "      <td>1097460</td>\n",
       "      <td>1453</td>\n",
       "      <td>10.504819</td>\n",
       "      <td>B</td>\n",
       "    </tr>\n",
       "    <tr>\n",
       "      <th>185886</th>\n",
       "      <td>1097470</td>\n",
       "      <td>85475</td>\n",
       "      <td>16.383215</td>\n",
       "      <td>B</td>\n",
       "    </tr>\n",
       "    <tr>\n",
       "      <th>185888</th>\n",
       "      <td>1097473</td>\n",
       "      <td>44858</td>\n",
       "      <td>15.453078</td>\n",
       "      <td>B</td>\n",
       "    </tr>\n",
       "    <tr>\n",
       "      <th>185896</th>\n",
       "      <td>1097508</td>\n",
       "      <td>2464</td>\n",
       "      <td>11.266787</td>\n",
       "      <td>B</td>\n",
       "    </tr>\n",
       "  </tbody>\n",
       "</table>\n",
       "<p>40000 rows × 4 columns</p>\n",
       "</div>"
      ],
      "text/plain": [
       "        user_id  total_dur  total_dur_ln group\n",
       "2            12       5929     12.533573     A\n",
       "14           56       3845     11.908768     A\n",
       "17           96        126      6.977280     A\n",
       "18           98       6858     12.743572     A\n",
       "19          106      96778     16.562392     A\n",
       "...         ...        ...           ...   ...\n",
       "185879  1097419       1413     10.464546     B\n",
       "185884  1097460       1453     10.504819     B\n",
       "185886  1097470      85475     16.383215     B\n",
       "185888  1097473      44858     15.453078     B\n",
       "185896  1097508       2464     11.266787     B\n",
       "\n",
       "[40000 rows x 4 columns]"
      ]
     },
     "execution_count": 38,
     "metadata": {},
     "output_type": "execute_result"
    }
   ],
   "source": [
    "splitter.run(method='hash', groups_size=group_size, salt='salt')"
   ]
  },
  {
   "cell_type": "markdown",
   "id": "79e74ac0-f93b-427b-a835-14fb055c4188",
   "metadata": {},
   "source": [
    "Также есть и более продвинутые методы:\n",
    "- Stratification - стратификация по указанным колонкам в `strat_column`\n",
    "- Metric split - разбиение групп на похожие объекты (`method='metric'`). \"Похожие\" - буквально задание фичей (`fit_columns`) и меры над ними, считай kNN модель внутри обучается\n",
    "- Multigroup - разбиение на N групп через `groups_number`\n",
    "- Full table split - разбиение всей таблицы части размером `part_of_table`\n",
    "- Selection of an existing group for a test group - есть пост-подбор группы. Бывает так, что после АБ теста надо подобрать контрольную группу из пула всех объектов, кого не затронули изменения. Сама ситуация нарушает базовые принципы (вначале все вычисляем - потом применяем - подводим итоги исходч из заложенных вычислений), тем не менее случается на практике"
   ]
  },
  {
   "cell_type": "code",
   "execution_count": 39,
   "id": "f4acca46-a6f1-4e7b-a165-eec9d9a83828",
   "metadata": {
    "execution": {
     "iopub.execute_input": "2023-12-01T16:24:50.392359Z",
     "iopub.status.busy": "2023-12-01T16:24:50.392359Z",
     "iopub.status.idle": "2023-12-01T16:24:51.186362Z",
     "shell.execute_reply": "2023-12-01T16:24:51.186362Z",
     "shell.execute_reply.started": "2023-12-01T16:24:50.392359Z"
    },
    "tags": []
   },
   "outputs": [
    {
     "data": {
      "text/html": [
       "<div>\n",
       "<style scoped>\n",
       "    .dataframe tbody tr th:only-of-type {\n",
       "        vertical-align: middle;\n",
       "    }\n",
       "\n",
       "    .dataframe tbody tr th {\n",
       "        vertical-align: top;\n",
       "    }\n",
       "\n",
       "    .dataframe thead th {\n",
       "        text-align: right;\n",
       "    }\n",
       "</style>\n",
       "<table border=\"1\" class=\"dataframe\">\n",
       "  <thead>\n",
       "    <tr style=\"text-align: right;\">\n",
       "      <th></th>\n",
       "      <th>user_id</th>\n",
       "      <th>total_dur</th>\n",
       "      <th>total_dur_ln</th>\n",
       "      <th>group</th>\n",
       "    </tr>\n",
       "  </thead>\n",
       "  <tbody>\n",
       "    <tr>\n",
       "      <th>3</th>\n",
       "      <td>17</td>\n",
       "      <td>1373</td>\n",
       "      <td>10.423116</td>\n",
       "      <td>A</td>\n",
       "    </tr>\n",
       "    <tr>\n",
       "      <th>7</th>\n",
       "      <td>28</td>\n",
       "      <td>8230</td>\n",
       "      <td>13.006677</td>\n",
       "      <td>A</td>\n",
       "    </tr>\n",
       "    <tr>\n",
       "      <th>18</th>\n",
       "      <td>98</td>\n",
       "      <td>6858</td>\n",
       "      <td>12.743572</td>\n",
       "      <td>A</td>\n",
       "    </tr>\n",
       "    <tr>\n",
       "      <th>49</th>\n",
       "      <td>285</td>\n",
       "      <td>4681</td>\n",
       "      <td>12.192601</td>\n",
       "      <td>A</td>\n",
       "    </tr>\n",
       "    <tr>\n",
       "      <th>60</th>\n",
       "      <td>337</td>\n",
       "      <td>5546</td>\n",
       "      <td>12.437232</td>\n",
       "      <td>A</td>\n",
       "    </tr>\n",
       "    <tr>\n",
       "      <th>...</th>\n",
       "      <td>...</td>\n",
       "      <td>...</td>\n",
       "      <td>...</td>\n",
       "      <td>...</td>\n",
       "    </tr>\n",
       "    <tr>\n",
       "      <th>185832</th>\n",
       "      <td>1097129</td>\n",
       "      <td>38072</td>\n",
       "      <td>15.216443</td>\n",
       "      <td>B</td>\n",
       "    </tr>\n",
       "    <tr>\n",
       "      <th>185837</th>\n",
       "      <td>1097162</td>\n",
       "      <td>1761</td>\n",
       "      <td>10.782179</td>\n",
       "      <td>B</td>\n",
       "    </tr>\n",
       "    <tr>\n",
       "      <th>185853</th>\n",
       "      <td>1097262</td>\n",
       "      <td>7055</td>\n",
       "      <td>12.784430</td>\n",
       "      <td>B</td>\n",
       "    </tr>\n",
       "    <tr>\n",
       "      <th>185877</th>\n",
       "      <td>1097399</td>\n",
       "      <td>212</td>\n",
       "      <td>7.727920</td>\n",
       "      <td>B</td>\n",
       "    </tr>\n",
       "    <tr>\n",
       "      <th>185878</th>\n",
       "      <td>1097405</td>\n",
       "      <td>38651</td>\n",
       "      <td>15.238218</td>\n",
       "      <td>B</td>\n",
       "    </tr>\n",
       "  </tbody>\n",
       "</table>\n",
       "<p>40000 rows × 4 columns</p>\n",
       "</div>"
      ],
      "text/plain": [
       "        user_id  total_dur  total_dur_ln group\n",
       "3            17       1373     10.423116     A\n",
       "7            28       8230     13.006677     A\n",
       "18           98       6858     12.743572     A\n",
       "49          285       4681     12.192601     A\n",
       "60          337       5546     12.437232     A\n",
       "...         ...        ...           ...   ...\n",
       "185832  1097129      38072     15.216443     B\n",
       "185837  1097162       1761     10.782179     B\n",
       "185853  1097262       7055     12.784430     B\n",
       "185877  1097399        212      7.727920     B\n",
       "185878  1097405      38651     15.238218     B\n",
       "\n",
       "[40000 rows x 4 columns]"
      ]
     },
     "execution_count": 39,
     "metadata": {},
     "output_type": "execute_result"
    }
   ],
   "source": [
    "week1_split = split(\n",
    "    method='hash',\n",
    "    dataframe=week1,\n",
    "    id_column='user_id',\n",
    "    groups_size=group_size,\n",
    "    salt=salt\n",
    ")\n",
    "week1_split"
   ]
  },
  {
   "cell_type": "markdown",
   "id": "1dab7391-89df-45e5-ac91-282fc85b2741",
   "metadata": {},
   "source": [
    "## Tester\n",
    "\n",
    "И последний класс - Tester, который аккумулирует вычиления по итогам АБ теста. На практике мы считаем p-value и сравниваем с нашимм заранее заданным порогом ошибки 1-ого рода. Иногда строим еще доверительные интервалы для целевой метрики.\n",
    "Все это можно сделать и в Ambrosia\n",
    "\n",
    "Пример из репы - [MobileTeleSystems/Ambrosia](https://github.com/MobileTeleSystems/Ambrosia/blob/main/examples/06_pandas_tester.ipynb)"
   ]
  },
  {
   "cell_type": "code",
   "execution_count": 40,
   "id": "d6e8801f-f023-405a-bc7e-d51a613a99b0",
   "metadata": {
    "execution": {
     "iopub.execute_input": "2023-12-01T16:24:51.188361Z",
     "iopub.status.busy": "2023-12-01T16:24:51.188361Z",
     "iopub.status.idle": "2023-12-01T16:25:32.536560Z",
     "shell.execute_reply": "2023-12-01T16:25:32.535560Z",
     "shell.execute_reply.started": "2023-12-01T16:24:51.188361Z"
    },
    "tags": []
   },
   "outputs": [
    {
     "data": {
      "application/vnd.jupyter.widget-view+json": {
       "model_id": "8ec957dffc2f4b3c80ffd589eab93f53",
       "version_major": 2,
       "version_minor": 0
      },
      "text/plain": [
       "MDE calculation:   0%|          | 0/4 [00:00<?, ?it/s]"
      ]
     },
     "metadata": {},
     "output_type": "display_data"
    },
    {
     "data": {
      "text/html": [
       "<div>\n",
       "<style scoped>\n",
       "    .dataframe tbody tr th:only-of-type {\n",
       "        vertical-align: middle;\n",
       "    }\n",
       "\n",
       "    .dataframe tbody tr th {\n",
       "        vertical-align: top;\n",
       "    }\n",
       "\n",
       "    .dataframe thead th {\n",
       "        text-align: right;\n",
       "    }\n",
       "</style>\n",
       "<table border=\"1\" class=\"dataframe\">\n",
       "  <thead>\n",
       "    <tr style=\"text-align: right;\">\n",
       "      <th>Errors ($\\alpha$, $\\beta$)</th>\n",
       "      <th>(0.01, 0.1)</th>\n",
       "      <th>(0.01, 0.2)</th>\n",
       "      <th>(0.05, 0.1)</th>\n",
       "      <th>(0.05, 0.2)</th>\n",
       "    </tr>\n",
       "    <tr>\n",
       "      <th>Group sizes</th>\n",
       "      <th></th>\n",
       "      <th></th>\n",
       "      <th></th>\n",
       "      <th></th>\n",
       "    </tr>\n",
       "  </thead>\n",
       "  <tbody>\n",
       "    <tr>\n",
       "      <th>20000</th>\n",
       "      <td>1.0%</td>\n",
       "      <td>0.9%</td>\n",
       "      <td>0.9%</td>\n",
       "      <td>0.7%</td>\n",
       "    </tr>\n",
       "  </tbody>\n",
       "</table>\n",
       "</div>"
      ],
      "text/plain": [
       "Errors ($\\alpha$, $\\beta$) (0.01, 0.1) (0.01, 0.2) (0.05, 0.1) (0.05, 0.2)\n",
       "Group sizes                                                               \n",
       "20000                             1.0%        0.9%        0.9%        0.7%"
      ]
     },
     "execution_count": 40,
     "metadata": {},
     "output_type": "execute_result"
    }
   ],
   "source": [
    "designer.run(to_design='effect', method='empiric', criterion='mw', injection_method='normal', effects=effects, sizes=group_size, bs_samples=100, n_jobs=8)"
   ]
  },
  {
   "cell_type": "code",
   "execution_count": 41,
   "id": "640a9a80-b22e-4f06-b03e-70eddac2dd85",
   "metadata": {
    "execution": {
     "iopub.execute_input": "2023-12-01T16:25:32.538561Z",
     "iopub.status.busy": "2023-12-01T16:25:32.537560Z",
     "iopub.status.idle": "2023-12-01T16:25:35.891724Z",
     "shell.execute_reply": "2023-12-01T16:25:35.891724Z",
     "shell.execute_reply.started": "2023-12-01T16:25:32.538561Z"
    },
    "tags": []
   },
   "outputs": [
    {
     "data": {
      "application/vnd.jupyter.widget-view+json": {
       "model_id": "baf50d78da0747e5ae15fddafed0bde8",
       "version_major": 2,
       "version_minor": 0
      },
      "text/plain": [
       "Empirical errors calculation:   0%|          | 0/2 [00:00<?, ?it/s]"
      ]
     },
     "metadata": {},
     "output_type": "display_data"
    },
    {
     "data": {
      "text/html": [
       "<div>\n",
       "<style scoped>\n",
       "    .dataframe tbody tr th:only-of-type {\n",
       "        vertical-align: middle;\n",
       "    }\n",
       "\n",
       "    .dataframe tbody tr th {\n",
       "        vertical-align: top;\n",
       "    }\n",
       "\n",
       "    .dataframe thead th {\n",
       "        text-align: right;\n",
       "    }\n",
       "</style>\n",
       "<table border=\"1\" class=\"dataframe\">\n",
       "  <thead>\n",
       "    <tr style=\"text-align: right;\">\n",
       "      <th></th>\n",
       "      <th>Group sizes</th>\n",
       "      <th>(20000, 20000)</th>\n",
       "    </tr>\n",
       "    <tr>\n",
       "      <th>$\\alpha$</th>\n",
       "      <th>Effect</th>\n",
       "      <th></th>\n",
       "    </tr>\n",
       "  </thead>\n",
       "  <tbody>\n",
       "    <tr>\n",
       "      <th>0.01</th>\n",
       "      <th>1.0%</th>\n",
       "      <td>95.0%</td>\n",
       "    </tr>\n",
       "    <tr>\n",
       "      <th>0.05</th>\n",
       "      <th>1.0%</th>\n",
       "      <td>98.0%</td>\n",
       "    </tr>\n",
       "  </tbody>\n",
       "</table>\n",
       "</div>"
      ],
      "text/plain": [
       "Group sizes     (20000, 20000)\n",
       "$\\alpha$ Effect               \n",
       "0.01     1.0%            95.0%\n",
       "0.05     1.0%            98.0%"
      ]
     },
     "execution_count": 41,
     "metadata": {},
     "output_type": "execute_result"
    }
   ],
   "source": [
    "designer.run(to_design='power', method='empiric', criterion='mw', injection_method='normal', alternative='greater', effects=1.01, sizes=group_size, bs_samples=100, n_jobs=8)"
   ]
  },
  {
   "cell_type": "code",
   "execution_count": 42,
   "id": "0eddf723-34bc-4f09-a1f1-1dd3d1588e15",
   "metadata": {
    "execution": {
     "iopub.execute_input": "2023-12-01T16:25:35.893724Z",
     "iopub.status.busy": "2023-12-01T16:25:35.892725Z",
     "iopub.status.idle": "2023-12-01T16:25:35.908540Z",
     "shell.execute_reply": "2023-12-01T16:25:35.907541Z",
     "shell.execute_reply.started": "2023-12-01T16:25:35.893724Z"
    },
    "tags": []
   },
   "outputs": [],
   "source": [
    "tester = Tester(dataframe=week1_split, column_groups='group', metrics='total_dur_ln', first_type_errors=first_type_errors[0])"
   ]
  },
  {
   "cell_type": "code",
   "execution_count": 43,
   "id": "fc9f6a6e-17fd-429b-8cef-131ae6966b92",
   "metadata": {
    "execution": {
     "iopub.execute_input": "2023-12-01T16:25:35.909541Z",
     "iopub.status.busy": "2023-12-01T16:25:35.909541Z",
     "iopub.status.idle": "2023-12-01T16:25:35.956540Z",
     "shell.execute_reply": "2023-12-01T16:25:35.955543Z",
     "shell.execute_reply.started": "2023-12-01T16:25:35.909541Z"
    },
    "tags": []
   },
   "outputs": [
    {
     "data": {
      "text/html": [
       "<div>\n",
       "<style scoped>\n",
       "    .dataframe tbody tr th:only-of-type {\n",
       "        vertical-align: middle;\n",
       "    }\n",
       "\n",
       "    .dataframe tbody tr th {\n",
       "        vertical-align: top;\n",
       "    }\n",
       "\n",
       "    .dataframe thead th {\n",
       "        text-align: right;\n",
       "    }\n",
       "</style>\n",
       "<table border=\"1\" class=\"dataframe\">\n",
       "  <thead>\n",
       "    <tr style=\"text-align: right;\">\n",
       "      <th></th>\n",
       "      <th>first_type_error</th>\n",
       "      <th>pvalue</th>\n",
       "      <th>effect</th>\n",
       "      <th>confidence_interval</th>\n",
       "      <th>metric name</th>\n",
       "      <th>group A label</th>\n",
       "      <th>group B label</th>\n",
       "    </tr>\n",
       "  </thead>\n",
       "  <tbody>\n",
       "    <tr>\n",
       "      <th>0</th>\n",
       "      <td>0.01</td>\n",
       "      <td>0.690417</td>\n",
       "      <td>-0.001948</td>\n",
       "      <td>(None, None)</td>\n",
       "      <td>total_dur_ln</td>\n",
       "      <td>A</td>\n",
       "      <td>B</td>\n",
       "    </tr>\n",
       "  </tbody>\n",
       "</table>\n",
       "</div>"
      ],
      "text/plain": [
       "   first_type_error    pvalue    effect confidence_interval   metric name  \\\n",
       "0              0.01  0.690417 -0.001948        (None, None)  total_dur_ln   \n",
       "\n",
       "  group A label group B label  \n",
       "0             A             B  "
      ]
     },
     "execution_count": 43,
     "metadata": {},
     "output_type": "execute_result"
    }
   ],
   "source": [
    "tester.run(effect_type='absolute', method='theory', criterion='mw', metrics='total_dur_ln', alternative='greater')"
   ]
  },
  {
   "cell_type": "code",
   "execution_count": 44,
   "id": "b9c00d41-c4b9-4c0b-8698-38c98b8c79cd",
   "metadata": {
    "execution": {
     "iopub.execute_input": "2023-12-01T16:25:35.957542Z",
     "iopub.status.busy": "2023-12-01T16:25:35.956540Z",
     "iopub.status.idle": "2023-12-01T16:25:39.153922Z",
     "shell.execute_reply": "2023-12-01T16:25:39.152919Z",
     "shell.execute_reply.started": "2023-12-01T16:25:35.957542Z"
    },
    "tags": []
   },
   "outputs": [
    {
     "data": {
      "text/html": [
       "<div>\n",
       "<style scoped>\n",
       "    .dataframe tbody tr th:only-of-type {\n",
       "        vertical-align: middle;\n",
       "    }\n",
       "\n",
       "    .dataframe tbody tr th {\n",
       "        vertical-align: top;\n",
       "    }\n",
       "\n",
       "    .dataframe thead th {\n",
       "        text-align: right;\n",
       "    }\n",
       "</style>\n",
       "<table border=\"1\" class=\"dataframe\">\n",
       "  <thead>\n",
       "    <tr style=\"text-align: right;\">\n",
       "      <th></th>\n",
       "      <th>first_type_error</th>\n",
       "      <th>pvalue</th>\n",
       "      <th>effect</th>\n",
       "      <th>confidence_interval</th>\n",
       "      <th>metric name</th>\n",
       "      <th>group A label</th>\n",
       "      <th>group B label</th>\n",
       "    </tr>\n",
       "  </thead>\n",
       "  <tbody>\n",
       "    <tr>\n",
       "      <th>0</th>\n",
       "      <td>0.01</td>\n",
       "      <td>1.0</td>\n",
       "      <td>-0.001854</td>\n",
       "      <td>(-0.0805, 0.1319)</td>\n",
       "      <td>total_dur_ln</td>\n",
       "      <td>A</td>\n",
       "      <td>B</td>\n",
       "    </tr>\n",
       "  </tbody>\n",
       "</table>\n",
       "</div>"
      ],
      "text/plain": [
       "   first_type_error  pvalue    effect confidence_interval   metric name  \\\n",
       "0              0.01     1.0 -0.001854   (-0.0805, 0.1319)  total_dur_ln   \n",
       "\n",
       "  group A label group B label  \n",
       "0             A             B  "
      ]
     },
     "execution_count": 44,
     "metadata": {},
     "output_type": "execute_result"
    }
   ],
   "source": [
    "tester.run(effect_type='absolute', method='empiric', criterion='mw', metrics='total_dur_ln', alternative='greater')"
   ]
  },
  {
   "cell_type": "markdown",
   "id": "4a6ffc24-d539-422b-a023-ba1fc918348c",
   "metadata": {},
   "source": [
    "## Full pipeline"
   ]
  },
  {
   "cell_type": "code",
   "execution_count": 45,
   "id": "a0e90e59-619e-45cb-9041-b513b5d52c36",
   "metadata": {
    "execution": {
     "iopub.execute_input": "2023-12-01T16:25:39.154921Z",
     "iopub.status.busy": "2023-12-01T16:25:39.154921Z",
     "iopub.status.idle": "2023-12-01T16:25:39.169921Z",
     "shell.execute_reply": "2023-12-01T16:25:39.168919Z",
     "shell.execute_reply.started": "2023-12-01T16:25:39.154921Z"
    },
    "tags": []
   },
   "outputs": [],
   "source": [
    "designer = Designer(dataframe=week1, metrics='total_dur_ln', first_type_errors=0.05, second_type_errors=0.10)"
   ]
  },
  {
   "cell_type": "code",
   "execution_count": 46,
   "id": "7b144f2e-d6ce-44bd-b409-121f691e8a25",
   "metadata": {
    "execution": {
     "iopub.execute_input": "2023-12-01T16:25:39.171920Z",
     "iopub.status.busy": "2023-12-01T16:25:39.170921Z",
     "iopub.status.idle": "2023-12-01T16:26:21.968432Z",
     "shell.execute_reply": "2023-12-01T16:26:21.967430Z",
     "shell.execute_reply.started": "2023-12-01T16:25:39.171920Z"
    },
    "tags": []
   },
   "outputs": [
    {
     "data": {
      "application/vnd.jupyter.widget-view+json": {
       "model_id": "01795a4b5b224cff922a252bc551cb5e",
       "version_major": 2,
       "version_minor": 0
      },
      "text/plain": [
       "MDE calculation:   0%|          | 0/3 [00:00<?, ?it/s]"
      ]
     },
     "metadata": {},
     "output_type": "display_data"
    },
    {
     "data": {
      "text/html": [
       "<div>\n",
       "<style scoped>\n",
       "    .dataframe tbody tr th:only-of-type {\n",
       "        vertical-align: middle;\n",
       "    }\n",
       "\n",
       "    .dataframe tbody tr th {\n",
       "        vertical-align: top;\n",
       "    }\n",
       "\n",
       "    .dataframe thead th {\n",
       "        text-align: right;\n",
       "    }\n",
       "</style>\n",
       "<table border=\"1\" class=\"dataframe\">\n",
       "  <thead>\n",
       "    <tr style=\"text-align: right;\">\n",
       "      <th>Errors ($\\alpha$, $\\beta$)</th>\n",
       "      <th>(0.05, 0.1)</th>\n",
       "    </tr>\n",
       "    <tr>\n",
       "      <th>Group sizes</th>\n",
       "      <th></th>\n",
       "    </tr>\n",
       "  </thead>\n",
       "  <tbody>\n",
       "    <tr>\n",
       "      <th>1000</th>\n",
       "      <td>3.5%</td>\n",
       "    </tr>\n",
       "    <tr>\n",
       "      <th>10000</th>\n",
       "      <td>1.2%</td>\n",
       "    </tr>\n",
       "    <tr>\n",
       "      <th>20000</th>\n",
       "      <td>0.7%</td>\n",
       "    </tr>\n",
       "  </tbody>\n",
       "</table>\n",
       "</div>"
      ],
      "text/plain": [
       "Errors ($\\alpha$, $\\beta$) (0.05, 0.1)\n",
       "Group sizes                           \n",
       "1000                              3.5%\n",
       "10000                             1.2%\n",
       "20000                             0.7%"
      ]
     },
     "execution_count": 46,
     "metadata": {},
     "output_type": "execute_result"
    }
   ],
   "source": [
    "designer.run(to_design='effect', method='empiric', criterion='mw', alternative='greater', injection_method='normal', effects=effects, sizes=sizes, bs_samples=100, n_jobs=16)"
   ]
  },
  {
   "cell_type": "code",
   "execution_count": 47,
   "id": "1682ea89-6a4e-480e-8ed4-9b237f330650",
   "metadata": {
    "execution": {
     "iopub.execute_input": "2023-12-01T16:26:21.969431Z",
     "iopub.status.busy": "2023-12-01T16:26:21.969431Z",
     "iopub.status.idle": "2023-12-01T16:26:26.956422Z",
     "shell.execute_reply": "2023-12-01T16:26:26.956422Z",
     "shell.execute_reply.started": "2023-12-01T16:26:21.969431Z"
    },
    "tags": []
   },
   "outputs": [
    {
     "data": {
      "application/vnd.jupyter.widget-view+json": {
       "model_id": "aad58f3e8d3d4f42988db6727f033858",
       "version_major": 2,
       "version_minor": 0
      },
      "text/plain": [
       "Empirical errors calculation:   0%|          | 0/9 [00:00<?, ?it/s]"
      ]
     },
     "metadata": {},
     "output_type": "display_data"
    },
    {
     "data": {
      "text/html": [
       "<div>\n",
       "<style scoped>\n",
       "    .dataframe tbody tr th:only-of-type {\n",
       "        vertical-align: middle;\n",
       "    }\n",
       "\n",
       "    .dataframe tbody tr th {\n",
       "        vertical-align: top;\n",
       "    }\n",
       "\n",
       "    .dataframe thead th {\n",
       "        text-align: right;\n",
       "    }\n",
       "</style>\n",
       "<table border=\"1\" class=\"dataframe\">\n",
       "  <thead>\n",
       "    <tr style=\"text-align: right;\">\n",
       "      <th></th>\n",
       "      <th>Group sizes</th>\n",
       "      <th>(1000, 1000)</th>\n",
       "      <th>(10000, 10000)</th>\n",
       "      <th>(20000, 20000)</th>\n",
       "    </tr>\n",
       "    <tr>\n",
       "      <th>$\\alpha$</th>\n",
       "      <th>Effect</th>\n",
       "      <th></th>\n",
       "      <th></th>\n",
       "      <th></th>\n",
       "    </tr>\n",
       "  </thead>\n",
       "  <tbody>\n",
       "    <tr>\n",
       "      <th rowspan=\"3\" valign=\"top\">0.05</th>\n",
       "      <th>1.0%</th>\n",
       "      <td>12.0%</td>\n",
       "      <td>85.0%</td>\n",
       "      <td>98.0%</td>\n",
       "    </tr>\n",
       "    <tr>\n",
       "      <th>3.0%</th>\n",
       "      <td>82.0%</td>\n",
       "      <td>100.0%</td>\n",
       "      <td>100.0%</td>\n",
       "    </tr>\n",
       "    <tr>\n",
       "      <th>5.0%</th>\n",
       "      <td>99.0%</td>\n",
       "      <td>100.0%</td>\n",
       "      <td>100.0%</td>\n",
       "    </tr>\n",
       "  </tbody>\n",
       "</table>\n",
       "</div>"
      ],
      "text/plain": [
       "Group sizes     (1000, 1000) (10000, 10000) (20000, 20000)\n",
       "$\\alpha$ Effect                                           \n",
       "0.05     1.0%          12.0%          85.0%          98.0%\n",
       "         3.0%          82.0%         100.0%         100.0%\n",
       "         5.0%          99.0%         100.0%         100.0%"
      ]
     },
     "execution_count": 47,
     "metadata": {},
     "output_type": "execute_result"
    }
   ],
   "source": [
    "designer.run(to_design='power', method='empiric', criterion='mw', alternative='greater', injection_method='normal', effects=effects, sizes=sizes, bs_samples=100, n_jobs=16)"
   ]
  },
  {
   "cell_type": "code",
   "execution_count": 48,
   "id": "b0f64418-9686-45c6-bf76-1ec132bde579",
   "metadata": {
    "execution": {
     "iopub.execute_input": "2023-12-01T16:26:26.958423Z",
     "iopub.status.busy": "2023-12-01T16:26:26.957423Z",
     "iopub.status.idle": "2023-12-01T16:26:26.973448Z",
     "shell.execute_reply": "2023-12-01T16:26:26.972447Z",
     "shell.execute_reply.started": "2023-12-01T16:26:26.958423Z"
    },
    "tags": []
   },
   "outputs": [],
   "source": [
    "group_size = 1000\n",
    "alpha = 0.01\n",
    "effect = 1.01"
   ]
  },
  {
   "cell_type": "code",
   "execution_count": 49,
   "id": "9a99ebe9-2770-421e-8559-54be9337837f",
   "metadata": {
    "execution": {
     "iopub.execute_input": "2023-12-01T16:26:26.974448Z",
     "iopub.status.busy": "2023-12-01T16:26:26.974448Z",
     "iopub.status.idle": "2023-12-01T16:27:44.426739Z",
     "shell.execute_reply": "2023-12-01T16:27:44.425738Z",
     "shell.execute_reply.started": "2023-12-01T16:26:26.974448Z"
    },
    "tags": []
   },
   "outputs": [
    {
     "data": {
      "application/vnd.jupyter.widget-view+json": {
       "model_id": "f18476f5070847ceaf6aeb0767612b27",
       "version_major": 2,
       "version_minor": 0
      },
      "text/plain": [
       "  0%|          | 0/100 [00:00<?, ?it/s]"
      ]
     },
     "metadata": {},
     "output_type": "display_data"
    },
    {
     "name": "stdout",
     "output_type": "stream",
     "text": [
      "Empirical I type error: 0.01\n",
      "Empirical II type error: 0.0\n"
     ]
    }
   ],
   "source": [
    "metric_column = 'total_dur_ln'\n",
    "tests_amounts = 100\n",
    "amount_first_type_errors = 0\n",
    "amount_second_type_errors = 0\n",
    "\n",
    "for exp_num in tqdm(range(tests_amounts)):\n",
    "    # Checking for I type error\n",
    "    splitter = Splitter(dataframe=week1, id_column='user_id')\n",
    "    \n",
    "    exp_data = splitter.run(method='hash',\n",
    "                            salt=f'2023-11-28_AB_Exp #{exp_num}',\n",
    "                            groups_size=group_size)\n",
    "    \n",
    "    tester = Tester(dataframe=exp_data, metrics=metric_column, column_groups='group')\n",
    "    pvalue = tester.run(method='theory', criterion='mw', metrics=metric_column, alternative='greater')['pvalue']\n",
    "    # Reject equality of means when it is true\n",
    "    amount_first_type_errors += (pvalue < alpha)  \n",
    "\n",
    "    # Checking for II type error\n",
    "    mean_b = exp_data[exp_data.group == 'B'][metric_column].mean()\n",
    "    # Let's add an effect\n",
    "    exp_data.loc[exp_data.group == 'B', metric_column] += effect * mean_b\n",
    "    \n",
    "    tester = Tester(dataframe=exp_data, metrics=metric_column, column_groups='group')\n",
    "    pvalue = tester.run(method='theory', criterion='mw', metrics=metric_column, alternative='greater')['pvalue']\n",
    "    # Do not reject the equality of averages when it is necessary to reject\n",
    "    amount_second_type_errors += (pvalue > alpha)  \n",
    "\n",
    "print(f'Empirical I type error: {amount_first_type_errors.loc[0] / tests_amounts}')\n",
    "print(f'Empirical II type error: {amount_second_type_errors.loc[0] / tests_amounts}')"
   ]
  },
  {
   "cell_type": "markdown",
   "id": "58a34456-256d-4c9f-9175-43ef6b7f4de8",
   "metadata": {},
   "source": [
    "Удивительно хорошие результаты, почему так?"
   ]
  },
  {
   "cell_type": "code",
   "execution_count": 50,
   "id": "6245ad12-1d55-43be-b724-a65b26055fe2",
   "metadata": {
    "execution": {
     "iopub.execute_input": "2023-12-01T16:27:44.427739Z",
     "iopub.status.busy": "2023-12-01T16:27:44.427739Z",
     "iopub.status.idle": "2023-12-01T16:29:01.593041Z",
     "shell.execute_reply": "2023-12-01T16:29:01.592041Z",
     "shell.execute_reply.started": "2023-12-01T16:27:44.427739Z"
    },
    "tags": []
   },
   "outputs": [
    {
     "data": {
      "application/vnd.jupyter.widget-view+json": {
       "model_id": "b2ceee9ccd2b4199bbbf00d15659a3a8",
       "version_major": 2,
       "version_minor": 0
      },
      "text/plain": [
       "  0%|          | 0/100 [00:00<?, ?it/s]"
      ]
     },
     "metadata": {},
     "output_type": "display_data"
    },
    {
     "name": "stdout",
     "output_type": "stream",
     "text": [
      "Empirical I type error: 0.01\n",
      "Empirical II type error: 0.93\n"
     ]
    }
   ],
   "source": [
    "amount_first_type_errors = 0\n",
    "amount_second_type_errors = 0\n",
    "\n",
    "effect = 0.01\n",
    "for exp_num in tqdm(range(tests_amounts)):\n",
    "    # Checking for I type error\n",
    "    splitter = Splitter(dataframe=week1, id_column='user_id')\n",
    "    \n",
    "    exp_data = splitter.run(method='hash',\n",
    "                            salt=f'2023-11-28_AB_Exp #{exp_num}',\n",
    "                            groups_size=group_size)\n",
    "    \n",
    "    tester = Tester(dataframe=exp_data, metrics=metric_column, column_groups='group')\n",
    "    pvalue = tester.run(method='theory', criterion='mw', metrics=metric_column, alternative='greater')['pvalue']\n",
    "    # Reject equality of means when it is true\n",
    "    amount_first_type_errors += (pvalue < alpha)  \n",
    "\n",
    "    # Checking for II type error\n",
    "    mean_b = exp_data[exp_data.group == 'B'][metric_column].mean()\n",
    "    # Let's add an effect\n",
    "    exp_data.loc[exp_data.group == 'B', metric_column] += effect * mean_b\n",
    "    \n",
    "    tester = Tester(dataframe=exp_data, metrics=metric_column, column_groups='group')\n",
    "    pvalue = tester.run(method='theory', criterion='mw', metrics=metric_column, alternative='greater')['pvalue']\n",
    "    # Do not reject the equality of averages when it is necessary to reject\n",
    "    amount_second_type_errors += (pvalue > alpha)  \n",
    "\n",
    "print(f'Empirical I type error: {amount_first_type_errors.loc[0] / tests_amounts}')\n",
    "print(f'Empirical II type error: {amount_second_type_errors.loc[0] / tests_amounts}')"
   ]
  },
  {
   "cell_type": "code",
   "execution_count": 51,
   "id": "6fa32a91-e5ab-4ac2-aadc-b97fc9bb497a",
   "metadata": {
    "execution": {
     "iopub.execute_input": "2023-12-01T16:29:01.594041Z",
     "iopub.status.busy": "2023-12-01T16:29:01.594041Z",
     "iopub.status.idle": "2023-12-01T16:29:01.609041Z",
     "shell.execute_reply": "2023-12-01T16:29:01.608040Z",
     "shell.execute_reply.started": "2023-12-01T16:29:01.594041Z"
    },
    "tags": []
   },
   "outputs": [],
   "source": [
    "from tweedie.tweedie_dist import tweedie_gen\n",
    "\n",
    "def generate_tweedie(mu, shape, p=1.5, phi=25):\n",
    "    tw = tweedie_gen()\n",
    "    return tw(p=p, mu=mu, phi=phi).rvs(shape)"
   ]
  },
  {
   "cell_type": "code",
   "execution_count": 52,
   "id": "986e3772-92c6-4f84-8e4b-0ed30ed34926",
   "metadata": {
    "execution": {
     "iopub.execute_input": "2023-12-01T16:29:01.610041Z",
     "iopub.status.busy": "2023-12-01T16:29:01.610041Z",
     "iopub.status.idle": "2023-12-01T16:29:01.625041Z",
     "shell.execute_reply": "2023-12-01T16:29:01.624041Z",
     "shell.execute_reply.started": "2023-12-01T16:29:01.610041Z"
    },
    "tags": []
   },
   "outputs": [
    {
     "data": {
      "text/plain": [
       "11.35513608366468"
      ]
     },
     "execution_count": 52,
     "metadata": {},
     "output_type": "execute_result"
    }
   ],
   "source": [
    "week1[metric_column].mean()"
   ]
  },
  {
   "cell_type": "code",
   "execution_count": 53,
   "id": "99a51f32-7bec-45af-93e5-803f921590fe",
   "metadata": {
    "execution": {
     "iopub.execute_input": "2023-12-01T16:29:01.626041Z",
     "iopub.status.busy": "2023-12-01T16:29:01.626041Z",
     "iopub.status.idle": "2023-12-01T16:29:01.801042Z",
     "shell.execute_reply": "2023-12-01T16:29:01.800041Z",
     "shell.execute_reply.started": "2023-12-01T16:29:01.626041Z"
    },
    "tags": []
   },
   "outputs": [
    {
     "data": {
      "image/png": "[encoded data removed]",
      "text/plain": [
       "<Figure size 640x480 with 1 Axes>"
      ]
     },
     "metadata": {},
     "output_type": "display_data"
    }
   ],
   "source": [
    "tw_values = generate_tweedie(week1[metric_column].mean() * 0.1, 1000)\n",
    "tw_values[tw_values > 0] = np.log(tw_values[tw_values > 0])\n",
    "ax = sns.lineplot(tw_values)"
   ]
  },
  {
   "cell_type": "code",
   "execution_count": 54,
   "id": "43909da6-574e-4d33-8688-c2469e5d3721",
   "metadata": {
    "execution": {
     "iopub.execute_input": "2023-12-01T16:29:01.802041Z",
     "iopub.status.busy": "2023-12-01T16:29:01.802041Z",
     "iopub.status.idle": "2023-12-01T16:29:01.960041Z",
     "shell.execute_reply": "2023-12-01T16:29:01.960041Z",
     "shell.execute_reply.started": "2023-12-01T16:29:01.802041Z"
    },
    "tags": []
   },
   "outputs": [
    {
     "data": {
      "image/png": "[encoded data removed]",
      "text/plain": [
       "<Figure size 640x480 with 1 Axes>"
      ]
     },
     "metadata": {},
     "output_type": "display_data"
    }
   ],
   "source": [
    "ax = sns.scatterplot(tw_values)"
   ]
  },
  {
   "cell_type": "code",
   "execution_count": 55,
   "id": "305ec5f5-b913-424b-8a17-f6280c2a87bd",
   "metadata": {
    "execution": {
     "iopub.execute_input": "2023-12-01T16:29:01.962041Z",
     "iopub.status.busy": "2023-12-01T16:29:01.961041Z",
     "iopub.status.idle": "2023-12-01T16:29:02.121041Z",
     "shell.execute_reply": "2023-12-01T16:29:02.120041Z",
     "shell.execute_reply.started": "2023-12-01T16:29:01.962041Z"
    },
    "tags": []
   },
   "outputs": [
    {
     "data": {
      "image/png": "[encoded data removed]",
      "text/plain": [
       "<Figure size 640x480 with 1 Axes>"
      ]
     },
     "metadata": {},
     "output_type": "display_data"
    }
   ],
   "source": [
    "ax = sns.histplot(tw_values, bins=10)"
   ]
  },
  {
   "cell_type": "code",
   "execution_count": 56,
   "id": "d64399a7-c038-4234-80c1-72fb44bcb636",
   "metadata": {
    "execution": {
     "iopub.execute_input": "2023-12-01T16:29:02.122041Z",
     "iopub.status.busy": "2023-12-01T16:29:02.122041Z",
     "iopub.status.idle": "2023-12-01T16:30:55.144821Z",
     "shell.execute_reply": "2023-12-01T16:30:55.144821Z",
     "shell.execute_reply.started": "2023-12-01T16:29:02.122041Z"
    },
    "tags": []
   },
   "outputs": [
    {
     "data": {
      "application/vnd.jupyter.widget-view+json": {
       "model_id": "734b2c0705e5484587e974a30fbc7f79",
       "version_major": 2,
       "version_minor": 0
      },
      "text/plain": [
       "  0%|          | 0/100 [00:00<?, ?it/s]"
      ]
     },
     "metadata": {},
     "output_type": "display_data"
    },
    {
     "name": "stdout",
     "output_type": "stream",
     "text": [
      "Empirical I type error: 0.07\n",
      "Empirical II type error: 0.87\n"
     ]
    }
   ],
   "source": [
    "metric_column = 'total_dur_ln'\n",
    "tests_amounts = 100\n",
    "amount_first_type_errors = 0\n",
    "amount_second_type_errors = 0\n",
    "\n",
    "group_size = 1000\n",
    "alpha = 0.05\n",
    "effect = 0.05\n",
    "\n",
    "for exp_num in tqdm(range(tests_amounts)):\n",
    "    # Checking for I type error\n",
    "    splitter = Splitter(dataframe=week1, id_column='user_id')\n",
    "    \n",
    "    exp_data = splitter.run(method='hash', salt=f'2023-11-28_AB_Exp #{exp_num}', groups_size=group_size)\n",
    "    \n",
    "    tester = Tester(dataframe=exp_data, metrics=metric_column, column_groups='group')\n",
    "    pvalue = tester.run(method='empiric', criterion='mw', metrics=metric_column, alternative='greater')['pvalue']\n",
    "    # Reject equality of means when it is true\n",
    "    amount_first_type_errors += (pvalue < alpha)  \n",
    "\n",
    "    # Checking for II type error\n",
    "    mean_b = exp_data[exp_data.group == 'B'][metric_column].mean()\n",
    "\n",
    "    # Let's add an effect\n",
    "    tw_values = generate_tweedie(effect * mean_b, group_size)\n",
    "    tw_values[tw_values > 0] = np.log(tw_values[tw_values > 0])\n",
    "    \n",
    "    exp_data.loc[exp_data.group == 'B', metric_column] += tw_values\n",
    "    \n",
    "    tester = Tester(dataframe=exp_data, metrics=metric_column, column_groups='group')\n",
    "    pvalue = tester.run(method='empiric', criterion='mw', metrics=metric_column, alternative='greater')['pvalue']\n",
    "    # Do not reject the equality of averages when it is necessary to reject\n",
    "    amount_second_type_errors += (pvalue > alpha)  \n",
    "\n",
    "print(f'Empirical I type error: {amount_first_type_errors.loc[0] / tests_amounts}')\n",
    "print(f'Empirical II type error: {amount_second_type_errors.loc[0] / tests_amounts}')"
   ]
  },
  {
   "cell_type": "markdown",
   "id": "2377a8a3-c1cc-4601-9991-ef4ea07ecce6",
   "metadata": {},
   "source": [
    "Результаты слабые, расчеты на константном эффекте были гораздо оптимистичнее\n",
    "\n",
    "Попробуем увеличить эффект"
   ]
  },
  {
   "cell_type": "code",
   "execution_count": 57,
   "id": "950dcddf-26bb-40d9-8a44-6a2f0b1d3d19",
   "metadata": {
    "execution": {
     "iopub.execute_input": "2023-12-01T16:30:55.146821Z",
     "iopub.status.busy": "2023-12-01T16:30:55.145823Z",
     "iopub.status.idle": "2023-12-01T16:32:48.748334Z",
     "shell.execute_reply": "2023-12-01T16:32:48.747332Z",
     "shell.execute_reply.started": "2023-12-01T16:30:55.146821Z"
    }
   },
   "outputs": [
    {
     "data": {
      "application/vnd.jupyter.widget-view+json": {
       "model_id": "aa2b10d8b4374f689379a73b27e9c1d2",
       "version_major": 2,
       "version_minor": 0
      },
      "text/plain": [
       "  0%|          | 0/100 [00:00<?, ?it/s]"
      ]
     },
     "metadata": {},
     "output_type": "display_data"
    },
    {
     "name": "stdout",
     "output_type": "stream",
     "text": [
      "Empirical I type error: 0.07\n",
      "Empirical II type error: 0.58\n"
     ]
    }
   ],
   "source": [
    "metric_column = 'total_dur_ln'\n",
    "tests_amounts = 100\n",
    "amount_first_type_errors = 0\n",
    "amount_second_type_errors = 0\n",
    "\n",
    "group_size = 1000\n",
    "alpha = 0.05\n",
    "effect = 0.15\n",
    "\n",
    "for exp_num in tqdm(range(tests_amounts)):\n",
    "    # Checking for I type error\n",
    "    splitter = Splitter(dataframe=week1, id_column='user_id')\n",
    "    \n",
    "    exp_data = splitter.run(method='hash', salt=f'2023-11-28_AB_Exp #{exp_num}', groups_size=group_size)\n",
    "    \n",
    "    tester = Tester(dataframe=exp_data, metrics=metric_column, column_groups='group')\n",
    "    pvalue = tester.run(method='empiric', criterion='mw', metrics=metric_column, alternative='greater')['pvalue']\n",
    "    # Reject equality of means when it is true\n",
    "    amount_first_type_errors += (pvalue < alpha)  \n",
    "\n",
    "    # Checking for II type error\n",
    "    mean_b = exp_data[exp_data.group == 'B'][metric_column].mean()\n",
    "\n",
    "    # Let's add an effect\n",
    "    tw_values = generate_tweedie(effect * mean_b, group_size)\n",
    "    tw_values[tw_values > 0] = np.log(tw_values[tw_values > 0])\n",
    "    \n",
    "    exp_data.loc[exp_data.group == 'B', metric_column] += tw_values\n",
    "    \n",
    "    tester = Tester(dataframe=exp_data, metrics=metric_column, column_groups='group')\n",
    "    pvalue = tester.run(method='empiric', criterion='mw', metrics=metric_column, alternative='greater')['pvalue']\n",
    "    # Do not reject the equality of averages when it is necessary to reject\n",
    "    amount_second_type_errors += (pvalue > alpha)  \n",
    "\n",
    "print(f'Empirical I type error: {amount_first_type_errors.loc[0] / tests_amounts}')\n",
    "print(f'Empirical II type error: {amount_second_type_errors.loc[0] / tests_amounts}')"
   ]
  },
  {
   "cell_type": "markdown",
   "id": "d31b49ee-3a5a-48d3-a66a-a430f76f1dac",
   "metadata": {
    "execution": {
     "iopub.execute_input": "2023-12-01T13:49:04.189843Z",
     "iopub.status.busy": "2023-12-01T13:49:04.189843Z",
     "iopub.status.idle": "2023-12-01T13:49:04.201881Z",
     "shell.execute_reply": "2023-12-01T13:49:04.200880Z",
     "shell.execute_reply.started": "2023-12-01T13:49:04.189843Z"
    }
   },
   "source": [
    "Результаты лучше, но все еще не очень, 46% мощность - неприемлемо\n",
    "\n",
    "Попробуем увеличить эффект"
   ]
  },
  {
   "cell_type": "code",
   "execution_count": 58,
   "id": "466f10b7-901c-41c6-8ae7-557f355f90a4",
   "metadata": {
    "execution": {
     "iopub.execute_input": "2023-12-01T16:32:48.749332Z",
     "iopub.status.busy": "2023-12-01T16:32:48.749332Z",
     "iopub.status.idle": "2023-12-01T16:34:41.619116Z",
     "shell.execute_reply": "2023-12-01T16:34:41.618116Z",
     "shell.execute_reply.started": "2023-12-01T16:32:48.749332Z"
    }
   },
   "outputs": [
    {
     "data": {
      "application/vnd.jupyter.widget-view+json": {
       "model_id": "260cd44331af447291f32b6eeaa5af5e",
       "version_major": 2,
       "version_minor": 0
      },
      "text/plain": [
       "  0%|          | 0/100 [00:00<?, ?it/s]"
      ]
     },
     "metadata": {},
     "output_type": "display_data"
    },
    {
     "name": "stdout",
     "output_type": "stream",
     "text": [
      "Empirical I type error: 0.05\n",
      "Empirical II type error: 0.35\n"
     ]
    }
   ],
   "source": [
    "metric_column = 'total_dur_ln'\n",
    "tests_amounts = 100\n",
    "amount_first_type_errors = 0\n",
    "amount_second_type_errors = 0\n",
    "\n",
    "group_size = 1000\n",
    "alpha = 0.05\n",
    "effect = 0.25\n",
    "\n",
    "for exp_num in tqdm(range(tests_amounts)):\n",
    "    # Checking for I type error\n",
    "    splitter = Splitter(dataframe=week1, id_column='user_id')\n",
    "    \n",
    "    exp_data = splitter.run(method='hash', salt=f'2023-11-28_AB_Exp #{exp_num}', groups_size=group_size)\n",
    "    \n",
    "    tester = Tester(dataframe=exp_data, metrics=metric_column, column_groups='group')\n",
    "    pvalue = tester.run(method='empiric', criterion='mw', metrics=metric_column, alternative='greater')['pvalue']\n",
    "    # Reject equality of means when it is true\n",
    "    amount_first_type_errors += (pvalue < alpha)  \n",
    "\n",
    "    # Checking for II type error\n",
    "    mean_b = exp_data[exp_data.group == 'B'][metric_column].mean()\n",
    "\n",
    "    # Let's add an effect\n",
    "    tw_values = generate_tweedie(effect * mean_b, group_size)\n",
    "    tw_values[tw_values > 0] = np.log(tw_values[tw_values > 0])\n",
    "    \n",
    "    exp_data.loc[exp_data.group == 'B', metric_column] += tw_values\n",
    "    \n",
    "    tester = Tester(dataframe=exp_data, metrics=metric_column, column_groups='group')\n",
    "    pvalue = tester.run(method='empiric', criterion='mw', metrics=metric_column, alternative='greater')['pvalue']\n",
    "    # Do not reject the equality of averages when it is necessary to reject\n",
    "    amount_second_type_errors += (pvalue > alpha)  \n",
    "\n",
    "print(f'Empirical I type error: {amount_first_type_errors.loc[0] / tests_amounts}')\n",
    "print(f'Empirical II type error: {amount_second_type_errors.loc[0] / tests_amounts}')"
   ]
  },
  {
   "cell_type": "markdown",
   "id": "19741c2b-4b83-47c3-9f42-be1022e7baad",
   "metadata": {
    "execution": {
     "iopub.execute_input": "2023-12-01T14:45:59.536050Z",
     "iopub.status.busy": "2023-12-01T14:45:59.535050Z",
     "iopub.status.idle": "2023-12-01T14:45:59.549050Z",
     "shell.execute_reply": "2023-12-01T14:45:59.548049Z",
     "shell.execute_reply.started": "2023-12-01T14:45:59.536050Z"
    }
   },
   "source": [
    "Результаты лучше, но мощность все еще не очень, всего 66%\n",
    "\n",
    "Попробуем увеличить группы"
   ]
  },
  {
   "cell_type": "code",
   "execution_count": 59,
   "id": "6ab8550c-62c6-4190-99ad-31305e8cfe00",
   "metadata": {
    "execution": {
     "iopub.execute_input": "2023-12-01T16:34:41.620116Z",
     "iopub.status.busy": "2023-12-01T16:34:41.620116Z",
     "iopub.status.idle": "2023-12-01T16:46:43.507087Z",
     "shell.execute_reply": "2023-12-01T16:46:43.506086Z",
     "shell.execute_reply.started": "2023-12-01T16:34:41.620116Z"
    },
    "tags": []
   },
   "outputs": [
    {
     "data": {
      "application/vnd.jupyter.widget-view+json": {
       "model_id": "e5893a0261714adcb36e794e7dc9c6b9",
       "version_major": 2,
       "version_minor": 0
      },
      "text/plain": [
       "  0%|          | 0/100 [00:00<?, ?it/s]"
      ]
     },
     "metadata": {},
     "output_type": "display_data"
    },
    {
     "name": "stdout",
     "output_type": "stream",
     "text": [
      "Empirical I type error: 0.04\n",
      "Empirical II type error: 0.1\n"
     ]
    }
   ],
   "source": [
    "metric_column = 'total_dur_ln'\n",
    "tests_amounts = 100\n",
    "amount_first_type_errors = 0\n",
    "amount_second_type_errors = 0\n",
    "\n",
    "group_size = 20000\n",
    "alpha = 0.05\n",
    "effect = 0.05\n",
    "\n",
    "for exp_num in tqdm(range(tests_amounts)):\n",
    "    # Checking for I type error\n",
    "    splitter = Splitter(dataframe=week1, id_column='user_id')\n",
    "    \n",
    "    exp_data = splitter.run(method='hash', salt=f'2023-11-28_AB_Exp #{exp_num}', groups_size=group_size)\n",
    "    \n",
    "    tester = Tester(dataframe=exp_data, metrics=metric_column, column_groups='group')\n",
    "    pvalue = tester.run(method='empiric', criterion='mw', metrics=metric_column, alternative='greater')['pvalue']\n",
    "    # Reject equality of means when it is true\n",
    "    amount_first_type_errors += (pvalue < alpha)  \n",
    "\n",
    "    # Checking for II type error\n",
    "    mean_b = exp_data[exp_data.group == 'B'][metric_column].mean()\n",
    "\n",
    "    # Let's add an effect\n",
    "    tw_values = generate_tweedie(effect * mean_b, group_size)\n",
    "    tw_values[tw_values > 0] = np.log(tw_values[tw_values > 0])\n",
    "    \n",
    "    exp_data.loc[exp_data.group == 'B', metric_column] += tw_values\n",
    "    \n",
    "    tester = Tester(dataframe=exp_data, metrics=metric_column, column_groups='group')\n",
    "    pvalue = tester.run(method='empiric', criterion='mw', metrics=metric_column, alternative='greater')['pvalue']\n",
    "    # Do not reject the equality of averages when it is necessary to reject\n",
    "    amount_second_type_errors += (pvalue > alpha)  \n",
    "\n",
    "print(f'Empirical I type error: {amount_first_type_errors.loc[0] / tests_amounts}')\n",
    "print(f'Empirical II type error: {amount_second_type_errors.loc[0] / tests_amounts}')"
   ]
  },
  {
   "cell_type": "markdown",
   "id": "58c80ee0-fa7c-481e-a9bb-1f8b7bbe0077",
   "metadata": {},
   "source": [
    "Как итог видим, что Designer дает оптимистичные оценки, для эффекта в 5% при $\\alpha = 0.05, \\beta=0.1$ нужна выборка в 20000"
   ]
  },
  {
   "cell_type": "code",
   "execution_count": null,
   "id": "2b29bdb3-45d5-4a34-9e32-8997226c55a3",
   "metadata": {},
   "outputs": [],
   "source": []
  }
 ],
 "metadata": {
  "kernelspec": {
   "display_name": "ITMO AB (py38)",
   "language": "python",
   "name": "itmo_ab_py38"
  },
  "language_info": {
   "codemirror_mode": {
    "name": "ipython",
    "version": 3
   },
   "file_extension": ".py",
   "mimetype": "text/x-python",
   "name": "python",
   "nbconvert_exporter": "python",
   "pygments_lexer": "ipython3",
   "version": "3.8.18"
  },
  "widgets": {
   "application/vnd.jupyter.widget-state+json": {
    "state": {
     "01795a4b5b224cff922a252bc551cb5e": {
      "model_module": "@jupyter-widgets/controls",
      "model_module_version": "2.0.0",
      "model_name": "HBoxModel",
      "state": {
       "children": [
        "IPY_MODEL_87b97fac7a474de89d4cba104c42b35c",
        "IPY_MODEL_23e332e0def24207af4f6cd0495dddda",
        "IPY_MODEL_fc03b7f5721240f89f57aaebd406230e"
       ],
       "layout": "IPY_MODEL_4e36a16cbb5a434b8557be0bb798cd11"
      }
     },
     "02183b3c24dd41baad3838aa062aa293": {
      "model_module": "@jupyter-widgets/base",
      "model_module_version": "2.0.0",
      "model_name": "LayoutModel",
      "state": {}
     },
     "02571ed529ba48b4ba67fbbd9265398f": {
      "model_module": "@jupyter-widgets/base",
      "model_module_version": "2.0.0",
      "model_name": "LayoutModel",
      "state": {}
     },
     "0282fbbf0eec47b58289b8d8e03ead11": {
      "model_module": "@jupyter-widgets/controls",
      "model_module_version": "2.0.0",
      "model_name": "HBoxModel",
      "state": {
       "children": [
        "IPY_MODEL_5fd936b6721f415fa1720f164fe0a283",
        "IPY_MODEL_8b3293aeb83f4c46bc5e950046414800",
        "IPY_MODEL_1c03bd80f065486e877228bc8681faa6"
       ],
       "layout": "IPY_MODEL_80fa6591e77c4d44ab59c9d3739c6f3d"
      }
     },
     "039f7ba2e2f34dad867e72adb041be09": {
      "model_module": "@jupyter-widgets/base",
      "model_module_version": "2.0.0",
      "model_name": "LayoutModel",
      "state": {}
     },
     "0645e4ae8c1c4bd7bb5c74874f0210f8": {
      "model_module": "@jupyter-widgets/base",
      "model_module_version": "2.0.0",
      "model_name": "LayoutModel",
      "state": {}
     },
     "081c6b6f05484719b96f26c605bccdc6": {
      "model_module": "@jupyter-widgets/base",
      "model_module_version": "2.0.0",
      "model_name": "LayoutModel",
      "state": {}
     },
     "089cc4484a5747f9b24c0355f3b561f7": {
      "model_module": "@jupyter-widgets/base",
      "model_module_version": "2.0.0",
      "model_name": "LayoutModel",
      "state": {}
     },
     "09f5b8e27ae04464baeaceefea08e196": {
      "model_module": "@jupyter-widgets/base",
      "model_module_version": "2.0.0",
      "model_name": "LayoutModel",
      "state": {}
     },
     "0a1aa93432c24dec843e6a9abb61212d": {
      "model_module": "@jupyter-widgets/controls",
      "model_module_version": "2.0.0",
      "model_name": "HTMLStyleModel",
      "state": {
       "description_width": "",
       "font_size": null,
       "text_color": null
      }
     },
     "0a2f142cc65940fa9faac8f3672f012c": {
      "model_module": "@jupyter-widgets/controls",
      "model_module_version": "2.0.0",
      "model_name": "HTMLModel",
      "state": {
       "layout": "IPY_MODEL_a57ab4161af348c7b5b2ff58f39a4a6e",
       "style": "IPY_MODEL_48e014c4b27345979de64c0403c112e3",
       "value": " 12/12 [00:21&lt;00:00,  1.80s/it]"
      }
     },
     "0cf0fd01a09944f2a2b87da98c515ab5": {
      "model_module": "@jupyter-widgets/base",
      "model_module_version": "2.0.0",
      "model_name": "LayoutModel",
      "state": {}
     },
     "0dc224fed2cb45388c9098bb82ee3efe": {
      "model_module": "@jupyter-widgets/controls",
      "model_module_version": "2.0.0",
      "model_name": "HBoxModel",
      "state": {
       "children": [
        "IPY_MODEL_ecded15726a44bbd970d87eb4042930a",
        "IPY_MODEL_db70ebe79976463b98067bdc9a4536b8",
        "IPY_MODEL_412408069385400cb87f5561bd9514c4"
       ],
       "layout": "IPY_MODEL_370a3c8f7b2a4479832be4784deed8b0"
      }
     },
     "0f3f640a992d48f689a55b48cda03a16": {
      "model_module": "@jupyter-widgets/base",
      "model_module_version": "2.0.0",
      "model_name": "LayoutModel",
      "state": {}
     },
     "11ffc7e636484e27a3bc85efde3111ac": {
      "model_module": "@jupyter-widgets/controls",
      "model_module_version": "2.0.0",
      "model_name": "HTMLStyleModel",
      "state": {
       "description_width": "",
       "font_size": null,
       "text_color": null
      }
     },
     "1332a18a44574e188c5fb7bb4d49e2d7": {
      "model_module": "@jupyter-widgets/controls",
      "model_module_version": "2.0.0",
      "model_name": "HTMLStyleModel",
      "state": {
       "description_width": "",
       "font_size": null,
       "text_color": null
      }
     },
     "164185b5a4894e58bdc7c51c800e899c": {
      "model_module": "@jupyter-widgets/controls",
      "model_module_version": "2.0.0",
      "model_name": "ProgressStyleModel",
      "state": {
       "description_width": ""
      }
     },
     "176ea1a9a3914eb5bbafa9d5b1e4633f": {
      "model_module": "@jupyter-widgets/controls",
      "model_module_version": "2.0.0",
      "model_name": "HTMLStyleModel",
      "state": {
       "description_width": "",
       "font_size": null,
       "text_color": null
      }
     },
     "18a0a7fe37e54a1b9645a950a425e124": {
      "model_module": "@jupyter-widgets/base",
      "model_module_version": "2.0.0",
      "model_name": "LayoutModel",
      "state": {}
     },
     "18fb873b313640cabb3db289793bdb65": {
      "model_module": "@jupyter-widgets/base",
      "model_module_version": "2.0.0",
      "model_name": "LayoutModel",
      "state": {}
     },
     "1b455aeae4ec4a898f037407a252b79f": {
      "model_module": "@jupyter-widgets/controls",
      "model_module_version": "2.0.0",
      "model_name": "FloatProgressModel",
      "state": {
       "bar_style": "success",
       "layout": "IPY_MODEL_b6bbecde66dc4af09ba1b251ff23ab69",
       "max": 2,
       "style": "IPY_MODEL_ebedbff80e824ed1a9e40559e04b4fa3",
       "value": 2
      }
     },
     "1c03bd80f065486e877228bc8681faa6": {
      "model_module": "@jupyter-widgets/controls",
      "model_module_version": "2.0.0",
      "model_name": "HTMLModel",
      "state": {
       "layout": "IPY_MODEL_bb44f11a714d44f7a23ad2270152545a",
       "style": "IPY_MODEL_bc113558044c4385aefadb4d79b76a82",
       "value": " 18/18 [00:02&lt;00:00,  5.26it/s]"
      }
     },
     "1cf8a2c51f8744e0941a4eaf56cb614f": {
      "model_module": "@jupyter-widgets/base",
      "model_module_version": "2.0.0",
      "model_name": "LayoutModel",
      "state": {}
     },
     "1d8757994cee487f8713ea16d9a30790": {
      "model_module": "@jupyter-widgets/base",
      "model_module_version": "2.0.0",
      "model_name": "LayoutModel",
      "state": {}
     },
     "1ed1403b90e5461c91c959ee35daed1d": {
      "model_module": "@jupyter-widgets/controls",
      "model_module_version": "2.0.0",
      "model_name": "HTMLModel",
      "state": {
       "layout": "IPY_MODEL_3c22f3048ce344c18335eedebba194fb",
       "style": "IPY_MODEL_2007f3582c7d4aa192469b57de16b3da",
       "value": " 100/100 [12:01&lt;00:00,  7.22s/it]"
      }
     },
     "1fb88cf75e734e518cc3d5306fcd7516": {
      "model_module": "@jupyter-widgets/base",
      "model_module_version": "2.0.0",
      "model_name": "LayoutModel",
      "state": {}
     },
     "2007f3582c7d4aa192469b57de16b3da": {
      "model_module": "@jupyter-widgets/controls",
      "model_module_version": "2.0.0",
      "model_name": "HTMLStyleModel",
      "state": {
       "description_width": "",
       "font_size": null,
       "text_color": null
      }
     },
     "20a1e5f7d092492288e96952464b6e9e": {
      "model_module": "@jupyter-widgets/controls",
      "model_module_version": "2.0.0",
      "model_name": "HTMLModel",
      "state": {
       "layout": "IPY_MODEL_0f3f640a992d48f689a55b48cda03a16",
       "style": "IPY_MODEL_23b382b5c6f941fa91c21f0bec6a8aef",
       "value": " 9/9 [00:04&lt;00:00,  1.58it/s]"
      }
     },
     "21d0db798b95428c8612dcd2658c391e": {
      "model_module": "@jupyter-widgets/base",
      "model_module_version": "2.0.0",
      "model_name": "LayoutModel",
      "state": {}
     },
     "22e21ee7eb7e4a5fa945f4e2b27d2c3a": {
      "model_module": "@jupyter-widgets/controls",
      "model_module_version": "2.0.0",
      "model_name": "HTMLStyleModel",
      "state": {
       "description_width": "",
       "font_size": null,
       "text_color": null
      }
     },
     "23b382b5c6f941fa91c21f0bec6a8aef": {
      "model_module": "@jupyter-widgets/controls",
      "model_module_version": "2.0.0",
      "model_name": "HTMLStyleModel",
      "state": {
       "description_width": "",
       "font_size": null,
       "text_color": null
      }
     },
     "23c64bbdd4d84bf0822ff218c2f6a3c1": {
      "model_module": "@jupyter-widgets/controls",
      "model_module_version": "2.0.0",
      "model_name": "ProgressStyleModel",
      "state": {
       "description_width": ""
      }
     },
     "23e332e0def24207af4f6cd0495dddda": {
      "model_module": "@jupyter-widgets/controls",
      "model_module_version": "2.0.0",
      "model_name": "FloatProgressModel",
      "state": {
       "bar_style": "success",
       "layout": "IPY_MODEL_0cf0fd01a09944f2a2b87da98c515ab5",
       "max": 3,
       "style": "IPY_MODEL_3864f4fb763149ec9d9e1507fd73e901",
       "value": 3
      }
     },
     "257f5f3923ab46efaa9af60890826036": {
      "model_module": "@jupyter-widgets/controls",
      "model_module_version": "2.0.0",
      "model_name": "ProgressStyleModel",
      "state": {
       "description_width": ""
      }
     },
     "260cd44331af447291f32b6eeaa5af5e": {
      "model_module": "@jupyter-widgets/controls",
      "model_module_version": "2.0.0",
      "model_name": "HBoxModel",
      "state": {
       "children": [
        "IPY_MODEL_676ecacfb35c43bdade7920cf455ddb2",
        "IPY_MODEL_6f16f028a4164bbc8d9c9541fbda765f",
        "IPY_MODEL_f3a4c902663c411ab5d897c58a277652"
       ],
       "layout": "IPY_MODEL_361ff3576c3843bea5f71b63a92c2157"
      }
     },
     "2739ac38edad4775950e5fed8ac69bb8": {
      "model_module": "@jupyter-widgets/controls",
      "model_module_version": "2.0.0",
      "model_name": "HTMLStyleModel",
      "state": {
       "description_width": "",
       "font_size": null,
       "text_color": null
      }
     },
     "27bf603af47546eab86f9e92a77b2bff": {
      "model_module": "@jupyter-widgets/controls",
      "model_module_version": "2.0.0",
      "model_name": "HBoxModel",
      "state": {
       "children": [
        "IPY_MODEL_2b7bced63ce54edfa687cea57235fb7f",
        "IPY_MODEL_4990ea9498204d2a98f9f9352b1c0ddb",
        "IPY_MODEL_eb5d7bbd7a094c21a0725c90bd6c4903"
       ],
       "layout": "IPY_MODEL_a3c41b2e68e845f7b266ef42766c6bde"
      }
     },
     "28b6c85e02c94f57b69f1b014ec825a4": {
      "model_module": "@jupyter-widgets/controls",
      "model_module_version": "2.0.0",
      "model_name": "HTMLModel",
      "state": {
       "layout": "IPY_MODEL_368e65510c4d4056aeaec3fe4a13f0d5",
       "style": "IPY_MODEL_ab71e4bddf9d4bbe8a2c59ef7c457545",
       "value": " 18/18 [00:02&lt;00:00,  6.45it/s]"
      }
     },
     "2b3c956474024fc0aebc20518fd9882d": {
      "model_module": "@jupyter-widgets/controls",
      "model_module_version": "2.0.0",
      "model_name": "HBoxModel",
      "state": {
       "children": [
        "IPY_MODEL_c086378e0a644dada3bb99440f555b0e",
        "IPY_MODEL_ca4c040bda0643bb87f68bee5b72537c",
        "IPY_MODEL_0a2f142cc65940fa9faac8f3672f012c"
       ],
       "layout": "IPY_MODEL_a6979c7b7c5d44158cd2b8d2f758b163"
      }
     },
     "2b7bced63ce54edfa687cea57235fb7f": {
      "model_module": "@jupyter-widgets/controls",
      "model_module_version": "2.0.0",
      "model_name": "HTMLModel",
      "state": {
       "layout": "IPY_MODEL_b8707d1b5ae54ab6ae0d84ad0097ee91",
       "style": "IPY_MODEL_8ce543ab07dd4bbba07939d29dd09383",
       "value": "Empirical errors calculation: 100%"
      }
     },
     "2c87ab8f2bf148d794dbd6f5e7ab008d": {
      "model_module": "@jupyter-widgets/controls",
      "model_module_version": "2.0.0",
      "model_name": "FloatProgressModel",
      "state": {
       "bar_style": "success",
       "layout": "IPY_MODEL_9df105cd144247f092051ff6fb52f933",
       "max": 12,
       "style": "IPY_MODEL_c0bf0d2059a34500a7343bd14c7dfb68",
       "value": 12
      }
     },
     "2ff8e1d8dd8449f38383998cc3029c6e": {
      "model_module": "@jupyter-widgets/base",
      "model_module_version": "2.0.0",
      "model_name": "LayoutModel",
      "state": {}
     },
     "3331ff52ef544717ab816dcc8a419d64": {
      "model_module": "@jupyter-widgets/base",
      "model_module_version": "2.0.0",
      "model_name": "LayoutModel",
      "state": {}
     },
     "35c399ce94694be3b4c77cdcde456aff": {
      "model_module": "@jupyter-widgets/base",
      "model_module_version": "2.0.0",
      "model_name": "LayoutModel",
      "state": {}
     },
     "361ff3576c3843bea5f71b63a92c2157": {
      "model_module": "@jupyter-widgets/base",
      "model_module_version": "2.0.0",
      "model_name": "LayoutModel",
      "state": {}
     },
     "368e65510c4d4056aeaec3fe4a13f0d5": {
      "model_module": "@jupyter-widgets/base",
      "model_module_version": "2.0.0",
      "model_name": "LayoutModel",
      "state": {}
     },
     "370a3c8f7b2a4479832be4784deed8b0": {
      "model_module": "@jupyter-widgets/base",
      "model_module_version": "2.0.0",
      "model_name": "LayoutModel",
      "state": {}
     },
     "371c48905a1b48b0bdf9fab7a39b469a": {
      "model_module": "@jupyter-widgets/controls",
      "model_module_version": "2.0.0",
      "model_name": "HTMLModel",
      "state": {
       "layout": "IPY_MODEL_089cc4484a5747f9b24c0355f3b561f7",
       "style": "IPY_MODEL_9cfea9d09ff14e4fab063ad831fef9a1",
       "value": "Empirical errors calculation: 100%"
      }
     },
     "37a5646754904a638dab813fd5bc955f": {
      "model_module": "@jupyter-widgets/base",
      "model_module_version": "2.0.0",
      "model_name": "LayoutModel",
      "state": {}
     },
     "3826fb329911402896d0523a438bdffa": {
      "model_module": "@jupyter-widgets/controls",
      "model_module_version": "2.0.0",
      "model_name": "HTMLStyleModel",
      "state": {
       "description_width": "",
       "font_size": null,
       "text_color": null
      }
     },
     "3864f4fb763149ec9d9e1507fd73e901": {
      "model_module": "@jupyter-widgets/controls",
      "model_module_version": "2.0.0",
      "model_name": "ProgressStyleModel",
      "state": {
       "description_width": ""
      }
     },
     "39c7b7b253b74db3a02f6c09d5a05143": {
      "model_module": "@jupyter-widgets/controls",
      "model_module_version": "2.0.0",
      "model_name": "ProgressStyleModel",
      "state": {
       "description_width": ""
      }
     },
     "3a404b94aeb442f984a4729a67e2f089": {
      "model_module": "@jupyter-widgets/base",
      "model_module_version": "2.0.0",
      "model_name": "LayoutModel",
      "state": {}
     },
     "3c22f3048ce344c18335eedebba194fb": {
      "model_module": "@jupyter-widgets/base",
      "model_module_version": "2.0.0",
      "model_name": "LayoutModel",
      "state": {}
     },
     "3d3a1db866014709962c96c51c76b893": {
      "model_module": "@jupyter-widgets/controls",
      "model_module_version": "2.0.0",
      "model_name": "ProgressStyleModel",
      "state": {
       "description_width": ""
      }
     },
     "4098979390c44cde9e6eda48df286300": {
      "model_module": "@jupyter-widgets/controls",
      "model_module_version": "2.0.0",
      "model_name": "HTMLModel",
      "state": {
       "layout": "IPY_MODEL_dd8bee15e31c44b792d1b83140fff796",
       "style": "IPY_MODEL_a44db7ba65094f819f3ad735f3c2f41c",
       "value": "100%"
      }
     },
     "412408069385400cb87f5561bd9514c4": {
      "model_module": "@jupyter-widgets/controls",
      "model_module_version": "2.0.0",
      "model_name": "HTMLModel",
      "state": {
       "layout": "IPY_MODEL_bfc39bd97d094a258424d25bfdb28c18",
       "style": "IPY_MODEL_22e21ee7eb7e4a5fa945f4e2b27d2c3a",
       "value": " 12/12 [00:38&lt;00:00,  4.12s/it]"
      }
     },
     "41d3ee6ea1d14931b3508240e3eecef8": {
      "model_module": "@jupyter-widgets/base",
      "model_module_version": "2.0.0",
      "model_name": "LayoutModel",
      "state": {}
     },
     "443daf65d3dc492b8e90ab96384fe507": {
      "model_module": "@jupyter-widgets/controls",
      "model_module_version": "2.0.0",
      "model_name": "HTMLModel",
      "state": {
       "layout": "IPY_MODEL_3a404b94aeb442f984a4729a67e2f089",
       "style": "IPY_MODEL_3826fb329911402896d0523a438bdffa",
       "value": "100%"
      }
     },
     "48e014c4b27345979de64c0403c112e3": {
      "model_module": "@jupyter-widgets/controls",
      "model_module_version": "2.0.0",
      "model_name": "HTMLStyleModel",
      "state": {
       "description_width": "",
       "font_size": null,
       "text_color": null
      }
     },
     "4990ea9498204d2a98f9f9352b1c0ddb": {
      "model_module": "@jupyter-widgets/controls",
      "model_module_version": "2.0.0",
      "model_name": "FloatProgressModel",
      "state": {
       "bar_style": "success",
       "layout": "IPY_MODEL_8b4f8ba2f39b4a36aee59aff2c86db0e",
       "max": 18,
       "style": "IPY_MODEL_164185b5a4894e58bdc7c51c800e899c",
       "value": 18
      }
     },
     "4a743cdf39de4e60a8bcc47a813032d9": {
      "model_module": "@jupyter-widgets/controls",
      "model_module_version": "2.0.0",
      "model_name": "HTMLStyleModel",
      "state": {
       "description_width": "",
       "font_size": null,
       "text_color": null
      }
     },
     "4a8bd1b109c34f63987a1291a51b349a": {
      "model_module": "@jupyter-widgets/controls",
      "model_module_version": "2.0.0",
      "model_name": "FloatProgressModel",
      "state": {
       "bar_style": "success",
       "layout": "IPY_MODEL_9cc2b72ec0754bf399224ad1c792fa29",
       "max": 4,
       "style": "IPY_MODEL_69fc1dbe62a944a8abfe0f3544f09afe",
       "value": 4
      }
     },
     "4e36a16cbb5a434b8557be0bb798cd11": {
      "model_module": "@jupyter-widgets/base",
      "model_module_version": "2.0.0",
      "model_name": "LayoutModel",
      "state": {}
     },
     "4f50d3b523da44649f7b824a9087e892": {
      "model_module": "@jupyter-widgets/controls",
      "model_module_version": "2.0.0",
      "model_name": "HTMLStyleModel",
      "state": {
       "description_width": "",
       "font_size": null,
       "text_color": null
      }
     },
     "534df12d42e7489fa061c1167df1eec2": {
      "model_module": "@jupyter-widgets/controls",
      "model_module_version": "2.0.0",
      "model_name": "ProgressStyleModel",
      "state": {
       "description_width": ""
      }
     },
     "53751e1deee44e53b38f332b79d7896f": {
      "model_module": "@jupyter-widgets/base",
      "model_module_version": "2.0.0",
      "model_name": "LayoutModel",
      "state": {}
     },
     "5553884348e24519bce8415c5a2c681e": {
      "model_module": "@jupyter-widgets/controls",
      "model_module_version": "2.0.0",
      "model_name": "HTMLModel",
      "state": {
       "layout": "IPY_MODEL_f7f295244bcf42da9521c7ccb7b416f0",
       "style": "IPY_MODEL_cb4639efe51a4bbe8343a7097b41bab5",
       "value": " 100/100 [01:53&lt;00:00,  1.13s/it]"
      }
     },
     "5717055850804f3f9cb6c21bf3580df3": {
      "model_module": "@jupyter-widgets/controls",
      "model_module_version": "2.0.0",
      "model_name": "HTMLStyleModel",
      "state": {
       "description_width": "",
       "font_size": null,
       "text_color": null
      }
     },
     "572480e9ea9d4531beb0f3fdfce5aebb": {
      "model_module": "@jupyter-widgets/controls",
      "model_module_version": "2.0.0",
      "model_name": "FloatProgressModel",
      "state": {
       "bar_style": "success",
       "layout": "IPY_MODEL_02183b3c24dd41baad3838aa062aa293",
       "style": "IPY_MODEL_668e0ee270dc45e4ae55d88349d2c9a9",
       "value": 100
      }
     },
     "59218a9bcbce45ba975382106b510b2f": {
      "model_module": "@jupyter-widgets/controls",
      "model_module_version": "2.0.0",
      "model_name": "HTMLModel",
      "state": {
       "layout": "IPY_MODEL_5cd17401db8a40e7a9f5373d8ebdb322",
       "style": "IPY_MODEL_85cd9aef9646432caa62a337431e685c",
       "value": "Empirical errors calculation: 100%"
      }
     },
     "59476227197c46cdbbdc2e01f7c550b9": {
      "model_module": "@jupyter-widgets/base",
      "model_module_version": "2.0.0",
      "model_name": "LayoutModel",
      "state": {}
     },
     "596ca01ecf2f435fb83ccd1b3bf15d7a": {
      "model_module": "@jupyter-widgets/controls",
      "model_module_version": "2.0.0",
      "model_name": "HTMLModel",
      "state": {
       "layout": "IPY_MODEL_35c399ce94694be3b4c77cdcde456aff",
       "style": "IPY_MODEL_accdea1ab9ba4c2987ab1e9e8f18d5c2",
       "value": " 100/100 [01:17&lt;00:00,  1.29it/s]"
      }
     },
     "5a2482d0f5df4d30beb504fbb123af29": {
      "model_module": "@jupyter-widgets/controls",
      "model_module_version": "2.0.0",
      "model_name": "HTMLModel",
      "state": {
       "layout": "IPY_MODEL_a6b4c1df719e4639b7ab858379d5c33a",
       "style": "IPY_MODEL_1332a18a44574e188c5fb7bb4d49e2d7",
       "value": " 4/4 [00:41&lt;00:00,  7.03s/it]"
      }
     },
     "5cd17401db8a40e7a9f5373d8ebdb322": {
      "model_module": "@jupyter-widgets/base",
      "model_module_version": "2.0.0",
      "model_name": "LayoutModel",
      "state": {}
     },
     "5f228b0180ea4334ae2b9cd1173b1b10": {
      "model_module": "@jupyter-widgets/controls",
      "model_module_version": "2.0.0",
      "model_name": "HBoxModel",
      "state": {
       "children": [
        "IPY_MODEL_f315eee2f03144549cbb5cd1a5949812",
        "IPY_MODEL_2c87ab8f2bf148d794dbd6f5e7ab008d",
        "IPY_MODEL_92a3a9459d3e449d93c912987fde5027"
       ],
       "layout": "IPY_MODEL_f14e8513187a42aeade942c59d3601d9"
      }
     },
     "5fd51402b3b44372a563500480b2aabf": {
      "model_module": "@jupyter-widgets/base",
      "model_module_version": "2.0.0",
      "model_name": "LayoutModel",
      "state": {}
     },
     "5fd936b6721f415fa1720f164fe0a283": {
      "model_module": "@jupyter-widgets/controls",
      "model_module_version": "2.0.0",
      "model_name": "HTMLModel",
      "state": {
       "layout": "IPY_MODEL_09f5b8e27ae04464baeaceefea08e196",
       "style": "IPY_MODEL_db986dc8746a41c499d69ae99121d98f",
       "value": "Empirical errors calculation: 100%"
      }
     },
     "6533888312c94a748ff5cd3cde59e326": {
      "model_module": "@jupyter-widgets/controls",
      "model_module_version": "2.0.0",
      "model_name": "HTMLStyleModel",
      "state": {
       "description_width": "",
       "font_size": null,
       "text_color": null
      }
     },
     "668e0ee270dc45e4ae55d88349d2c9a9": {
      "model_module": "@jupyter-widgets/controls",
      "model_module_version": "2.0.0",
      "model_name": "ProgressStyleModel",
      "state": {
       "description_width": ""
      }
     },
     "676ecacfb35c43bdade7920cf455ddb2": {
      "model_module": "@jupyter-widgets/controls",
      "model_module_version": "2.0.0",
      "model_name": "HTMLModel",
      "state": {
       "layout": "IPY_MODEL_081c6b6f05484719b96f26c605bccdc6",
       "style": "IPY_MODEL_f34ac54ad913444c9b096639e5f247f4",
       "value": "100%"
      }
     },
     "67d45b17005a49e4a0e054512e73f713": {
      "model_module": "@jupyter-widgets/controls",
      "model_module_version": "2.0.0",
      "model_name": "FloatProgressModel",
      "state": {
       "bar_style": "success",
       "layout": "IPY_MODEL_730a633f21ac47ab930ee5111f71c4d0",
       "style": "IPY_MODEL_8a77bd6d21e046669dcfbfd24a430e87",
       "value": 100
      }
     },
     "69d5d592555f4c779650d3d28dd0930c": {
      "model_module": "@jupyter-widgets/controls",
      "model_module_version": "2.0.0",
      "model_name": "HTMLModel",
      "state": {
       "layout": "IPY_MODEL_53751e1deee44e53b38f332b79d7896f",
       "style": "IPY_MODEL_b024d7f4223544718a6c551e212997ad",
       "value": "100%"
      }
     },
     "69fc1dbe62a944a8abfe0f3544f09afe": {
      "model_module": "@jupyter-widgets/controls",
      "model_module_version": "2.0.0",
      "model_name": "ProgressStyleModel",
      "state": {
       "description_width": ""
      }
     },
     "6be966d976ca40438bfc6b0a9c9df939": {
      "model_module": "@jupyter-widgets/controls",
      "model_module_version": "2.0.0",
      "model_name": "HTMLStyleModel",
      "state": {
       "description_width": "",
       "font_size": null,
       "text_color": null
      }
     },
     "6f16f028a4164bbc8d9c9541fbda765f": {
      "model_module": "@jupyter-widgets/controls",
      "model_module_version": "2.0.0",
      "model_name": "FloatProgressModel",
      "state": {
       "bar_style": "success",
       "layout": "IPY_MODEL_1d8757994cee487f8713ea16d9a30790",
       "style": "IPY_MODEL_c48cfdc3b6a4431e98866a0170a95237",
       "value": 100
      }
     },
     "730a633f21ac47ab930ee5111f71c4d0": {
      "model_module": "@jupyter-widgets/base",
      "model_module_version": "2.0.0",
      "model_name": "LayoutModel",
      "state": {}
     },
     "734b2c0705e5484587e974a30fbc7f79": {
      "model_module": "@jupyter-widgets/controls",
      "model_module_version": "2.0.0",
      "model_name": "HBoxModel",
      "state": {
       "children": [
        "IPY_MODEL_f1f57a90fb0042d9b69b6c0ba16ea871",
        "IPY_MODEL_572480e9ea9d4531beb0f3fdfce5aebb",
        "IPY_MODEL_5553884348e24519bce8415c5a2c681e"
       ],
       "layout": "IPY_MODEL_37a5646754904a638dab813fd5bc955f"
      }
     },
     "75d9bf59881f42c08cc74fd2981b4223": {
      "model_module": "@jupyter-widgets/base",
      "model_module_version": "2.0.0",
      "model_name": "LayoutModel",
      "state": {}
     },
     "775d902727d540319af62a9ff48dc8e2": {
      "model_module": "@jupyter-widgets/controls",
      "model_module_version": "2.0.0",
      "model_name": "HTMLModel",
      "state": {
       "layout": "IPY_MODEL_8564d2d552ef40e592986890d2513848",
       "style": "IPY_MODEL_7db420b57ffe412d9e2a0d6247d2527c",
       "value": " 100/100 [01:53&lt;00:00,  1.20s/it]"
      }
     },
     "7a178f2b96764eeb967f04d6434402fb": {
      "model_module": "@jupyter-widgets/base",
      "model_module_version": "2.0.0",
      "model_name": "LayoutModel",
      "state": {}
     },
     "7b3f0250313f4adb83b0827954b90d5e": {
      "model_module": "@jupyter-widgets/controls",
      "model_module_version": "2.0.0",
      "model_name": "HTMLModel",
      "state": {
       "layout": "IPY_MODEL_ee6b89f24fe643dfb6e2bebd4883c072",
       "style": "IPY_MODEL_6be966d976ca40438bfc6b0a9c9df939",
       "value": "MDE calculation: 100%"
      }
     },
     "7db420b57ffe412d9e2a0d6247d2527c": {
      "model_module": "@jupyter-widgets/controls",
      "model_module_version": "2.0.0",
      "model_name": "HTMLStyleModel",
      "state": {
       "description_width": "",
       "font_size": null,
       "text_color": null
      }
     },
     "80fa6591e77c4d44ab59c9d3739c6f3d": {
      "model_module": "@jupyter-widgets/base",
      "model_module_version": "2.0.0",
      "model_name": "LayoutModel",
      "state": {}
     },
     "81399ee40d1648d0bc2f590dc372c08a": {
      "model_module": "@jupyter-widgets/controls",
      "model_module_version": "2.0.0",
      "model_name": "HTMLStyleModel",
      "state": {
       "description_width": "",
       "font_size": null,
       "text_color": null
      }
     },
     "84d653feeaa44033a02121a5c1ff7774": {
      "model_module": "@jupyter-widgets/base",
      "model_module_version": "2.0.0",
      "model_name": "LayoutModel",
      "state": {}
     },
     "8564d2d552ef40e592986890d2513848": {
      "model_module": "@jupyter-widgets/base",
      "model_module_version": "2.0.0",
      "model_name": "LayoutModel",
      "state": {}
     },
     "85cd9aef9646432caa62a337431e685c": {
      "model_module": "@jupyter-widgets/controls",
      "model_module_version": "2.0.0",
      "model_name": "HTMLStyleModel",
      "state": {
       "description_width": "",
       "font_size": null,
       "text_color": null
      }
     },
     "86709bf77b4e4fcc9ed04ecd9ba05655": {
      "model_module": "@jupyter-widgets/base",
      "model_module_version": "2.0.0",
      "model_name": "LayoutModel",
      "state": {}
     },
     "87b97fac7a474de89d4cba104c42b35c": {
      "model_module": "@jupyter-widgets/controls",
      "model_module_version": "2.0.0",
      "model_name": "HTMLModel",
      "state": {
       "layout": "IPY_MODEL_02571ed529ba48b4ba67fbbd9265398f",
       "style": "IPY_MODEL_176ea1a9a3914eb5bbafa9d5b1e4633f",
       "value": "MDE calculation: 100%"
      }
     },
     "890271b61fa64da6aa6ca32b3adec1b2": {
      "model_module": "@jupyter-widgets/controls",
      "model_module_version": "2.0.0",
      "model_name": "HTMLModel",
      "state": {
       "layout": "IPY_MODEL_d72a0852dbe945a1b52d14244c33a097",
       "style": "IPY_MODEL_5717055850804f3f9cb6c21bf3580df3",
       "value": " 100/100 [01:17&lt;00:00,  1.30it/s]"
      }
     },
     "8a77bd6d21e046669dcfbfd24a430e87": {
      "model_module": "@jupyter-widgets/controls",
      "model_module_version": "2.0.0",
      "model_name": "ProgressStyleModel",
      "state": {
       "description_width": ""
      }
     },
     "8b3293aeb83f4c46bc5e950046414800": {
      "model_module": "@jupyter-widgets/controls",
      "model_module_version": "2.0.0",
      "model_name": "FloatProgressModel",
      "state": {
       "bar_style": "success",
       "layout": "IPY_MODEL_f90b283eb8254708b1873715d47c7e70",
       "max": 18,
       "style": "IPY_MODEL_257f5f3923ab46efaa9af60890826036",
       "value": 18
      }
     },
     "8b4f8ba2f39b4a36aee59aff2c86db0e": {
      "model_module": "@jupyter-widgets/base",
      "model_module_version": "2.0.0",
      "model_name": "LayoutModel",
      "state": {}
     },
     "8b641b2e121c47feaa603f3d2eebdb81": {
      "model_module": "@jupyter-widgets/controls",
      "model_module_version": "2.0.0",
      "model_name": "FloatProgressModel",
      "state": {
       "bar_style": "success",
       "layout": "IPY_MODEL_b5e9ab6bac1946e79cd15d498f2508d7",
       "style": "IPY_MODEL_3d3a1db866014709962c96c51c76b893",
       "value": 100
      }
     },
     "8b9ddd6041684523bbaf0c670b929aa9": {
      "model_module": "@jupyter-widgets/controls",
      "model_module_version": "2.0.0",
      "model_name": "ProgressStyleModel",
      "state": {
       "description_width": ""
      }
     },
     "8ce543ab07dd4bbba07939d29dd09383": {
      "model_module": "@jupyter-widgets/controls",
      "model_module_version": "2.0.0",
      "model_name": "HTMLStyleModel",
      "state": {
       "description_width": "",
       "font_size": null,
       "text_color": null
      }
     },
     "8d7936aefa1f40d69ef6552788d72c14": {
      "model_module": "@jupyter-widgets/base",
      "model_module_version": "2.0.0",
      "model_name": "LayoutModel",
      "state": {}
     },
     "8ec957dffc2f4b3c80ffd589eab93f53": {
      "model_module": "@jupyter-widgets/controls",
      "model_module_version": "2.0.0",
      "model_name": "HBoxModel",
      "state": {
       "children": [
        "IPY_MODEL_7b3f0250313f4adb83b0827954b90d5e",
        "IPY_MODEL_4a8bd1b109c34f63987a1291a51b349a",
        "IPY_MODEL_5a2482d0f5df4d30beb504fbb123af29"
       ],
       "layout": "IPY_MODEL_cb2f904ddc234314827589378613cff1"
      }
     },
     "8fd07d8fe6394407a62813aac96adce9": {
      "model_module": "@jupyter-widgets/base",
      "model_module_version": "2.0.0",
      "model_name": "LayoutModel",
      "state": {}
     },
     "9124b958481b4aaeb195a385b6cba670": {
      "model_module": "@jupyter-widgets/controls",
      "model_module_version": "2.0.0",
      "model_name": "HTMLStyleModel",
      "state": {
       "description_width": "",
       "font_size": null,
       "text_color": null
      }
     },
     "925bd30c68564c42bec78415b1fdd1d5": {
      "model_module": "@jupyter-widgets/base",
      "model_module_version": "2.0.0",
      "model_name": "LayoutModel",
      "state": {}
     },
     "92a3a9459d3e449d93c912987fde5027": {
      "model_module": "@jupyter-widgets/controls",
      "model_module_version": "2.0.0",
      "model_name": "HTMLModel",
      "state": {
       "layout": "IPY_MODEL_7a178f2b96764eeb967f04d6434402fb",
       "style": "IPY_MODEL_0a1aa93432c24dec843e6a9abb61212d",
       "value": " 12/12 [00:42&lt;00:00,  3.80s/it]"
      }
     },
     "986cea2659464076a06702b4135abcca": {
      "model_module": "@jupyter-widgets/controls",
      "model_module_version": "2.0.0",
      "model_name": "HTMLModel",
      "state": {
       "layout": "IPY_MODEL_84d653feeaa44033a02121a5c1ff7774",
       "style": "IPY_MODEL_c7f7f8f300bd4204b11c01a37aeeac99",
       "value": " 2/2 [00:03&lt;00:00,  3.13s/it]"
      }
     },
     "99cf4707e8b04a64a1c0a6b448e38d2e": {
      "model_module": "@jupyter-widgets/controls",
      "model_module_version": "2.0.0",
      "model_name": "HTMLStyleModel",
      "state": {
       "description_width": "",
       "font_size": null,
       "text_color": null
      }
     },
     "9a77dc08307a474f89cf7256aadc06ed": {
      "model_module": "@jupyter-widgets/controls",
      "model_module_version": "2.0.0",
      "model_name": "FloatProgressModel",
      "state": {
       "bar_style": "success",
       "layout": "IPY_MODEL_db0faf5e0e2d47c4a1527bd03bbed2a7",
       "style": "IPY_MODEL_23c64bbdd4d84bf0822ff218c2f6a3c1",
       "value": 100
      }
     },
     "9cc2b72ec0754bf399224ad1c792fa29": {
      "model_module": "@jupyter-widgets/base",
      "model_module_version": "2.0.0",
      "model_name": "LayoutModel",
      "state": {}
     },
     "9cfea9d09ff14e4fab063ad831fef9a1": {
      "model_module": "@jupyter-widgets/controls",
      "model_module_version": "2.0.0",
      "model_name": "HTMLStyleModel",
      "state": {
       "description_width": "",
       "font_size": null,
       "text_color": null
      }
     },
     "9df105cd144247f092051ff6fb52f933": {
      "model_module": "@jupyter-widgets/base",
      "model_module_version": "2.0.0",
      "model_name": "LayoutModel",
      "state": {}
     },
     "9ecf535c77a340928339e7974b79e6c8": {
      "model_module": "@jupyter-widgets/controls",
      "model_module_version": "2.0.0",
      "model_name": "FloatProgressModel",
      "state": {
       "bar_style": "success",
       "layout": "IPY_MODEL_18fb873b313640cabb3db289793bdb65",
       "style": "IPY_MODEL_8b9ddd6041684523bbaf0c670b929aa9",
       "value": 100
      }
     },
     "a22f55b7d5b546618687d27920406dfc": {
      "model_module": "@jupyter-widgets/controls",
      "model_module_version": "2.0.0",
      "model_name": "HBoxModel",
      "state": {
       "children": [
        "IPY_MODEL_59218a9bcbce45ba975382106b510b2f",
        "IPY_MODEL_d64e43906a88476691b7681e30afa9e3",
        "IPY_MODEL_28b6c85e02c94f57b69f1b014ec825a4"
       ],
       "layout": "IPY_MODEL_af303f752bc74ee0a63ef1b273dc730b"
      }
     },
     "a3c41b2e68e845f7b266ef42766c6bde": {
      "model_module": "@jupyter-widgets/base",
      "model_module_version": "2.0.0",
      "model_name": "LayoutModel",
      "state": {}
     },
     "a44db7ba65094f819f3ad735f3c2f41c": {
      "model_module": "@jupyter-widgets/controls",
      "model_module_version": "2.0.0",
      "model_name": "HTMLStyleModel",
      "state": {
       "description_width": "",
       "font_size": null,
       "text_color": null
      }
     },
     "a57ab4161af348c7b5b2ff58f39a4a6e": {
      "model_module": "@jupyter-widgets/base",
      "model_module_version": "2.0.0",
      "model_name": "LayoutModel",
      "state": {}
     },
     "a6979c7b7c5d44158cd2b8d2f758b163": {
      "model_module": "@jupyter-widgets/base",
      "model_module_version": "2.0.0",
      "model_name": "LayoutModel",
      "state": {}
     },
     "a6b4c1df719e4639b7ab858379d5c33a": {
      "model_module": "@jupyter-widgets/base",
      "model_module_version": "2.0.0",
      "model_name": "LayoutModel",
      "state": {}
     },
     "aa00de83fa354ae7892f15a12c0ec946": {
      "model_module": "@jupyter-widgets/controls",
      "model_module_version": "2.0.0",
      "model_name": "HTMLModel",
      "state": {
       "layout": "IPY_MODEL_18a0a7fe37e54a1b9645a950a425e124",
       "style": "IPY_MODEL_81399ee40d1648d0bc2f590dc372c08a",
       "value": " 12/12 [01:03&lt;00:00, 11.41s/it]"
      }
     },
     "aa2b10d8b4374f689379a73b27e9c1d2": {
      "model_module": "@jupyter-widgets/controls",
      "model_module_version": "2.0.0",
      "model_name": "HBoxModel",
      "state": {
       "children": [
        "IPY_MODEL_69d5d592555f4c779650d3d28dd0930c",
        "IPY_MODEL_9ecf535c77a340928339e7974b79e6c8",
        "IPY_MODEL_775d902727d540319af62a9ff48dc8e2"
       ],
       "layout": "IPY_MODEL_db068846465141ab80b3195776d3e7d5"
      }
     },
     "aad58f3e8d3d4f42988db6727f033858": {
      "model_module": "@jupyter-widgets/controls",
      "model_module_version": "2.0.0",
      "model_name": "HBoxModel",
      "state": {
       "children": [
        "IPY_MODEL_371c48905a1b48b0bdf9fab7a39b469a",
        "IPY_MODEL_d116f36ef9164642aa0d96c1917eaa03",
        "IPY_MODEL_20a1e5f7d092492288e96952464b6e9e"
       ],
       "layout": "IPY_MODEL_3331ff52ef544717ab816dcc8a419d64"
      }
     },
     "ab71e4bddf9d4bbe8a2c59ef7c457545": {
      "model_module": "@jupyter-widgets/controls",
      "model_module_version": "2.0.0",
      "model_name": "HTMLStyleModel",
      "state": {
       "description_width": "",
       "font_size": null,
       "text_color": null
      }
     },
     "accdea1ab9ba4c2987ab1e9e8f18d5c2": {
      "model_module": "@jupyter-widgets/controls",
      "model_module_version": "2.0.0",
      "model_name": "HTMLStyleModel",
      "state": {
       "description_width": "",
       "font_size": null,
       "text_color": null
      }
     },
     "af303f752bc74ee0a63ef1b273dc730b": {
      "model_module": "@jupyter-widgets/base",
      "model_module_version": "2.0.0",
      "model_name": "LayoutModel",
      "state": {}
     },
     "b024d7f4223544718a6c551e212997ad": {
      "model_module": "@jupyter-widgets/controls",
      "model_module_version": "2.0.0",
      "model_name": "HTMLStyleModel",
      "state": {
       "description_width": "",
       "font_size": null,
       "text_color": null
      }
     },
     "b2ceee9ccd2b4199bbbf00d15659a3a8": {
      "model_module": "@jupyter-widgets/controls",
      "model_module_version": "2.0.0",
      "model_name": "HBoxModel",
      "state": {
       "children": [
        "IPY_MODEL_4098979390c44cde9e6eda48df286300",
        "IPY_MODEL_9a77dc08307a474f89cf7256aadc06ed",
        "IPY_MODEL_596ca01ecf2f435fb83ccd1b3bf15d7a"
       ],
       "layout": "IPY_MODEL_8fd07d8fe6394407a62813aac96adce9"
      }
     },
     "b5e9ab6bac1946e79cd15d498f2508d7": {
      "model_module": "@jupyter-widgets/base",
      "model_module_version": "2.0.0",
      "model_name": "LayoutModel",
      "state": {}
     },
     "b6bbecde66dc4af09ba1b251ff23ab69": {
      "model_module": "@jupyter-widgets/base",
      "model_module_version": "2.0.0",
      "model_name": "LayoutModel",
      "state": {}
     },
     "b8707d1b5ae54ab6ae0d84ad0097ee91": {
      "model_module": "@jupyter-widgets/base",
      "model_module_version": "2.0.0",
      "model_name": "LayoutModel",
      "state": {}
     },
     "b87fc3e2e57243599fb3b78c0d2517bf": {
      "model_module": "@jupyter-widgets/base",
      "model_module_version": "2.0.0",
      "model_name": "LayoutModel",
      "state": {}
     },
     "baf50d78da0747e5ae15fddafed0bde8": {
      "model_module": "@jupyter-widgets/controls",
      "model_module_version": "2.0.0",
      "model_name": "HBoxModel",
      "state": {
       "children": [
        "IPY_MODEL_e2420a22081948f29dc14f26fd91dcca",
        "IPY_MODEL_1b455aeae4ec4a898f037407a252b79f",
        "IPY_MODEL_986cea2659464076a06702b4135abcca"
       ],
       "layout": "IPY_MODEL_e6aa49735e78436ca1bc5d87abc92344"
      }
     },
     "bb44f11a714d44f7a23ad2270152545a": {
      "model_module": "@jupyter-widgets/base",
      "model_module_version": "2.0.0",
      "model_name": "LayoutModel",
      "state": {}
     },
     "bc113558044c4385aefadb4d79b76a82": {
      "model_module": "@jupyter-widgets/controls",
      "model_module_version": "2.0.0",
      "model_name": "HTMLStyleModel",
      "state": {
       "description_width": "",
       "font_size": null,
       "text_color": null
      }
     },
     "bd9826c897454331a276cc228a26afa3": {
      "model_module": "@jupyter-widgets/controls",
      "model_module_version": "2.0.0",
      "model_name": "HTMLModel",
      "state": {
       "layout": "IPY_MODEL_41d3ee6ea1d14931b3508240e3eecef8",
       "style": "IPY_MODEL_9124b958481b4aaeb195a385b6cba670",
       "value": "100%"
      }
     },
     "bfc39bd97d094a258424d25bfdb28c18": {
      "model_module": "@jupyter-widgets/base",
      "model_module_version": "2.0.0",
      "model_name": "LayoutModel",
      "state": {}
     },
     "c086378e0a644dada3bb99440f555b0e": {
      "model_module": "@jupyter-widgets/controls",
      "model_module_version": "2.0.0",
      "model_name": "HTMLModel",
      "state": {
       "layout": "IPY_MODEL_86709bf77b4e4fcc9ed04ecd9ba05655",
       "style": "IPY_MODEL_2739ac38edad4775950e5fed8ac69bb8",
       "value": "MDE calculation: 100%"
      }
     },
     "c0bf0d2059a34500a7343bd14c7dfb68": {
      "model_module": "@jupyter-widgets/controls",
      "model_module_version": "2.0.0",
      "model_name": "ProgressStyleModel",
      "state": {
       "description_width": ""
      }
     },
     "c27d623de08c43b4a3c61d9fee1aef3d": {
      "model_module": "@jupyter-widgets/controls",
      "model_module_version": "2.0.0",
      "model_name": "ProgressStyleModel",
      "state": {
       "description_width": ""
      }
     },
     "c48cfdc3b6a4431e98866a0170a95237": {
      "model_module": "@jupyter-widgets/controls",
      "model_module_version": "2.0.0",
      "model_name": "ProgressStyleModel",
      "state": {
       "description_width": ""
      }
     },
     "c56f9978354a42de8c07d84a32a7cde0": {
      "model_module": "@jupyter-widgets/controls",
      "model_module_version": "2.0.0",
      "model_name": "HTMLStyleModel",
      "state": {
       "description_width": "",
       "font_size": null,
       "text_color": null
      }
     },
     "c7f7f8f300bd4204b11c01a37aeeac99": {
      "model_module": "@jupyter-widgets/controls",
      "model_module_version": "2.0.0",
      "model_name": "HTMLStyleModel",
      "state": {
       "description_width": "",
       "font_size": null,
       "text_color": null
      }
     },
     "c803876cd2da4fdeb538ebb43c73571b": {
      "model_module": "@jupyter-widgets/controls",
      "model_module_version": "2.0.0",
      "model_name": "HTMLStyleModel",
      "state": {
       "description_width": "",
       "font_size": null,
       "text_color": null
      }
     },
     "ca4c040bda0643bb87f68bee5b72537c": {
      "model_module": "@jupyter-widgets/controls",
      "model_module_version": "2.0.0",
      "model_name": "FloatProgressModel",
      "state": {
       "bar_style": "success",
       "layout": "IPY_MODEL_1fb88cf75e734e518cc3d5306fcd7516",
       "max": 12,
       "style": "IPY_MODEL_e6c66d4dd91d4072bd266d1ed5715a2e",
       "value": 12
      }
     },
     "caec5c557aa445228095598503174693": {
      "model_module": "@jupyter-widgets/controls",
      "model_module_version": "2.0.0",
      "model_name": "FloatProgressModel",
      "state": {
       "bar_style": "success",
       "layout": "IPY_MODEL_21d0db798b95428c8612dcd2658c391e",
       "max": 12,
       "style": "IPY_MODEL_cff4845927d84a03aba916f2a87617f7",
       "value": 12
      }
     },
     "cb2f904ddc234314827589378613cff1": {
      "model_module": "@jupyter-widgets/base",
      "model_module_version": "2.0.0",
      "model_name": "LayoutModel",
      "state": {}
     },
     "cb4639efe51a4bbe8343a7097b41bab5": {
      "model_module": "@jupyter-widgets/controls",
      "model_module_version": "2.0.0",
      "model_name": "HTMLStyleModel",
      "state": {
       "description_width": "",
       "font_size": null,
       "text_color": null
      }
     },
     "cff4845927d84a03aba916f2a87617f7": {
      "model_module": "@jupyter-widgets/controls",
      "model_module_version": "2.0.0",
      "model_name": "ProgressStyleModel",
      "state": {
       "description_width": ""
      }
     },
     "d116f36ef9164642aa0d96c1917eaa03": {
      "model_module": "@jupyter-widgets/controls",
      "model_module_version": "2.0.0",
      "model_name": "FloatProgressModel",
      "state": {
       "bar_style": "success",
       "layout": "IPY_MODEL_0645e4ae8c1c4bd7bb5c74874f0210f8",
       "max": 9,
       "style": "IPY_MODEL_39c7b7b253b74db3a02f6c09d5a05143",
       "value": 9
      }
     },
     "d4078435c1dd4e92b5f51beb89f7761e": {
      "model_module": "@jupyter-widgets/base",
      "model_module_version": "2.0.0",
      "model_name": "LayoutModel",
      "state": {}
     },
     "d64e43906a88476691b7681e30afa9e3": {
      "model_module": "@jupyter-widgets/controls",
      "model_module_version": "2.0.0",
      "model_name": "FloatProgressModel",
      "state": {
       "bar_style": "success",
       "layout": "IPY_MODEL_b87fc3e2e57243599fb3b78c0d2517bf",
       "max": 18,
       "style": "IPY_MODEL_534df12d42e7489fa061c1167df1eec2",
       "value": 18
      }
     },
     "d72a0852dbe945a1b52d14244c33a097": {
      "model_module": "@jupyter-widgets/base",
      "model_module_version": "2.0.0",
      "model_name": "LayoutModel",
      "state": {}
     },
     "db068846465141ab80b3195776d3e7d5": {
      "model_module": "@jupyter-widgets/base",
      "model_module_version": "2.0.0",
      "model_name": "LayoutModel",
      "state": {}
     },
     "db0faf5e0e2d47c4a1527bd03bbed2a7": {
      "model_module": "@jupyter-widgets/base",
      "model_module_version": "2.0.0",
      "model_name": "LayoutModel",
      "state": {}
     },
     "db70ebe79976463b98067bdc9a4536b8": {
      "model_module": "@jupyter-widgets/controls",
      "model_module_version": "2.0.0",
      "model_name": "FloatProgressModel",
      "state": {
       "bar_style": "success",
       "layout": "IPY_MODEL_59476227197c46cdbbdc2e01f7c550b9",
       "max": 12,
       "style": "IPY_MODEL_c27d623de08c43b4a3c61d9fee1aef3d",
       "value": 12
      }
     },
     "db986dc8746a41c499d69ae99121d98f": {
      "model_module": "@jupyter-widgets/controls",
      "model_module_version": "2.0.0",
      "model_name": "HTMLStyleModel",
      "state": {
       "description_width": "",
       "font_size": null,
       "text_color": null
      }
     },
     "dd8bee15e31c44b792d1b83140fff796": {
      "model_module": "@jupyter-widgets/base",
      "model_module_version": "2.0.0",
      "model_name": "LayoutModel",
      "state": {}
     },
     "e2420a22081948f29dc14f26fd91dcca": {
      "model_module": "@jupyter-widgets/controls",
      "model_module_version": "2.0.0",
      "model_name": "HTMLModel",
      "state": {
       "layout": "IPY_MODEL_039f7ba2e2f34dad867e72adb041be09",
       "style": "IPY_MODEL_c803876cd2da4fdeb538ebb43c73571b",
       "value": "Empirical errors calculation: 100%"
      }
     },
     "e46ce23112b1475eae1efa8ede073675": {
      "model_module": "@jupyter-widgets/controls",
      "model_module_version": "2.0.0",
      "model_name": "HTMLStyleModel",
      "state": {
       "description_width": "",
       "font_size": null,
       "text_color": null
      }
     },
     "e5893a0261714adcb36e794e7dc9c6b9": {
      "model_module": "@jupyter-widgets/controls",
      "model_module_version": "2.0.0",
      "model_name": "HBoxModel",
      "state": {
       "children": [
        "IPY_MODEL_bd9826c897454331a276cc228a26afa3",
        "IPY_MODEL_67d45b17005a49e4a0e054512e73f713",
        "IPY_MODEL_1ed1403b90e5461c91c959ee35daed1d"
       ],
       "layout": "IPY_MODEL_f134f4b2eba14b24bdb86b2516167156"
      }
     },
     "e64e5c0d4ae840af9a4d229f6d6e10e1": {
      "model_module": "@jupyter-widgets/base",
      "model_module_version": "2.0.0",
      "model_name": "LayoutModel",
      "state": {}
     },
     "e6aa49735e78436ca1bc5d87abc92344": {
      "model_module": "@jupyter-widgets/base",
      "model_module_version": "2.0.0",
      "model_name": "LayoutModel",
      "state": {}
     },
     "e6c66d4dd91d4072bd266d1ed5715a2e": {
      "model_module": "@jupyter-widgets/controls",
      "model_module_version": "2.0.0",
      "model_name": "ProgressStyleModel",
      "state": {
       "description_width": ""
      }
     },
     "eb5d7bbd7a094c21a0725c90bd6c4903": {
      "model_module": "@jupyter-widgets/controls",
      "model_module_version": "2.0.0",
      "model_name": "HTMLModel",
      "state": {
       "layout": "IPY_MODEL_2ff8e1d8dd8449f38383998cc3029c6e",
       "style": "IPY_MODEL_99cf4707e8b04a64a1c0a6b448e38d2e",
       "value": " 18/18 [00:02&lt;00:00,  5.51it/s]"
      }
     },
     "ebedbff80e824ed1a9e40559e04b4fa3": {
      "model_module": "@jupyter-widgets/controls",
      "model_module_version": "2.0.0",
      "model_name": "ProgressStyleModel",
      "state": {
       "description_width": ""
      }
     },
     "ecded15726a44bbd970d87eb4042930a": {
      "model_module": "@jupyter-widgets/controls",
      "model_module_version": "2.0.0",
      "model_name": "HTMLModel",
      "state": {
       "layout": "IPY_MODEL_d4078435c1dd4e92b5f51beb89f7761e",
       "style": "IPY_MODEL_6533888312c94a748ff5cd3cde59e326",
       "value": "Group sizes calculation: 100%"
      }
     },
     "ee6b89f24fe643dfb6e2bebd4883c072": {
      "model_module": "@jupyter-widgets/base",
      "model_module_version": "2.0.0",
      "model_name": "LayoutModel",
      "state": {}
     },
     "f134f4b2eba14b24bdb86b2516167156": {
      "model_module": "@jupyter-widgets/base",
      "model_module_version": "2.0.0",
      "model_name": "LayoutModel",
      "state": {}
     },
     "f14e8513187a42aeade942c59d3601d9": {
      "model_module": "@jupyter-widgets/base",
      "model_module_version": "2.0.0",
      "model_name": "LayoutModel",
      "state": {}
     },
     "f18476f5070847ceaf6aeb0767612b27": {
      "model_module": "@jupyter-widgets/controls",
      "model_module_version": "2.0.0",
      "model_name": "HBoxModel",
      "state": {
       "children": [
        "IPY_MODEL_443daf65d3dc492b8e90ab96384fe507",
        "IPY_MODEL_8b641b2e121c47feaa603f3d2eebdb81",
        "IPY_MODEL_890271b61fa64da6aa6ca32b3adec1b2"
       ],
       "layout": "IPY_MODEL_5fd51402b3b44372a563500480b2aabf"
      }
     },
     "f1be9f17a41043acbcabd51689369a37": {
      "model_module": "@jupyter-widgets/controls",
      "model_module_version": "2.0.0",
      "model_name": "HBoxModel",
      "state": {
       "children": [
        "IPY_MODEL_f5ee5538bcf44276a2ec64ee5aaea709",
        "IPY_MODEL_caec5c557aa445228095598503174693",
        "IPY_MODEL_aa00de83fa354ae7892f15a12c0ec946"
       ],
       "layout": "IPY_MODEL_925bd30c68564c42bec78415b1fdd1d5"
      }
     },
     "f1f57a90fb0042d9b69b6c0ba16ea871": {
      "model_module": "@jupyter-widgets/controls",
      "model_module_version": "2.0.0",
      "model_name": "HTMLModel",
      "state": {
       "layout": "IPY_MODEL_8d7936aefa1f40d69ef6552788d72c14",
       "style": "IPY_MODEL_11ffc7e636484e27a3bc85efde3111ac",
       "value": "100%"
      }
     },
     "f315eee2f03144549cbb5cd1a5949812": {
      "model_module": "@jupyter-widgets/controls",
      "model_module_version": "2.0.0",
      "model_name": "HTMLModel",
      "state": {
       "layout": "IPY_MODEL_1cf8a2c51f8744e0941a4eaf56cb614f",
       "style": "IPY_MODEL_c56f9978354a42de8c07d84a32a7cde0",
       "value": "MDE calculation: 100%"
      }
     },
     "f34ac54ad913444c9b096639e5f247f4": {
      "model_module": "@jupyter-widgets/controls",
      "model_module_version": "2.0.0",
      "model_name": "HTMLStyleModel",
      "state": {
       "description_width": "",
       "font_size": null,
       "text_color": null
      }
     },
     "f3a4c902663c411ab5d897c58a277652": {
      "model_module": "@jupyter-widgets/controls",
      "model_module_version": "2.0.0",
      "model_name": "HTMLModel",
      "state": {
       "layout": "IPY_MODEL_75d9bf59881f42c08cc74fd2981b4223",
       "style": "IPY_MODEL_e46ce23112b1475eae1efa8ede073675",
       "value": " 100/100 [01:52&lt;00:00,  1.13s/it]"
      }
     },
     "f3cf401e0f944b4b869e6f5b6317a3a0": {
      "model_module": "@jupyter-widgets/base",
      "model_module_version": "2.0.0",
      "model_name": "LayoutModel",
      "state": {}
     },
     "f5ee5538bcf44276a2ec64ee5aaea709": {
      "model_module": "@jupyter-widgets/controls",
      "model_module_version": "2.0.0",
      "model_name": "HTMLModel",
      "state": {
       "layout": "IPY_MODEL_e64e5c0d4ae840af9a4d229f6d6e10e1",
       "style": "IPY_MODEL_4f50d3b523da44649f7b824a9087e892",
       "value": "Group sizes calculation: 100%"
      }
     },
     "f7f295244bcf42da9521c7ccb7b416f0": {
      "model_module": "@jupyter-widgets/base",
      "model_module_version": "2.0.0",
      "model_name": "LayoutModel",
      "state": {}
     },
     "f90b283eb8254708b1873715d47c7e70": {
      "model_module": "@jupyter-widgets/base",
      "model_module_version": "2.0.0",
      "model_name": "LayoutModel",
      "state": {}
     },
     "fc03b7f5721240f89f57aaebd406230e": {
      "model_module": "@jupyter-widgets/controls",
      "model_module_version": "2.0.0",
      "model_name": "HTMLModel",
      "state": {
       "layout": "IPY_MODEL_f3cf401e0f944b4b869e6f5b6317a3a0",
       "style": "IPY_MODEL_4a743cdf39de4e60a8bcc47a813032d9",
       "value": " 3/3 [00:42&lt;00:00, 16.21s/it]"
      }
     }
    },
    "version_major": 2,
    "version_minor": 0
   }
  }
 },
 "nbformat": 4,
 "nbformat_minor": 5
}
