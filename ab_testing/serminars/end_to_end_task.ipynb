{
 "cells": [
  {
   "cell_type": "code",
   "execution_count": null,
   "metadata": {},
   "outputs": [],
   "source": []
  },
  {
   "cell_type": "markdown",
   "metadata": {},
   "source": [
    "Представьте, что у нас небольшой магазин, туда приходят покупатели, делают покупки и мы можем посчитать их средний чек за день. Также допустим у нас покупатели закупаются раз в 10 дней из-за выгодных предложений. У нас есть исторические данные - user_id, metric, day. metric - cредний чек покупателя, user_id - айдишник покупателя, day - день в прошлом месяце. У нас 10к покупателей, которые были у нас в магазине 2 раза. Мы построили модель, повышающую средний чек у покупателей, и теперь хотим проверить, как она работает. Для этого нам надо правильно спланировать А/Б тест. Данные - 'df_hw.csv'."
   ]
  },
  {
   "cell_type": "markdown",
   "metadata": {},
   "source": [
    "Задание:\n",
    "\n",
    "1) Подобрать дизайн корректного А/Б теста на исторических данных\n",
    "\n",
    "2) Можно ли статистически значимо задетектить эффект в 2% \n",
    "\n",
    "3) За какую длительность теста?\n",
    "\n",
    "4) Как сделать так чтобы хватало 3 дней на тест?"
   ]
  },
  {
   "cell_type": "code",
   "execution_count": 29,
   "metadata": {
    "ExecuteTime": {
     "end_time": "2021-07-09T17:35:54.700064Z",
     "start_time": "2021-07-09T17:35:54.696673Z"
    }
   },
   "outputs": [],
   "source": [
    "import numpy as np\n",
    "import scipy\n",
    "import matplotlib.pyplot as plt\n",
    "import scipy.stats\n",
    "import statsmodels\n",
    "import statsmodels.sandbox.stats.multicomp\n",
    "import pandas as pd\n",
    "#import seaborn as sns\n",
    "from sklearn.utils import shuffle"
   ]
  },
  {
   "cell_type": "code",
   "execution_count": 30,
   "metadata": {
    "ExecuteTime": {
     "end_time": "2021-07-09T17:35:58.785186Z",
     "start_time": "2021-07-09T17:35:58.750296Z"
    }
   },
   "outputs": [],
   "source": [
    "df_all = pd.read_csv('df_hw.csv', index_col = 0)"
   ]
  },
  {
   "cell_type": "code",
   "execution_count": 31,
   "metadata": {
    "ExecuteTime": {
     "end_time": "2021-07-09T17:35:59.840077Z",
     "start_time": "2021-07-09T17:35:59.825123Z"
    }
   },
   "outputs": [
    {
     "data": {
      "text/html": [
       "<div>\n",
       "<style scoped>\n",
       "    .dataframe tbody tr th:only-of-type {\n",
       "        vertical-align: middle;\n",
       "    }\n",
       "\n",
       "    .dataframe tbody tr th {\n",
       "        vertical-align: top;\n",
       "    }\n",
       "\n",
       "    .dataframe thead th {\n",
       "        text-align: right;\n",
       "    }\n",
       "</style>\n",
       "<table border=\"1\" class=\"dataframe\">\n",
       "  <thead>\n",
       "    <tr style=\"text-align: right;\">\n",
       "      <th></th>\n",
       "      <th>user_id</th>\n",
       "      <th>metric</th>\n",
       "      <th>day</th>\n",
       "    </tr>\n",
       "  </thead>\n",
       "  <tbody>\n",
       "    <tr>\n",
       "      <th>4768</th>\n",
       "      <td>4768</td>\n",
       "      <td>5210.050500</td>\n",
       "      <td>8</td>\n",
       "    </tr>\n",
       "    <tr>\n",
       "      <th>1928</th>\n",
       "      <td>1928</td>\n",
       "      <td>1617.534800</td>\n",
       "      <td>8</td>\n",
       "    </tr>\n",
       "    <tr>\n",
       "      <th>2995</th>\n",
       "      <td>2995</td>\n",
       "      <td>6742.954000</td>\n",
       "      <td>5</td>\n",
       "    </tr>\n",
       "    <tr>\n",
       "      <th>15885</th>\n",
       "      <td>5885</td>\n",
       "      <td>8998.112105</td>\n",
       "      <td>15</td>\n",
       "    </tr>\n",
       "    <tr>\n",
       "      <th>6121</th>\n",
       "      <td>6121</td>\n",
       "      <td>2281.206200</td>\n",
       "      <td>1</td>\n",
       "    </tr>\n",
       "  </tbody>\n",
       "</table>\n",
       "</div>"
      ],
      "text/plain": [
       "       user_id       metric  day\n",
       "4768      4768  5210.050500    8\n",
       "1928      1928  1617.534800    8\n",
       "2995      2995  6742.954000    5\n",
       "15885     5885  8998.112105   15\n",
       "6121      6121  2281.206200    1"
      ]
     },
     "execution_count": 31,
     "metadata": {},
     "output_type": "execute_result"
    }
   ],
   "source": [
    "df_all.head()"
   ]
  },
  {
   "cell_type": "code",
   "execution_count": null,
   "metadata": {},
   "outputs": [],
   "source": []
  },
  {
   "cell_type": "code",
   "execution_count": 32,
   "metadata": {
    "ExecuteTime": {
     "end_time": "2021-07-09T17:36:07.006111Z",
     "start_time": "2021-07-09T17:36:06.991251Z"
    }
   },
   "outputs": [],
   "source": [
    "metric_train = df_all[df_all['day'] < 10].sort_values(by = ['user_id', 'day'])['metric'].values\n",
    "metric_valid = df_all[df_all['day'] >= 10].sort_values(by = ['user_id', 'day'])['metric'].values"
   ]
  },
  {
   "cell_type": "code",
   "execution_count": 33,
   "metadata": {
    "ExecuteTime": {
     "end_time": "2021-07-09T17:36:07.895609Z",
     "start_time": "2021-07-09T17:36:07.892775Z"
    }
   },
   "outputs": [],
   "source": [
    "inds = [i for i in range(len(metric_train))]"
   ]
  },
  {
   "cell_type": "code",
   "execution_count": 34,
   "metadata": {
    "ExecuteTime": {
     "end_time": "2021-07-09T17:36:11.386347Z",
     "start_time": "2021-07-09T17:36:11.383225Z"
    }
   },
   "outputs": [],
   "source": [
    "def plot_hist(x):\n",
    "    plt.figure(figsize=(7,7))\n",
    "    plt.hist(x, bins = 100, color='red',  linewidth=2)\n",
    "    plt.title('Гистограмма средней денежной метрики')\n",
    "    plt.ylabel('Количество')\n",
    "    plt.show()"
   ]
  },
  {
   "cell_type": "code",
   "execution_count": 35,
   "metadata": {
    "ExecuteTime": {
     "end_time": "2021-07-09T17:36:12.559086Z",
     "start_time": "2021-07-09T17:36:12.556871Z"
    }
   },
   "outputs": [],
   "source": [
    "metric_all = metric_train + metric_valid"
   ]
  },
  {
   "cell_type": "code",
   "execution_count": 36,
   "metadata": {
    "ExecuteTime": {
     "end_time": "2021-07-09T17:36:13.316219Z",
     "start_time": "2021-07-09T17:36:13.093121Z"
    }
   },
   "outputs": [
    {
     "data": {
      "image/png": "[encoded data removed]",
      "text/plain": [
       "<Figure size 504x504 with 1 Axes>"
      ]
     },
     "metadata": {
      "needs_background": "light"
     },
     "output_type": "display_data"
    }
   ],
   "source": [
    "plot_hist(metric_all)"
   ]
  },
  {
   "cell_type": "code",
   "execution_count": 37,
   "metadata": {
    "ExecuteTime": {
     "end_time": "2021-07-09T17:36:18.479612Z",
     "start_time": "2021-07-09T17:36:18.281666Z"
    }
   },
   "outputs": [
    {
     "data": {
      "image/png": "[encoded data removed]",
      "text/plain": [
       "<Figure size 504x504 with 1 Axes>"
      ]
     },
     "metadata": {
      "needs_background": "light"
     },
     "output_type": "display_data"
    }
   ],
   "source": [
    "plot_hist(metric_train)"
   ]
  },
  {
   "cell_type": "code",
   "execution_count": 38,
   "metadata": {
    "ExecuteTime": {
     "end_time": "2021-07-09T17:36:19.767147Z",
     "start_time": "2021-07-09T17:36:19.558076Z"
    }
   },
   "outputs": [
    {
     "data": {
      "image/png": "[encoded data removed]",
      "text/plain": [
       "<Figure size 504x504 with 1 Axes>"
      ]
     },
     "metadata": {
      "needs_background": "light"
     },
     "output_type": "display_data"
    }
   ],
   "source": [
    "plot_hist(metric_valid)"
   ]
  },
  {
   "cell_type": "code",
   "execution_count": 39,
   "metadata": {
    "ExecuteTime": {
     "end_time": "2021-07-09T17:36:23.340081Z",
     "start_time": "2021-07-09T17:36:20.760031Z"
    }
   },
   "outputs": [],
   "source": [
    "iters = 1000\n",
    "p_value = []\n",
    "for i in range(iters):\n",
    "    A_l = np.random.choice(inds, size = len(metric_train) // 2, replace = False)\n",
    "    B_l = np.setdiff1d(inds, A_l)\n",
    "    train_A = metric_train[A_l]\n",
    "    train_B = metric_train[B_l]\n",
    "    valid_A = metric_valid[A_l]\n",
    "    valid_B = metric_valid[B_l]\n",
    "    p = scipy.stats.ttest_ind(valid_A, valid_B).pvalue\n",
    "    p_value.append(p)"
   ]
  },
  {
   "cell_type": "code",
   "execution_count": 41,
   "metadata": {
    "ExecuteTime": {
     "end_time": "2021-07-09T17:36:23.441786Z",
     "start_time": "2021-07-09T17:36:23.342579Z"
    }
   },
   "outputs": [
    {
     "data": {
      "text/plain": [
       "0.052"
      ]
     },
     "execution_count": 41,
     "metadata": {},
     "output_type": "execute_result"
    },
    {
     "data": {
      "image/png": "[encoded data removed]",
      "text/plain": [
       "<Figure size 432x288 with 1 Axes>"
      ]
     },
     "metadata": {
      "needs_background": "light"
     },
     "output_type": "display_data"
    }
   ],
   "source": [
    "p_value = np.array(p_value)\n",
    "plt.hist(p_value)\n",
    "len(p_value[p_value < 0.05]) / p_value.shape[0]"
   ]
  },
  {
   "cell_type": "code",
   "execution_count": 42,
   "metadata": {
    "ExecuteTime": {
     "end_time": "2021-07-09T17:36:23.446730Z",
     "start_time": "2021-07-09T17:36:23.442775Z"
    }
   },
   "outputs": [
    {
     "data": {
      "text/plain": [
       "KstestResult(statistic=0.025094636836609174, pvalue=0.5461452678725042)"
      ]
     },
     "execution_count": 42,
     "metadata": {},
     "output_type": "execute_result"
    }
   ],
   "source": [
    "scipy.stats.kstest(p_value, scipy.stats.uniform(loc=0.0, scale=1.0).cdf)"
   ]
  },
  {
   "cell_type": "code",
   "execution_count": 43,
   "metadata": {
    "ExecuteTime": {
     "end_time": "2021-07-09T17:36:23.450107Z",
     "start_time": "2021-07-09T17:36:23.447665Z"
    }
   },
   "outputs": [
    {
     "data": {
      "text/plain": [
       "7456.122470084464"
      ]
     },
     "execution_count": 43,
     "metadata": {},
     "output_type": "execute_result"
    }
   ],
   "source": [
    "np.mean(metric_valid) "
   ]
  },
  {
   "cell_type": "code",
   "execution_count": 44,
   "metadata": {
    "ExecuteTime": {
     "end_time": "2021-07-09T17:36:23.509592Z",
     "start_time": "2021-07-09T17:36:23.506954Z"
    }
   },
   "outputs": [
    {
     "data": {
      "text/plain": [
       "2088.205946758756"
      ]
     },
     "execution_count": 44,
     "metadata": {},
     "output_type": "execute_result"
    }
   ],
   "source": [
    "np.std(metric_valid)"
   ]
  },
  {
   "cell_type": "code",
   "execution_count": 45,
   "metadata": {
    "ExecuteTime": {
     "end_time": "2021-07-09T17:36:32.082926Z",
     "start_time": "2021-07-09T17:36:29.597994Z"
    }
   },
   "outputs": [],
   "source": [
    "iters = 1000\n",
    "p_value = []\n",
    "effect = 1.02\n",
    "for i in range(iters):\n",
    "    A_l = np.random.choice(inds, size = len(metric_train) // 2, replace = False)\n",
    "    B_l = np.setdiff1d(inds, A_l)\n",
    "    train_A = metric_train[A_l]\n",
    "    train_B = metric_train[B_l]\n",
    "    valid_A = metric_valid[A_l]\n",
    "    valid_B = metric_valid[B_l]\n",
    "    valid_A = valid_A * effect\n",
    "    p = scipy.stats.ttest_ind(valid_A, valid_B ).pvalue\n",
    "    p_value.append(p)"
   ]
  },
  {
   "cell_type": "code",
   "execution_count": 46,
   "metadata": {
    "ExecuteTime": {
     "end_time": "2021-07-09T17:36:34.969300Z",
     "start_time": "2021-07-09T17:36:34.863068Z"
    }
   },
   "outputs": [
    {
     "data": {
      "text/plain": [
       "0.949"
      ]
     },
     "execution_count": 46,
     "metadata": {},
     "output_type": "execute_result"
    },
    {
     "data": {
      "image/png": "[encoded data removed]",
      "text/plain": [
       "<Figure size 432x288 with 1 Axes>"
      ]
     },
     "metadata": {
      "needs_background": "light"
     },
     "output_type": "display_data"
    }
   ],
   "source": [
    "p_value = np.array(p_value)\n",
    "plt.hist(p_value)\n",
    "len(p_value[p_value < 0.05]) / p_value.shape[0]"
   ]
  },
  {
   "cell_type": "code",
   "execution_count": null,
   "metadata": {},
   "outputs": [],
   "source": []
  },
  {
   "cell_type": "code",
   "execution_count": 47,
   "metadata": {
    "ExecuteTime": {
     "end_time": "2021-07-09T17:36:35.668361Z",
     "start_time": "2021-07-09T17:36:35.658137Z"
    }
   },
   "outputs": [],
   "source": [
    "metric_train = df_all[df_all['day'].isin([7,8,9])].sort_values(by = ['user_id', 'day'])['metric'].values\n",
    "metric_valid = df_all[df_all['day'].isin([17,18,19])].sort_values(by = ['user_id', 'day'])['metric'].values"
   ]
  },
  {
   "cell_type": "code",
   "execution_count": 48,
   "metadata": {
    "ExecuteTime": {
     "end_time": "2021-07-09T17:36:36.482649Z",
     "start_time": "2021-07-09T17:36:36.480184Z"
    }
   },
   "outputs": [],
   "source": [
    "inds = [i for i in range(len(metric_train))]"
   ]
  },
  {
   "cell_type": "code",
   "execution_count": 49,
   "metadata": {
    "ExecuteTime": {
     "end_time": "2021-07-09T17:36:36.824860Z",
     "start_time": "2021-07-09T17:36:36.821984Z"
    }
   },
   "outputs": [
    {
     "data": {
      "text/plain": [
       "3000"
      ]
     },
     "execution_count": 49,
     "metadata": {},
     "output_type": "execute_result"
    }
   ],
   "source": [
    "len(inds)"
   ]
  },
  {
   "cell_type": "code",
   "execution_count": 50,
   "metadata": {
    "ExecuteTime": {
     "end_time": "2021-07-09T17:36:38.174460Z",
     "start_time": "2021-07-09T17:36:37.211673Z"
    }
   },
   "outputs": [],
   "source": [
    "iters = 1000\n",
    "p_value = []\n",
    "effect = 1.02\n",
    "for i in range(iters):\n",
    "    A_l = np.random.choice(inds, size = len(inds) // 2, replace = False)\n",
    "    B_l = np.setdiff1d(inds, A_l)\n",
    "    train_A = metric_train[A_l]\n",
    "    train_B = metric_train[B_l]\n",
    "    valid_A = metric_valid[A_l]\n",
    "    valid_B = metric_valid[B_l]\n",
    "    p = scipy.stats.ttest_ind(valid_A, valid_B ).pvalue\n",
    "    p_value.append(p)"
   ]
  },
  {
   "cell_type": "code",
   "execution_count": 51,
   "metadata": {
    "ExecuteTime": {
     "end_time": "2021-07-09T17:36:38.282746Z",
     "start_time": "2021-07-09T17:36:38.176187Z"
    }
   },
   "outputs": [
    {
     "data": {
      "text/plain": [
       "0.057"
      ]
     },
     "execution_count": 51,
     "metadata": {},
     "output_type": "execute_result"
    },
    {
     "data": {
      "image/png": "[encoded data removed]",
      "text/plain": [
       "<Figure size 432x288 with 1 Axes>"
      ]
     },
     "metadata": {
      "needs_background": "light"
     },
     "output_type": "display_data"
    }
   ],
   "source": [
    "p_value = np.array(p_value)\n",
    "plt.hist(p_value)\n",
    "len(p_value[p_value < 0.05]) / p_value.shape[0]"
   ]
  },
  {
   "cell_type": "code",
   "execution_count": 52,
   "metadata": {
    "ExecuteTime": {
     "end_time": "2021-07-09T17:36:39.027814Z",
     "start_time": "2021-07-09T17:36:39.021931Z"
    }
   },
   "outputs": [
    {
     "data": {
      "text/plain": [
       "KstestResult(statistic=0.02055250847192247, pvalue=0.7840632732123862)"
      ]
     },
     "execution_count": 52,
     "metadata": {},
     "output_type": "execute_result"
    }
   ],
   "source": [
    "scipy.stats.kstest(p_value, scipy.stats.uniform(loc=0.0, scale=1.0).cdf)"
   ]
  },
  {
   "cell_type": "code",
   "execution_count": null,
   "metadata": {},
   "outputs": [],
   "source": []
  },
  {
   "cell_type": "code",
   "execution_count": 55,
   "metadata": {
    "ExecuteTime": {
     "end_time": "2021-07-09T17:36:40.714794Z",
     "start_time": "2021-07-09T17:36:39.769988Z"
    }
   },
   "outputs": [],
   "source": [
    "iters = 1000\n",
    "p_value = []\n",
    "effect = 1.02\n",
    "for i in range(iters):\n",
    "    A_l = np.random.choice(inds, size = len(inds) // 2, replace = False)\n",
    "    B_l = np.setdiff1d(inds, A_l)\n",
    "    train_A = metric_train[A_l]\n",
    "    train_B = metric_train[B_l]\n",
    "    valid_A = metric_valid[A_l]\n",
    "    valid_B = metric_valid[B_l]\n",
    "    valid_A = valid_A * effect\n",
    "    #p = scipy.stats.mannwhitneyu(valid_A_c, valid_B_c ,alternative='two-sided').pvalue\n",
    "    p = scipy.stats.ttest_ind(valid_A, valid_B).pvalue\n",
    "    p_value.append(p)"
   ]
  },
  {
   "cell_type": "code",
   "execution_count": 56,
   "metadata": {
    "ExecuteTime": {
     "end_time": "2021-07-09T17:36:40.819707Z",
     "start_time": "2021-07-09T17:36:40.716072Z"
    }
   },
   "outputs": [
    {
     "data": {
      "text/plain": [
       "0.524"
      ]
     },
     "execution_count": 56,
     "metadata": {},
     "output_type": "execute_result"
    },
    {
     "data": {
      "image/png": "[encoded data removed]",
      "text/plain": [
       "<Figure size 432x288 with 1 Axes>"
      ]
     },
     "metadata": {
      "needs_background": "light"
     },
     "output_type": "display_data"
    }
   ],
   "source": [
    "p_value = np.array(p_value)\n",
    "plt.hist(p_value)\n",
    "scipy.stats.kstest(p_value, scipy.stats.uniform(loc=0.0, scale=1.0).cdf)\n",
    "len(p_value[p_value < 0.05]) / p_value.shape[0]"
   ]
  },
  {
   "cell_type": "code",
   "execution_count": 57,
   "metadata": {
    "ExecuteTime": {
     "end_time": "2021-07-09T17:36:40.898431Z",
     "start_time": "2021-07-09T17:36:40.895547Z"
    }
   },
   "outputs": [],
   "source": [
    "mean_cov = np.mean(metric_train)\n",
    "var_cov = np.var(metric_train)\n",
    "covariance = np.cov(metric_valid, metric_train)[0][1]\n",
    "theta = covariance / var_cov"
   ]
  },
  {
   "cell_type": "code",
   "execution_count": 65,
   "metadata": {},
   "outputs": [
    {
     "data": {
      "text/plain": [
       "array([2143.6574, 5724.3381, 1102.7469, 3546.774 , 2917.7177, 4004.8025,\n",
       "       4659.5462, 1226.3854, 2888.3114, 1276.0262])"
      ]
     },
     "execution_count": 65,
     "metadata": {},
     "output_type": "execute_result"
    }
   ],
   "source": [
    "train_A[:10]"
   ]
  },
  {
   "cell_type": "code",
   "execution_count": 68,
   "metadata": {},
   "outputs": [
    {
     "data": {
      "text/plain": [
       "1474.3322214568107"
      ]
     },
     "execution_count": 68,
     "metadata": {},
     "output_type": "execute_result"
    }
   ],
   "source": [
    "np.std(valid_A[:10])"
   ]
  },
  {
   "cell_type": "code",
   "execution_count": 69,
   "metadata": {},
   "outputs": [
    {
     "data": {
      "text/plain": [
       "921.0060376432112"
      ]
     },
     "execution_count": 69,
     "metadata": {},
     "output_type": "execute_result"
    }
   ],
   "source": [
    "np.std(valid_A_c[:10])"
   ]
  },
  {
   "cell_type": "code",
   "execution_count": 64,
   "metadata": {},
   "outputs": [
    {
     "data": {
      "text/plain": [
       "(3000,)"
      ]
     },
     "execution_count": 64,
     "metadata": {},
     "output_type": "execute_result"
    }
   ],
   "source": [
    "metric_valid.shape"
   ]
  },
  {
   "cell_type": "code",
   "execution_count": 58,
   "metadata": {
    "ExecuteTime": {
     "end_time": "2021-07-09T17:36:43.151737Z",
     "start_time": "2021-07-09T17:36:41.824141Z"
    }
   },
   "outputs": [],
   "source": [
    "iters = 1000\n",
    "p_value = []\n",
    "effect = 1.02\n",
    "for i in range(iters):\n",
    "    A_l = np.random.choice(inds, size = len(metric_train) // 2, replace = False)\n",
    "    B_l = np.setdiff1d(inds, A_l)\n",
    "    train_A = metric_train[A_l]\n",
    "    train_B = metric_train[B_l]\n",
    "    valid_A = metric_valid[A_l]\n",
    "    valid_B = metric_valid[B_l]\n",
    "    #p_k2s = scipy.stats.ks_2samp(train_A, train_B).pvalue\n",
    "    valid_A = valid_A * effect\n",
    "    valid_A_c = valid_A - (train_A - mean_cov) * theta\n",
    "    valid_B_c = valid_B - (train_B - mean_cov) * theta\n",
    "    #p = scipy.stats.mannwhitneyu(valid_A_c, valid_B_c ,alternative='two-sided').pvalue\n",
    "    p = scipy.stats.ttest_ind(valid_A_c, valid_B_c).pvalue\n",
    "    p_value.append(p)"
   ]
  },
  {
   "cell_type": "code",
   "execution_count": 60,
   "metadata": {
    "ExecuteTime": {
     "end_time": "2021-07-09T17:36:43.650760Z",
     "start_time": "2021-07-09T17:36:43.550239Z"
    }
   },
   "outputs": [
    {
     "data": {
      "text/plain": [
       "0.98"
      ]
     },
     "execution_count": 60,
     "metadata": {},
     "output_type": "execute_result"
    },
    {
     "data": {
      "image/png": "[encoded data removed]",
      "text/plain": [
       "<Figure size 432x288 with 1 Axes>"
      ]
     },
     "metadata": {
      "needs_background": "light"
     },
     "output_type": "display_data"
    }
   ],
   "source": [
    "p_value = np.array(p_value)\n",
    "plt.hist(p_value)\n",
    "len(p_value[p_value < 0.05]) / p_value.shape[0]"
   ]
  },
  {
   "cell_type": "markdown",
   "metadata": {},
   "source": [
    "Y_predict ~ X * theta [+ X1 * theta2 + X2 * theta, CUPAC, build model linear/NN/boostig, SCORING]\n",
    "Y_real - Y_predict"
   ]
  },
  {
   "cell_type": "markdown",
   "metadata": {},
   "source": [
    "+ POSTstratification + rank_transformation"
   ]
  },
  {
   "cell_type": "code",
   "execution_count": null,
   "metadata": {},
   "outputs": [],
   "source": []
  }
 ],
 "metadata": {
  "kernelspec": {
   "display_name": "Python 3 (ipykernel)",
   "language": "python",
   "name": "python3"
  },
  "language_info": {
   "codemirror_mode": {
    "name": "ipython",
    "version": 3
   },
   "file_extension": ".py",
   "mimetype": "text/x-python",
   "name": "python",
   "nbconvert_exporter": "python",
   "pygments_lexer": "ipython3",
   "version": "3.9.12"
  }
 },
 "nbformat": 4,
 "nbformat_minor": 4
}
