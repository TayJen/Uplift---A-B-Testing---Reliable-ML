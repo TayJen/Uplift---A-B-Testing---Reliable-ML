{
 "cells": [
  {
   "cell_type": "code",
   "execution_count": 8,
   "metadata": {},
   "outputs": [
    {
     "data": {
      "text/plain": [
       "(714510, 195)"
      ]
     },
     "execution_count": 8,
     "metadata": {},
     "output_type": "execute_result"
    }
   ],
   "source": [
    "import pandas as pd\n",
    "import numpy as np\n",
    "\n",
    "\n",
    "df = pd.read_csv(\"data/train_lenta.csv\")\n",
    "df.fillna(0, inplace=True)\n",
    "df.shape"
   ]
  },
  {
   "cell_type": "code",
   "execution_count": 17,
   "metadata": {},
   "outputs": [
    {
     "name": "stdout",
     "output_type": "stream",
     "text": [
      "Train shape: (571608, 193)\n",
      "Validation shape: (142902, 193)\n"
     ]
    }
   ],
   "source": [
    "from sklearn.model_selection import train_test_split\n",
    "\n",
    "stratify_cols = pd.concat([df.treatment, df.target], axis=1)\n",
    "\n",
    "df_train, df_val, treat_train, treat_val, y_train, y_val = train_test_split(\n",
    "    df.drop(['treatment', 'target'], axis=1),\n",
    "    df.treatment,\n",
    "    df.target,\n",
    "    test_size=0.2,\n",
    "    random_state=59,\n",
    "    stratify=stratify_cols\n",
    ")\n",
    "\n",
    "print(f\"Train shape: {df_train.shape}\")\n",
    "print(f\"Validation shape: {df_val.shape}\")"
   ]
  },
  {
   "cell_type": "code",
   "execution_count": 18,
   "metadata": {},
   "outputs": [],
   "source": [
    "df_train['maturity'] = df_train['age'].apply(lambda x: x >= 18)\n",
    "df_val['maturity'] = df_val['age'].apply(lambda x: x >= 18)"
   ]
  },
  {
   "cell_type": "code",
   "execution_count": 19,
   "metadata": {},
   "outputs": [
    {
     "name": "stderr",
     "output_type": "stream",
     "text": [
      "C:\\Users\\hello\\AppData\\Local\\Temp\\ipykernel_288\\132059465.py:11: PerformanceWarning: DataFrame is highly fragmented.  This is usually the result of calling `frame.insert` many times, which has poor performance.  Consider joining all columns at once using pd.concat(axis=1) instead. To get a de-fragmented frame, use `newframe = frame.copy()`\n",
      "  df_train[feature_name + '_' + second_feature] = df_train[feature_name] * df_train[second_feature]\n",
      "C:\\Users\\hello\\AppData\\Local\\Temp\\ipykernel_288\\132059465.py:12: PerformanceWarning: DataFrame is highly fragmented.  This is usually the result of calling `frame.insert` many times, which has poor performance.  Consider joining all columns at once using pd.concat(axis=1) instead. To get a de-fragmented frame, use `newframe = frame.copy()`\n",
      "  df_val[feature_name + '_' + second_feature] = df_val[feature_name] * df_val[second_feature]\n",
      "C:\\Users\\hello\\AppData\\Local\\Temp\\ipykernel_288\\132059465.py:11: PerformanceWarning: DataFrame is highly fragmented.  This is usually the result of calling `frame.insert` many times, which has poor performance.  Consider joining all columns at once using pd.concat(axis=1) instead. To get a de-fragmented frame, use `newframe = frame.copy()`\n",
      "  df_train[feature_name + '_' + second_feature] = df_train[feature_name] * df_train[second_feature]\n",
      "C:\\Users\\hello\\AppData\\Local\\Temp\\ipykernel_288\\132059465.py:12: PerformanceWarning: DataFrame is highly fragmented.  This is usually the result of calling `frame.insert` many times, which has poor performance.  Consider joining all columns at once using pd.concat(axis=1) instead. To get a de-fragmented frame, use `newframe = frame.copy()`\n",
      "  df_val[feature_name + '_' + second_feature] = df_val[feature_name] * df_val[second_feature]\n",
      "C:\\Users\\hello\\AppData\\Local\\Temp\\ipykernel_288\\132059465.py:11: PerformanceWarning: DataFrame is highly fragmented.  This is usually the result of calling `frame.insert` many times, which has poor performance.  Consider joining all columns at once using pd.concat(axis=1) instead. To get a de-fragmented frame, use `newframe = frame.copy()`\n",
      "  df_train[feature_name + '_' + second_feature] = df_train[feature_name] * df_train[second_feature]\n",
      "C:\\Users\\hello\\AppData\\Local\\Temp\\ipykernel_288\\132059465.py:12: PerformanceWarning: DataFrame is highly fragmented.  This is usually the result of calling `frame.insert` many times, which has poor performance.  Consider joining all columns at once using pd.concat(axis=1) instead. To get a de-fragmented frame, use `newframe = frame.copy()`\n",
      "  df_val[feature_name + '_' + second_feature] = df_val[feature_name] * df_val[second_feature]\n"
     ]
    }
   ],
   "source": [
    "top_10_features = set([\n",
    "    'stdev_days_between_visits_15d', 'k_var_days_between_visits_15d',\n",
    "    'perdelta_days_between_visits_15_30d', 'k_var_days_between_visits_1m',\n",
    "    'k_var_disc_per_cheque_15d', 'cheque_count_6m_g40',\n",
    "    'k_var_cheque_group_width_15d', 'k_var_cheque_category_width_15d',\n",
    "    'k_var_discount_depth_15d', 'food_share_15d'\n",
    "])\n",
    "\n",
    "for feature_name in top_10_features:\n",
    "    for second_feature in top_10_features:\n",
    "        df_train[feature_name + '_' + second_feature] = df_train[feature_name] * df_train[second_feature]\n",
    "        df_val[feature_name + '_' + second_feature] = df_val[feature_name] * df_val[second_feature]"
   ]
  },
  {
   "cell_type": "code",
   "execution_count": 23,
   "metadata": {},
   "outputs": [],
   "source": [
    "from sklearn.base import clone, BaseEstimator\n",
    "\n",
    "\n",
    "class OneModelApproach(BaseEstimator):\n",
    "\n",
    "    def __init__(self, estimator):\n",
    "        self.estimator = estimator\n",
    "\n",
    "    def fit(self, X, treatment, y, fit_params={}):\n",
    "        # assume treatment is binary\n",
    "        s_learner = clone(self.estimator)\n",
    "        X_train = X.copy()\n",
    "        X_train.loc[:, 'control_feature'] = treatment\n",
    "        s_learner.fit(X_train, y, **fit_params)\n",
    "\n",
    "        self.s_learner = s_learner\n",
    "\n",
    "    def predict_proba(self, X_test_original):\n",
    "        X_test = X_test_original.copy()\n",
    "        X_test.loc[:, 'control_feature'] = 0\n",
    "        pred_w0 = self.s_learner.predict_proba(X_test)[:, 1]\n",
    "\n",
    "        X_test.loc[:, 'control_feature'] = 1\n",
    "        pred_w1 = self.s_learner.predict_proba(X_test)[:, 1]\n",
    "        pred_uplift = pred_w1 - pred_w0\n",
    "        return pred_uplift"
   ]
  },
  {
   "cell_type": "code",
   "execution_count": 24,
   "metadata": {},
   "outputs": [],
   "source": [
    "from sklearn.ensemble import RandomForestClassifier\n",
    "\n",
    "rf_estimator = RandomForestClassifier(max_depth=17, random_state=59)\n",
    "\n",
    "one_model = OneModelApproach(estimator=rf_estimator)\n",
    "one_model.fit(df_train, treat_train, y_train)"
   ]
  },
  {
   "cell_type": "code",
   "execution_count": 25,
   "metadata": {},
   "outputs": [
    {
     "data": {
      "text/plain": [
       "array([0.00000000e+00, 0.00000000e+00, 0.00000000e+00, ...,\n",
       "       5.66641991e-05, 0.00000000e+00, 0.00000000e+00])"
      ]
     },
     "execution_count": 25,
     "metadata": {},
     "output_type": "execute_result"
    }
   ],
   "source": [
    "uplift_pred = one_model.predict_proba(df_val)\n",
    "uplift_pred"
   ]
  },
  {
   "cell_type": "code",
   "execution_count": 26,
   "metadata": {},
   "outputs": [
    {
     "data": {
      "text/plain": [
       "0.06768072735424245"
      ]
     },
     "execution_count": 26,
     "metadata": {},
     "output_type": "execute_result"
    }
   ],
   "source": [
    "from sklift.metrics import uplift_at_k\n",
    "\n",
    "# Assuming y_true, uplift_pred, and treatment are your data\n",
    "score = uplift_at_k(y_true=y_val, uplift=uplift_pred, treatment=treat_val, k=0.05, strategy='overall')\n",
    "score"
   ]
  },
  {
   "cell_type": "code",
   "execution_count": null,
   "metadata": {},
   "outputs": [],
   "source": []
  },
  {
   "cell_type": "code",
   "execution_count": null,
   "metadata": {},
   "outputs": [],
   "source": []
  }
 ],
 "metadata": {
  "kernelspec": {
   "display_name": "venv",
   "language": "python",
   "name": "python3"
  },
  "language_info": {
   "codemirror_mode": {
    "name": "ipython",
    "version": 3
   },
   "file_extension": ".py",
   "mimetype": "text/x-python",
   "name": "python",
   "nbconvert_exporter": "python",
   "pygments_lexer": "ipython3",
   "version": "3.11.4"
  }
 },
 "nbformat": 4,
 "nbformat_minor": 2
}
