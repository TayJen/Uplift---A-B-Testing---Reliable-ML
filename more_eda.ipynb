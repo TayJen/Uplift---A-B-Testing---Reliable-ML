{
 "cells": [
  {
   "cell_type": "code",
   "execution_count": 1,
   "metadata": {},
   "outputs": [
    {
     "data": {
      "text/plain": [
       "((714510, 195), (170297, 193))"
      ]
     },
     "execution_count": 1,
     "metadata": {},
     "output_type": "execute_result"
    }
   ],
   "source": [
    "import pandas as pd\n",
    "import numpy as np\n",
    "import matplotlib.pyplot as plt\n",
    "\n",
    "df = pd.read_csv(\"data/train_lenta.csv\")\n",
    "df_test = pd.read_csv(\"data/test_lenta.csv\")\n",
    "\n",
    "df.shape, df_test.shape"
   ]
  },
  {
   "cell_type": "code",
   "execution_count": 9,
   "metadata": {},
   "outputs": [
    {
     "data": {
      "text/plain": [
       "dict_keys(['age', 'cheque', 'children', 'crazy', 'disc', 'food', 'gender', 'k', 'main', 'mean', 'months', 'perdelta', 'promo', 'response', 'sale', 'stdev', 'target', 'treatment'])"
      ]
     },
     "execution_count": 9,
     "metadata": {},
     "output_type": "execute_result"
    }
   ],
   "source": [
    "cols_agg = {}\n",
    "for col in df.columns.to_list():\n",
    "    cols_agg[col.split('_')[0]] = cols_agg.get(col.split('_')[0], []) + [col]\n",
    "\n",
    "cols_agg.keys()"
   ]
  },
  {
   "cell_type": "code",
   "execution_count": 37,
   "metadata": {},
   "outputs": [
    {
     "data": {
      "text/plain": [
       "(44, 94, 33)"
      ]
     },
     "execution_count": 37,
     "metadata": {},
     "output_type": "execute_result"
    }
   ],
   "source": [
    "len(cols_agg['cheque']), len(cols_agg['k']), len(cols_agg['sale'])"
   ]
  },
  {
   "cell_type": "code",
   "execution_count": 39,
   "metadata": {},
   "outputs": [
    {
     "data": {
      "text/plain": [
       "(['age'],\n",
       " ['children'],\n",
       " ['disc_sum_6m_g34'],\n",
       " ['gender'],\n",
       " ['main_format'],\n",
       " ['mean_discount_depth_15d'],\n",
       " ['months_from_register'],\n",
       " ['perdelta_days_between_visits_15_30d'],\n",
       " ['food_share_15d', 'food_share_1m'],\n",
       " ['promo_share_15d'],\n",
       " ['response_sms', 'response_viber'],\n",
       " ['stdev_days_between_visits_15d',\n",
       "  'stdev_discount_depth_15d',\n",
       "  'stdev_discount_depth_1m'])"
      ]
     },
     "execution_count": 39,
     "metadata": {},
     "output_type": "execute_result"
    }
   ],
   "source": [
    "cols_agg['age'], \\\n",
    "cols_agg['children'], \\\n",
    "cols_agg['disc'], \\\n",
    "cols_agg['gender'], \\\n",
    "cols_agg['main'], \\\n",
    "cols_agg['mean'], \\\n",
    "cols_agg['months'], \\\n",
    "cols_agg['perdelta'], \\\n",
    "cols_agg['food'], \\\n",
    "cols_agg['promo'], \\\n",
    "cols_agg['response']"
   ]
  },
  {
   "cell_type": "code",
   "execution_count": 14,
   "metadata": {},
   "outputs": [
    {
     "data": {
      "text/plain": [
       "['crazy_purchases_cheque_count_12m',\n",
       " 'crazy_purchases_cheque_count_1m',\n",
       " 'crazy_purchases_cheque_count_3m',\n",
       " 'crazy_purchases_cheque_count_6m',\n",
       " 'crazy_purchases_goods_count_12m',\n",
       " 'crazy_purchases_goods_count_6m']"
      ]
     },
     "execution_count": 14,
     "metadata": {},
     "output_type": "execute_result"
    }
   ],
   "source": [
    "cols_agg['crazy']"
   ]
  },
  {
   "cell_type": "code",
   "execution_count": 38,
   "metadata": {},
   "outputs": [
    {
     "data": {
      "text/plain": [
       "['stdev_days_between_visits_15d',\n",
       " 'stdev_discount_depth_15d',\n",
       " 'stdev_discount_depth_1m']"
      ]
     },
     "execution_count": 38,
     "metadata": {},
     "output_type": "execute_result"
    }
   ],
   "source": [
    "cols_agg['stdev']"
   ]
  },
  {
   "cell_type": "code",
   "execution_count": 41,
   "metadata": {},
   "outputs": [
    {
     "data": {
      "text/plain": [
       "count    711228.000000\n",
       "mean        167.953813\n",
       "std         477.514910\n",
       "min           0.000000\n",
       "25%           2.500000\n",
       "50%          37.090000\n",
       "75%         150.622500\n",
       "max       77979.170000\n",
       "Name: disc_sum_6m_g34, dtype: float64"
      ]
     },
     "execution_count": 41,
     "metadata": {},
     "output_type": "execute_result"
    }
   ],
   "source": [
    "df['disc_sum_6m_g34'].describe()"
   ]
  },
  {
   "cell_type": "code",
   "execution_count": 42,
   "metadata": {},
   "outputs": [
    {
     "data": {
      "image/png": "[encoded data removed]",
      "text/plain": [
       "<Figure size 640x480 with 1 Axes>"
      ]
     },
     "metadata": {},
     "output_type": "display_data"
    }
   ],
   "source": [
    "import seaborn as sns\n",
    "\n",
    "\n",
    "sns.histplot(df['disc_sum_6m_g34'])\n",
    "plt.show()"
   ]
  },
  {
   "cell_type": "markdown",
   "metadata": {},
   "source": [
    "Seems like outlier"
   ]
  },
  {
   "cell_type": "code",
   "execution_count": 45,
   "metadata": {},
   "outputs": [
    {
     "data": {
      "text/html": [
       "<div>\n",
       "<style scoped>\n",
       "    .dataframe tbody tr th:only-of-type {\n",
       "        vertical-align: middle;\n",
       "    }\n",
       "\n",
       "    .dataframe tbody tr th {\n",
       "        vertical-align: top;\n",
       "    }\n",
       "\n",
       "    .dataframe thead th {\n",
       "        text-align: right;\n",
       "    }\n",
       "</style>\n",
       "<table border=\"1\" class=\"dataframe\">\n",
       "  <thead>\n",
       "    <tr style=\"text-align: right;\">\n",
       "      <th></th>\n",
       "      <th>age</th>\n",
       "      <th>disc_sum_6m_g34</th>\n",
       "    </tr>\n",
       "  </thead>\n",
       "  <tbody>\n",
       "    <tr>\n",
       "      <th>5288</th>\n",
       "      <td>58.0</td>\n",
       "      <td>10954.82</td>\n",
       "    </tr>\n",
       "    <tr>\n",
       "      <th>7615</th>\n",
       "      <td>60.0</td>\n",
       "      <td>16419.91</td>\n",
       "    </tr>\n",
       "    <tr>\n",
       "      <th>20918</th>\n",
       "      <td>33.0</td>\n",
       "      <td>25280.99</td>\n",
       "    </tr>\n",
       "    <tr>\n",
       "      <th>39062</th>\n",
       "      <td>29.0</td>\n",
       "      <td>62938.88</td>\n",
       "    </tr>\n",
       "    <tr>\n",
       "      <th>47615</th>\n",
       "      <td>50.0</td>\n",
       "      <td>10360.41</td>\n",
       "    </tr>\n",
       "    <tr>\n",
       "      <th>...</th>\n",
       "      <td>...</td>\n",
       "      <td>...</td>\n",
       "    </tr>\n",
       "    <tr>\n",
       "      <th>671695</th>\n",
       "      <td>44.0</td>\n",
       "      <td>33502.84</td>\n",
       "    </tr>\n",
       "    <tr>\n",
       "      <th>689185</th>\n",
       "      <td>56.0</td>\n",
       "      <td>33236.14</td>\n",
       "    </tr>\n",
       "    <tr>\n",
       "      <th>694167</th>\n",
       "      <td>35.0</td>\n",
       "      <td>13304.24</td>\n",
       "    </tr>\n",
       "    <tr>\n",
       "      <th>698575</th>\n",
       "      <td>39.0</td>\n",
       "      <td>14115.65</td>\n",
       "    </tr>\n",
       "    <tr>\n",
       "      <th>707810</th>\n",
       "      <td>52.0</td>\n",
       "      <td>11971.21</td>\n",
       "    </tr>\n",
       "  </tbody>\n",
       "</table>\n",
       "<p>86 rows × 2 columns</p>\n",
       "</div>"
      ],
      "text/plain": [
       "         age  disc_sum_6m_g34\n",
       "5288    58.0         10954.82\n",
       "7615    60.0         16419.91\n",
       "20918   33.0         25280.99\n",
       "39062   29.0         62938.88\n",
       "47615   50.0         10360.41\n",
       "...      ...              ...\n",
       "671695  44.0         33502.84\n",
       "689185  56.0         33236.14\n",
       "694167  35.0         13304.24\n",
       "698575  39.0         14115.65\n",
       "707810  52.0         11971.21\n",
       "\n",
       "[86 rows x 2 columns]"
      ]
     },
     "execution_count": 45,
     "metadata": {},
     "output_type": "execute_result"
    }
   ],
   "source": [
    "df[df['disc_sum_6m_g34'] > 10000][['age', 'disc_sum_6m_g34']]"
   ]
  },
  {
   "cell_type": "code",
   "execution_count": null,
   "metadata": {},
   "outputs": [],
   "source": []
  },
  {
   "cell_type": "code",
   "execution_count": null,
   "metadata": {},
   "outputs": [],
   "source": []
  },
  {
   "cell_type": "code",
   "execution_count": null,
   "metadata": {},
   "outputs": [],
   "source": []
  },
  {
   "cell_type": "code",
   "execution_count": null,
   "metadata": {},
   "outputs": [],
   "source": []
  },
  {
   "cell_type": "code",
   "execution_count": null,
   "metadata": {},
   "outputs": [],
   "source": []
  }
 ],
 "metadata": {
  "kernelspec": {
   "display_name": "venv",
   "language": "python",
   "name": "python3"
  },
  "language_info": {
   "codemirror_mode": {
    "name": "ipython",
    "version": 3
   },
   "file_extension": ".py",
   "mimetype": "text/x-python",
   "name": "python",
   "nbconvert_exporter": "python",
   "pygments_lexer": "ipython3",
   "version": "3.11.4"
  }
 },
 "nbformat": 4,
 "nbformat_minor": 2
}
