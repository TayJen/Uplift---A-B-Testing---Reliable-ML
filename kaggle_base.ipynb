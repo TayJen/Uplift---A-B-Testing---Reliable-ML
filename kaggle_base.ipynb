{
 "cells": [
  {
   "cell_type": "code",
   "execution_count": 1,
   "metadata": {},
   "outputs": [
    {
     "data": {
      "text/plain": [
       "(714510, 195)"
      ]
     },
     "execution_count": 1,
     "metadata": {},
     "output_type": "execute_result"
    }
   ],
   "source": [
    "import pandas as pd\n",
    "import numpy as np\n",
    "\n",
    "\n",
    "df = pd.read_csv(\"data/train_lenta.csv\")\n",
    "df.shape"
   ]
  },
  {
   "cell_type": "markdown",
   "metadata": {},
   "source": [
    "## EDA"
   ]
  },
  {
   "cell_type": "code",
   "execution_count": 2,
   "metadata": {},
   "outputs": [
    {
     "data": {
      "text/html": [
       "<div>\n",
       "<style scoped>\n",
       "    .dataframe tbody tr th:only-of-type {\n",
       "        vertical-align: middle;\n",
       "    }\n",
       "\n",
       "    .dataframe tbody tr th {\n",
       "        vertical-align: top;\n",
       "    }\n",
       "\n",
       "    .dataframe thead th {\n",
       "        text-align: right;\n",
       "    }\n",
       "</style>\n",
       "<table border=\"1\" class=\"dataframe\">\n",
       "  <thead>\n",
       "    <tr style=\"text-align: right;\">\n",
       "      <th></th>\n",
       "      <th>age</th>\n",
       "      <th>cheque_count_12m_g20</th>\n",
       "      <th>cheque_count_12m_g21</th>\n",
       "      <th>cheque_count_12m_g25</th>\n",
       "      <th>cheque_count_12m_g32</th>\n",
       "      <th>cheque_count_12m_g33</th>\n",
       "      <th>cheque_count_12m_g38</th>\n",
       "      <th>cheque_count_12m_g39</th>\n",
       "      <th>cheque_count_12m_g41</th>\n",
       "      <th>cheque_count_12m_g42</th>\n",
       "      <th>...</th>\n",
       "      <th>sale_sum_6m_g26</th>\n",
       "      <th>sale_sum_6m_g32</th>\n",
       "      <th>sale_sum_6m_g33</th>\n",
       "      <th>sale_sum_6m_g44</th>\n",
       "      <th>sale_sum_6m_g54</th>\n",
       "      <th>stdev_days_between_visits_15d</th>\n",
       "      <th>stdev_discount_depth_15d</th>\n",
       "      <th>stdev_discount_depth_1m</th>\n",
       "      <th>target</th>\n",
       "      <th>treatment</th>\n",
       "    </tr>\n",
       "  </thead>\n",
       "  <tbody>\n",
       "    <tr>\n",
       "      <th>0</th>\n",
       "      <td>81.0</td>\n",
       "      <td>9.0</td>\n",
       "      <td>14.0</td>\n",
       "      <td>12.0</td>\n",
       "      <td>7.0</td>\n",
       "      <td>19.0</td>\n",
       "      <td>8.0</td>\n",
       "      <td>4.0</td>\n",
       "      <td>18.0</td>\n",
       "      <td>9.0</td>\n",
       "      <td>...</td>\n",
       "      <td>0.00</td>\n",
       "      <td>314.91</td>\n",
       "      <td>1045.57</td>\n",
       "      <td>134.36</td>\n",
       "      <td>0.00</td>\n",
       "      <td>0.0</td>\n",
       "      <td>0.0</td>\n",
       "      <td>0.0000</td>\n",
       "      <td>0</td>\n",
       "      <td>1</td>\n",
       "    </tr>\n",
       "    <tr>\n",
       "      <th>1</th>\n",
       "      <td>56.0</td>\n",
       "      <td>17.0</td>\n",
       "      <td>13.0</td>\n",
       "      <td>24.0</td>\n",
       "      <td>14.0</td>\n",
       "      <td>3.0</td>\n",
       "      <td>2.0</td>\n",
       "      <td>2.0</td>\n",
       "      <td>13.0</td>\n",
       "      <td>13.0</td>\n",
       "      <td>...</td>\n",
       "      <td>582.83</td>\n",
       "      <td>3489.72</td>\n",
       "      <td>119.52</td>\n",
       "      <td>1031.92</td>\n",
       "      <td>218.12</td>\n",
       "      <td>0.0</td>\n",
       "      <td>NaN</td>\n",
       "      <td>0.1608</td>\n",
       "      <td>0</td>\n",
       "      <td>0</td>\n",
       "    </tr>\n",
       "    <tr>\n",
       "      <th>2</th>\n",
       "      <td>63.0</td>\n",
       "      <td>0.0</td>\n",
       "      <td>0.0</td>\n",
       "      <td>0.0</td>\n",
       "      <td>0.0</td>\n",
       "      <td>9.0</td>\n",
       "      <td>2.0</td>\n",
       "      <td>8.0</td>\n",
       "      <td>0.0</td>\n",
       "      <td>2.0</td>\n",
       "      <td>...</td>\n",
       "      <td>93.67</td>\n",
       "      <td>0.00</td>\n",
       "      <td>424.98</td>\n",
       "      <td>0.00</td>\n",
       "      <td>0.00</td>\n",
       "      <td>0.0</td>\n",
       "      <td>0.0</td>\n",
       "      <td>0.0000</td>\n",
       "      <td>0</td>\n",
       "      <td>1</td>\n",
       "    </tr>\n",
       "    <tr>\n",
       "      <th>3</th>\n",
       "      <td>56.0</td>\n",
       "      <td>0.0</td>\n",
       "      <td>1.0</td>\n",
       "      <td>0.0</td>\n",
       "      <td>0.0</td>\n",
       "      <td>2.0</td>\n",
       "      <td>0.0</td>\n",
       "      <td>1.0</td>\n",
       "      <td>4.0</td>\n",
       "      <td>1.0</td>\n",
       "      <td>...</td>\n",
       "      <td>34.89</td>\n",
       "      <td>0.00</td>\n",
       "      <td>109.90</td>\n",
       "      <td>81.99</td>\n",
       "      <td>77.38</td>\n",
       "      <td>0.0</td>\n",
       "      <td>0.0</td>\n",
       "      <td>0.0000</td>\n",
       "      <td>0</td>\n",
       "      <td>0</td>\n",
       "    </tr>\n",
       "    <tr>\n",
       "      <th>4</th>\n",
       "      <td>47.0</td>\n",
       "      <td>0.0</td>\n",
       "      <td>1.0</td>\n",
       "      <td>0.0</td>\n",
       "      <td>0.0</td>\n",
       "      <td>1.0</td>\n",
       "      <td>0.0</td>\n",
       "      <td>4.0</td>\n",
       "      <td>2.0</td>\n",
       "      <td>0.0</td>\n",
       "      <td>...</td>\n",
       "      <td>0.00</td>\n",
       "      <td>0.00</td>\n",
       "      <td>209.14</td>\n",
       "      <td>241.50</td>\n",
       "      <td>89.99</td>\n",
       "      <td>0.0</td>\n",
       "      <td>0.0</td>\n",
       "      <td>0.0000</td>\n",
       "      <td>0</td>\n",
       "      <td>1</td>\n",
       "    </tr>\n",
       "  </tbody>\n",
       "</table>\n",
       "<p>5 rows × 195 columns</p>\n",
       "</div>"
      ],
      "text/plain": [
       "    age  cheque_count_12m_g20  cheque_count_12m_g21  cheque_count_12m_g25  \\\n",
       "0  81.0                   9.0                  14.0                  12.0   \n",
       "1  56.0                  17.0                  13.0                  24.0   \n",
       "2  63.0                   0.0                   0.0                   0.0   \n",
       "3  56.0                   0.0                   1.0                   0.0   \n",
       "4  47.0                   0.0                   1.0                   0.0   \n",
       "\n",
       "   cheque_count_12m_g32  cheque_count_12m_g33  cheque_count_12m_g38  \\\n",
       "0                   7.0                  19.0                   8.0   \n",
       "1                  14.0                   3.0                   2.0   \n",
       "2                   0.0                   9.0                   2.0   \n",
       "3                   0.0                   2.0                   0.0   \n",
       "4                   0.0                   1.0                   0.0   \n",
       "\n",
       "   cheque_count_12m_g39  cheque_count_12m_g41  cheque_count_12m_g42  ...  \\\n",
       "0                   4.0                  18.0                   9.0  ...   \n",
       "1                   2.0                  13.0                  13.0  ...   \n",
       "2                   8.0                   0.0                   2.0  ...   \n",
       "3                   1.0                   4.0                   1.0  ...   \n",
       "4                   4.0                   2.0                   0.0  ...   \n",
       "\n",
       "   sale_sum_6m_g26  sale_sum_6m_g32  sale_sum_6m_g33  sale_sum_6m_g44  \\\n",
       "0             0.00           314.91          1045.57           134.36   \n",
       "1           582.83          3489.72           119.52          1031.92   \n",
       "2            93.67             0.00           424.98             0.00   \n",
       "3            34.89             0.00           109.90            81.99   \n",
       "4             0.00             0.00           209.14           241.50   \n",
       "\n",
       "   sale_sum_6m_g54  stdev_days_between_visits_15d  stdev_discount_depth_15d  \\\n",
       "0             0.00                            0.0                       0.0   \n",
       "1           218.12                            0.0                       NaN   \n",
       "2             0.00                            0.0                       0.0   \n",
       "3            77.38                            0.0                       0.0   \n",
       "4            89.99                            0.0                       0.0   \n",
       "\n",
       "   stdev_discount_depth_1m  target  treatment  \n",
       "0                   0.0000       0          1  \n",
       "1                   0.1608       0          0  \n",
       "2                   0.0000       0          1  \n",
       "3                   0.0000       0          0  \n",
       "4                   0.0000       0          1  \n",
       "\n",
       "[5 rows x 195 columns]"
      ]
     },
     "execution_count": 2,
     "metadata": {},
     "output_type": "execute_result"
    }
   ],
   "source": [
    "df.head()"
   ]
  },
  {
   "cell_type": "code",
   "execution_count": 3,
   "metadata": {},
   "outputs": [
    {
     "data": {
      "image/png": "[encoded data removed]",
      "text/plain": [
       "<Figure size 1500x400 with 2 Axes>"
      ]
     },
     "metadata": {},
     "output_type": "display_data"
    }
   ],
   "source": [
    "import matplotlib.pyplot as plt\n",
    "import seaborn as sns\n",
    "\n",
    "fig, ax = plt.subplots(1,2, sharey=True, figsize=(15,4))\n",
    "\n",
    "treatment = df[\"treatment\"]\n",
    "target = df[\"target\"]\n",
    "\n",
    "sns.countplot(x=treatment, ax=ax[0])\n",
    "sns.countplot(x=target, ax=ax[1])\n",
    "plt.show()"
   ]
  },
  {
   "cell_type": "code",
   "execution_count": 4,
   "metadata": {},
   "outputs": [
    {
     "data": {
      "image/png": "[encoded data removed]",
      "text/plain": [
       "<Figure size 640x480 with 2 Axes>"
      ]
     },
     "metadata": {},
     "output_type": "display_data"
    }
   ],
   "source": [
    "def crosstab_plot(treatment, target):\n",
    "    ct = pd.crosstab(treatment, target, normalize='index')\n",
    "\n",
    "    sns.heatmap(ct, annot=True, fmt=\".3f\", linewidths=.5, square = True, cmap = 'Blues_r')\n",
    "    plt.ylabel('Treatment')\n",
    "    plt.xlabel('Target')\n",
    "    plt.title(\"Treatment - Target\", size = 15)\n",
    "\n",
    "crosstab_plot(df.treatment, df.target)"
   ]
  },
  {
   "cell_type": "markdown",
   "metadata": {},
   "source": [
    "### NANs"
   ]
  },
  {
   "cell_type": "code",
   "execution_count": 5,
   "metadata": {},
   "outputs": [
    {
     "data": {
      "text/html": [
       "<div>\n",
       "<style scoped>\n",
       "    .dataframe tbody tr th:only-of-type {\n",
       "        vertical-align: middle;\n",
       "    }\n",
       "\n",
       "    .dataframe tbody tr th {\n",
       "        vertical-align: top;\n",
       "    }\n",
       "\n",
       "    .dataframe thead th {\n",
       "        text-align: right;\n",
       "    }\n",
       "</style>\n",
       "<table border=\"1\" class=\"dataframe\">\n",
       "  <thead>\n",
       "    <tr style=\"text-align: right;\">\n",
       "      <th></th>\n",
       "      <th>Total</th>\n",
       "      <th>Percentage</th>\n",
       "    </tr>\n",
       "  </thead>\n",
       "  <tbody>\n",
       "    <tr>\n",
       "      <th>k_var_sku_price_15d_g49</th>\n",
       "      <td>515749</td>\n",
       "      <td>0.722</td>\n",
       "    </tr>\n",
       "    <tr>\n",
       "      <th>k_var_disc_share_15d_g49</th>\n",
       "      <td>515643</td>\n",
       "      <td>0.722</td>\n",
       "    </tr>\n",
       "    <tr>\n",
       "      <th>k_var_count_per_cheque_15d_g34</th>\n",
       "      <td>486931</td>\n",
       "      <td>0.681</td>\n",
       "    </tr>\n",
       "    <tr>\n",
       "      <th>k_var_sku_price_15d_g34</th>\n",
       "      <td>486931</td>\n",
       "      <td>0.681</td>\n",
       "    </tr>\n",
       "    <tr>\n",
       "      <th>k_var_disc_share_15d_g34</th>\n",
       "      <td>486846</td>\n",
       "      <td>0.681</td>\n",
       "    </tr>\n",
       "  </tbody>\n",
       "</table>\n",
       "</div>"
      ],
      "text/plain": [
       "                                 Total  Percentage\n",
       "k_var_sku_price_15d_g49         515749       0.722\n",
       "k_var_disc_share_15d_g49        515643       0.722\n",
       "k_var_count_per_cheque_15d_g34  486931       0.681\n",
       "k_var_sku_price_15d_g34         486931       0.681\n",
       "k_var_disc_share_15d_g34        486846       0.681"
      ]
     },
     "execution_count": 5,
     "metadata": {},
     "output_type": "execute_result"
    }
   ],
   "source": [
    "missing_cols_df = pd.DataFrame({\"Total\" : df.isna().sum().sort_values(ascending = False),\n",
    "                                \"Percentage\" : round(df.isna().sum().sort_values(ascending = False) / len(df), 3)})\n",
    "\n",
    "missing_cols_df.head()"
   ]
  },
  {
   "cell_type": "markdown",
   "metadata": {},
   "source": [
    "It's better just to fill nans as zeros, as score proves it"
   ]
  },
  {
   "cell_type": "code",
   "execution_count": 6,
   "metadata": {},
   "outputs": [],
   "source": [
    "df.fillna(0, inplace=True)"
   ]
  },
  {
   "cell_type": "markdown",
   "metadata": {},
   "source": [
    "### Checking features"
   ]
  },
  {
   "cell_type": "code",
   "execution_count": 7,
   "metadata": {},
   "outputs": [
    {
     "name": "stdout",
     "output_type": "stream",
     "text": [
      "<class 'pandas.core.frame.DataFrame'>\n",
      "RangeIndex: 714510 entries, 0 to 714509\n",
      "Columns: 151 entries, age to treatment\n",
      "dtypes: float64(148), int64(3)\n",
      "memory usage: 823.1 MB\n"
     ]
    }
   ],
   "source": [
    "df[[col for col in df.columns if col[:6] != 'cheque']].info()"
   ]
  },
  {
   "cell_type": "markdown",
   "metadata": {},
   "source": [
    "#### Age"
   ]
  },
  {
   "cell_type": "code",
   "execution_count": 8,
   "metadata": {},
   "outputs": [
    {
     "data": {
      "image/png": "[encoded data removed]",
      "text/plain": [
       "<Figure size 640x480 with 1 Axes>"
      ]
     },
     "metadata": {},
     "output_type": "display_data"
    }
   ],
   "source": [
    "sns.histplot(x=df['age'], bins=20).set_title('Age distribution')\n",
    "plt.show()"
   ]
  },
  {
   "cell_type": "markdown",
   "metadata": {},
   "source": [
    "Seems like without outliers and pretty normal distribution"
   ]
  },
  {
   "cell_type": "code",
   "execution_count": 9,
   "metadata": {},
   "outputs": [
    {
     "data": {
      "text/plain": [
       "(0.0, 100.0)"
      ]
     },
     "execution_count": 9,
     "metadata": {},
     "output_type": "execute_result"
    }
   ],
   "source": [
    "df['age'].min(), df['age'].max()"
   ]
  },
  {
   "cell_type": "markdown",
   "metadata": {},
   "source": [
    "Some outliers however there are"
   ]
  },
  {
   "cell_type": "code",
   "execution_count": 10,
   "metadata": {},
   "outputs": [
    {
     "data": {
      "text/html": [
       "<div>\n",
       "<style scoped>\n",
       "    .dataframe tbody tr th:only-of-type {\n",
       "        vertical-align: middle;\n",
       "    }\n",
       "\n",
       "    .dataframe tbody tr th {\n",
       "        vertical-align: top;\n",
       "    }\n",
       "\n",
       "    .dataframe thead th {\n",
       "        text-align: right;\n",
       "    }\n",
       "</style>\n",
       "<table border=\"1\" class=\"dataframe\">\n",
       "  <thead>\n",
       "    <tr style=\"text-align: right;\">\n",
       "      <th></th>\n",
       "      <th>age</th>\n",
       "      <th>cheque_count_12m_g20</th>\n",
       "      <th>cheque_count_12m_g21</th>\n",
       "      <th>cheque_count_12m_g25</th>\n",
       "      <th>cheque_count_12m_g32</th>\n",
       "      <th>cheque_count_12m_g33</th>\n",
       "      <th>cheque_count_12m_g38</th>\n",
       "      <th>cheque_count_12m_g39</th>\n",
       "      <th>cheque_count_12m_g41</th>\n",
       "      <th>cheque_count_12m_g42</th>\n",
       "      <th>...</th>\n",
       "      <th>sale_sum_6m_g26</th>\n",
       "      <th>sale_sum_6m_g32</th>\n",
       "      <th>sale_sum_6m_g33</th>\n",
       "      <th>sale_sum_6m_g44</th>\n",
       "      <th>sale_sum_6m_g54</th>\n",
       "      <th>stdev_days_between_visits_15d</th>\n",
       "      <th>stdev_discount_depth_15d</th>\n",
       "      <th>stdev_discount_depth_1m</th>\n",
       "      <th>target</th>\n",
       "      <th>treatment</th>\n",
       "    </tr>\n",
       "  </thead>\n",
       "  <tbody>\n",
       "    <tr>\n",
       "      <th>14498</th>\n",
       "      <td>99.0</td>\n",
       "      <td>4.0</td>\n",
       "      <td>9.0</td>\n",
       "      <td>0.0</td>\n",
       "      <td>13.0</td>\n",
       "      <td>6.0</td>\n",
       "      <td>8.0</td>\n",
       "      <td>5.0</td>\n",
       "      <td>19.0</td>\n",
       "      <td>10.0</td>\n",
       "      <td>...</td>\n",
       "      <td>26.49</td>\n",
       "      <td>1392.40</td>\n",
       "      <td>559.76</td>\n",
       "      <td>653.69</td>\n",
       "      <td>3358.99</td>\n",
       "      <td>0.0000</td>\n",
       "      <td>0.0000</td>\n",
       "      <td>0.1839</td>\n",
       "      <td>0</td>\n",
       "      <td>1</td>\n",
       "    </tr>\n",
       "    <tr>\n",
       "      <th>22596</th>\n",
       "      <td>100.0</td>\n",
       "      <td>0.0</td>\n",
       "      <td>3.0</td>\n",
       "      <td>1.0</td>\n",
       "      <td>8.0</td>\n",
       "      <td>15.0</td>\n",
       "      <td>7.0</td>\n",
       "      <td>1.0</td>\n",
       "      <td>9.0</td>\n",
       "      <td>9.0</td>\n",
       "      <td>...</td>\n",
       "      <td>692.55</td>\n",
       "      <td>231.69</td>\n",
       "      <td>2910.78</td>\n",
       "      <td>707.99</td>\n",
       "      <td>339.99</td>\n",
       "      <td>1.5275</td>\n",
       "      <td>0.2176</td>\n",
       "      <td>0.1959</td>\n",
       "      <td>0</td>\n",
       "      <td>1</td>\n",
       "    </tr>\n",
       "    <tr>\n",
       "      <th>22885</th>\n",
       "      <td>91.0</td>\n",
       "      <td>5.0</td>\n",
       "      <td>4.0</td>\n",
       "      <td>6.0</td>\n",
       "      <td>5.0</td>\n",
       "      <td>7.0</td>\n",
       "      <td>7.0</td>\n",
       "      <td>9.0</td>\n",
       "      <td>13.0</td>\n",
       "      <td>6.0</td>\n",
       "      <td>...</td>\n",
       "      <td>392.69</td>\n",
       "      <td>813.78</td>\n",
       "      <td>3096.74</td>\n",
       "      <td>1201.88</td>\n",
       "      <td>373.84</td>\n",
       "      <td>0.0000</td>\n",
       "      <td>0.0000</td>\n",
       "      <td>0.2464</td>\n",
       "      <td>0</td>\n",
       "      <td>1</td>\n",
       "    </tr>\n",
       "    <tr>\n",
       "      <th>24110</th>\n",
       "      <td>92.0</td>\n",
       "      <td>0.0</td>\n",
       "      <td>0.0</td>\n",
       "      <td>10.0</td>\n",
       "      <td>5.0</td>\n",
       "      <td>19.0</td>\n",
       "      <td>14.0</td>\n",
       "      <td>3.0</td>\n",
       "      <td>3.0</td>\n",
       "      <td>4.0</td>\n",
       "      <td>...</td>\n",
       "      <td>1176.71</td>\n",
       "      <td>1690.69</td>\n",
       "      <td>3449.20</td>\n",
       "      <td>0.00</td>\n",
       "      <td>1328.97</td>\n",
       "      <td>0.0000</td>\n",
       "      <td>0.1677</td>\n",
       "      <td>0.1677</td>\n",
       "      <td>0</td>\n",
       "      <td>1</td>\n",
       "    </tr>\n",
       "    <tr>\n",
       "      <th>40713</th>\n",
       "      <td>92.0</td>\n",
       "      <td>2.0</td>\n",
       "      <td>0.0</td>\n",
       "      <td>2.0</td>\n",
       "      <td>1.0</td>\n",
       "      <td>0.0</td>\n",
       "      <td>0.0</td>\n",
       "      <td>2.0</td>\n",
       "      <td>0.0</td>\n",
       "      <td>0.0</td>\n",
       "      <td>...</td>\n",
       "      <td>28.99</td>\n",
       "      <td>159.98</td>\n",
       "      <td>0.00</td>\n",
       "      <td>0.00</td>\n",
       "      <td>31.89</td>\n",
       "      <td>0.0000</td>\n",
       "      <td>0.0000</td>\n",
       "      <td>0.0000</td>\n",
       "      <td>0</td>\n",
       "      <td>1</td>\n",
       "    </tr>\n",
       "    <tr>\n",
       "      <th>...</th>\n",
       "      <td>...</td>\n",
       "      <td>...</td>\n",
       "      <td>...</td>\n",
       "      <td>...</td>\n",
       "      <td>...</td>\n",
       "      <td>...</td>\n",
       "      <td>...</td>\n",
       "      <td>...</td>\n",
       "      <td>...</td>\n",
       "      <td>...</td>\n",
       "      <td>...</td>\n",
       "      <td>...</td>\n",
       "      <td>...</td>\n",
       "      <td>...</td>\n",
       "      <td>...</td>\n",
       "      <td>...</td>\n",
       "      <td>...</td>\n",
       "      <td>...</td>\n",
       "      <td>...</td>\n",
       "      <td>...</td>\n",
       "      <td>...</td>\n",
       "    </tr>\n",
       "    <tr>\n",
       "      <th>676399</th>\n",
       "      <td>92.0</td>\n",
       "      <td>0.0</td>\n",
       "      <td>0.0</td>\n",
       "      <td>0.0</td>\n",
       "      <td>0.0</td>\n",
       "      <td>2.0</td>\n",
       "      <td>1.0</td>\n",
       "      <td>0.0</td>\n",
       "      <td>0.0</td>\n",
       "      <td>0.0</td>\n",
       "      <td>...</td>\n",
       "      <td>0.00</td>\n",
       "      <td>0.00</td>\n",
       "      <td>239.21</td>\n",
       "      <td>101.98</td>\n",
       "      <td>0.00</td>\n",
       "      <td>0.0000</td>\n",
       "      <td>0.0000</td>\n",
       "      <td>0.0017</td>\n",
       "      <td>0</td>\n",
       "      <td>1</td>\n",
       "    </tr>\n",
       "    <tr>\n",
       "      <th>678782</th>\n",
       "      <td>91.0</td>\n",
       "      <td>0.0</td>\n",
       "      <td>1.0</td>\n",
       "      <td>2.0</td>\n",
       "      <td>0.0</td>\n",
       "      <td>0.0</td>\n",
       "      <td>0.0</td>\n",
       "      <td>1.0</td>\n",
       "      <td>9.0</td>\n",
       "      <td>1.0</td>\n",
       "      <td>...</td>\n",
       "      <td>0.00</td>\n",
       "      <td>0.00</td>\n",
       "      <td>0.00</td>\n",
       "      <td>70.76</td>\n",
       "      <td>0.00</td>\n",
       "      <td>0.0000</td>\n",
       "      <td>0.0000</td>\n",
       "      <td>0.0000</td>\n",
       "      <td>0</td>\n",
       "      <td>1</td>\n",
       "    </tr>\n",
       "    <tr>\n",
       "      <th>697789</th>\n",
       "      <td>96.0</td>\n",
       "      <td>0.0</td>\n",
       "      <td>0.0</td>\n",
       "      <td>0.0</td>\n",
       "      <td>2.0</td>\n",
       "      <td>0.0</td>\n",
       "      <td>2.0</td>\n",
       "      <td>0.0</td>\n",
       "      <td>0.0</td>\n",
       "      <td>0.0</td>\n",
       "      <td>...</td>\n",
       "      <td>66.38</td>\n",
       "      <td>763.43</td>\n",
       "      <td>0.00</td>\n",
       "      <td>79.76</td>\n",
       "      <td>64.99</td>\n",
       "      <td>0.0000</td>\n",
       "      <td>0.2330</td>\n",
       "      <td>0.2330</td>\n",
       "      <td>0</td>\n",
       "      <td>1</td>\n",
       "    </tr>\n",
       "    <tr>\n",
       "      <th>700042</th>\n",
       "      <td>92.0</td>\n",
       "      <td>7.0</td>\n",
       "      <td>5.0</td>\n",
       "      <td>20.0</td>\n",
       "      <td>5.0</td>\n",
       "      <td>11.0</td>\n",
       "      <td>15.0</td>\n",
       "      <td>4.0</td>\n",
       "      <td>13.0</td>\n",
       "      <td>5.0</td>\n",
       "      <td>...</td>\n",
       "      <td>1597.76</td>\n",
       "      <td>397.44</td>\n",
       "      <td>1423.24</td>\n",
       "      <td>894.98</td>\n",
       "      <td>1007.58</td>\n",
       "      <td>0.0000</td>\n",
       "      <td>0.0000</td>\n",
       "      <td>0.1503</td>\n",
       "      <td>0</td>\n",
       "      <td>1</td>\n",
       "    </tr>\n",
       "    <tr>\n",
       "      <th>708514</th>\n",
       "      <td>93.0</td>\n",
       "      <td>3.0</td>\n",
       "      <td>1.0</td>\n",
       "      <td>2.0</td>\n",
       "      <td>7.0</td>\n",
       "      <td>5.0</td>\n",
       "      <td>8.0</td>\n",
       "      <td>4.0</td>\n",
       "      <td>11.0</td>\n",
       "      <td>9.0</td>\n",
       "      <td>...</td>\n",
       "      <td>352.97</td>\n",
       "      <td>253.58</td>\n",
       "      <td>285.06</td>\n",
       "      <td>658.06</td>\n",
       "      <td>147.88</td>\n",
       "      <td>0.0000</td>\n",
       "      <td>0.0000</td>\n",
       "      <td>0.1033</td>\n",
       "      <td>0</td>\n",
       "      <td>1</td>\n",
       "    </tr>\n",
       "  </tbody>\n",
       "</table>\n",
       "<p>141 rows × 195 columns</p>\n",
       "</div>"
      ],
      "text/plain": [
       "          age  cheque_count_12m_g20  cheque_count_12m_g21  \\\n",
       "14498    99.0                   4.0                   9.0   \n",
       "22596   100.0                   0.0                   3.0   \n",
       "22885    91.0                   5.0                   4.0   \n",
       "24110    92.0                   0.0                   0.0   \n",
       "40713    92.0                   2.0                   0.0   \n",
       "...       ...                   ...                   ...   \n",
       "676399   92.0                   0.0                   0.0   \n",
       "678782   91.0                   0.0                   1.0   \n",
       "697789   96.0                   0.0                   0.0   \n",
       "700042   92.0                   7.0                   5.0   \n",
       "708514   93.0                   3.0                   1.0   \n",
       "\n",
       "        cheque_count_12m_g25  cheque_count_12m_g32  cheque_count_12m_g33  \\\n",
       "14498                    0.0                  13.0                   6.0   \n",
       "22596                    1.0                   8.0                  15.0   \n",
       "22885                    6.0                   5.0                   7.0   \n",
       "24110                   10.0                   5.0                  19.0   \n",
       "40713                    2.0                   1.0                   0.0   \n",
       "...                      ...                   ...                   ...   \n",
       "676399                   0.0                   0.0                   2.0   \n",
       "678782                   2.0                   0.0                   0.0   \n",
       "697789                   0.0                   2.0                   0.0   \n",
       "700042                  20.0                   5.0                  11.0   \n",
       "708514                   2.0                   7.0                   5.0   \n",
       "\n",
       "        cheque_count_12m_g38  cheque_count_12m_g39  cheque_count_12m_g41  \\\n",
       "14498                    8.0                   5.0                  19.0   \n",
       "22596                    7.0                   1.0                   9.0   \n",
       "22885                    7.0                   9.0                  13.0   \n",
       "24110                   14.0                   3.0                   3.0   \n",
       "40713                    0.0                   2.0                   0.0   \n",
       "...                      ...                   ...                   ...   \n",
       "676399                   1.0                   0.0                   0.0   \n",
       "678782                   0.0                   1.0                   9.0   \n",
       "697789                   2.0                   0.0                   0.0   \n",
       "700042                  15.0                   4.0                  13.0   \n",
       "708514                   8.0                   4.0                  11.0   \n",
       "\n",
       "        cheque_count_12m_g42  ...  sale_sum_6m_g26  sale_sum_6m_g32  \\\n",
       "14498                   10.0  ...            26.49          1392.40   \n",
       "22596                    9.0  ...           692.55           231.69   \n",
       "22885                    6.0  ...           392.69           813.78   \n",
       "24110                    4.0  ...          1176.71          1690.69   \n",
       "40713                    0.0  ...            28.99           159.98   \n",
       "...                      ...  ...              ...              ...   \n",
       "676399                   0.0  ...             0.00             0.00   \n",
       "678782                   1.0  ...             0.00             0.00   \n",
       "697789                   0.0  ...            66.38           763.43   \n",
       "700042                   5.0  ...          1597.76           397.44   \n",
       "708514                   9.0  ...           352.97           253.58   \n",
       "\n",
       "        sale_sum_6m_g33  sale_sum_6m_g44  sale_sum_6m_g54  \\\n",
       "14498            559.76           653.69          3358.99   \n",
       "22596           2910.78           707.99           339.99   \n",
       "22885           3096.74          1201.88           373.84   \n",
       "24110           3449.20             0.00          1328.97   \n",
       "40713              0.00             0.00            31.89   \n",
       "...                 ...              ...              ...   \n",
       "676399           239.21           101.98             0.00   \n",
       "678782             0.00            70.76             0.00   \n",
       "697789             0.00            79.76            64.99   \n",
       "700042          1423.24           894.98          1007.58   \n",
       "708514           285.06           658.06           147.88   \n",
       "\n",
       "        stdev_days_between_visits_15d  stdev_discount_depth_15d  \\\n",
       "14498                          0.0000                    0.0000   \n",
       "22596                          1.5275                    0.2176   \n",
       "22885                          0.0000                    0.0000   \n",
       "24110                          0.0000                    0.1677   \n",
       "40713                          0.0000                    0.0000   \n",
       "...                               ...                       ...   \n",
       "676399                         0.0000                    0.0000   \n",
       "678782                         0.0000                    0.0000   \n",
       "697789                         0.0000                    0.2330   \n",
       "700042                         0.0000                    0.0000   \n",
       "708514                         0.0000                    0.0000   \n",
       "\n",
       "        stdev_discount_depth_1m  target  treatment  \n",
       "14498                    0.1839       0          1  \n",
       "22596                    0.1959       0          1  \n",
       "22885                    0.2464       0          1  \n",
       "24110                    0.1677       0          1  \n",
       "40713                    0.0000       0          1  \n",
       "...                         ...     ...        ...  \n",
       "676399                   0.0017       0          1  \n",
       "678782                   0.0000       0          1  \n",
       "697789                   0.2330       0          1  \n",
       "700042                   0.1503       0          1  \n",
       "708514                   0.1033       0          1  \n",
       "\n",
       "[141 rows x 195 columns]"
      ]
     },
     "execution_count": 10,
     "metadata": {},
     "output_type": "execute_result"
    }
   ],
   "source": [
    "df[df['age'] > 90]"
   ]
  },
  {
   "cell_type": "code",
   "execution_count": 11,
   "metadata": {},
   "outputs": [
    {
     "data": {
      "text/html": [
       "<div>\n",
       "<style scoped>\n",
       "    .dataframe tbody tr th:only-of-type {\n",
       "        vertical-align: middle;\n",
       "    }\n",
       "\n",
       "    .dataframe tbody tr th {\n",
       "        vertical-align: top;\n",
       "    }\n",
       "\n",
       "    .dataframe thead th {\n",
       "        text-align: right;\n",
       "    }\n",
       "</style>\n",
       "<table border=\"1\" class=\"dataframe\">\n",
       "  <thead>\n",
       "    <tr style=\"text-align: right;\">\n",
       "      <th></th>\n",
       "      <th>age</th>\n",
       "      <th>cheque_count_12m_g20</th>\n",
       "      <th>cheque_count_12m_g21</th>\n",
       "      <th>cheque_count_12m_g25</th>\n",
       "      <th>cheque_count_12m_g32</th>\n",
       "      <th>cheque_count_12m_g33</th>\n",
       "      <th>cheque_count_12m_g38</th>\n",
       "      <th>cheque_count_12m_g39</th>\n",
       "      <th>cheque_count_12m_g41</th>\n",
       "      <th>cheque_count_12m_g42</th>\n",
       "      <th>...</th>\n",
       "      <th>sale_sum_6m_g26</th>\n",
       "      <th>sale_sum_6m_g32</th>\n",
       "      <th>sale_sum_6m_g33</th>\n",
       "      <th>sale_sum_6m_g44</th>\n",
       "      <th>sale_sum_6m_g54</th>\n",
       "      <th>stdev_days_between_visits_15d</th>\n",
       "      <th>stdev_discount_depth_15d</th>\n",
       "      <th>stdev_discount_depth_1m</th>\n",
       "      <th>target</th>\n",
       "      <th>treatment</th>\n",
       "    </tr>\n",
       "  </thead>\n",
       "  <tbody>\n",
       "    <tr>\n",
       "      <th>160</th>\n",
       "      <td>0.0</td>\n",
       "      <td>3.0</td>\n",
       "      <td>2.0</td>\n",
       "      <td>5.0</td>\n",
       "      <td>1.0</td>\n",
       "      <td>1.0</td>\n",
       "      <td>1.0</td>\n",
       "      <td>1.0</td>\n",
       "      <td>0.0</td>\n",
       "      <td>0.0</td>\n",
       "      <td>...</td>\n",
       "      <td>0.00</td>\n",
       "      <td>50.78</td>\n",
       "      <td>0.00</td>\n",
       "      <td>11.23</td>\n",
       "      <td>0.00</td>\n",
       "      <td>0.0</td>\n",
       "      <td>0.0000</td>\n",
       "      <td>0.0000</td>\n",
       "      <td>0</td>\n",
       "      <td>1</td>\n",
       "    </tr>\n",
       "    <tr>\n",
       "      <th>187</th>\n",
       "      <td>0.0</td>\n",
       "      <td>0.0</td>\n",
       "      <td>0.0</td>\n",
       "      <td>0.0</td>\n",
       "      <td>1.0</td>\n",
       "      <td>0.0</td>\n",
       "      <td>0.0</td>\n",
       "      <td>0.0</td>\n",
       "      <td>0.0</td>\n",
       "      <td>0.0</td>\n",
       "      <td>...</td>\n",
       "      <td>0.00</td>\n",
       "      <td>449.54</td>\n",
       "      <td>0.00</td>\n",
       "      <td>310.32</td>\n",
       "      <td>0.00</td>\n",
       "      <td>0.0</td>\n",
       "      <td>0.0000</td>\n",
       "      <td>0.0000</td>\n",
       "      <td>1</td>\n",
       "      <td>1</td>\n",
       "    </tr>\n",
       "    <tr>\n",
       "      <th>233</th>\n",
       "      <td>0.0</td>\n",
       "      <td>0.0</td>\n",
       "      <td>0.0</td>\n",
       "      <td>1.0</td>\n",
       "      <td>2.0</td>\n",
       "      <td>0.0</td>\n",
       "      <td>2.0</td>\n",
       "      <td>1.0</td>\n",
       "      <td>0.0</td>\n",
       "      <td>4.0</td>\n",
       "      <td>...</td>\n",
       "      <td>148.98</td>\n",
       "      <td>239.37</td>\n",
       "      <td>0.00</td>\n",
       "      <td>41.99</td>\n",
       "      <td>0.00</td>\n",
       "      <td>0.0</td>\n",
       "      <td>0.4846</td>\n",
       "      <td>0.4846</td>\n",
       "      <td>0</td>\n",
       "      <td>1</td>\n",
       "    </tr>\n",
       "    <tr>\n",
       "      <th>240</th>\n",
       "      <td>2.0</td>\n",
       "      <td>0.0</td>\n",
       "      <td>0.0</td>\n",
       "      <td>0.0</td>\n",
       "      <td>0.0</td>\n",
       "      <td>0.0</td>\n",
       "      <td>0.0</td>\n",
       "      <td>0.0</td>\n",
       "      <td>2.0</td>\n",
       "      <td>0.0</td>\n",
       "      <td>...</td>\n",
       "      <td>2404.75</td>\n",
       "      <td>0.00</td>\n",
       "      <td>0.00</td>\n",
       "      <td>331.54</td>\n",
       "      <td>0.00</td>\n",
       "      <td>0.0</td>\n",
       "      <td>0.0000</td>\n",
       "      <td>0.0000</td>\n",
       "      <td>0</td>\n",
       "      <td>1</td>\n",
       "    </tr>\n",
       "    <tr>\n",
       "      <th>255</th>\n",
       "      <td>0.0</td>\n",
       "      <td>0.0</td>\n",
       "      <td>0.0</td>\n",
       "      <td>0.0</td>\n",
       "      <td>0.0</td>\n",
       "      <td>1.0</td>\n",
       "      <td>0.0</td>\n",
       "      <td>0.0</td>\n",
       "      <td>0.0</td>\n",
       "      <td>1.0</td>\n",
       "      <td>...</td>\n",
       "      <td>0.00</td>\n",
       "      <td>0.00</td>\n",
       "      <td>444.79</td>\n",
       "      <td>282.36</td>\n",
       "      <td>0.00</td>\n",
       "      <td>0.0</td>\n",
       "      <td>0.3166</td>\n",
       "      <td>0.3166</td>\n",
       "      <td>0</td>\n",
       "      <td>1</td>\n",
       "    </tr>\n",
       "    <tr>\n",
       "      <th>...</th>\n",
       "      <td>...</td>\n",
       "      <td>...</td>\n",
       "      <td>...</td>\n",
       "      <td>...</td>\n",
       "      <td>...</td>\n",
       "      <td>...</td>\n",
       "      <td>...</td>\n",
       "      <td>...</td>\n",
       "      <td>...</td>\n",
       "      <td>...</td>\n",
       "      <td>...</td>\n",
       "      <td>...</td>\n",
       "      <td>...</td>\n",
       "      <td>...</td>\n",
       "      <td>...</td>\n",
       "      <td>...</td>\n",
       "      <td>...</td>\n",
       "      <td>...</td>\n",
       "      <td>...</td>\n",
       "      <td>...</td>\n",
       "      <td>...</td>\n",
       "    </tr>\n",
       "    <tr>\n",
       "      <th>714142</th>\n",
       "      <td>0.0</td>\n",
       "      <td>0.0</td>\n",
       "      <td>0.0</td>\n",
       "      <td>0.0</td>\n",
       "      <td>0.0</td>\n",
       "      <td>0.0</td>\n",
       "      <td>0.0</td>\n",
       "      <td>0.0</td>\n",
       "      <td>0.0</td>\n",
       "      <td>0.0</td>\n",
       "      <td>...</td>\n",
       "      <td>0.00</td>\n",
       "      <td>0.00</td>\n",
       "      <td>0.00</td>\n",
       "      <td>0.00</td>\n",
       "      <td>41.99</td>\n",
       "      <td>0.0</td>\n",
       "      <td>0.0000</td>\n",
       "      <td>0.0000</td>\n",
       "      <td>0</td>\n",
       "      <td>1</td>\n",
       "    </tr>\n",
       "    <tr>\n",
       "      <th>714196</th>\n",
       "      <td>0.0</td>\n",
       "      <td>0.0</td>\n",
       "      <td>0.0</td>\n",
       "      <td>2.0</td>\n",
       "      <td>1.0</td>\n",
       "      <td>0.0</td>\n",
       "      <td>5.0</td>\n",
       "      <td>2.0</td>\n",
       "      <td>0.0</td>\n",
       "      <td>0.0</td>\n",
       "      <td>...</td>\n",
       "      <td>0.00</td>\n",
       "      <td>0.00</td>\n",
       "      <td>0.00</td>\n",
       "      <td>318.00</td>\n",
       "      <td>0.00</td>\n",
       "      <td>0.0</td>\n",
       "      <td>0.1089</td>\n",
       "      <td>0.1089</td>\n",
       "      <td>0</td>\n",
       "      <td>1</td>\n",
       "    </tr>\n",
       "    <tr>\n",
       "      <th>714226</th>\n",
       "      <td>0.0</td>\n",
       "      <td>0.0</td>\n",
       "      <td>0.0</td>\n",
       "      <td>0.0</td>\n",
       "      <td>0.0</td>\n",
       "      <td>0.0</td>\n",
       "      <td>1.0</td>\n",
       "      <td>1.0</td>\n",
       "      <td>1.0</td>\n",
       "      <td>0.0</td>\n",
       "      <td>...</td>\n",
       "      <td>92.27</td>\n",
       "      <td>0.00</td>\n",
       "      <td>0.00</td>\n",
       "      <td>0.00</td>\n",
       "      <td>105.67</td>\n",
       "      <td>0.0</td>\n",
       "      <td>0.0000</td>\n",
       "      <td>0.0000</td>\n",
       "      <td>0</td>\n",
       "      <td>0</td>\n",
       "    </tr>\n",
       "    <tr>\n",
       "      <th>714237</th>\n",
       "      <td>0.0</td>\n",
       "      <td>0.0</td>\n",
       "      <td>0.0</td>\n",
       "      <td>0.0</td>\n",
       "      <td>0.0</td>\n",
       "      <td>0.0</td>\n",
       "      <td>0.0</td>\n",
       "      <td>0.0</td>\n",
       "      <td>1.0</td>\n",
       "      <td>0.0</td>\n",
       "      <td>...</td>\n",
       "      <td>0.00</td>\n",
       "      <td>0.00</td>\n",
       "      <td>0.00</td>\n",
       "      <td>0.00</td>\n",
       "      <td>162.16</td>\n",
       "      <td>0.0</td>\n",
       "      <td>0.0000</td>\n",
       "      <td>0.0000</td>\n",
       "      <td>0</td>\n",
       "      <td>1</td>\n",
       "    </tr>\n",
       "    <tr>\n",
       "      <th>714243</th>\n",
       "      <td>0.0</td>\n",
       "      <td>3.0</td>\n",
       "      <td>3.0</td>\n",
       "      <td>5.0</td>\n",
       "      <td>4.0</td>\n",
       "      <td>3.0</td>\n",
       "      <td>4.0</td>\n",
       "      <td>5.0</td>\n",
       "      <td>6.0</td>\n",
       "      <td>7.0</td>\n",
       "      <td>...</td>\n",
       "      <td>650.24</td>\n",
       "      <td>50.11</td>\n",
       "      <td>0.00</td>\n",
       "      <td>0.00</td>\n",
       "      <td>104.47</td>\n",
       "      <td>0.0</td>\n",
       "      <td>0.0000</td>\n",
       "      <td>0.0000</td>\n",
       "      <td>0</td>\n",
       "      <td>1</td>\n",
       "    </tr>\n",
       "  </tbody>\n",
       "</table>\n",
       "<p>12240 rows × 195 columns</p>\n",
       "</div>"
      ],
      "text/plain": [
       "        age  cheque_count_12m_g20  cheque_count_12m_g21  cheque_count_12m_g25  \\\n",
       "160     0.0                   3.0                   2.0                   5.0   \n",
       "187     0.0                   0.0                   0.0                   0.0   \n",
       "233     0.0                   0.0                   0.0                   1.0   \n",
       "240     2.0                   0.0                   0.0                   0.0   \n",
       "255     0.0                   0.0                   0.0                   0.0   \n",
       "...     ...                   ...                   ...                   ...   \n",
       "714142  0.0                   0.0                   0.0                   0.0   \n",
       "714196  0.0                   0.0                   0.0                   2.0   \n",
       "714226  0.0                   0.0                   0.0                   0.0   \n",
       "714237  0.0                   0.0                   0.0                   0.0   \n",
       "714243  0.0                   3.0                   3.0                   5.0   \n",
       "\n",
       "        cheque_count_12m_g32  cheque_count_12m_g33  cheque_count_12m_g38  \\\n",
       "160                      1.0                   1.0                   1.0   \n",
       "187                      1.0                   0.0                   0.0   \n",
       "233                      2.0                   0.0                   2.0   \n",
       "240                      0.0                   0.0                   0.0   \n",
       "255                      0.0                   1.0                   0.0   \n",
       "...                      ...                   ...                   ...   \n",
       "714142                   0.0                   0.0                   0.0   \n",
       "714196                   1.0                   0.0                   5.0   \n",
       "714226                   0.0                   0.0                   1.0   \n",
       "714237                   0.0                   0.0                   0.0   \n",
       "714243                   4.0                   3.0                   4.0   \n",
       "\n",
       "        cheque_count_12m_g39  cheque_count_12m_g41  cheque_count_12m_g42  ...  \\\n",
       "160                      1.0                   0.0                   0.0  ...   \n",
       "187                      0.0                   0.0                   0.0  ...   \n",
       "233                      1.0                   0.0                   4.0  ...   \n",
       "240                      0.0                   2.0                   0.0  ...   \n",
       "255                      0.0                   0.0                   1.0  ...   \n",
       "...                      ...                   ...                   ...  ...   \n",
       "714142                   0.0                   0.0                   0.0  ...   \n",
       "714196                   2.0                   0.0                   0.0  ...   \n",
       "714226                   1.0                   1.0                   0.0  ...   \n",
       "714237                   0.0                   1.0                   0.0  ...   \n",
       "714243                   5.0                   6.0                   7.0  ...   \n",
       "\n",
       "        sale_sum_6m_g26  sale_sum_6m_g32  sale_sum_6m_g33  sale_sum_6m_g44  \\\n",
       "160                0.00            50.78             0.00            11.23   \n",
       "187                0.00           449.54             0.00           310.32   \n",
       "233              148.98           239.37             0.00            41.99   \n",
       "240             2404.75             0.00             0.00           331.54   \n",
       "255                0.00             0.00           444.79           282.36   \n",
       "...                 ...              ...              ...              ...   \n",
       "714142             0.00             0.00             0.00             0.00   \n",
       "714196             0.00             0.00             0.00           318.00   \n",
       "714226            92.27             0.00             0.00             0.00   \n",
       "714237             0.00             0.00             0.00             0.00   \n",
       "714243           650.24            50.11             0.00             0.00   \n",
       "\n",
       "        sale_sum_6m_g54  stdev_days_between_visits_15d  \\\n",
       "160                0.00                            0.0   \n",
       "187                0.00                            0.0   \n",
       "233                0.00                            0.0   \n",
       "240                0.00                            0.0   \n",
       "255                0.00                            0.0   \n",
       "...                 ...                            ...   \n",
       "714142            41.99                            0.0   \n",
       "714196             0.00                            0.0   \n",
       "714226           105.67                            0.0   \n",
       "714237           162.16                            0.0   \n",
       "714243           104.47                            0.0   \n",
       "\n",
       "        stdev_discount_depth_15d  stdev_discount_depth_1m  target  treatment  \n",
       "160                       0.0000                   0.0000       0          1  \n",
       "187                       0.0000                   0.0000       1          1  \n",
       "233                       0.4846                   0.4846       0          1  \n",
       "240                       0.0000                   0.0000       0          1  \n",
       "255                       0.3166                   0.3166       0          1  \n",
       "...                          ...                      ...     ...        ...  \n",
       "714142                    0.0000                   0.0000       0          1  \n",
       "714196                    0.1089                   0.1089       0          1  \n",
       "714226                    0.0000                   0.0000       0          0  \n",
       "714237                    0.0000                   0.0000       0          1  \n",
       "714243                    0.0000                   0.0000       0          1  \n",
       "\n",
       "[12240 rows x 195 columns]"
      ]
     },
     "execution_count": 11,
     "metadata": {},
     "output_type": "execute_result"
    }
   ],
   "source": [
    "df[df['age'] < 10]"
   ]
  },
  {
   "cell_type": "markdown",
   "metadata": {},
   "source": [
    "Let's ignore it for now"
   ]
  },
  {
   "cell_type": "code",
   "execution_count": 12,
   "metadata": {},
   "outputs": [
    {
     "data": {
      "text/plain": [
       "count    714510.000000\n",
       "mean         43.006847\n",
       "std          15.770129\n",
       "min           0.000000\n",
       "25%          31.000000\n",
       "50%          42.000000\n",
       "75%          55.000000\n",
       "max         100.000000\n",
       "Name: age, dtype: float64"
      ]
     },
     "execution_count": 12,
     "metadata": {},
     "output_type": "execute_result"
    }
   ],
   "source": [
    "df['age'].describe()"
   ]
  },
  {
   "cell_type": "markdown",
   "metadata": {},
   "source": [
    "#### Children"
   ]
  },
  {
   "cell_type": "code",
   "execution_count": 13,
   "metadata": {},
   "outputs": [
    {
     "data": {
      "image/png": "[encoded data removed]",
      "text/plain": [
       "<Figure size 640x480 with 1 Axes>"
      ]
     },
     "metadata": {},
     "output_type": "display_data"
    }
   ],
   "source": [
    "sns.countplot(x=df['children']).set_title('Children count')\n",
    "plt.show()"
   ]
  },
  {
   "cell_type": "code",
   "execution_count": 14,
   "metadata": {},
   "outputs": [
    {
     "data": {
      "text/plain": [
       "count    714510.000000\n",
       "mean          0.615034\n",
       "std           0.885575\n",
       "min           0.000000\n",
       "25%           0.000000\n",
       "50%           0.000000\n",
       "75%           1.000000\n",
       "max           9.000000\n",
       "Name: children, dtype: float64"
      ]
     },
     "execution_count": 14,
     "metadata": {},
     "output_type": "execute_result"
    }
   ],
   "source": [
    "df['children'].describe()"
   ]
  },
  {
   "cell_type": "code",
   "execution_count": null,
   "metadata": {},
   "outputs": [],
   "source": []
  },
  {
   "cell_type": "code",
   "execution_count": null,
   "metadata": {},
   "outputs": [],
   "source": []
  },
  {
   "cell_type": "markdown",
   "metadata": {},
   "source": [
    "## Data Split"
   ]
  },
  {
   "cell_type": "code",
   "execution_count": 15,
   "metadata": {},
   "outputs": [
    {
     "name": "stdout",
     "output_type": "stream",
     "text": [
      "Train shape: (571608, 193)\n",
      "Validation shape: (142902, 193)\n"
     ]
    }
   ],
   "source": [
    "from sklearn.model_selection import train_test_split\n",
    "\n",
    "stratify_cols = pd.concat([df.treatment, df.target], axis=1)\n",
    "\n",
    "df_train, df_val, treat_train, treat_val, y_train, y_val = train_test_split(\n",
    "    df.drop(['treatment', 'target'], axis=1),\n",
    "    df.treatment,\n",
    "    df.target,\n",
    "    test_size=0.2,\n",
    "    random_state=59,\n",
    "    stratify=stratify_cols\n",
    ")\n",
    "\n",
    "print(f\"Train shape: {df_train.shape}\")\n",
    "print(f\"Validation shape: {df_val.shape}\")"
   ]
  },
  {
   "cell_type": "markdown",
   "metadata": {},
   "source": [
    "## Feature generation"
   ]
  },
  {
   "cell_type": "markdown",
   "metadata": {},
   "source": [
    "We can already generate a good feature, that is maturity, person is mature if he/she is older than 18 and not otherwise"
   ]
  },
  {
   "cell_type": "code",
   "execution_count": 16,
   "metadata": {},
   "outputs": [
    {
     "data": {
      "text/plain": [
       "(maturity\n",
       " True     0.975434\n",
       " False    0.024566\n",
       " Name: proportion, dtype: float64,\n",
       " maturity\n",
       " True     0.974689\n",
       " False    0.025311\n",
       " Name: proportion, dtype: float64)"
      ]
     },
     "execution_count": 16,
     "metadata": {},
     "output_type": "execute_result"
    }
   ],
   "source": [
    "df_train['maturity'] = df_train['age'].apply(lambda x: x >= 18)\n",
    "df_val['maturity'] = df_val['age'].apply(lambda x: x >= 18)\n",
    "\n",
    "df_train['maturity'].value_counts(normalize=True), df_val['maturity'].value_counts(normalize=True)"
   ]
  },
  {
   "cell_type": "markdown",
   "metadata": {},
   "source": [
    "Let's try generate features by multiplying pairwise top 13 important features"
   ]
  },
  {
   "cell_type": "code",
   "execution_count": 17,
   "metadata": {},
   "outputs": [],
   "source": [
    "# top_10_features = set([\n",
    "#     \"k_var_days_between_visits_15d\", \"stdev_days_between_visits_15d\",\n",
    "#     \"k_var_days_between_visits_1m\", \"perdelta_days_between_visits_15_30d\",\n",
    "#     \"cheque_count_6m_g40\", \"k_var_disc_per_cheque_15d\", \"k_var_cheque_3m\",\n",
    "#     \"k_var_cheque_15d\", \"k_var_days_between_visits_3m\", \"age\"\n",
    "# ])\n",
    "\n",
    "# for feature_name in top_10_features:\n",
    "#     for second_feature in top_10_features:\n",
    "#         df_train[feature_name + '_' + second_feature] = df_train[feature_name] * df_train[second_feature]\n",
    "#         df_val[feature_name + '_' + second_feature] = df_val[feature_name] * df_val[second_feature]"
   ]
  },
  {
   "cell_type": "code",
   "execution_count": 18,
   "metadata": {},
   "outputs": [
    {
     "data": {
      "text/plain": [
       "(571608, 194)"
      ]
     },
     "execution_count": 18,
     "metadata": {},
     "output_type": "execute_result"
    }
   ],
   "source": [
    "df_train.shape"
   ]
  },
  {
   "cell_type": "markdown",
   "metadata": {},
   "source": [
    "## TwoModelApproach"
   ]
  },
  {
   "cell_type": "markdown",
   "metadata": {},
   "source": [
    "Lets write code for the `Two Model` approach or `T-learner`"
   ]
  },
  {
   "cell_type": "code",
   "execution_count": 19,
   "metadata": {},
   "outputs": [],
   "source": [
    "from sklearn.base import clone, BaseEstimator\n",
    "\n",
    "\n",
    "class TwoModelApproach(BaseEstimator):\n",
    "\n",
    "    def __init__(self, estimator):\n",
    "        self.estimator = estimator\n",
    "\n",
    "    def fit(self, X, treatment, y, fit_params={}):\n",
    "        # assume treatment is binary\n",
    "        X_treatment = X.loc[treatment == 1].copy()\n",
    "        y_treatment = pd.Series(y).loc[treatment == 1]\n",
    "        X_control = X.loc[treatment == 0].copy()\n",
    "        y_control = pd.Series(y).loc[treatment == 0]\n",
    "\n",
    "        model_control = clone(self.estimator)\n",
    "        model_control.fit(X_control, y_control, **fit_params)\n",
    "\n",
    "        X_treatment.loc[:, 'control_feature'] = model_control.predict_proba(X_treatment)[:, 1]\n",
    "\n",
    "        model_treatment = clone(self.estimator)\n",
    "        model_treatment.fit(X_treatment, y_treatment, **fit_params)\n",
    "\n",
    "        self.model_control = model_control\n",
    "        self.model_treatment = model_treatment\n",
    "\n",
    "    def predict_proba(self, X_test_original):\n",
    "        pred_control_test = self.model_control.predict_proba(X_test_original)[:, 1]\n",
    "        X_test = X_test_original.copy()\n",
    "        X_test.loc[:, 'control_feature'] = pred_control_test\n",
    "        pred_treatment_test = self.model_treatment.predict_proba(X_test)[:, 1]\n",
    "        pred_uplift = pred_treatment_test - pred_control_test\n",
    "        return pred_uplift"
   ]
  },
  {
   "cell_type": "markdown",
   "metadata": {},
   "source": [
    "## Random Forest"
   ]
  },
  {
   "cell_type": "code",
   "execution_count": 20,
   "metadata": {},
   "outputs": [
    {
     "name": "stderr",
     "output_type": "stream",
     "text": [
      "[Parallel(n_jobs=4)]: Using backend ThreadingBackend with 4 concurrent workers.\n",
      "[Parallel(n_jobs=4)]: Done  42 tasks      | elapsed:   37.1s\n",
      "[Parallel(n_jobs=4)]: Done 192 tasks      | elapsed:  2.8min\n",
      "[Parallel(n_jobs=4)]: Done 442 tasks      | elapsed:  6.6min\n",
      "[Parallel(n_jobs=4)]: Done 792 tasks      | elapsed: 11.9min\n",
      "[Parallel(n_jobs=4)]: Done 1000 out of 1000 | elapsed: 15.1min finished\n",
      "[Parallel(n_jobs=4)]: Using backend ThreadingBackend with 4 concurrent workers.\n",
      "[Parallel(n_jobs=4)]: Done  42 tasks      | elapsed:    2.0s\n",
      "[Parallel(n_jobs=4)]: Done 192 tasks      | elapsed:    9.9s\n",
      "[Parallel(n_jobs=4)]: Done 442 tasks      | elapsed:   23.7s\n",
      "[Parallel(n_jobs=4)]: Done 792 tasks      | elapsed:   41.8s\n",
      "[Parallel(n_jobs=4)]: Done 1000 out of 1000 | elapsed:   53.0s finished\n",
      "[Parallel(n_jobs=4)]: Using backend ThreadingBackend with 4 concurrent workers.\n",
      "[Parallel(n_jobs=4)]: Done  42 tasks      | elapsed:  2.3min\n",
      "[Parallel(n_jobs=4)]: Done 192 tasks      | elapsed: 10.2min\n",
      "[Parallel(n_jobs=4)]: Done 442 tasks      | elapsed: 24.3min\n",
      "[Parallel(n_jobs=4)]: Done 792 tasks      | elapsed: 42.8min\n"
     ]
    },
    {
     "ename": "KeyboardInterrupt",
     "evalue": "",
     "output_type": "error",
     "traceback": [
      "\u001b[1;31m---------------------------------------------------------------------------\u001b[0m",
      "\u001b[1;31mKeyboardInterrupt\u001b[0m                         Traceback (most recent call last)",
      "\u001b[1;32md:\\main\\university\\itmo\\courses\\ab_testing_reliable_ml\\kaggle_base.ipynb Cell 38\u001b[0m line \u001b[0;36m6\n\u001b[0;32m      <a href='vscode-notebook-cell:/d%3A/main/university/itmo/courses/ab_testing_reliable_ml/kaggle_base.ipynb#X52sZmlsZQ%3D%3D?line=2'>3</a>\u001b[0m rf_estimator \u001b[39m=\u001b[39m RandomForestClassifier(n_estimators\u001b[39m=\u001b[39m\u001b[39m1000\u001b[39m, max_depth\u001b[39m=\u001b[39m\u001b[39m47\u001b[39m, random_state\u001b[39m=\u001b[39m\u001b[39m59\u001b[39m, verbose\u001b[39m=\u001b[39m\u001b[39mTrue\u001b[39;00m, n_jobs\u001b[39m=\u001b[39m\u001b[39m4\u001b[39m)\n\u001b[0;32m      <a href='vscode-notebook-cell:/d%3A/main/university/itmo/courses/ab_testing_reliable_ml/kaggle_base.ipynb#X52sZmlsZQ%3D%3D?line=4'>5</a>\u001b[0m two_model \u001b[39m=\u001b[39m TwoModelApproach(estimator\u001b[39m=\u001b[39mrf_estimator)\n\u001b[1;32m----> <a href='vscode-notebook-cell:/d%3A/main/university/itmo/courses/ab_testing_reliable_ml/kaggle_base.ipynb#X52sZmlsZQ%3D%3D?line=5'>6</a>\u001b[0m two_model\u001b[39m.\u001b[39;49mfit(df_train, treat_train, y_train)\n",
      "\u001b[1;32md:\\main\\university\\itmo\\courses\\ab_testing_reliable_ml\\kaggle_base.ipynb Cell 38\u001b[0m line \u001b[0;36m2\n\u001b[0;32m     <a href='vscode-notebook-cell:/d%3A/main/university/itmo/courses/ab_testing_reliable_ml/kaggle_base.ipynb#X52sZmlsZQ%3D%3D?line=18'>19</a>\u001b[0m X_treatment\u001b[39m.\u001b[39mloc[:, \u001b[39m'\u001b[39m\u001b[39mcontrol_feature\u001b[39m\u001b[39m'\u001b[39m] \u001b[39m=\u001b[39m model_control\u001b[39m.\u001b[39mpredict_proba(X_treatment)[:, \u001b[39m1\u001b[39m]\n\u001b[0;32m     <a href='vscode-notebook-cell:/d%3A/main/university/itmo/courses/ab_testing_reliable_ml/kaggle_base.ipynb#X52sZmlsZQ%3D%3D?line=20'>21</a>\u001b[0m model_treatment \u001b[39m=\u001b[39m clone(\u001b[39mself\u001b[39m\u001b[39m.\u001b[39mestimator)\n\u001b[1;32m---> <a href='vscode-notebook-cell:/d%3A/main/university/itmo/courses/ab_testing_reliable_ml/kaggle_base.ipynb#X52sZmlsZQ%3D%3D?line=21'>22</a>\u001b[0m model_treatment\u001b[39m.\u001b[39;49mfit(X_treatment, y_treatment, \u001b[39m*\u001b[39;49m\u001b[39m*\u001b[39;49mfit_params)\n\u001b[0;32m     <a href='vscode-notebook-cell:/d%3A/main/university/itmo/courses/ab_testing_reliable_ml/kaggle_base.ipynb#X52sZmlsZQ%3D%3D?line=23'>24</a>\u001b[0m \u001b[39mself\u001b[39m\u001b[39m.\u001b[39mmodel_control \u001b[39m=\u001b[39m model_control\n\u001b[0;32m     <a href='vscode-notebook-cell:/d%3A/main/university/itmo/courses/ab_testing_reliable_ml/kaggle_base.ipynb#X52sZmlsZQ%3D%3D?line=24'>25</a>\u001b[0m \u001b[39mself\u001b[39m\u001b[39m.\u001b[39mmodel_treatment \u001b[39m=\u001b[39m model_treatment\n",
      "File \u001b[1;32md:\\main\\university\\itmo\\courses\\ab_testing_reliable_ml\\venv\\Lib\\site-packages\\sklearn\\base.py:1152\u001b[0m, in \u001b[0;36m_fit_context.<locals>.decorator.<locals>.wrapper\u001b[1;34m(estimator, *args, **kwargs)\u001b[0m\n\u001b[0;32m   1145\u001b[0m     estimator\u001b[39m.\u001b[39m_validate_params()\n\u001b[0;32m   1147\u001b[0m \u001b[39mwith\u001b[39;00m config_context(\n\u001b[0;32m   1148\u001b[0m     skip_parameter_validation\u001b[39m=\u001b[39m(\n\u001b[0;32m   1149\u001b[0m         prefer_skip_nested_validation \u001b[39mor\u001b[39;00m global_skip_validation\n\u001b[0;32m   1150\u001b[0m     )\n\u001b[0;32m   1151\u001b[0m ):\n\u001b[1;32m-> 1152\u001b[0m     \u001b[39mreturn\u001b[39;00m fit_method(estimator, \u001b[39m*\u001b[39;49margs, \u001b[39m*\u001b[39;49m\u001b[39m*\u001b[39;49mkwargs)\n",
      "File \u001b[1;32md:\\main\\university\\itmo\\courses\\ab_testing_reliable_ml\\venv\\Lib\\site-packages\\sklearn\\ensemble\\_forest.py:456\u001b[0m, in \u001b[0;36mBaseForest.fit\u001b[1;34m(self, X, y, sample_weight)\u001b[0m\n\u001b[0;32m    445\u001b[0m trees \u001b[39m=\u001b[39m [\n\u001b[0;32m    446\u001b[0m     \u001b[39mself\u001b[39m\u001b[39m.\u001b[39m_make_estimator(append\u001b[39m=\u001b[39m\u001b[39mFalse\u001b[39;00m, random_state\u001b[39m=\u001b[39mrandom_state)\n\u001b[0;32m    447\u001b[0m     \u001b[39mfor\u001b[39;00m i \u001b[39min\u001b[39;00m \u001b[39mrange\u001b[39m(n_more_estimators)\n\u001b[0;32m    448\u001b[0m ]\n\u001b[0;32m    450\u001b[0m \u001b[39m# Parallel loop: we prefer the threading backend as the Cython code\u001b[39;00m\n\u001b[0;32m    451\u001b[0m \u001b[39m# for fitting the trees is internally releasing the Python GIL\u001b[39;00m\n\u001b[0;32m    452\u001b[0m \u001b[39m# making threading more efficient than multiprocessing in\u001b[39;00m\n\u001b[0;32m    453\u001b[0m \u001b[39m# that case. However, for joblib 0.12+ we respect any\u001b[39;00m\n\u001b[0;32m    454\u001b[0m \u001b[39m# parallel_backend contexts set at a higher level,\u001b[39;00m\n\u001b[0;32m    455\u001b[0m \u001b[39m# since correctness does not rely on using threads.\u001b[39;00m\n\u001b[1;32m--> 456\u001b[0m trees \u001b[39m=\u001b[39m Parallel(\n\u001b[0;32m    457\u001b[0m     n_jobs\u001b[39m=\u001b[39;49m\u001b[39mself\u001b[39;49m\u001b[39m.\u001b[39;49mn_jobs,\n\u001b[0;32m    458\u001b[0m     verbose\u001b[39m=\u001b[39;49m\u001b[39mself\u001b[39;49m\u001b[39m.\u001b[39;49mverbose,\n\u001b[0;32m    459\u001b[0m     prefer\u001b[39m=\u001b[39;49m\u001b[39m\"\u001b[39;49m\u001b[39mthreads\u001b[39;49m\u001b[39m\"\u001b[39;49m,\n\u001b[0;32m    460\u001b[0m )(\n\u001b[0;32m    461\u001b[0m     delayed(_parallel_build_trees)(\n\u001b[0;32m    462\u001b[0m         t,\n\u001b[0;32m    463\u001b[0m         \u001b[39mself\u001b[39;49m\u001b[39m.\u001b[39;49mbootstrap,\n\u001b[0;32m    464\u001b[0m         X,\n\u001b[0;32m    465\u001b[0m         y,\n\u001b[0;32m    466\u001b[0m         sample_weight,\n\u001b[0;32m    467\u001b[0m         i,\n\u001b[0;32m    468\u001b[0m         \u001b[39mlen\u001b[39;49m(trees),\n\u001b[0;32m    469\u001b[0m         verbose\u001b[39m=\u001b[39;49m\u001b[39mself\u001b[39;49m\u001b[39m.\u001b[39;49mverbose,\n\u001b[0;32m    470\u001b[0m         class_weight\u001b[39m=\u001b[39;49m\u001b[39mself\u001b[39;49m\u001b[39m.\u001b[39;49mclass_weight,\n\u001b[0;32m    471\u001b[0m         n_samples_bootstrap\u001b[39m=\u001b[39;49mn_samples_bootstrap,\n\u001b[0;32m    472\u001b[0m     )\n\u001b[0;32m    473\u001b[0m     \u001b[39mfor\u001b[39;49;00m i, t \u001b[39min\u001b[39;49;00m \u001b[39menumerate\u001b[39;49m(trees)\n\u001b[0;32m    474\u001b[0m )\n\u001b[0;32m    476\u001b[0m \u001b[39m# Collect newly grown trees\u001b[39;00m\n\u001b[0;32m    477\u001b[0m \u001b[39mself\u001b[39m\u001b[39m.\u001b[39mestimators_\u001b[39m.\u001b[39mextend(trees)\n",
      "File \u001b[1;32md:\\main\\university\\itmo\\courses\\ab_testing_reliable_ml\\venv\\Lib\\site-packages\\sklearn\\utils\\parallel.py:65\u001b[0m, in \u001b[0;36mParallel.__call__\u001b[1;34m(self, iterable)\u001b[0m\n\u001b[0;32m     60\u001b[0m config \u001b[39m=\u001b[39m get_config()\n\u001b[0;32m     61\u001b[0m iterable_with_config \u001b[39m=\u001b[39m (\n\u001b[0;32m     62\u001b[0m     (_with_config(delayed_func, config), args, kwargs)\n\u001b[0;32m     63\u001b[0m     \u001b[39mfor\u001b[39;00m delayed_func, args, kwargs \u001b[39min\u001b[39;00m iterable\n\u001b[0;32m     64\u001b[0m )\n\u001b[1;32m---> 65\u001b[0m \u001b[39mreturn\u001b[39;00m \u001b[39msuper\u001b[39;49m()\u001b[39m.\u001b[39;49m\u001b[39m__call__\u001b[39;49m(iterable_with_config)\n",
      "File \u001b[1;32md:\\main\\university\\itmo\\courses\\ab_testing_reliable_ml\\venv\\Lib\\site-packages\\joblib\\parallel.py:1952\u001b[0m, in \u001b[0;36mParallel.__call__\u001b[1;34m(self, iterable)\u001b[0m\n\u001b[0;32m   1946\u001b[0m \u001b[39m# The first item from the output is blank, but it makes the interpreter\u001b[39;00m\n\u001b[0;32m   1947\u001b[0m \u001b[39m# progress until it enters the Try/Except block of the generator and\u001b[39;00m\n\u001b[0;32m   1948\u001b[0m \u001b[39m# reach the first `yield` statement. This starts the aynchronous\u001b[39;00m\n\u001b[0;32m   1949\u001b[0m \u001b[39m# dispatch of the tasks to the workers.\u001b[39;00m\n\u001b[0;32m   1950\u001b[0m \u001b[39mnext\u001b[39m(output)\n\u001b[1;32m-> 1952\u001b[0m \u001b[39mreturn\u001b[39;00m output \u001b[39mif\u001b[39;00m \u001b[39mself\u001b[39m\u001b[39m.\u001b[39mreturn_generator \u001b[39melse\u001b[39;00m \u001b[39mlist\u001b[39;49m(output)\n",
      "File \u001b[1;32md:\\main\\university\\itmo\\courses\\ab_testing_reliable_ml\\venv\\Lib\\site-packages\\joblib\\parallel.py:1595\u001b[0m, in \u001b[0;36mParallel._get_outputs\u001b[1;34m(self, iterator, pre_dispatch)\u001b[0m\n\u001b[0;32m   1592\u001b[0m     \u001b[39myield\u001b[39;00m\n\u001b[0;32m   1594\u001b[0m     \u001b[39mwith\u001b[39;00m \u001b[39mself\u001b[39m\u001b[39m.\u001b[39m_backend\u001b[39m.\u001b[39mretrieval_context():\n\u001b[1;32m-> 1595\u001b[0m         \u001b[39myield from\u001b[39;00m \u001b[39mself\u001b[39m\u001b[39m.\u001b[39m_retrieve()\n\u001b[0;32m   1597\u001b[0m \u001b[39mexcept\u001b[39;00m \u001b[39mGeneratorExit\u001b[39;00m:\n\u001b[0;32m   1598\u001b[0m     \u001b[39m# The generator has been garbage collected before being fully\u001b[39;00m\n\u001b[0;32m   1599\u001b[0m     \u001b[39m# consumed. This aborts the remaining tasks if possible and warn\u001b[39;00m\n\u001b[0;32m   1600\u001b[0m     \u001b[39m# the user if necessary.\u001b[39;00m\n\u001b[0;32m   1601\u001b[0m     \u001b[39mself\u001b[39m\u001b[39m.\u001b[39m_exception \u001b[39m=\u001b[39m \u001b[39mTrue\u001b[39;00m\n",
      "File \u001b[1;32md:\\main\\university\\itmo\\courses\\ab_testing_reliable_ml\\venv\\Lib\\site-packages\\joblib\\parallel.py:1707\u001b[0m, in \u001b[0;36mParallel._retrieve\u001b[1;34m(self)\u001b[0m\n\u001b[0;32m   1702\u001b[0m \u001b[39m# If the next job is not ready for retrieval yet, we just wait for\u001b[39;00m\n\u001b[0;32m   1703\u001b[0m \u001b[39m# async callbacks to progress.\u001b[39;00m\n\u001b[0;32m   1704\u001b[0m \u001b[39mif\u001b[39;00m ((\u001b[39mlen\u001b[39m(\u001b[39mself\u001b[39m\u001b[39m.\u001b[39m_jobs) \u001b[39m==\u001b[39m \u001b[39m0\u001b[39m) \u001b[39mor\u001b[39;00m\n\u001b[0;32m   1705\u001b[0m     (\u001b[39mself\u001b[39m\u001b[39m.\u001b[39m_jobs[\u001b[39m0\u001b[39m]\u001b[39m.\u001b[39mget_status(\n\u001b[0;32m   1706\u001b[0m         timeout\u001b[39m=\u001b[39m\u001b[39mself\u001b[39m\u001b[39m.\u001b[39mtimeout) \u001b[39m==\u001b[39m TASK_PENDING)):\n\u001b[1;32m-> 1707\u001b[0m     time\u001b[39m.\u001b[39msleep(\u001b[39m0.01\u001b[39m)\n\u001b[0;32m   1708\u001b[0m     \u001b[39mcontinue\u001b[39;00m\n\u001b[0;32m   1710\u001b[0m \u001b[39m# We need to be careful: the job list can be filling up as\u001b[39;00m\n\u001b[0;32m   1711\u001b[0m \u001b[39m# we empty it and Python list are not thread-safe by\u001b[39;00m\n\u001b[0;32m   1712\u001b[0m \u001b[39m# default hence the use of the lock\u001b[39;00m\n",
      "\u001b[1;31mKeyboardInterrupt\u001b[0m: "
     ]
    }
   ],
   "source": [
    "from sklearn.ensemble import RandomForestClassifier\n",
    "\n",
    "rf_estimator = RandomForestClassifier(n_estimators=1000, max_depth=47, random_state=59, verbose=True, n_jobs=4)\n",
    "\n",
    "two_model = TwoModelApproach(estimator=rf_estimator)\n",
    "two_model.fit(df_train, treat_train, y_train)"
   ]
  },
  {
   "cell_type": "code",
   "execution_count": null,
   "metadata": {},
   "outputs": [
    {
     "name": "stderr",
     "output_type": "stream",
     "text": [
      "[Parallel(n_jobs=4)]: Using backend ThreadingBackend with 4 concurrent workers.\n",
      "[Parallel(n_jobs=4)]: Done  42 tasks      | elapsed:    0.6s\n",
      "[Parallel(n_jobs=4)]: Done 192 tasks      | elapsed:    3.0s\n",
      "[Parallel(n_jobs=4)]: Done 442 tasks      | elapsed:    6.9s\n",
      "[Parallel(n_jobs=4)]: Done 700 out of 700 | elapsed:   11.0s finished\n",
      "[Parallel(n_jobs=4)]: Using backend ThreadingBackend with 4 concurrent workers.\n",
      "[Parallel(n_jobs=4)]: Done  42 tasks      | elapsed:    0.8s\n",
      "[Parallel(n_jobs=4)]: Done 192 tasks      | elapsed:    4.0s\n",
      "[Parallel(n_jobs=4)]: Done 442 tasks      | elapsed:    9.5s\n",
      "[Parallel(n_jobs=4)]: Done 700 out of 700 | elapsed:   15.0s finished\n"
     ]
    },
    {
     "data": {
      "text/plain": [
       "array([-0.00142857, -0.00246278,  0.01920828, ...,  0.00806395,\n",
       "       -0.00726168,  0.02701796])"
      ]
     },
     "execution_count": 130,
     "metadata": {},
     "output_type": "execute_result"
    }
   ],
   "source": [
    "uplift_pred = two_model.predict_proba(df_val)\n",
    "uplift_pred"
   ]
  },
  {
   "cell_type": "code",
   "execution_count": null,
   "metadata": {},
   "outputs": [
    {
     "data": {
      "text/plain": [
       "0.9472201339645515"
      ]
     },
     "execution_count": 131,
     "metadata": {},
     "output_type": "execute_result"
    }
   ],
   "source": [
    "from sklift.metrics import uplift_at_k\n",
    "\n",
    "# Assuming y_true, uplift_pred, and treatment are your data\n",
    "score = uplift_at_k(y_true=y_val, uplift=uplift_pred, treatment=treat_val, k=0.05, strategy='overall')\n",
    "score"
   ]
  },
  {
   "cell_type": "markdown",
   "metadata": {},
   "source": [
    "## Feature importance"
   ]
  },
  {
   "cell_type": "code",
   "execution_count": null,
   "metadata": {},
   "outputs": [],
   "source": [
    "def plot_feature_importance(importance, names, model_type, max_cols=15):\n",
    "    # Create arrays from feature importance and feature names\n",
    "    feature_importance = np.array(importance)\n",
    "    feature_names = np.array(names)\n",
    "\n",
    "    # Create a DataFrame using a Dictionary\n",
    "    data={'feature_names': feature_names, 'feature_importance': feature_importance}\n",
    "    fi_df = pd.DataFrame(data)\n",
    "\n",
    "    # Sort the DataFrame in order decreasing feature importance\n",
    "    fi_df.sort_values(by=['feature_importance'], ascending=False, inplace=True)\n",
    "    fi_df.reset_index(drop=True, inplace=True)\n",
    "\n",
    "    print(\"Top 13 features: \", ', '.join(fi_df[:13]['feature_names'].values))\n",
    "\n",
    "    # Define size of bar plot\n",
    "    plt.figure(figsize=(10, 8))\n",
    "\n",
    "    # Plot Searborn bar chart\n",
    "    sns.barplot(x=fi_df.loc[:max_cols, 'feature_importance'], y=fi_df.loc[:max_cols, 'feature_names'])\n",
    "\n",
    "    # Add chart labels\n",
    "    plt.title(model_type + 'Feature Importance')\n",
    "    plt.xlabel('Feature Importance')\n",
    "    plt.ylabel('Feature Names')"
   ]
  },
  {
   "cell_type": "code",
   "execution_count": null,
   "metadata": {},
   "outputs": [
    {
     "name": "stdout",
     "output_type": "stream",
     "text": [
      "Top 13 features:  k_var_days_between_visits_15d, k_var_days_between_visits_1m, stdev_days_between_visits_15d, perdelta_days_between_visits_15_30d, cheque_count_6m_g40, k_var_disc_per_cheque_15d, k_var_cheque_3m, age, k_var_days_between_visits_3m, months_from_register, k_var_cheque_15d, sale_sum_12m_g26, disc_sum_6m_g34\n"
     ]
    },
    {
     "data": {
      "image/png": "[encoded data removed]",
      "text/plain": [
       "<Figure size 1000x800 with 1 Axes>"
      ]
     },
     "metadata": {},
     "output_type": "display_data"
    }
   ],
   "source": [
    "plot_feature_importance(\n",
    "    two_model.model_control.feature_importances_,\n",
    "    df_train.columns,\n",
    "    'Random Forest',\n",
    "    max_cols=30\n",
    ")"
   ]
  },
  {
   "cell_type": "code",
   "execution_count": null,
   "metadata": {},
   "outputs": [],
   "source": [
    "# assert False\n",
    "# assert True"
   ]
  },
  {
   "cell_type": "markdown",
   "metadata": {},
   "source": [
    "## Predict for test and make submission"
   ]
  },
  {
   "cell_type": "markdown",
   "metadata": {},
   "source": [
    "### Prediction"
   ]
  },
  {
   "cell_type": "code",
   "execution_count": null,
   "metadata": {},
   "outputs": [
    {
     "data": {
      "text/plain": [
       "(170297, 193)"
      ]
     },
     "execution_count": 135,
     "metadata": {},
     "output_type": "execute_result"
    }
   ],
   "source": [
    "df_test = pd.read_csv(\"data/test_lenta.csv\")\n",
    "df_test.shape"
   ]
  },
  {
   "cell_type": "code",
   "execution_count": null,
   "metadata": {},
   "outputs": [
    {
     "data": {
      "text/plain": [
       "age                               2977\n",
       "cheque_count_12m_g20                 0\n",
       "cheque_count_12m_g21                 0\n",
       "cheque_count_12m_g25                 0\n",
       "cheque_count_12m_g32                 0\n",
       "                                 ...  \n",
       "sale_sum_6m_g44                    760\n",
       "sale_sum_6m_g54                    760\n",
       "stdev_days_between_visits_15d    19194\n",
       "stdev_discount_depth_15d         34864\n",
       "stdev_discount_depth_1m          34833\n",
       "Length: 193, dtype: int64"
      ]
     },
     "execution_count": 136,
     "metadata": {},
     "output_type": "execute_result"
    }
   ],
   "source": [
    "df_test.isna().sum()"
   ]
  },
  {
   "cell_type": "code",
   "execution_count": null,
   "metadata": {},
   "outputs": [
    {
     "data": {
      "text/plain": [
       "0"
      ]
     },
     "execution_count": 137,
     "metadata": {},
     "output_type": "execute_result"
    }
   ],
   "source": [
    "df_test.fillna(0, inplace=True)\n",
    "df_test.isna().sum().sum()"
   ]
  },
  {
   "cell_type": "code",
   "execution_count": null,
   "metadata": {},
   "outputs": [
    {
     "data": {
      "text/plain": [
       "maturity\n",
       "True     0.974556\n",
       "False    0.025444\n",
       "Name: proportion, dtype: float64"
      ]
     },
     "execution_count": 138,
     "metadata": {},
     "output_type": "execute_result"
    }
   ],
   "source": [
    "df_test['maturity'] = df_test['age'].apply(lambda x: x >= 18)\n",
    "df_test['maturity'].value_counts(normalize=True)"
   ]
  },
  {
   "cell_type": "code",
   "execution_count": null,
   "metadata": {},
   "outputs": [],
   "source": [
    "# for feature_name in top_15_features:\n",
    "#     for second_feature in top_15_features:\n",
    "#         df_test[feature_name + '_' + second_feature] = df_test[feature_name] * df_test[second_feature]"
   ]
  },
  {
   "cell_type": "code",
   "execution_count": null,
   "metadata": {},
   "outputs": [
    {
     "name": "stderr",
     "output_type": "stream",
     "text": [
      "[Parallel(n_jobs=4)]: Using backend ThreadingBackend with 4 concurrent workers.\n",
      "[Parallel(n_jobs=4)]: Done  42 tasks      | elapsed:    0.7s\n",
      "[Parallel(n_jobs=4)]: Done 192 tasks      | elapsed:    3.6s\n",
      "[Parallel(n_jobs=4)]: Done 442 tasks      | elapsed:    8.3s\n",
      "[Parallel(n_jobs=4)]: Done 700 out of 700 | elapsed:   13.1s finished\n",
      "[Parallel(n_jobs=4)]: Using backend ThreadingBackend with 4 concurrent workers.\n",
      "[Parallel(n_jobs=4)]: Done  42 tasks      | elapsed:    1.0s\n",
      "[Parallel(n_jobs=4)]: Done 192 tasks      | elapsed:    4.8s\n",
      "[Parallel(n_jobs=4)]: Done 442 tasks      | elapsed:   11.2s\n",
      "[Parallel(n_jobs=4)]: Done 700 out of 700 | elapsed:   17.8s finished\n"
     ]
    },
    {
     "data": {
      "text/plain": [
       "array([ 0.01707017, -0.01572492, -0.00998215, ...,  0.03133377,\n",
       "        0.01033794,  0.01813928])"
      ]
     },
     "execution_count": 140,
     "metadata": {},
     "output_type": "execute_result"
    }
   ],
   "source": [
    "test_uplift_pred = two_model.predict_proba(df_test)\n",
    "test_uplift_pred"
   ]
  },
  {
   "cell_type": "markdown",
   "metadata": {},
   "source": [
    "### Submission"
   ]
  },
  {
   "cell_type": "code",
   "execution_count": null,
   "metadata": {},
   "outputs": [
    {
     "data": {
      "text/html": [
       "<div>\n",
       "<style scoped>\n",
       "    .dataframe tbody tr th:only-of-type {\n",
       "        vertical-align: middle;\n",
       "    }\n",
       "\n",
       "    .dataframe tbody tr th {\n",
       "        vertical-align: top;\n",
       "    }\n",
       "\n",
       "    .dataframe thead th {\n",
       "        text-align: right;\n",
       "    }\n",
       "</style>\n",
       "<table border=\"1\" class=\"dataframe\">\n",
       "  <thead>\n",
       "    <tr style=\"text-align: right;\">\n",
       "      <th></th>\n",
       "      <th>id</th>\n",
       "      <th>predicted_uplift</th>\n",
       "    </tr>\n",
       "  </thead>\n",
       "  <tbody>\n",
       "    <tr>\n",
       "      <th>0</th>\n",
       "      <td>0</td>\n",
       "      <td>0.981304</td>\n",
       "    </tr>\n",
       "    <tr>\n",
       "      <th>1</th>\n",
       "      <td>1</td>\n",
       "      <td>0.444829</td>\n",
       "    </tr>\n",
       "    <tr>\n",
       "      <th>2</th>\n",
       "      <td>2</td>\n",
       "      <td>0.444000</td>\n",
       "    </tr>\n",
       "    <tr>\n",
       "      <th>3</th>\n",
       "      <td>3</td>\n",
       "      <td>-0.442873</td>\n",
       "    </tr>\n",
       "    <tr>\n",
       "      <th>4</th>\n",
       "      <td>4</td>\n",
       "      <td>-0.636638</td>\n",
       "    </tr>\n",
       "  </tbody>\n",
       "</table>\n",
       "</div>"
      ],
      "text/plain": [
       "   id  predicted_uplift\n",
       "0   0          0.981304\n",
       "1   1          0.444829\n",
       "2   2          0.444000\n",
       "3   3         -0.442873\n",
       "4   4         -0.636638"
      ]
     },
     "execution_count": 141,
     "metadata": {},
     "output_type": "execute_result"
    }
   ],
   "source": [
    "sample_sub_df = pd.read_csv(\"data/sample_submission.csv\")\n",
    "sample_sub_df.head()"
   ]
  },
  {
   "cell_type": "code",
   "execution_count": null,
   "metadata": {},
   "outputs": [
    {
     "data": {
      "text/html": [
       "<div>\n",
       "<style scoped>\n",
       "    .dataframe tbody tr th:only-of-type {\n",
       "        vertical-align: middle;\n",
       "    }\n",
       "\n",
       "    .dataframe tbody tr th {\n",
       "        vertical-align: top;\n",
       "    }\n",
       "\n",
       "    .dataframe thead th {\n",
       "        text-align: right;\n",
       "    }\n",
       "</style>\n",
       "<table border=\"1\" class=\"dataframe\">\n",
       "  <thead>\n",
       "    <tr style=\"text-align: right;\">\n",
       "      <th></th>\n",
       "      <th>id</th>\n",
       "      <th>predicted_uplift</th>\n",
       "    </tr>\n",
       "  </thead>\n",
       "  <tbody>\n",
       "    <tr>\n",
       "      <th>0</th>\n",
       "      <td>0</td>\n",
       "      <td>0.017070</td>\n",
       "    </tr>\n",
       "    <tr>\n",
       "      <th>1</th>\n",
       "      <td>1</td>\n",
       "      <td>-0.015725</td>\n",
       "    </tr>\n",
       "    <tr>\n",
       "      <th>2</th>\n",
       "      <td>2</td>\n",
       "      <td>-0.009982</td>\n",
       "    </tr>\n",
       "    <tr>\n",
       "      <th>3</th>\n",
       "      <td>3</td>\n",
       "      <td>0.035754</td>\n",
       "    </tr>\n",
       "    <tr>\n",
       "      <th>4</th>\n",
       "      <td>4</td>\n",
       "      <td>0.011739</td>\n",
       "    </tr>\n",
       "  </tbody>\n",
       "</table>\n",
       "</div>"
      ],
      "text/plain": [
       "   id  predicted_uplift\n",
       "0   0          0.017070\n",
       "1   1         -0.015725\n",
       "2   2         -0.009982\n",
       "3   3          0.035754\n",
       "4   4          0.011739"
      ]
     },
     "execution_count": 142,
     "metadata": {},
     "output_type": "execute_result"
    }
   ],
   "source": [
    "sample_sub_df['predicted_uplift'] = test_uplift_pred\n",
    "sample_sub_df.head()"
   ]
  },
  {
   "cell_type": "code",
   "execution_count": null,
   "metadata": {},
   "outputs": [],
   "source": [
    "sample_sub_df.to_csv(\"submissions/Simple_RF_depth47_trees1000.csv\", index=False)"
   ]
  },
  {
   "cell_type": "code",
   "execution_count": null,
   "metadata": {},
   "outputs": [],
   "source": []
  }
 ],
 "metadata": {
  "kernelspec": {
   "display_name": "venv",
   "language": "python",
   "name": "python3"
  },
  "language_info": {
   "codemirror_mode": {
    "name": "ipython",
    "version": 3
   },
   "file_extension": ".py",
   "mimetype": "text/x-python",
   "name": "python",
   "nbconvert_exporter": "python",
   "pygments_lexer": "ipython3",
   "version": "3.11.4"
  }
 },
 "nbformat": 4,
 "nbformat_minor": 2
}
